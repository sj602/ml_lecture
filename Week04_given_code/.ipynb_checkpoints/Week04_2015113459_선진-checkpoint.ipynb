{
 "cells": [
  {
   "cell_type": "markdown",
   "metadata": {},
   "source": [
    "# Week04 Gradient Descent"
   ]
  },
  {
   "cell_type": "code",
   "execution_count": 1,
   "metadata": {
    "collapsed": true
   },
   "outputs": [],
   "source": [
    "%matplotlib inline\n",
    "import matplotlib.pyplot as plt\n",
    "import numpy as np"
   ]
  },
  {
   "cell_type": "markdown",
   "metadata": {},
   "source": [
    "---\n",
    "p6"
   ]
  },
  {
   "cell_type": "markdown",
   "metadata": {},
   "source": [
    "# 1. Perceptron"
   ]
  },
  {
   "cell_type": "markdown",
   "metadata": {},
   "source": [
    "## Load Iris dataset\n",
    "\n",
    "- Iris dataset  \n",
    " 0 - sepal length in cm  \n",
    " 1 - sepal width in cm  \n",
    " 2 - petal length in cm  \n",
    " 3 - petal width in cm  \n",
    " 4 - class:  \n",
    "    - Iris Setosa  \n",
    "    - Iris Versicolour  \n",
    "    - Iris Virginica "
   ]
  },
  {
   "cell_type": "code",
   "execution_count": 2,
   "metadata": {},
   "outputs": [
    {
     "data": {
      "text/html": [
       "<div>\n",
       "<style>\n",
       "    .dataframe thead tr:only-child th {\n",
       "        text-align: right;\n",
       "    }\n",
       "\n",
       "    .dataframe thead th {\n",
       "        text-align: left;\n",
       "    }\n",
       "\n",
       "    .dataframe tbody tr th {\n",
       "        vertical-align: top;\n",
       "    }\n",
       "</style>\n",
       "<table border=\"1\" class=\"dataframe\">\n",
       "  <thead>\n",
       "    <tr style=\"text-align: right;\">\n",
       "      <th></th>\n",
       "      <th>0</th>\n",
       "      <th>1</th>\n",
       "      <th>2</th>\n",
       "      <th>3</th>\n",
       "      <th>4</th>\n",
       "    </tr>\n",
       "  </thead>\n",
       "  <tbody>\n",
       "    <tr>\n",
       "      <th>0</th>\n",
       "      <td>5.1</td>\n",
       "      <td>3.5</td>\n",
       "      <td>1.4</td>\n",
       "      <td>0.2</td>\n",
       "      <td>Iris-setosa</td>\n",
       "    </tr>\n",
       "    <tr>\n",
       "      <th>1</th>\n",
       "      <td>4.9</td>\n",
       "      <td>3.0</td>\n",
       "      <td>1.4</td>\n",
       "      <td>0.2</td>\n",
       "      <td>Iris-setosa</td>\n",
       "    </tr>\n",
       "    <tr>\n",
       "      <th>2</th>\n",
       "      <td>4.7</td>\n",
       "      <td>3.2</td>\n",
       "      <td>1.3</td>\n",
       "      <td>0.2</td>\n",
       "      <td>Iris-setosa</td>\n",
       "    </tr>\n",
       "    <tr>\n",
       "      <th>3</th>\n",
       "      <td>4.6</td>\n",
       "      <td>3.1</td>\n",
       "      <td>1.5</td>\n",
       "      <td>0.2</td>\n",
       "      <td>Iris-setosa</td>\n",
       "    </tr>\n",
       "    <tr>\n",
       "      <th>4</th>\n",
       "      <td>5.0</td>\n",
       "      <td>3.6</td>\n",
       "      <td>1.4</td>\n",
       "      <td>0.2</td>\n",
       "      <td>Iris-setosa</td>\n",
       "    </tr>\n",
       "  </tbody>\n",
       "</table>\n",
       "</div>"
      ],
      "text/plain": [
       "     0    1    2    3            4\n",
       "0  5.1  3.5  1.4  0.2  Iris-setosa\n",
       "1  4.9  3.0  1.4  0.2  Iris-setosa\n",
       "2  4.7  3.2  1.3  0.2  Iris-setosa\n",
       "3  4.6  3.1  1.5  0.2  Iris-setosa\n",
       "4  5.0  3.6  1.4  0.2  Iris-setosa"
      ]
     },
     "execution_count": 2,
     "metadata": {},
     "output_type": "execute_result"
    }
   ],
   "source": [
    "import pandas as pd\n",
    "df = pd.read_csv('iris.csv', header=None)\n",
    "df.head()"
   ]
  },
  {
   "cell_type": "markdown",
   "metadata": {},
   "source": [
    "---\n",
    "p7"
   ]
  },
  {
   "cell_type": "markdown",
   "metadata": {},
   "source": [
    "### Preprocessing for training data"
   ]
  },
  {
   "cell_type": "code",
   "execution_count": 3,
   "metadata": {},
   "outputs": [
    {
     "data": {
      "text/plain": [
       "array(['Iris-setosa', 'Iris-setosa', 'Iris-setosa', 'Iris-setosa',\n",
       "       'Iris-setosa', 'Iris-setosa', 'Iris-setosa', 'Iris-setosa',\n",
       "       'Iris-setosa', 'Iris-setosa', 'Iris-setosa', 'Iris-setosa',\n",
       "       'Iris-setosa', 'Iris-setosa', 'Iris-setosa', 'Iris-setosa',\n",
       "       'Iris-setosa', 'Iris-setosa', 'Iris-setosa', 'Iris-setosa',\n",
       "       'Iris-setosa', 'Iris-setosa', 'Iris-setosa', 'Iris-setosa',\n",
       "       'Iris-setosa', 'Iris-setosa', 'Iris-setosa', 'Iris-setosa',\n",
       "       'Iris-setosa', 'Iris-setosa', 'Iris-setosa', 'Iris-setosa',\n",
       "       'Iris-setosa', 'Iris-setosa', 'Iris-setosa', 'Iris-setosa',\n",
       "       'Iris-setosa', 'Iris-setosa', 'Iris-setosa', 'Iris-setosa',\n",
       "       'Iris-setosa', 'Iris-setosa', 'Iris-setosa', 'Iris-setosa',\n",
       "       'Iris-setosa', 'Iris-setosa', 'Iris-setosa', 'Iris-setosa',\n",
       "       'Iris-setosa', 'Iris-setosa', 'Iris-versicolor', 'Iris-versicolor',\n",
       "       'Iris-versicolor', 'Iris-versicolor', 'Iris-versicolor',\n",
       "       'Iris-versicolor', 'Iris-versicolor', 'Iris-versicolor',\n",
       "       'Iris-versicolor', 'Iris-versicolor', 'Iris-versicolor',\n",
       "       'Iris-versicolor', 'Iris-versicolor', 'Iris-versicolor',\n",
       "       'Iris-versicolor', 'Iris-versicolor', 'Iris-versicolor',\n",
       "       'Iris-versicolor', 'Iris-versicolor', 'Iris-versicolor',\n",
       "       'Iris-versicolor', 'Iris-versicolor', 'Iris-versicolor',\n",
       "       'Iris-versicolor', 'Iris-versicolor', 'Iris-versicolor',\n",
       "       'Iris-versicolor', 'Iris-versicolor', 'Iris-versicolor',\n",
       "       'Iris-versicolor', 'Iris-versicolor', 'Iris-versicolor',\n",
       "       'Iris-versicolor', 'Iris-versicolor', 'Iris-versicolor',\n",
       "       'Iris-versicolor', 'Iris-versicolor', 'Iris-versicolor',\n",
       "       'Iris-versicolor', 'Iris-versicolor', 'Iris-versicolor',\n",
       "       'Iris-versicolor', 'Iris-versicolor', 'Iris-versicolor',\n",
       "       'Iris-versicolor', 'Iris-versicolor', 'Iris-versicolor',\n",
       "       'Iris-versicolor', 'Iris-versicolor', 'Iris-versicolor'], dtype=object)"
      ]
     },
     "execution_count": 3,
     "metadata": {},
     "output_type": "execute_result"
    }
   ],
   "source": [
    "# make y for 100 data instances (setosa and versicolor)\n",
    "y = None\n",
    "y"
   ]
  },
  {
   "cell_type": "code",
   "execution_count": 4,
   "metadata": {},
   "outputs": [
    {
     "data": {
      "text/plain": [
       "array([-1, -1, -1, -1, -1, -1, -1, -1, -1, -1, -1, -1, -1, -1, -1, -1, -1,\n",
       "       -1, -1, -1, -1, -1, -1, -1, -1, -1, -1, -1, -1, -1, -1, -1, -1, -1,\n",
       "       -1, -1, -1, -1, -1, -1, -1, -1, -1, -1, -1, -1, -1, -1, -1, -1,  1,\n",
       "        1,  1,  1,  1,  1,  1,  1,  1,  1,  1,  1,  1,  1,  1,  1,  1,  1,\n",
       "        1,  1,  1,  1,  1,  1,  1,  1,  1,  1,  1,  1,  1,  1,  1,  1,  1,\n",
       "        1,  1,  1,  1,  1,  1,  1,  1,  1,  1,  1,  1,  1,  1,  1])"
      ]
     },
     "execution_count": 4,
     "metadata": {},
     "output_type": "execute_result"
    }
   ],
   "source": [
    "#  change the labels (Iris-setosa = -1, Other = 1)\n",
    "y = None\n",
    "y"
   ]
  },
  {
   "cell_type": "markdown",
   "metadata": {},
   "source": [
    "---\n",
    "p8"
   ]
  },
  {
   "cell_type": "code",
   "execution_count": 5,
   "metadata": {},
   "outputs": [
    {
     "data": {
      "text/plain": [
       "array([[ 5.1,  1.4],\n",
       "       [ 4.9,  1.4],\n",
       "       [ 4.7,  1.3],\n",
       "       [ 4.6,  1.5],\n",
       "       [ 5. ,  1.4],\n",
       "       [ 5.4,  1.7],\n",
       "       [ 4.6,  1.4],\n",
       "       [ 5. ,  1.5],\n",
       "       [ 4.4,  1.4],\n",
       "       [ 4.9,  1.5],\n",
       "       [ 5.4,  1.5],\n",
       "       [ 4.8,  1.6],\n",
       "       [ 4.8,  1.4],\n",
       "       [ 4.3,  1.1],\n",
       "       [ 5.8,  1.2],\n",
       "       [ 5.7,  1.5],\n",
       "       [ 5.4,  1.3],\n",
       "       [ 5.1,  1.4],\n",
       "       [ 5.7,  1.7],\n",
       "       [ 5.1,  1.5],\n",
       "       [ 5.4,  1.7],\n",
       "       [ 5.1,  1.5],\n",
       "       [ 4.6,  1. ],\n",
       "       [ 5.1,  1.7],\n",
       "       [ 4.8,  1.9],\n",
       "       [ 5. ,  1.6],\n",
       "       [ 5. ,  1.6],\n",
       "       [ 5.2,  1.5],\n",
       "       [ 5.2,  1.4],\n",
       "       [ 4.7,  1.6],\n",
       "       [ 4.8,  1.6],\n",
       "       [ 5.4,  1.5],\n",
       "       [ 5.2,  1.5],\n",
       "       [ 5.5,  1.4],\n",
       "       [ 4.9,  1.5],\n",
       "       [ 5. ,  1.2],\n",
       "       [ 5.5,  1.3],\n",
       "       [ 4.9,  1.5],\n",
       "       [ 4.4,  1.3],\n",
       "       [ 5.1,  1.5],\n",
       "       [ 5. ,  1.3],\n",
       "       [ 4.5,  1.3],\n",
       "       [ 4.4,  1.3],\n",
       "       [ 5. ,  1.6],\n",
       "       [ 5.1,  1.9],\n",
       "       [ 4.8,  1.4],\n",
       "       [ 5.1,  1.6],\n",
       "       [ 4.6,  1.4],\n",
       "       [ 5.3,  1.5],\n",
       "       [ 5. ,  1.4],\n",
       "       [ 7. ,  4.7],\n",
       "       [ 6.4,  4.5],\n",
       "       [ 6.9,  4.9],\n",
       "       [ 5.5,  4. ],\n",
       "       [ 6.5,  4.6],\n",
       "       [ 5.7,  4.5],\n",
       "       [ 6.3,  4.7],\n",
       "       [ 4.9,  3.3],\n",
       "       [ 6.6,  4.6],\n",
       "       [ 5.2,  3.9],\n",
       "       [ 5. ,  3.5],\n",
       "       [ 5.9,  4.2],\n",
       "       [ 6. ,  4. ],\n",
       "       [ 6.1,  4.7],\n",
       "       [ 5.6,  3.6],\n",
       "       [ 6.7,  4.4],\n",
       "       [ 5.6,  4.5],\n",
       "       [ 5.8,  4.1],\n",
       "       [ 6.2,  4.5],\n",
       "       [ 5.6,  3.9],\n",
       "       [ 5.9,  4.8],\n",
       "       [ 6.1,  4. ],\n",
       "       [ 6.3,  4.9],\n",
       "       [ 6.1,  4.7],\n",
       "       [ 6.4,  4.3],\n",
       "       [ 6.6,  4.4],\n",
       "       [ 6.8,  4.8],\n",
       "       [ 6.7,  5. ],\n",
       "       [ 6. ,  4.5],\n",
       "       [ 5.7,  3.5],\n",
       "       [ 5.5,  3.8],\n",
       "       [ 5.5,  3.7],\n",
       "       [ 5.8,  3.9],\n",
       "       [ 6. ,  5.1],\n",
       "       [ 5.4,  4.5],\n",
       "       [ 6. ,  4.5],\n",
       "       [ 6.7,  4.7],\n",
       "       [ 6.3,  4.4],\n",
       "       [ 5.6,  4.1],\n",
       "       [ 5.5,  4. ],\n",
       "       [ 5.5,  4.4],\n",
       "       [ 6.1,  4.6],\n",
       "       [ 5.8,  4. ],\n",
       "       [ 5. ,  3.3],\n",
       "       [ 5.6,  4.2],\n",
       "       [ 5.7,  4.2],\n",
       "       [ 5.7,  4.2],\n",
       "       [ 6.2,  4.3],\n",
       "       [ 5.1,  3. ],\n",
       "       [ 5.7,  4.1]])"
      ]
     },
     "execution_count": 5,
     "metadata": {},
     "output_type": "execute_result"
    }
   ],
   "source": [
    "# extract sepal length and petal length\n",
    "X = None\n",
    "X"
   ]
  },
  {
   "cell_type": "markdown",
   "metadata": {},
   "source": [
    "### Plotting the data"
   ]
  },
  {
   "cell_type": "code",
   "execution_count": 6,
   "metadata": {},
   "outputs": [
    {
     "data": {
      "image/png": "[encoded data removed]",
      "text/plain": [
       "<matplotlib.figure.Figure at 0x1f7d83416d8>"
      ]
     },
     "metadata": {},
     "output_type": "display_data"
    }
   ],
   "source": [
    "# plotting data\n",
    "plt.scatter(X[:50, 0], X[:50, 1],\n",
    "            color='red', marker='o', label='setosa')\n",
    "plt.scatter(X[50:100, 0], X[50:100, 1],\n",
    "            color='blue', marker='x', label='versicolor')\n",
    "\n",
    "plt.xlabel('sepal length [cm]')\n",
    "plt.ylabel('petal length [cm]')\n",
    "plt.legend(loc='upper left')\n",
    "plt.show()"
   ]
  },
  {
   "cell_type": "markdown",
   "metadata": {},
   "source": [
    "---\n",
    "p9"
   ]
  },
  {
   "cell_type": "markdown",
   "metadata": {},
   "source": [
    "### Define Perceptron Class"
   ]
  },
  {
   "cell_type": "code",
   "execution_count": 7,
   "metadata": {
    "collapsed": true
   },
   "outputs": [],
   "source": [
    "class Perceptron(object):\n",
    "    def __init__(self, eta=0.01, n_iter=50, random_state=1):\n",
    "        self.eta = eta # learning rate\n",
    "        self.n_iter = n_iter # number of iteration\n",
    "        self.random_state = random_state # random generator seed for random weight\n",
    "\n",
    "        # weight initiailization\n",
    "        rgen = np.random.RandomState(self.random_state)\n",
    "        self.w_ = rgen.normal(loc=0.0, scale=0.01, size=1 + X.shape[1])\n",
    "        \n",
    "    def fit(self, X, y):\n",
    "        self.errors_ = []        \n",
    "        for _ in range(self.n_iter):\n",
    "            errors = 0\n",
    "            for xi, target in zip(X, y):\n",
    "\n",
    "                ####################################################\n",
    "                # wj = wj +  eta * (y - yhat) * xj\n",
    "                update = None\n",
    "                self.w_[1:] += None\n",
    "                self.w_[0] += None \n",
    "                \n",
    "                errors += int(update != 0.0)\n",
    "                ####################################################\n",
    "            self.errors_.append(errors)\n",
    "            print(self.w_)\n",
    "            \n",
    "        return self\n",
    "    \n",
    "    def net_input(self, X):\n",
    "        return np.dot(X, self.w_[1:]) + self.w_[0]  \n",
    "    \n",
    "    def predict(self, X):\n",
    "        return np.where(self.net_input(X) >= 0.0, 1, -1) "
   ]
  },
  {
   "cell_type": "markdown",
   "metadata": {},
   "source": [
    "---\n",
    "p10"
   ]
  },
  {
   "cell_type": "markdown",
   "metadata": {},
   "source": [
    "### Training a perceptron model\n",
    "- Training Perceptron with learning rate 0.1\n",
    "- Plotting the number of error graph\n",
    "- Visualizing the model using given decision regions function"
   ]
  },
  {
   "cell_type": "code",
   "execution_count": 8,
   "metadata": {},
   "outputs": [
    {
     "data": {
      "text/plain": [
       "(100, 2)"
      ]
     },
     "execution_count": 8,
     "metadata": {},
     "output_type": "execute_result"
    }
   ],
   "source": [
    "X.shape"
   ]
  },
  {
   "cell_type": "code",
   "execution_count": 9,
   "metadata": {},
   "outputs": [
    {
     "data": {
      "text/plain": [
       "(100,)"
      ]
     },
     "execution_count": 9,
     "metadata": {},
     "output_type": "execute_result"
    }
   ],
   "source": [
    "y.shape"
   ]
  },
  {
   "cell_type": "code",
   "execution_count": 10,
   "metadata": {},
   "outputs": [
    {
     "name": "stdout",
     "output_type": "stream",
     "text": [
      "[ 0.21624345  1.39388244  0.93471828]\n",
      "[ 0.01624345  0.79388244  1.31471828]\n",
      "[-0.18375655  0.19388244  1.69471828]\n",
      "[-0.18375655  0.31388244  2.11471828]\n",
      "[-0.38375655 -0.70611756  1.83471828]\n",
      "[-0.38375655 -0.70611756  1.83471828]\n",
      "[-0.38375655 -0.70611756  1.83471828]\n",
      "[-0.38375655 -0.70611756  1.83471828]\n",
      "[-0.38375655 -0.70611756  1.83471828]\n",
      "[-0.38375655 -0.70611756  1.83471828]\n"
     ]
    },
    {
     "data": {
      "image/png": "[encoded data removed]",
      "text/plain": [
       "<matplotlib.figure.Figure at 0x1f7d83607b8>"
      ]
     },
     "metadata": {},
     "output_type": "display_data"
    }
   ],
   "source": [
    "# Training Perceptron\n",
    "model = None\n",
    "\n",
    "None\n",
    "\n",
    "# Plotting the number of errors\n",
    "plt.plot(range(1, len(model.errors_) + 1), model.errors_, marker='o')\n",
    "plt.xlabel('Epochs')\n",
    "plt.ylabel('Number of Errors')\n",
    "plt.show()"
   ]
  },
  {
   "cell_type": "code",
   "execution_count": 11,
   "metadata": {},
   "outputs": [
    {
     "data": {
      "text/plain": [
       "array([-1, -1, -1, -1, -1, -1, -1, -1, -1, -1, -1, -1, -1, -1, -1, -1, -1,\n",
       "       -1, -1, -1, -1, -1, -1, -1, -1, -1, -1, -1, -1, -1, -1, -1, -1, -1,\n",
       "       -1, -1, -1, -1, -1, -1, -1, -1, -1, -1, -1, -1, -1, -1, -1, -1,  1,\n",
       "        1,  1,  1,  1,  1,  1,  1,  1,  1,  1,  1,  1,  1,  1,  1,  1,  1,\n",
       "        1,  1,  1,  1,  1,  1,  1,  1,  1,  1,  1,  1,  1,  1,  1,  1,  1,\n",
       "        1,  1,  1,  1,  1,  1,  1,  1,  1,  1,  1,  1,  1,  1,  1])"
      ]
     },
     "execution_count": 11,
     "metadata": {},
     "output_type": "execute_result"
    }
   ],
   "source": [
    "model.predict(X)"
   ]
  },
  {
   "cell_type": "markdown",
   "metadata": {},
   "source": [
    "---\n",
    "p11"
   ]
  },
  {
   "cell_type": "code",
   "execution_count": 12,
   "metadata": {
    "collapsed": true,
    "jupyter": {
     "outputs_hidden": true
    }
   },
   "outputs": [],
   "source": [
    "# A function for plotting decision regions\n",
    "from matplotlib.colors import ListedColormap\n",
    "\n",
    "def plot_decision_regions(X, y, classifier, resolution=0.02):\n",
    "\n",
    "    # setup marker generator and color map\n",
    "    markers = ('s', 'x', 'o', '^', 'v')\n",
    "    colors = ('red', 'blue', 'lightgreen', 'gray', 'cyan')\n",
    "    cmap = ListedColormap(colors[:len(np.unique(y))])\n",
    "\n",
    "    # plot the decision surface\n",
    "    x1_min, x1_max = X[:, 0].min() - 1, X[:, 0].max() + 1\n",
    "    x2_min, x2_max = X[:, 1].min() - 1, X[:, 1].max() + 1\n",
    "    xx1, xx2 = np.meshgrid(np.arange(x1_min, x1_max, resolution),\n",
    "                           np.arange(x2_min, x2_max, resolution))\n",
    "    Z = classifier.predict(np.array([xx1.ravel(), xx2.ravel()]).T)\n",
    "    Z = Z.reshape(xx1.shape)\n",
    "    plt.contourf(xx1, xx2, Z, alpha=0.3, cmap=cmap)\n",
    "    plt.xlim(xx1.min(), xx1.max())\n",
    "    plt.ylim(xx2.min(), xx2.max())\n",
    "\n",
    "    # plot class samples\n",
    "    for idx, cl in enumerate(np.unique(y)):\n",
    "        plt.scatter(x=X[y == cl, 0], \n",
    "                    y=X[y == cl, 1],\n",
    "                    alpha=0.8, \n",
    "                    c=colors[idx],\n",
    "                    marker=markers[idx], \n",
    "                    label=cl, \n",
    "                    edgecolor='black')"
   ]
  },
  {
   "cell_type": "code",
   "execution_count": 13,
   "metadata": {},
   "outputs": [
    {
     "data": {
      "image/png": "[encoded data removed]",
      "text/plain": [
       "<matplotlib.figure.Figure at 0x1f7d87cce48>"
      ]
     },
     "metadata": {},
     "output_type": "display_data"
    }
   ],
   "source": [
    "plot_decision_regions(X, y, classifier=model)\n",
    "plt.xlabel('sepal length [cm]')\n",
    "plt.ylabel('petal length [cm]')\n",
    "plt.legend(loc='upper left')\n",
    "plt.show()"
   ]
  },
  {
   "cell_type": "markdown",
   "metadata": {},
   "source": [
    "---\n",
    "p16, 17"
   ]
  },
  {
   "cell_type": "markdown",
   "metadata": {},
   "source": [
    "# 2. Adaline : Adaptive Linear Neurons"
   ]
  },
  {
   "cell_type": "markdown",
   "metadata": {},
   "source": [
    "### Define Adaline Class"
   ]
  },
  {
   "cell_type": "code",
   "execution_count": 14,
   "metadata": {
    "collapsed": true
   },
   "outputs": [],
   "source": [
    "class AdalineGD(object):\n",
    "    def __init__(self, eta=0.01, n_iter=50, random_state=1):\n",
    "        self.eta = eta   # learning rate\n",
    "        self.n_iter = n_iter  # number of iteration\n",
    "        self.random_state = random_state\n",
    "        \n",
    "        # weight initiailization\n",
    "        rgen = np.random.RandomState(self.random_state)\n",
    "        self.w_ = rgen.normal(loc=0.0, scale=0.01, size=1 + X.shape[1])\n",
    "        \n",
    "    def fit(self, X, y):\n",
    "        self.cost_ = []\n",
    "        \n",
    "        for i in range(self.n_iter):\n",
    "            net_input = self.net_input(X)\n",
    "            output = self.activation(net_input)\n",
    "            \n",
    "            ####################################################\n",
    "            # w = w + eta * (X.T dot errors)\n",
    "            errors = None\n",
    "            self.w_[1:] += None\n",
    "            self.w_[0]  += None\n",
    "\n",
    "            # compute cost \n",
    "            cost = None\n",
    "            self.cost_.append(cost)\n",
    "            ####################################################\n",
    "            print(self.w_)\n",
    "            \n",
    "        return self\n",
    "    \n",
    "    def net_input(self, X):\n",
    "        return None\n",
    "    \n",
    "    def activation(self, X):\n",
    "        return None\n",
    "    \n",
    "    def predict(self, X):\n",
    "        return None"
   ]
  },
  {
   "cell_type": "markdown",
   "metadata": {},
   "source": [
    "---\n",
    "p18"
   ]
  },
  {
   "cell_type": "markdown",
   "metadata": {},
   "source": [
    "### Standardize features"
   ]
  },
  {
   "cell_type": "code",
   "execution_count": 15,
   "metadata": {},
   "outputs": [
    {
     "data": {
      "text/plain": [
       "array([[-0.5810659 , -1.01435952],\n",
       "       [-0.89430898, -1.01435952],\n",
       "       [-1.20755205, -1.08374115],\n",
       "       [-1.36417359, -0.94497788],\n",
       "       [-0.73768744, -1.01435952],\n",
       "       [-0.11120129, -0.80621461],\n",
       "       [-1.36417359, -1.01435952],\n",
       "       [-0.73768744, -0.94497788],\n",
       "       [-1.67741667, -1.01435952],\n",
       "       [-0.89430898, -0.94497788],\n",
       "       [-0.11120129, -0.94497788],\n",
       "       [-1.05093052, -0.87559625],\n",
       "       [-1.05093052, -1.01435952],\n",
       "       [-1.8340382 , -1.22250442],\n",
       "       [ 0.51528486, -1.15312279],\n",
       "       [ 0.35866332, -0.94497788],\n",
       "       [-0.11120129, -1.08374115],\n",
       "       [-0.5810659 , -1.01435952],\n",
       "       [ 0.35866332, -0.80621461],\n",
       "       [-0.5810659 , -0.94497788],\n",
       "       [-0.11120129, -0.80621461],\n",
       "       [-0.5810659 , -0.94497788],\n",
       "       [-1.36417359, -1.29188606],\n",
       "       [-0.5810659 , -0.80621461],\n",
       "       [-1.05093052, -0.66745134],\n",
       "       [-0.73768744, -0.87559625],\n",
       "       [-0.73768744, -0.87559625],\n",
       "       [-0.42444437, -0.94497788],\n",
       "       [-0.42444437, -1.01435952],\n",
       "       [-1.20755205, -0.87559625],\n",
       "       [-1.05093052, -0.87559625],\n",
       "       [-0.11120129, -0.94497788],\n",
       "       [-0.42444437, -0.94497788],\n",
       "       [ 0.04542025, -1.01435952],\n",
       "       [-0.89430898, -0.94497788],\n",
       "       [-0.73768744, -1.15312279],\n",
       "       [ 0.04542025, -1.08374115],\n",
       "       [-0.89430898, -0.94497788],\n",
       "       [-1.67741667, -1.08374115],\n",
       "       [-0.5810659 , -0.94497788],\n",
       "       [-0.73768744, -1.08374115],\n",
       "       [-1.52079513, -1.08374115],\n",
       "       [-1.67741667, -1.08374115],\n",
       "       [-0.73768744, -0.87559625],\n",
       "       [-0.5810659 , -0.66745134],\n",
       "       [-1.05093052, -1.01435952],\n",
       "       [-0.5810659 , -0.87559625],\n",
       "       [-1.36417359, -1.01435952],\n",
       "       [-0.26782283, -0.94497788],\n",
       "       [-0.73768744, -1.01435952],\n",
       "       [ 2.39474331,  1.27523447],\n",
       "       [ 1.45501408,  1.1364712 ],\n",
       "       [ 2.23812177,  1.41399774],\n",
       "       [ 0.04542025,  0.78956302],\n",
       "       [ 1.61163562,  1.20585283],\n",
       "       [ 0.35866332,  1.1364712 ],\n",
       "       [ 1.29839254,  1.27523447],\n",
       "       [-0.89430898,  0.30389157],\n",
       "       [ 1.76825716,  1.20585283],\n",
       "       [-0.42444437,  0.72018138],\n",
       "       [-0.73768744,  0.44265484],\n",
       "       [ 0.6719064 ,  0.92832629],\n",
       "       [ 0.82852793,  0.78956302],\n",
       "       [ 0.98514947,  1.27523447],\n",
       "       [ 0.20204178,  0.51203647],\n",
       "       [ 1.92487869,  1.06708956],\n",
       "       [ 0.20204178,  1.1364712 ],\n",
       "       [ 0.51528486,  0.85894465],\n",
       "       [ 1.14177101,  1.1364712 ],\n",
       "       [ 0.20204178,  0.72018138],\n",
       "       [ 0.6719064 ,  1.3446161 ],\n",
       "       [ 0.98514947,  0.78956302],\n",
       "       [ 1.29839254,  1.41399774],\n",
       "       [ 0.98514947,  1.27523447],\n",
       "       [ 1.45501408,  0.99770792],\n",
       "       [ 1.76825716,  1.06708956],\n",
       "       [ 2.08150023,  1.3446161 ],\n",
       "       [ 1.92487869,  1.48337938],\n",
       "       [ 0.82852793,  1.1364712 ],\n",
       "       [ 0.35866332,  0.44265484],\n",
       "       [ 0.04542025,  0.65079974],\n",
       "       [ 0.04542025,  0.58141811],\n",
       "       [ 0.51528486,  0.72018138],\n",
       "       [ 0.82852793,  1.55276101],\n",
       "       [-0.11120129,  1.1364712 ],\n",
       "       [ 0.82852793,  1.1364712 ],\n",
       "       [ 1.92487869,  1.27523447],\n",
       "       [ 1.29839254,  1.06708956],\n",
       "       [ 0.20204178,  0.85894465],\n",
       "       [ 0.04542025,  0.78956302],\n",
       "       [ 0.04542025,  1.06708956],\n",
       "       [ 0.98514947,  1.20585283],\n",
       "       [ 0.51528486,  0.78956302],\n",
       "       [-0.73768744,  0.30389157],\n",
       "       [ 0.20204178,  0.92832629],\n",
       "       [ 0.35866332,  0.92832629],\n",
       "       [ 0.35866332,  0.92832629],\n",
       "       [ 1.14177101,  0.99770792],\n",
       "       [-0.5810659 ,  0.09574666],\n",
       "       [ 0.35866332,  0.85894465]])"
      ]
     },
     "execution_count": 15,
     "metadata": {},
     "output_type": "execute_result"
    }
   ],
   "source": [
    "# standardizing features\n",
    "X_std = np.copy(X)\n",
    "X_std[:, 0] = None\n",
    "X_std[:, 1] = None\n",
    "X_std"
   ]
  },
  {
   "cell_type": "markdown",
   "metadata": {},
   "source": [
    "---\n",
    "p19"
   ]
  },
  {
   "cell_type": "markdown",
   "metadata": {},
   "source": [
    "### Training an Adaline model on the iris dataset\n",
    "- Training AdalineGD with learning rate 0.1, 0.0001, and 0.01\n",
    "- Plotting the cost graph\n",
    "- Visualizing the model using given decision regions function\n",
    "- Computing the accuracy of the model"
   ]
  },
  {
   "cell_type": "code",
   "execution_count": 16,
   "metadata": {},
   "outputs": [
    {
     "data": {
      "text/plain": [
       "(100, 2)"
      ]
     },
     "execution_count": 16,
     "metadata": {},
     "output_type": "execute_result"
    }
   ],
   "source": [
    "X_std.shape"
   ]
  },
  {
   "cell_type": "code",
   "execution_count": 17,
   "metadata": {
    "scrolled": true
   },
   "outputs": [
    {
     "data": {
      "text/plain": [
       "(100,)"
      ]
     },
     "execution_count": 17,
     "metadata": {},
     "output_type": "execute_result"
    }
   ],
   "source": [
    "y.shape"
   ]
  },
  {
   "cell_type": "code",
   "execution_count": 18,
   "metadata": {},
   "outputs": [
    {
     "name": "stdout",
     "output_type": "stream",
     "text": [
      "[-0.14619108  7.38086767  9.79678659]\n",
      "[   1.31571974 -138.73294518 -138.43289951]\n",
      "[  -11.8414777   2380.49335345  2382.64713229]\n",
      "[   106.57329931 -40773.52560914 -40772.99590048]\n",
      "[   -959.15969379  698204.43463095  698206.38720024]\n",
      "[  8.63243724e+03  -1.19559860e+07  -1.19559853e+07]\n",
      "[ -7.76919352e+04   2.04733017e+08   2.04733018e+08]\n",
      "[  6.99227417e+05  -3.50582610e+09  -3.50582610e+09]\n",
      "[ -6.29304675e+06   6.00333881e+10   6.00333881e+10]\n",
      "[  5.66374208e+07  -1.02800526e+12  -1.02800526e+12]\n"
     ]
    },
    {
     "data": {
      "text/plain": [
       "<__main__.AdalineGD at 0x1f7d8891ac8>"
      ]
     },
     "execution_count": 18,
     "metadata": {},
     "output_type": "execute_result"
    }
   ],
   "source": [
    "# Training AdalineGD with learning rate 0.1\n",
    "ada1 = AdalineGD(n_iter=10, eta=0.1)\n",
    "ada1.fit(X_std, y)"
   ]
  },
  {
   "cell_type": "code",
   "execution_count": 19,
   "metadata": {},
   "outputs": [
    {
     "name": "stdout",
     "output_type": "stream",
     "text": [
      "[ 0.01608102  0.00126942  0.00452035]\n",
      "[ 0.01592021  0.00850291  0.01416439]\n",
      "[ 0.01576101  0.01558571  0.02365322]\n",
      "[ 0.0156034   0.0225206   0.03298962]\n",
      "[ 0.01544736  0.02931029  0.04217632]\n",
      "[ 0.01529289  0.03595745  0.051216  ]\n",
      "[ 0.01513996  0.0424647   0.06011128]\n",
      "[ 0.01498856  0.04883462  0.06886474]\n",
      "[ 0.01483868  0.05506973  0.07747892]\n",
      "[ 0.01469029  0.0611725   0.0859563 ]\n"
     ]
    },
    {
     "data": {
      "text/plain": [
       "<__main__.AdalineGD at 0x1f7d8891908>"
      ]
     },
     "execution_count": 19,
     "metadata": {},
     "output_type": "execute_result"
    }
   ],
   "source": [
    "# Training AdalineGD with learning rate 0.0001\n",
    "ada2 = AdalineGD(n_iter=10, eta=0.0001)\n",
    "ada2.fit(X_std, y)"
   ]
  },
  {
   "cell_type": "markdown",
   "metadata": {},
   "source": [
    "---\n",
    "p20"
   ]
  },
  {
   "cell_type": "code",
   "execution_count": 20,
   "metadata": {
    "scrolled": true
   },
   "outputs": [
    {
     "data": {
      "image/png": "[encoded data removed]",
      "text/plain": [
       "<matplotlib.figure.Figure at 0x1f7d8360668>"
      ]
     },
     "metadata": {},
     "output_type": "display_data"
    }
   ],
   "source": [
    "# Plotting cost\n",
    "fig, ax = plt.subplots(nrows=1, ncols=2, figsize=(10, 4))\n",
    "\n",
    "ax[0].plot(range(1, len(ada1.cost_) + 1), np.log10(ada1.cost_), marker='o')\n",
    "ax[0].set_xlabel('Epochs')\n",
    "ax[0].set_ylabel('log(Sum-squared-error)')\n",
    "ax[0].set_title('Adaline - Learning rate 0.1')\n",
    "\n",
    "ax[1].plot(range(1, len(ada2.cost_) + 1), ada2.cost_, marker='o')\n",
    "ax[1].set_xlabel('Epochs')\n",
    "ax[1].set_ylabel('Sum-squared-error')\n",
    "ax[1].set_title('Adaline - Learning rate 0.0001')\n",
    "\n",
    "plt.show()"
   ]
  },
  {
   "cell_type": "markdown",
   "metadata": {},
   "source": [
    "---\n",
    "p21"
   ]
  },
  {
   "cell_type": "code",
   "execution_count": 21,
   "metadata": {
    "scrolled": true
   },
   "outputs": [
    {
     "data": {
      "text/plain": [
       "array([-1, -1, -1, -1, -1, -1, -1, -1, -1, -1, -1, -1, -1, -1, -1, -1, -1,\n",
       "       -1, -1, -1, -1, -1, -1, -1, -1, -1, -1, -1, -1, -1, -1, -1, -1, -1,\n",
       "       -1, -1, -1, -1, -1, -1, -1, -1, -1, -1, -1, -1, -1, -1, -1, -1,  1,\n",
       "        1,  1,  1,  1,  1,  1,  1,  1,  1,  1,  1,  1,  1,  1,  1,  1,  1,\n",
       "        1,  1,  1,  1,  1,  1,  1,  1,  1,  1,  1,  1,  1,  1,  1,  1,  1,\n",
       "        1,  1,  1,  1,  1,  1,  1,  1,  1,  1,  1,  1,  1,  1,  1])"
      ]
     },
     "execution_count": 21,
     "metadata": {},
     "output_type": "execute_result"
    }
   ],
   "source": [
    "y"
   ]
  },
  {
   "cell_type": "code",
   "execution_count": 22,
   "metadata": {},
   "outputs": [
    {
     "data": {
      "text/plain": [
       "array([ 1,  1,  1,  1,  1,  1,  1,  1,  1,  1,  1,  1,  1,  1,  1,  1,  1,\n",
       "        1,  1,  1,  1,  1,  1,  1,  1,  1,  1,  1,  1,  1,  1,  1,  1,  1,\n",
       "        1,  1,  1,  1,  1,  1,  1,  1,  1,  1,  1,  1,  1,  1,  1,  1, -1,\n",
       "       -1, -1, -1, -1, -1, -1,  1, -1, -1,  1, -1, -1, -1, -1, -1, -1, -1,\n",
       "       -1, -1, -1, -1, -1, -1, -1, -1, -1, -1, -1, -1, -1, -1, -1, -1, -1,\n",
       "       -1, -1, -1, -1, -1, -1, -1, -1,  1, -1, -1, -1, -1,  1, -1])"
      ]
     },
     "execution_count": 22,
     "metadata": {},
     "output_type": "execute_result"
    }
   ],
   "source": [
    "ada1.predict(X_std)"
   ]
  },
  {
   "cell_type": "code",
   "execution_count": 23,
   "metadata": {},
   "outputs": [
    {
     "data": {
      "text/plain": [
       "array([-1, -1, -1, -1, -1, -1, -1, -1, -1, -1, -1, -1, -1, -1, -1, -1, -1,\n",
       "       -1, -1, -1, -1, -1, -1, -1, -1, -1, -1, -1, -1, -1, -1, -1, -1, -1,\n",
       "       -1, -1, -1, -1, -1, -1, -1, -1, -1, -1, -1, -1, -1, -1, -1, -1,  1,\n",
       "        1,  1,  1,  1,  1,  1, -1,  1,  1,  1,  1,  1,  1,  1,  1,  1,  1,\n",
       "        1,  1,  1,  1,  1,  1,  1,  1,  1,  1,  1,  1,  1,  1,  1,  1,  1,\n",
       "        1,  1,  1,  1,  1,  1,  1,  1, -1,  1,  1,  1,  1, -1,  1])"
      ]
     },
     "execution_count": 23,
     "metadata": {},
     "output_type": "execute_result"
    }
   ],
   "source": [
    "ada2.predict(X_std)"
   ]
  },
  {
   "cell_type": "markdown",
   "metadata": {},
   "source": [
    "---\n",
    "p22"
   ]
  },
  {
   "cell_type": "code",
   "execution_count": 24,
   "metadata": {
    "scrolled": false
   },
   "outputs": [
    {
     "name": "stdout",
     "output_type": "stream",
     "text": [
      "[ 0.          0.73258096  0.97492511]\n",
      "[  1.47437618e-15  -6.37284985e-02   3.74814400e-01]\n",
      "[  1.66533454e-17   4.23794973e-01   1.02172761e+00]\n",
      "[  1.06248343e-15  -1.01750346e-01   6.25668805e-01]\n",
      "[  5.99520433e-17   2.20003559e-01   1.05261615e+00]\n",
      "[  7.69384556e-16  -1.26843862e-01   7.91226751e-01]\n",
      "[  9.43689571e-17   8.55060696e-02   1.07300186e+00]\n",
      "[  6.08402217e-16  -1.43404986e-01   9.00491061e-01]\n",
      "[  1.48769885e-16  -3.25907753e-03   1.08645593e+00]\n",
      "[  3.67483821e-16  -1.54334935e-01   9.72602910e-01]\n",
      "[  1.50990331e-16  -6.18419653e-02   1.09533531e+00]\n",
      "[  2.83106871e-16  -1.61548441e-01   1.02019502e+00]\n",
      "[  1.01030295e-16  -1.00505279e-01   1.10119548e+00]\n",
      "[  3.06421555e-16  -1.66309184e-01   1.05160467e+00]\n",
      "[  1.52100554e-16  -1.26022147e-01   1.10506306e+00]\n",
      "[  2.15383267e-16  -1.69451161e-01   1.07233430e+00]\n",
      "[  1.29896094e-16  -1.42862674e-01   1.10761557e+00]\n",
      "[  1.64313008e-16  -1.71524791e-01   1.08601537e+00]\n",
      "[  1.55431223e-16  -1.53977021e-01   1.10930016e+00]\n",
      "[  1.72084569e-16  -1.72893337e-01   1.09504454e+00]\n"
     ]
    },
    {
     "data": {
      "text/plain": [
       "<__main__.AdalineGD at 0x1f7d8891a58>"
      ]
     },
     "execution_count": 24,
     "metadata": {},
     "output_type": "execute_result"
    }
   ],
   "source": [
    "# Training AdalineGD with learning rate 0.01\n",
    "ada = None\n",
    "None"
   ]
  },
  {
   "cell_type": "markdown",
   "metadata": {},
   "source": [
    "---\n",
    "p23"
   ]
  },
  {
   "cell_type": "code",
   "execution_count": 25,
   "metadata": {
    "scrolled": false
   },
   "outputs": [
    {
     "data": {
      "image/png": "[encoded data removed]",
      "text/plain": [
       "<matplotlib.figure.Figure at 0x1f7d8891860>"
      ]
     },
     "metadata": {},
     "output_type": "display_data"
    }
   ],
   "source": [
    "# Plotting cost\n",
    "plt.plot(range(1, len(ada.cost_) + 1), ada.cost_, marker='o')\n",
    "plt.xlabel('Epochs')\n",
    "plt.ylabel('Sum-squared-error')\n",
    "plt.show()"
   ]
  },
  {
   "cell_type": "code",
   "execution_count": 26,
   "metadata": {},
   "outputs": [
    {
     "data": {
      "text/plain": [
       "array([-1, -1, -1, -1, -1, -1, -1, -1, -1, -1, -1, -1, -1, -1, -1, -1, -1,\n",
       "       -1, -1, -1, -1, -1, -1, -1, -1, -1, -1, -1, -1, -1, -1, -1, -1, -1,\n",
       "       -1, -1, -1, -1, -1, -1, -1, -1, -1, -1, -1, -1, -1, -1, -1, -1,  1,\n",
       "        1,  1,  1,  1,  1,  1,  1,  1,  1,  1,  1,  1,  1,  1,  1,  1,  1,\n",
       "        1,  1,  1,  1,  1,  1,  1,  1,  1,  1,  1,  1,  1,  1,  1,  1,  1,\n",
       "        1,  1,  1,  1,  1,  1,  1,  1,  1,  1,  1,  1,  1,  1,  1])"
      ]
     },
     "execution_count": 26,
     "metadata": {},
     "output_type": "execute_result"
    }
   ],
   "source": [
    "ada.predict(X_std)"
   ]
  },
  {
   "cell_type": "markdown",
   "metadata": {},
   "source": [
    "---\n",
    "p24"
   ]
  },
  {
   "cell_type": "code",
   "execution_count": 27,
   "metadata": {
    "scrolled": false
   },
   "outputs": [
    {
     "data": {
      "image/png": "[encoded data removed]",
      "text/plain": [
       "<matplotlib.figure.Figure at 0x1f7d8a0d668>"
      ]
     },
     "metadata": {},
     "output_type": "display_data"
    }
   ],
   "source": [
    "plot_decision_regions(X_std, y, classifier=ada)\n",
    "plt.title('Adaline - Gradient Descent')\n",
    "plt.xlabel('sepal length [standardized]')\n",
    "plt.ylabel('petal length [standardized]')\n",
    "plt.legend(loc='upper left')\n",
    "plt.show()"
   ]
  },
  {
   "cell_type": "code",
   "execution_count": 28,
   "metadata": {
    "scrolled": true
   },
   "outputs": [
    {
     "name": "stdout",
     "output_type": "stream",
     "text": [
      "Accuracy on the training set = 1.0\n"
     ]
    }
   ],
   "source": [
    "# Computing the accuracy of the model\n",
    "y_pred = None\n",
    "accuracy = None\n",
    "print(\"Accuracy on the training set =\", accuracy)"
   ]
  },
  {
   "cell_type": "markdown",
   "metadata": {},
   "source": [
    "---\n",
    "p25"
   ]
  },
  {
   "cell_type": "markdown",
   "metadata": {},
   "source": [
    "# 3. Adaline with Stochastic Gradient Descent"
   ]
  },
  {
   "cell_type": "markdown",
   "metadata": {},
   "source": [
    "- Large scale machine learning and Stochastic Gradient Descent\n",
    "    - (Batch) Gradient Descent\n",
    "        - Run through all the samples in training set to do a single update for a parameter in a particular iteration\n",
    "        - This is so inefficient when dealing with large scale dataset because in every iteration when you are updating the values of the parameters, you are running through the complete training set\n",
    "\n",
    "    - Stochastic Gradient Descent\n",
    "        - Use only 1 or subset of training sample from your training set to do the update for a parameter in a particular iteration\n",
    "            - Use 1 → Stochastic Gradient Descent\n",
    "            - Use subset → Mini-batch Stochastic Gradient Descent\n"
   ]
  },
  {
   "cell_type": "markdown",
   "metadata": {},
   "source": [
    "---\n",
    "p26, 27"
   ]
  },
  {
   "cell_type": "markdown",
   "metadata": {},
   "source": [
    "### Define AdalineSGD Class"
   ]
  },
  {
   "cell_type": "code",
   "execution_count": 29,
   "metadata": {
    "collapsed": true
   },
   "outputs": [],
   "source": [
    "class AdalineSGD(object):\n",
    "    \n",
    "    def __init__(self, eta=0.01, n_iter=10, shuffle=True, random_state=None):\n",
    "        self.eta = eta\n",
    "        self.n_iter = n_iter\n",
    "        self.w_initialized = False\n",
    "        self.shuffle = shuffle\n",
    "        self.random_state = random_state\n",
    "        self._initialize_weights(X.shape[1])\n",
    "\n",
    "    def fit(self, X, y):\n",
    "        self.cost_ = []\n",
    "        for i in range(self.n_iter):\n",
    "            if self.shuffle:\n",
    "                X, y = self._shuffle(X, y)\n",
    "            cost = []\n",
    "            for xi, target in zip(X, y):\n",
    "                cost.append(self._update_weights(xi, target))\n",
    "            avg_cost = sum(cost) / len(y)\n",
    "            self.cost_.append(avg_cost)\n",
    "            print(self.w_)\n",
    "        return self\n",
    "\n",
    "    def _shuffle(self, X, y):\n",
    "        r = self.rgen.permutation(len(y))\n",
    "        return X[r], y[r]\n",
    "    \n",
    "    def _initialize_weights(self, m):\n",
    "        self.rgen = np.random.RandomState(self.random_state)\n",
    "        self.w_ = self.rgen.normal(loc=0.0, scale=0.01, size=1 + m)\n",
    "        self.w_initialized = True\n",
    "        \n",
    "    def _update_weights(self, xi, target):\n",
    "        output = self.activation(self.net_input(xi))\n",
    "        error = (target - output)\n",
    "        self.w_[1:] += self.eta * xi.dot(error)\n",
    "        self.w_[0] += self.eta * error\n",
    "        cost = 0.5 * error**2\n",
    "        return cost\n",
    "    \n",
    "    def net_input(self, X):\n",
    "        return np.dot(X, self.w_[1:]) + self.w_[0]\n",
    "\n",
    "    def activation(self, X):\n",
    "        return X\n",
    "\n",
    "    def predict(self, X):\n",
    "        return np.where(self.activation(self.net_input(X)) >= 0.0, 1, -1)"
   ]
  },
  {
   "cell_type": "markdown",
   "metadata": {},
   "source": [
    "---\n",
    "p28"
   ]
  },
  {
   "cell_type": "markdown",
   "metadata": {},
   "source": [
    "### Training an Adaline model with SGD on the iris dataset \n",
    "- Training and visualizing a Adaline model using AdalineSGD Class"
   ]
  },
  {
   "cell_type": "code",
   "execution_count": 30,
   "metadata": {
    "scrolled": true
   },
   "outputs": [
    {
     "name": "stdout",
     "output_type": "stream",
     "text": [
      "[ 0.00547304  0.27285356  0.49825661]\n",
      "[-0.00608069  0.23654068  0.64462437]\n",
      "[ 0.00926127  0.18523628  0.74504939]\n",
      "[ 0.0015176   0.12647723  0.81131789]\n",
      "[ 0.00386798  0.07201719  0.86046615]\n",
      "[ 0.00740254  0.0312768   0.90627882]\n",
      "[  7.88472441e-03   4.13494918e-04   9.46872499e-01]\n",
      "[ 0.00251789 -0.03650693  0.96815509]\n",
      "[-0.00110447 -0.06194687  0.99205647]\n",
      "[-0.00581369 -0.08027863  1.01350822]\n",
      "[-0.00954177 -0.09770813  1.02772661]\n",
      "[-0.00632273 -0.11472444  1.03770746]\n",
      "[-0.00587553 -0.12175986  1.052657  ]\n",
      "[-0.00632225 -0.13560041  1.05923075]\n",
      "[  2.27202773e-04  -1.38544756e-01   1.07263215e+00]\n"
     ]
    },
    {
     "data": {
      "text/plain": [
       "<__main__.AdalineSGD at 0x1f7d88ae2e8>"
      ]
     },
     "execution_count": 30,
     "metadata": {},
     "output_type": "execute_result"
    }
   ],
   "source": [
    "ada = AdalineSGD(n_iter=15, eta=0.01, random_state=1)\n",
    "ada.fit(X_std, y)"
   ]
  },
  {
   "cell_type": "markdown",
   "metadata": {},
   "source": [
    "---\n",
    "p29"
   ]
  },
  {
   "cell_type": "code",
   "execution_count": 31,
   "metadata": {
    "scrolled": false
   },
   "outputs": [
    {
     "data": {
      "image/png": "[encoded data removed]",
      "text/plain": [
       "<matplotlib.figure.Figure at 0x1f7d8ab3e48>"
      ]
     },
     "metadata": {},
     "output_type": "display_data"
    }
   ],
   "source": [
    "plt.plot(range(1, len(ada.cost_) + 1), ada.cost_, marker='o')\n",
    "plt.xlabel('Epochs')\n",
    "plt.ylabel('Average Cost')\n",
    "plt.show()"
   ]
  },
  {
   "cell_type": "markdown",
   "metadata": {},
   "source": [
    "---\n",
    "p30"
   ]
  },
  {
   "cell_type": "code",
   "execution_count": 32,
   "metadata": {
    "scrolled": false
   },
   "outputs": [
    {
     "data": {
      "text/plain": [
       "array([-1, -1, -1, -1, -1, -1, -1, -1, -1, -1, -1, -1, -1, -1, -1, -1, -1,\n",
       "       -1, -1, -1, -1, -1, -1, -1, -1, -1, -1, -1, -1, -1, -1, -1, -1, -1,\n",
       "       -1, -1, -1, -1, -1, -1, -1, -1, -1, -1, -1, -1, -1, -1, -1, -1,  1,\n",
       "        1,  1,  1,  1,  1,  1,  1,  1,  1,  1,  1,  1,  1,  1,  1,  1,  1,\n",
       "        1,  1,  1,  1,  1,  1,  1,  1,  1,  1,  1,  1,  1,  1,  1,  1,  1,\n",
       "        1,  1,  1,  1,  1,  1,  1,  1,  1,  1,  1,  1,  1,  1,  1])"
      ]
     },
     "execution_count": 32,
     "metadata": {},
     "output_type": "execute_result"
    }
   ],
   "source": [
    "ada.predict(X_std)"
   ]
  },
  {
   "cell_type": "markdown",
   "metadata": {},
   "source": [
    "---\n",
    "p31"
   ]
  },
  {
   "cell_type": "code",
   "execution_count": 33,
   "metadata": {
    "scrolled": true
   },
   "outputs": [
    {
     "data": {
      "image/png": "[encoded data removed]",
      "text/plain": [
       "<matplotlib.figure.Figure at 0x1f7d8360940>"
      ]
     },
     "metadata": {},
     "output_type": "display_data"
    }
   ],
   "source": [
    "plot_decision_regions(X_std, y, classifier=ada)\n",
    "plt.title('Adaline - Stochastic Gradient Descent')\n",
    "plt.xlabel('sepal length [standardized]')\n",
    "plt.ylabel('petal length [standardized]')\n",
    "plt.legend(loc='upper left')\n",
    "plt.show()"
   ]
  },
  {
   "cell_type": "markdown",
   "metadata": {},
   "source": [
    "---\n",
    "p32"
   ]
  },
  {
   "cell_type": "markdown",
   "metadata": {},
   "source": [
    "# Submit\n",
    "- To make sure if you have completed this practice, Submit your practice file(Week04_givencode.ipynb) to e-class.\n",
    "- **Deadline : tomorrow 11:59pm**\n",
    "- Modify your ipynb file name as **“Week04_StudentNum_Name.ipynb”**\n",
    "  - ```Ex) Week04_2020123456_홍길동.ipynb``` \n",
    "- You can upload this file without taking the quiz, but **homework is provided like a quiz every three weeks**, so it is recommended to take the quiz as well."
   ]
  },
  {
   "cell_type": "markdown",
   "metadata": {},
   "source": [
    "---\n",
    "p33-34"
   ]
  },
  {
   "cell_type": "markdown",
   "metadata": {},
   "source": [
    "# Quiz\n",
    "## Training an Adaline model on the Banknote dataset  \n",
    "- The Banknote dataset(banknote_authentication.csv) \n",
    "\n",
    "    > **Description**  \n",
    "    > 0 : Variance of Wavelet Transformed image (continuous)  \n",
    "    > 1 : Skewness of Wavelet Transformed image (continuous)  \n",
    "    > 2 : Kurtosis of Wavelet Transformed image (continuous)  \n",
    "    > 3 : Entropy of imagee(continuous).  \n",
    "    > 4 : label(0, 1)  \n",
    "    >   - 0 : authentic (762 samples)  \n",
    "    >   - 1 : inauthentic (610 samples)  \n",
    "- Read the dataset into X and y, standardize X, transform y to -1 and 1\n",
    "- Using AdalineGD train the model and plot the cost graph.\n",
    "- Evaluate the model by computing the accuracy.\n",
    "- **Hint : Find out what hyperparameter(learning rate : eta) is good for training the model.**\n",
    "   \n",
    "- https://machinelearningmastery.com/standard-machine-learning-datasets/\n"
   ]
  },
  {
   "cell_type": "markdown",
   "metadata": {},
   "source": [
    "## Load Data and Preprocessing"
   ]
  },
  {
   "cell_type": "code",
   "execution_count": 1,
   "metadata": {
    "scrolled": true
   },
   "outputs": [
    {
     "data": {
      "text/html": [
       "<div>\n",
       "<style>\n",
       "    .dataframe thead tr:only-child th {\n",
       "        text-align: right;\n",
       "    }\n",
       "\n",
       "    .dataframe thead th {\n",
       "        text-align: left;\n",
       "    }\n",
       "\n",
       "    .dataframe tbody tr th {\n",
       "        vertical-align: top;\n",
       "    }\n",
       "</style>\n",
       "<table border=\"1\" class=\"dataframe\">\n",
       "  <thead>\n",
       "    <tr style=\"text-align: right;\">\n",
       "      <th></th>\n",
       "      <th>0</th>\n",
       "      <th>1</th>\n",
       "      <th>2</th>\n",
       "      <th>3</th>\n",
       "      <th>4</th>\n",
       "    </tr>\n",
       "  </thead>\n",
       "  <tbody>\n",
       "    <tr>\n",
       "      <th>0</th>\n",
       "      <td>3.62160</td>\n",
       "      <td>8.6661</td>\n",
       "      <td>-2.8073</td>\n",
       "      <td>-0.44699</td>\n",
       "      <td>0</td>\n",
       "    </tr>\n",
       "    <tr>\n",
       "      <th>1</th>\n",
       "      <td>4.54590</td>\n",
       "      <td>8.1674</td>\n",
       "      <td>-2.4586</td>\n",
       "      <td>-1.46210</td>\n",
       "      <td>0</td>\n",
       "    </tr>\n",
       "    <tr>\n",
       "      <th>2</th>\n",
       "      <td>3.86600</td>\n",
       "      <td>-2.6383</td>\n",
       "      <td>1.9242</td>\n",
       "      <td>0.10645</td>\n",
       "      <td>0</td>\n",
       "    </tr>\n",
       "    <tr>\n",
       "      <th>3</th>\n",
       "      <td>3.45660</td>\n",
       "      <td>9.5228</td>\n",
       "      <td>-4.0112</td>\n",
       "      <td>-3.59440</td>\n",
       "      <td>0</td>\n",
       "    </tr>\n",
       "    <tr>\n",
       "      <th>4</th>\n",
       "      <td>0.32924</td>\n",
       "      <td>-4.4552</td>\n",
       "      <td>4.5718</td>\n",
       "      <td>-0.98880</td>\n",
       "      <td>0</td>\n",
       "    </tr>\n",
       "  </tbody>\n",
       "</table>\n",
       "</div>"
      ],
      "text/plain": [
       "         0       1       2        3  4\n",
       "0  3.62160  8.6661 -2.8073 -0.44699  0\n",
       "1  4.54590  8.1674 -2.4586 -1.46210  0\n",
       "2  3.86600 -2.6383  1.9242  0.10645  0\n",
       "3  3.45660  9.5228 -4.0112 -3.59440  0\n",
       "4  0.32924 -4.4552  4.5718 -0.98880  0"
      ]
     },
     "execution_count": 1,
     "metadata": {},
     "output_type": "execute_result"
    }
   ],
   "source": [
    "import numpy as np\n",
    "import pandas as pd\n",
    "df = pd.read_csv(\"banknote_authentication.csv\", header = None)\n",
    "df.head()"
   ]
  },
  {
   "cell_type": "code",
   "execution_count": 2,
   "metadata": {},
   "outputs": [
    {
     "data": {
      "text/plain": [
       "0    762\n",
       "1    610\n",
       "Name: 4, dtype: int64"
      ]
     },
     "execution_count": 2,
     "metadata": {},
     "output_type": "execute_result"
    }
   ],
   "source": [
    "# sample size\n",
    "df[4].value_counts()"
   ]
  },
  {
   "cell_type": "markdown",
   "metadata": {},
   "source": [
    "## 1) Make y with column 4, and change the class label to 1 and -1"
   ]
  },
  {
   "cell_type": "code",
   "execution_count": 36,
   "metadata": {},
   "outputs": [
    {
     "name": "stdout",
     "output_type": "stream",
     "text": [
      "[ 1  1  1 ..., -1 -1 -1]\n",
      "(1372,)\n"
     ]
    }
   ],
   "source": [
    "####################################################\n",
    "\n",
    "\n",
    "####################################################\n",
    "print(y)\n",
    "print(y.shape)"
   ]
  },
  {
   "cell_type": "markdown",
   "metadata": {},
   "source": [
    "## 2) Make X with column 0, 1, 2, 3"
   ]
  },
  {
   "cell_type": "code",
   "execution_count": 37,
   "metadata": {},
   "outputs": [
    {
     "name": "stdout",
     "output_type": "stream",
     "text": [
      "[[  3.6216    8.6661   -2.8073   -0.44699]\n",
      " [  4.5459    8.1674   -2.4586   -1.4621 ]\n",
      " [  3.866    -2.6383    1.9242    0.10645]\n",
      " ..., \n",
      " [ -3.7503  -13.4586   17.5932   -2.7771 ]\n",
      " [ -3.5637   -8.3827   12.393    -1.2823 ]\n",
      " [ -2.5419   -0.65804   2.6842    1.1952 ]]\n",
      "(1372, 4)\n"
     ]
    }
   ],
   "source": [
    "####################################################\n",
    "\n",
    "####################################################\n",
    "\n",
    "print(X)\n",
    "print(X.shape)"
   ]
  },
  {
   "cell_type": "markdown",
   "metadata": {},
   "source": [
    "## 3) Standardize features of X"
   ]
  },
  {
   "cell_type": "code",
   "execution_count": 38,
   "metadata": {
    "scrolled": true
   },
   "outputs": [
    {
     "name": "stdout",
     "output_type": "stream",
     "text": [
      "[[ 1.12180565  1.14945512 -0.97597007  0.35456135]\n",
      " [ 1.44706568  1.06445293 -0.89503626 -0.12876744]\n",
      " [ 1.20780971 -0.77735215  0.12221838  0.61807317]\n",
      " ..., \n",
      " [-1.47235682 -2.62164576  3.75901744 -0.75488418]\n",
      " [-1.40669251 -1.75647104  2.552043   -0.04315848]\n",
      " [-1.04712236 -0.43982168  0.29861555  1.1364645 ]]\n",
      "(1372, 4)\n"
     ]
    }
   ],
   "source": [
    "####################################################\n",
    "\n",
    "\n",
    "\n",
    "####################################################\n",
    "print(X_std)\n",
    "print(X_std.shape)"
   ]
  },
  {
   "cell_type": "markdown",
   "metadata": {},
   "source": [
    "## Build AdalineGD model and Train it "
   ]
  },
  {
   "cell_type": "markdown",
   "metadata": {},
   "source": [
    "## 4) Find appropriate eta value(learning rate) to train the model"
   ]
  },
  {
   "cell_type": "code",
   "execution_count": 39,
   "metadata": {},
   "outputs": [
    {
     "name": "stdout",
     "output_type": "stream",
     "text": [
      "[ 0.02921485  0.09286005  0.05576665 -0.03178155  0.01098099]\n",
      "[ 0.04040657  0.17485812  0.10274901 -0.03828415  0.01455885]\n",
      "[ 0.05006279  0.24342848  0.13987139 -0.03469418  0.01820871]\n",
      "[ 0.05839418  0.30129522  0.17006782 -0.02416563  0.02127717]\n",
      "[ 0.0655825   0.35056241  0.19538337 -0.00893207  0.02344685]\n",
      "[ 0.07178458  0.39286669  0.21724228  0.00942399  0.0246094 ]\n",
      "[ 0.07713573  0.42949001  0.23663541  0.02978119  0.02478123]\n",
      "[ 0.08175271  0.46144329  0.25425136  0.05134525  0.02404843]\n",
      "[ 0.08573624  0.48952906  0.2705681   0.07355427  0.02253137]\n",
      "[ 0.08917323  0.5143885   0.28591698  0.09601172  0.02036249]\n",
      "[ 0.09213866  0.53653706  0.30052741  0.11843895  0.01767299]\n",
      "[ 0.09469724  0.5563916   0.31455805  0.14064151  0.01458527]\n",
      "[ 0.09690478  0.57429127  0.32811853  0.16248518  0.01120904]\n",
      "[ 0.09880944  0.5905135   0.3412846   0.18387891  0.00763989]\n",
      "[ 0.10045278  0.60528653  0.35410863  0.20476265  0.00395918]\n",
      "[  1.01870663e-01   6.18799191e-01   3.66626912e-01   2.25098584e-01\n",
      "   2.34875922e-04]\n",
      "[ 0.10309401  0.6312085   0.37886478  0.24486492 -0.00347729]\n",
      "[ 0.10414951  0.64264577  0.39084004  0.26405135 -0.0071324 ]\n",
      "[ 0.1050602   0.65322141  0.40256545  0.28265579 -0.01069498]\n",
      "[ 0.10584594  0.66302876  0.41405036  0.30068205 -0.01413757]\n",
      "[ 0.10652388  0.67214717  0.42530184  0.3181381  -0.01743953]\n",
      "[ 0.1071088   0.6806445   0.43632545  0.33503482 -0.0205859 ]\n",
      "[ 0.10761347  0.68857906  0.44712581  0.35138508 -0.02356644]\n",
      "[ 0.1080489   0.69600131  0.45770693  0.3672031  -0.02637472]\n",
      "[ 0.10842459  0.70295512  0.4680724   0.38250393 -0.02900749]\n",
      "[ 0.10874874  0.70947888  0.47822562  0.39730309 -0.03146397]\n",
      "[ 0.10902841  0.71560638  0.48816987  0.4116163  -0.0337454 ]\n",
      "[ 0.10926971  0.72136752  0.49790834  0.42545933 -0.03585458]\n",
      "[ 0.10947791  0.72678889  0.50744421  0.43884777 -0.03779552]\n",
      "[ 0.10965754  0.73189432  0.51678066  0.45179703 -0.03957314]\n",
      "[ 0.10981253  0.73670523  0.52592088  0.46432216 -0.04119305]\n",
      "[ 0.10994625  0.74124097  0.53486805  0.47643788 -0.0426613 ]\n",
      "[ 0.11006162  0.74551915  0.54362537  0.48815851 -0.04398429]\n",
      "[ 0.11016117  0.74955581  0.55219607  0.49949795 -0.04516858]\n",
      "[ 0.11024706  0.75336567  0.56058335  0.51046967 -0.04622085]\n",
      "[ 0.11032116  0.75696226  0.56879043  0.52108667 -0.04714774]\n",
      "[ 0.1103851   0.76035807  0.57682051  0.53136156 -0.04795585]\n",
      "[ 0.11044026  0.76356467  0.5846768   0.54130647 -0.04865168]\n",
      "[ 0.11048786  0.76659281  0.59236248  0.5509331  -0.04924155]\n",
      "[ 0.11052892  0.7694525   0.5998807   0.56025276 -0.04973162]\n",
      "[ 0.11056436  0.77215309  0.60723461  0.56927631 -0.05012784]\n",
      "[ 0.11059493  0.77470332  0.61442733  0.57801421 -0.05043598]\n",
      "[ 0.1106213   0.77711139  0.62146194  0.58647655 -0.05066153]\n",
      "[ 0.11064406  0.77938499  0.6283415   0.59467303 -0.05080981]\n",
      "[ 0.11066369  0.78153137  0.63506902  0.60261296 -0.05088586]\n",
      "[ 0.11068064  0.78355733  0.64164749  0.61030533 -0.05089453]\n",
      "[ 0.11069525  0.78546931  0.64807986  0.61775878 -0.05084042]\n",
      "[ 0.11070786  0.78727336  0.65436905  0.62498161 -0.0507279 ]\n",
      "[ 0.11071874  0.78897521  0.66051793  0.6319818  -0.05056116]\n",
      "[ 0.11072813  0.79058028  0.66652933  0.63876704 -0.05034413]\n",
      "[ 0.11073623  0.79209368  0.67240604  0.64534472 -0.05008056]\n",
      "[ 0.11074322  0.79352025  0.67815082  0.65172196 -0.04977401]\n",
      "[ 0.11074925  0.79486457  0.68376638  0.65790559 -0.04942784]\n",
      "[ 0.11075445  0.796131    0.68925538  0.6639022  -0.04904521]\n",
      "[ 0.11075894  0.79732365  0.69462044  0.66971811 -0.04862913]\n",
      "[ 0.11076282  0.79844642  0.69986417  0.67535941 -0.04818243]\n",
      "[ 0.11076616  0.79950299  0.70498908  0.68083198 -0.04770779]\n",
      "[ 0.11076904  0.80049689  0.70999769  0.68614146 -0.04720771]\n",
      "[ 0.11077153  0.80143144  0.71489244  0.69129327 -0.04668458]\n",
      "[ 0.11077367  0.80230978  0.71967576  0.69629265 -0.04614062]\n",
      "[ 0.11077553  0.80313492  0.72435001  0.70114463 -0.04557794]\n",
      "[ 0.11077712  0.80390968  0.72891753  0.70585407 -0.04499852]\n",
      "[ 0.1107785   0.80463676  0.7333806   0.71042562 -0.04440421]\n",
      "[ 0.11077969  0.80531872  0.73774147  0.71486379 -0.04379674]\n",
      "[ 0.11078072  0.80595798  0.74200234  0.71917292 -0.04317777]\n",
      "[ 0.1107816   0.80655685  0.74616538  0.72335717 -0.04254882]\n",
      "[ 0.11078237  0.80711749  0.75023272  0.72742057 -0.04191133]\n",
      "[ 0.11078303  0.80764199  0.75420644  0.73136699 -0.04126663]\n",
      "[ 0.1107836   0.80813231  0.75808858  0.73520019 -0.04061601]\n",
      "[ 0.11078409  0.80859032  0.76188115  0.73892375 -0.03996061]\n",
      "[ 0.11078451  0.80901778  0.76558612  0.74254115 -0.03930156]\n",
      "[ 0.11078488  0.80941637  0.76920542  0.74605575 -0.03863986]\n",
      "[ 0.11078519  0.80978768  0.77274093  0.74947078 -0.03797648]\n",
      "[ 0.11078546  0.81013322  0.77619452  0.75278934 -0.0373123 ]\n",
      "[ 0.1107857   0.81045444  0.779568    0.75601446 -0.03664815]\n",
      "[ 0.1107859   0.81075267  0.78286316  0.75914903 -0.03598481]\n",
      "[ 0.11078607  0.81102922  0.78608173  0.76219585 -0.03532297]\n",
      "[ 0.11078622  0.81128531  0.78922542  0.76515763 -0.03466331]\n",
      "[ 0.11078635  0.81152209  0.79229592  0.76803698 -0.03400643]\n",
      "[ 0.11078647  0.81174066  0.79529487  0.77083642 -0.03335291]\n",
      "[ 0.11078656  0.81194207  0.79822386  0.77355838 -0.03270325]\n",
      "[ 0.11078665  0.8121273   0.80108449  0.77620521 -0.03205794]\n",
      "[ 0.11078672  0.81229728  0.80387828  0.77877918 -0.03141741]\n",
      "[ 0.11078678  0.81245291  0.80660675  0.78128249 -0.03078208]\n",
      "[ 0.11078683  0.81259503  0.80927138  0.78371726 -0.03015231]\n",
      "[ 0.11078688  0.81272443  0.81187361  0.78608553 -0.02952843]\n",
      "[ 0.11078692  0.81284187  0.81441486  0.78838929 -0.02891076]\n",
      "[ 0.11078696  0.81294805  0.81689652  0.79063045 -0.02829956]\n",
      "[ 0.11078699  0.81304367  0.81931994  0.79281085 -0.02769508]\n",
      "[ 0.11078701  0.81312935  0.82168646  0.7949323  -0.02709755]\n",
      "[ 0.11078703  0.81320571  0.82399737  0.79699652 -0.02650718]\n",
      "[ 0.11078705  0.81327332  0.82625395  0.79900518 -0.02592412]\n",
      "[ 0.11078707  0.81333273  0.82845744  0.8009599  -0.02534855]\n",
      "[ 0.11078708  0.81338445  0.83060906  0.80286226 -0.0247806 ]\n",
      "[ 0.11078709  0.81342896  0.83270999  0.80471376 -0.02422038]\n",
      "[ 0.11078711  0.81346673  0.83476141  0.80651587 -0.02366799]\n",
      "[ 0.11078711  0.81349819  0.83676446  0.80827003 -0.02312353]\n",
      "[ 0.11078712  0.81352375  0.83872025  0.80997759 -0.02258705]\n",
      "[ 0.11078713  0.81354382  0.84062986  0.81163989 -0.02205862]\n",
      "[ 0.11078714  0.81355874  0.84249438  0.81325822 -0.02153827]\n"
     ]
    },
    {
     "data": {
      "image/png": "[encoded data removed]",
      "text/plain": [
       "<matplotlib.figure.Figure at 0x1f7d8c102b0>"
      ]
     },
     "metadata": {},
     "output_type": "display_data"
    }
   ],
   "source": [
    "####################################################\n",
    "# 4-1) Train AdalineGD. Try various learning rates\n",
    "\n",
    "\n",
    "\n",
    "####################################################\n",
    "# 4-2) Plot the cost graph\n",
    "\n",
    "\n",
    "\n",
    "\n",
    "\n",
    "####################################################"
   ]
  },
  {
   "cell_type": "markdown",
   "metadata": {},
   "source": [
    "## Evaluate the model"
   ]
  },
  {
   "cell_type": "markdown",
   "metadata": {},
   "source": [
    "## 5) Compute the accuracy of the model\n"
   ]
  },
  {
   "cell_type": "code",
   "execution_count": 40,
   "metadata": {
    "scrolled": true
   },
   "outputs": [
    {
     "name": "stdout",
     "output_type": "stream",
     "text": [
      "Accuracy on the training set = 0.97667638484\n"
     ]
    }
   ],
   "source": [
    "####################################################\n",
    "\n",
    "\n",
    "####################################################\n",
    "print(\"Accuracy on the training set =\", accuracy)"
   ]
  }
 ],
 "metadata": {
  "kernelspec": {
   "display_name": "Python 3",
   "language": "python",
   "name": "python3"
  },
  "language_info": {
   "codemirror_mode": {
    "name": "ipython",
    "version": 3
   },
   "file_extension": ".py",
   "mimetype": "text/x-python",
   "name": "python",
   "nbconvert_exporter": "python",
   "pygments_lexer": "ipython3",
   "version": "3.6.1"
  }
 },
 "nbformat": 4,
 "nbformat_minor": 4
}
