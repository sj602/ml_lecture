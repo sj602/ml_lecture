{
 "cells": [
  {
   "cell_type": "markdown",
   "metadata": {},
   "source": [
    "# Week2 : Python Programming Basic"
   ]
  },
  {
   "cell_type": "markdown",
   "metadata": {},
   "source": [
    "---\n",
    "p3"
   ]
  },
  {
   "cell_type": "markdown",
   "metadata": {},
   "source": [
    "# Comments\n",
    "- Some sentences to explain the codes\n",
    "- Comments are not included in the codes"
   ]
  },
  {
   "cell_type": "code",
   "execution_count": 1,
   "metadata": {},
   "outputs": [
    {
     "name": "stdout",
     "output_type": "stream",
     "text": [
      "hello\n"
     ]
    }
   ],
   "source": [
    "# Type Comments\n",
    "\n",
    "print(\"hello\") "
   ]
  },
  {
   "cell_type": "markdown",
   "metadata": {},
   "source": [
    "---\n",
    "p4"
   ]
  },
  {
   "cell_type": "markdown",
   "metadata": {},
   "source": [
    "# Constants\n",
    "* **Fixed values**(unchangeable numbers, strings etc)\n",
    "* **Datatypes**"
   ]
  },
  {
   "cell_type": "markdown",
   "metadata": {},
   "source": [
    "**1. Numbers**\n",
    "   - Integer: -2, 0, 100\n",
    "   - Real numbers: -2.5, 0.0, 99.9"
   ]
  },
  {
   "cell_type": "code",
   "execution_count": 2,
   "metadata": {
    "jupyter": {
     "outputs_hidden": false
    }
   },
   "outputs": [
    {
     "name": "stdout",
     "output_type": "stream",
     "text": [
      "3\n",
      "0.3333333333333333\n"
     ]
    }
   ],
   "source": [
    "# integer\n",
    "# real number(float)"
   ]
  },
  {
   "cell_type": "markdown",
   "metadata": {},
   "source": [
    "**2. String**  \n",
    "  - Single/double quotation marks(' or \")\n",
    "  - ‘hello’, “hello” "
   ]
  },
  {
   "cell_type": "code",
   "execution_count": 14,
   "metadata": {
    "jupyter": {
     "outputs_hidden": false
    }
   },
   "outputs": [
    {
     "name": "stdout",
     "output_type": "stream",
     "text": [
      "Machine Learning\n"
     ]
    }
   ],
   "source": [
    "# print string \"Machine\", \"Learning\"\n",
    "print(\"Machine Learning\")"
   ]
  },
  {
   "cell_type": "markdown",
   "metadata": {},
   "source": [
    "**3. Logical**  \n",
    "  - True, False"
   ]
  },
  {
   "cell_type": "code",
   "execution_count": 15,
   "metadata": {},
   "outputs": [
    {
     "name": "stdout",
     "output_type": "stream",
     "text": [
      "True\n",
      "False\n"
     ]
    }
   ],
   "source": [
    "# Boolean\n",
    "print(True)\n",
    "print(False)"
   ]
  },
  {
   "cell_type": "markdown",
   "metadata": {},
   "source": [
    "**4. Special**\n",
    "  - None"
   ]
  },
  {
   "cell_type": "code",
   "execution_count": 16,
   "metadata": {
    "jupyter": {
     "outputs_hidden": false
    },
    "scrolled": true
   },
   "outputs": [
    {
     "name": "stdout",
     "output_type": "stream",
     "text": [
      "None\n"
     ]
    }
   ],
   "source": [
    "# Special\n",
    "print(None)"
   ]
  },
  {
   "cell_type": "markdown",
   "metadata": {},
   "source": [
    "---\n",
    "p5"
   ]
  },
  {
   "cell_type": "markdown",
   "metadata": {},
   "source": [
    "* **Data Type Check : type()**"
   ]
  },
  {
   "cell_type": "code",
   "execution_count": 19,
   "metadata": {},
   "outputs": [
    {
     "name": "stdout",
     "output_type": "stream",
     "text": [
      "<class 'int'>\n"
     ]
    }
   ],
   "source": [
    "# int\n",
    "print(type(1))"
   ]
  },
  {
   "cell_type": "code",
   "execution_count": 21,
   "metadata": {},
   "outputs": [
    {
     "name": "stdout",
     "output_type": "stream",
     "text": [
      "<class 'str'>\n"
     ]
    }
   ],
   "source": [
    "# str\n",
    "print(type('123'))"
   ]
  },
  {
   "cell_type": "markdown",
   "metadata": {},
   "source": [
    "* **Casting**"
   ]
  },
  {
   "cell_type": "code",
   "execution_count": 22,
   "metadata": {},
   "outputs": [
    {
     "name": "stdout",
     "output_type": "stream",
     "text": [
      "10\n"
     ]
    }
   ],
   "source": [
    "# float to int \n",
    "print(int(10.3))"
   ]
  },
  {
   "cell_type": "code",
   "execution_count": 23,
   "metadata": {},
   "outputs": [
    {
     "name": "stdout",
     "output_type": "stream",
     "text": [
      "10.3\n"
     ]
    }
   ],
   "source": [
    "# float to string\n",
    "print(str(10.3))"
   ]
  },
  {
   "cell_type": "markdown",
   "metadata": {},
   "source": [
    "- **Dynamic Typing** "
   ]
  },
  {
   "cell_type": "code",
   "execution_count": 24,
   "metadata": {},
   "outputs": [
    {
     "name": "stdout",
     "output_type": "stream",
     "text": [
      "1.3\n"
     ]
    }
   ],
   "source": [
    "# Operation\n",
    "print(1+0.3)"
   ]
  },
  {
   "cell_type": "code",
   "execution_count": 26,
   "metadata": {},
   "outputs": [
    {
     "name": "stdout",
     "output_type": "stream",
     "text": [
      "False\n"
     ]
    }
   ],
   "source": [
    "# Comparison\n",
    "print(1<1.0)"
   ]
  },
  {
   "cell_type": "markdown",
   "metadata": {},
   "source": [
    "---\n",
    "p6"
   ]
  },
  {
   "cell_type": "markdown",
   "metadata": {},
   "source": [
    "# Variables\n",
    "- **Named memory to store values**\n",
    "  - Name consist of alpha-numeric characters and underscores (A-z, 0-9, and _ )\n",
    "  - Name cannot start with a number"
   ]
  },
  {
   "cell_type": "code",
   "execution_count": 27,
   "metadata": {
    "jupyter": {
     "outputs_hidden": false
    }
   },
   "outputs": [
    {
     "name": "stdout",
     "output_type": "stream",
     "text": [
      "50\n",
      "<class 'int'>\n"
     ]
    }
   ],
   "source": [
    "z = 50\n",
    "print(z)\n",
    "print(type(z))\n",
    "\n",
    "\n",
    "# print z\n",
    "# data type of z"
   ]
  },
  {
   "cell_type": "code",
   "execution_count": 29,
   "metadata": {},
   "outputs": [
    {
     "name": "stdout",
     "output_type": "stream",
     "text": [
      "HelloWorld!\n",
      "<class 'str'>\n"
     ]
    }
   ],
   "source": [
    "s1 = \"Hello\"\n",
    "s2 = \"World!\"\n",
    "z = s1+s2\n",
    "print(z)\n",
    "print(type(z))\n",
    "\n",
    "# print s1 + s2\n",
    "# data type of z"
   ]
  },
  {
   "cell_type": "markdown",
   "metadata": {},
   "source": [
    "---\n",
    "p7"
   ]
  },
  {
   "cell_type": "markdown",
   "metadata": {},
   "source": [
    "* **Basic opeartion of string**"
   ]
  },
  {
   "cell_type": "code",
   "execution_count": 30,
   "metadata": {},
   "outputs": [
    {
     "name": "stdout",
     "output_type": "stream",
     "text": [
      "hellohellohello\n"
     ]
    }
   ],
   "source": [
    "# string multiplication\n",
    "print(\"hello\"*3)"
   ]
  },
  {
   "cell_type": "code",
   "execution_count": 31,
   "metadata": {},
   "outputs": [
    {
     "name": "stdout",
     "output_type": "stream",
     "text": [
      "l\n"
     ]
    }
   ],
   "source": [
    "# Indexing\n",
    "print(\"hello\"[3])"
   ]
  },
  {
   "cell_type": "code",
   "execution_count": 32,
   "metadata": {},
   "outputs": [
    {
     "name": "stdout",
     "output_type": "stream",
     "text": [
      "5\n"
     ]
    }
   ],
   "source": [
    "# len()\n",
    "print(len(\"hello\"))"
   ]
  },
  {
   "cell_type": "code",
   "execution_count": 33,
   "metadata": {},
   "outputs": [
    {
     "data": {
      "text/plain": [
       "['Machine', 'Learning']"
      ]
     },
     "execution_count": 33,
     "metadata": {},
     "output_type": "execute_result"
    }
   ],
   "source": [
    "# .split()\n",
    "\"Machine Learning\".split()"
   ]
  },
  {
   "cell_type": "markdown",
   "metadata": {},
   "source": [
    "---\n",
    "p8"
   ]
  },
  {
   "cell_type": "markdown",
   "metadata": {},
   "source": [
    "# Conditional Statements\n",
    "\n",
    "* **If**  \n",
    "  - If statement is control flow statements which helps us to run a particular code only when a certain condition is satisfied.\n",
    "\n",
    "\n",
    ">**Note**\n",
    ">- In Python, **blocks are marked as indentations** in functions, iteration statements and conditional statements, etc.\n",
    ">- It is strongly recommended that **you do not use the tab** (system-specific but high probability output an error). The PEP-8 is the official coding guide recommends **four spaces with space bar**. However, various IDEs such as Jupyter lab, Pycham, and others automatically do identation."
   ]
  },
  {
   "cell_type": "code",
   "execution_count": 34,
   "metadata": {},
   "outputs": [
    {
     "name": "stdout",
     "output_type": "stream",
     "text": [
      "2\n",
      "small\n"
     ]
    }
   ],
   "source": [
    "# Convert user input to integer\n",
    "x = int(input())\n",
    "\n",
    "# Conditional statements\n",
    "if x > 10:\n",
    "    print(\"large\")\n",
    "else:\n",
    "    print(\"small\")"
   ]
  },
  {
   "cell_type": "markdown",
   "metadata": {},
   "source": [
    "---\n",
    "p9"
   ]
  },
  {
   "cell_type": "markdown",
   "metadata": {},
   "source": [
    "* **Boolean Operator**"
   ]
  },
  {
   "cell_type": "markdown",
   "metadata": {},
   "source": [
    "**1. and (&)**"
   ]
  },
  {
   "cell_type": "code",
   "execution_count": 35,
   "metadata": {},
   "outputs": [
    {
     "data": {
      "text/plain": [
       "False"
      ]
     },
     "execution_count": 35,
     "metadata": {},
     "output_type": "execute_result"
    }
   ],
   "source": [
    "# and\n",
    "True & False"
   ]
  },
  {
   "cell_type": "markdown",
   "metadata": {},
   "source": [
    "**2. or(|)**"
   ]
  },
  {
   "cell_type": "code",
   "execution_count": 37,
   "metadata": {},
   "outputs": [
    {
     "data": {
      "text/plain": [
       "True"
      ]
     },
     "execution_count": 37,
     "metadata": {},
     "output_type": "execute_result"
    }
   ],
   "source": [
    "# or\n",
    "True | False"
   ]
  },
  {
   "cell_type": "markdown",
   "metadata": {},
   "source": [
    "**3. not**"
   ]
  },
  {
   "cell_type": "code",
   "execution_count": 39,
   "metadata": {},
   "outputs": [
    {
     "data": {
      "text/plain": [
       "False"
      ]
     },
     "execution_count": 39,
     "metadata": {},
     "output_type": "execute_result"
    }
   ],
   "source": [
    "# not\n",
    "not True"
   ]
  },
  {
   "cell_type": "markdown",
   "metadata": {},
   "source": [
    "---\n",
    "p10"
   ]
  },
  {
   "cell_type": "markdown",
   "metadata": {},
   "source": [
    "# Iteration Statements"
   ]
  },
  {
   "cell_type": "markdown",
   "metadata": {},
   "source": [
    "## while\n",
    "  - The while statement enables the execution of a body of statements multiple times in a loop while a certain condition is true."
   ]
  },
  {
   "cell_type": "code",
   "execution_count": 1,
   "metadata": {
    "jupyter": {
     "outputs_hidden": false
    }
   },
   "outputs": [
    {
     "name": "stdout",
     "output_type": "stream",
     "text": [
      "5\n",
      "4\n",
      "3\n",
      "2\n",
      "1\n"
     ]
    }
   ],
   "source": [
    "# while statement\n",
    "n = 5\n",
    "while n >= 1:\n",
    "    print(n)\n",
    "    n-=1"
   ]
  },
  {
   "cell_type": "markdown",
   "metadata": {},
   "source": [
    "---\n",
    "p11"
   ]
  },
  {
   "cell_type": "markdown",
   "metadata": {},
   "source": [
    "## for\n",
    "- for statement iterates over the items of any sequence (a list or a string), in the order that they appear in the sequence.\n",
    "- **list** : a compound data types like an array in C (will be addressed)"
   ]
  },
  {
   "cell_type": "code",
   "execution_count": 2,
   "metadata": {
    "jupyter": {
     "outputs_hidden": false
    }
   },
   "outputs": [
    {
     "data": {
      "text/plain": [
       "55"
      ]
     },
     "execution_count": 2,
     "metadata": {},
     "output_type": "execute_result"
    }
   ],
   "source": [
    "# sum of all numbers from 1 to 10\n",
    "sum([1,2,3,4,5,6,7,8,9,10])"
   ]
  },
  {
   "cell_type": "markdown",
   "metadata": {},
   "source": [
    "- **range(n)** : it returns a list of the numbers that consists 0 to n-1\n"
   ]
  },
  {
   "cell_type": "code",
   "execution_count": 4,
   "metadata": {
    "jupyter": {
     "outputs_hidden": false
    }
   },
   "outputs": [
    {
     "data": {
      "text/plain": [
       "45"
      ]
     },
     "execution_count": 4,
     "metadata": {},
     "output_type": "execute_result"
    }
   ],
   "source": [
    "# sum of all numbers from 0 to 9\n",
    "sum(list(range(0,10)))"
   ]
  },
  {
   "cell_type": "markdown",
   "metadata": {},
   "source": [
    "---\n",
    "p12"
   ]
  },
  {
   "cell_type": "markdown",
   "metadata": {},
   "source": [
    "# Function\n",
    "- **A named section of a program that performs a specific task. It can takes some parameters. It is reusable code**\n",
    "  - **Built-in function(refer to the link below)**\n",
    "    - print(), input(), ...\n",
    "    - https://docs.python.org/3/library/functions.html\n",
    "  - **User-defined function**\n",
    "    > ```python\n",
    "    def function_name(arg_1, arg_2, …) :\n",
    "         # algorithms\n",
    "         return something\n",
    "  ```"
   ]
  },
  {
   "cell_type": "code",
   "execution_count": 25,
   "metadata": {
    "jupyter": {
     "outputs_hidden": false
    }
   },
   "outputs": [
    {
     "name": "stdout",
     "output_type": "stream",
     "text": [
      "INput km:3\n",
      "it is 1.875 mile\n"
     ]
    }
   ],
   "source": [
    "# Function to convert km to mile\n",
    "def km_to_mile(km):\n",
    "    mile = km/1.6\n",
    "    return mile\n",
    "\n",
    "km = float(input(\"INput km:\"))\n",
    "print(\"it is\", km_to_mile(km), \"mile\")"
   ]
  },
  {
   "cell_type": "markdown",
   "metadata": {},
   "source": [
    "---\n",
    "p13"
   ]
  },
  {
   "cell_type": "markdown",
   "metadata": {},
   "source": [
    "# Container : List, Dict, Tuple, Set"
   ]
  },
  {
   "cell_type": "markdown",
   "metadata": {},
   "source": [
    "* **Container**\n",
    "  - Data structure for storing variables\n",
    "* **In python there are four data structures - lists, dict, tuple, and set**\n",
    "   - **list          [ , ]**\n",
    "   - **dict         { , }**\n",
    "   - **tuple      ( , )**\n",
    "   - **set          { , }**\n",
    "- When programming in python, it is important to understand the characteristics of the four containers and write the appropriate data structures for your situation"
   ]
  },
  {
   "cell_type": "markdown",
   "metadata": {},
   "source": [
    "---\n",
    "p14"
   ]
  },
  {
   "cell_type": "markdown",
   "metadata": {},
   "source": [
    "## List\n",
    "- **A list is a data structure that stores ordered sequence of items**\n",
    "  - It can be initialized as **[item1, item2, …]**\n",
    "  - It can be initialized by the function **‘list()’** and then append new item by the function **‘list.append(item)’**"
   ]
  },
  {
   "cell_type": "code",
   "execution_count": 6,
   "metadata": {
    "jupyter": {
     "outputs_hidden": false
    }
   },
   "outputs": [
    {
     "name": "stdout",
     "output_type": "stream",
     "text": [
      "banana\n"
     ]
    }
   ],
   "source": [
    "# make the list named 'fruits'\n",
    "fruits = [\"apple\", \"banana\", \"orange\"]\n",
    "print(fruits[1])"
   ]
  },
  {
   "cell_type": "code",
   "execution_count": 7,
   "metadata": {},
   "outputs": [
    {
     "name": "stdout",
     "output_type": "stream",
     "text": [
      "['apple', 'banana', 'orange', 'kiwi']\n"
     ]
    }
   ],
   "source": [
    "# append 'kiwi' to the list named 'fruits' \n",
    "fruits.append(\"kiwi\")\n",
    "print(fruits)"
   ]
  },
  {
   "cell_type": "markdown",
   "metadata": {},
   "source": [
    "---\n",
    "p15"
   ]
  },
  {
   "cell_type": "markdown",
   "metadata": {},
   "source": [
    "- **Index of list**\n",
    "  - n:m : it means from 'n' to 'm-1'\n",
    "  - n:m:s : it means from 'n' to 'm-1' with step size 's'"
   ]
  },
  {
   "cell_type": "code",
   "execution_count": 8,
   "metadata": {},
   "outputs": [
    {
     "name": "stdout",
     "output_type": "stream",
     "text": [
      "20\n",
      "[20, 30]\n",
      "40\n",
      "[40, 50]\n"
     ]
    }
   ],
   "source": [
    "# Indexing & Slicing (1)\n",
    "arr = [10,20,30,40,50]\n",
    "print(arr[1])\n",
    "print(arr[1:3])\n",
    "print(arr[3])\n",
    "print(arr[3:5])"
   ]
  },
  {
   "cell_type": "code",
   "execution_count": 9,
   "metadata": {},
   "outputs": [
    {
     "name": "stdout",
     "output_type": "stream",
     "text": [
      "[20, 30]\n"
     ]
    }
   ],
   "source": [
    "# Indexing & Slicing (2)\n",
    "print(arr[1:3])"
   ]
  },
  {
   "cell_type": "markdown",
   "metadata": {},
   "source": [
    "* **Functions with the list as a parameter and methods of the list**\n",
    " - Find other functions : https://docs.python.org/3/tutorial/datastructures.html"
   ]
  },
  {
   "cell_type": "code",
   "execution_count": 26,
   "metadata": {
    "jupyter": {
     "outputs_hidden": false
    }
   },
   "outputs": [
    {
     "name": "stdout",
     "output_type": "stream",
     "text": [
      "5\n",
      "50\n",
      "10\n",
      "150\n",
      "[10, 20, 30, 40, 50]\n"
     ]
    }
   ],
   "source": [
    "# functions & methods\n",
    "numbers = [20,50,10,40,30]\n",
    "print(len(numbers))\n",
    "print(max(numbers))\n",
    "print(min(numbers))\n",
    "print(sum(numbers))\n",
    "numbers.sort()\n",
    "print(numbers)"
   ]
  },
  {
   "cell_type": "markdown",
   "metadata": {},
   "source": [
    "---\n",
    "p16"
   ]
  },
  {
   "cell_type": "markdown",
   "metadata": {},
   "source": [
    "* **List with for statement**"
   ]
  },
  {
   "cell_type": "code",
   "execution_count": 27,
   "metadata": {},
   "outputs": [
    {
     "name": "stdout",
     "output_type": "stream",
     "text": [
      "[0, 2, 4, 6, 8]\n"
     ]
    }
   ],
   "source": [
    "# make a list with all even numbers from 0 to 9 (1)\n",
    "even_numbers = []\n",
    "for i in range(10):\n",
    "    if i % 2 == 0:\n",
    "        even_numbers.append(i)\n",
    "print(even_numbers)"
   ]
  },
  {
   "cell_type": "markdown",
   "metadata": {},
   "source": [
    "* **List comprehension**"
   ]
  },
  {
   "cell_type": "code",
   "execution_count": 31,
   "metadata": {},
   "outputs": [
    {
     "name": "stdout",
     "output_type": "stream",
     "text": [
      "[0, 2, 4, 6, 8]\n"
     ]
    }
   ],
   "source": [
    "# make a list with all even numbers from 0 to 9 (2)\n",
    "even_numbers = [i for i in range(10) if i % 2 ==0]\n",
    "print(even_numbers)"
   ]
  },
  {
   "cell_type": "code",
   "execution_count": 30,
   "metadata": {},
   "outputs": [
    {
     "name": "stdout",
     "output_type": "stream",
     "text": [
      "[1, 3, 5, 7, 9, 11, 13, 15, 17, 19]\n"
     ]
    }
   ],
   "source": [
    "# List comprehension & function\n",
    "def trans(x):\n",
    "    y = 2*x + 1\n",
    "    return y\n",
    "trans_numbers = [trans(i) for i in range(10)]\n",
    "print(trans_numbers)"
   ]
  },
  {
   "cell_type": "markdown",
   "metadata": {},
   "source": [
    "---\n",
    "p17"
   ]
  },
  {
   "cell_type": "markdown",
   "metadata": {},
   "source": [
    "* **Nested list**"
   ]
  },
  {
   "cell_type": "code",
   "execution_count": 32,
   "metadata": {},
   "outputs": [
    {
     "name": "stdout",
     "output_type": "stream",
     "text": [
      "[[1, 3, 5, 7, 9], [0, 2, 4, 6, 8]]\n"
     ]
    }
   ],
   "source": [
    "# Nested list\n",
    "odd = [i for i in range(10) if i % 2 == 1]\n",
    "even = [i for i in range(10) if i % 2 == 0]\n",
    "nested = [odd, even]\n",
    "print(nested)"
   ]
  },
  {
   "cell_type": "code",
   "execution_count": 33,
   "metadata": {},
   "outputs": [
    {
     "name": "stdout",
     "output_type": "stream",
     "text": [
      "[1, 3, 5, 7, 9]\n",
      "[0, 2, 4, 6, 8]\n",
      "1\n",
      "4\n"
     ]
    }
   ],
   "source": [
    "# Index of nested list\n",
    "print(nested[0])\n",
    "print(nested[1])\n",
    "print(nested[0][0])\n",
    "print(nested[1][2])"
   ]
  },
  {
   "cell_type": "markdown",
   "metadata": {},
   "source": [
    "---\n",
    "p18"
   ]
  },
  {
   "cell_type": "markdown",
   "metadata": {},
   "source": [
    "## Dictionary\n",
    "- **A dictionary is a data structure that stores unordered `<key : value>` pairs**\n",
    "    - It can be initialized as **{  key : value , key : value , …  }** or\n",
    "    - Make empty dictionary using **‘dict()’**, and then insert the new (key, value) pair\n",
    "    - List : items are **indexed by location(integer)**\n",
    "    - Dictionary : values are **indexed by keys**"
   ]
  },
  {
   "cell_type": "code",
   "execution_count": 34,
   "metadata": {
    "jupyter": {
     "outputs_hidden": false
    }
   },
   "outputs": [
    {
     "name": "stdout",
     "output_type": "stream",
     "text": [
      "20\n"
     ]
    }
   ],
   "source": [
    "# List\n",
    "num = [30,10,20]\n",
    "print(num[2])"
   ]
  },
  {
   "cell_type": "code",
   "execution_count": 35,
   "metadata": {},
   "outputs": [
    {
     "name": "stdout",
     "output_type": "stream",
     "text": [
      "30\n",
      "{'red': 30, 'blue': 10, 'yellow': 20, 'green': 5}\n"
     ]
    }
   ],
   "source": [
    "# Dictionary\n",
    "words = {'red':30, 'blue':10, 'yellow':20}\n",
    "print(words['red'])\n",
    "\n",
    "words['green'] = 5\n",
    "print(words)"
   ]
  },
  {
   "cell_type": "markdown",
   "metadata": {},
   "source": [
    "---\n",
    "p19"
   ]
  },
  {
   "cell_type": "markdown",
   "metadata": {},
   "source": [
    "* **methods of dictionary**  "
   ]
  },
  {
   "cell_type": "markdown",
   "metadata": {},
   "source": [
    "**1 .items()**"
   ]
  },
  {
   "cell_type": "code",
   "execution_count": 36,
   "metadata": {},
   "outputs": [
    {
     "data": {
      "text/plain": [
       "dict_items([('red', 30), ('blue', 10), ('yellow', 20), ('green', 5)])"
      ]
     },
     "execution_count": 36,
     "metadata": {},
     "output_type": "execute_result"
    }
   ],
   "source": [
    "words.items()"
   ]
  },
  {
   "cell_type": "markdown",
   "metadata": {},
   "source": [
    "**2. .keys()**"
   ]
  },
  {
   "cell_type": "code",
   "execution_count": 37,
   "metadata": {},
   "outputs": [
    {
     "data": {
      "text/plain": [
       "dict_keys(['red', 'blue', 'yellow', 'green'])"
      ]
     },
     "execution_count": 37,
     "metadata": {},
     "output_type": "execute_result"
    }
   ],
   "source": [
    "words.keys()"
   ]
  },
  {
   "cell_type": "markdown",
   "metadata": {},
   "source": [
    "**3. .values()**"
   ]
  },
  {
   "cell_type": "code",
   "execution_count": 38,
   "metadata": {},
   "outputs": [
    {
     "data": {
      "text/plain": [
       "dict_values([30, 10, 20, 5])"
      ]
     },
     "execution_count": 38,
     "metadata": {},
     "output_type": "execute_result"
    }
   ],
   "source": [
    "words.values()"
   ]
  },
  {
   "cell_type": "markdown",
   "metadata": {},
   "source": [
    "---\n",
    "p20"
   ]
  },
  {
   "cell_type": "markdown",
   "metadata": {},
   "source": [
    "* **list vs. dictionary**"
   ]
  },
  {
   "cell_type": "code",
   "execution_count": 39,
   "metadata": {
    "jupyter": {
     "outputs_hidden": false
    }
   },
   "outputs": [
    {
     "name": "stdout",
     "output_type": "stream",
     "text": [
      "[185, 78]\n",
      "185\n"
     ]
    }
   ],
   "source": [
    "# List\n",
    "lst = list()\n",
    "lst.append(185)\n",
    "lst.append(78)\n",
    "print(lst)\n",
    "print(lst[0])"
   ]
  },
  {
   "cell_type": "code",
   "execution_count": 40,
   "metadata": {},
   "outputs": [
    {
     "name": "stdout",
     "output_type": "stream",
     "text": [
      "{'h': 185, 'w': 78}\n",
      "185\n"
     ]
    }
   ],
   "source": [
    "# Dictionary\n",
    "dic = dict()\n",
    "dic['h'] = 185\n",
    "dic['w'] = 78\n",
    "print(dic)\n",
    "print(dic['h'])"
   ]
  },
  {
   "cell_type": "markdown",
   "metadata": {},
   "source": [
    "---\n",
    "p21"
   ]
  },
  {
   "cell_type": "markdown",
   "metadata": {},
   "source": [
    "* **Dictionary with for statement**"
   ]
  },
  {
   "cell_type": "code",
   "execution_count": 23,
   "metadata": {},
   "outputs": [
    {
     "name": "stdout",
     "output_type": "stream",
     "text": [
      "{0: 'Life', 1: 'is', 2: 'like', 3: 'a', 4: 'box', 5: 'of', 6: 'chocolate'}\n"
     ]
    }
   ],
   "source": [
    "# make 'vocab' dictionary from a sentence (1)\n",
    "vocab_list = \"Life is like a box of chocolate\".split(\" \")\n",
    "vocab = {}\n",
    "for i, v in enumerate(vocab_list):\n",
    "    vocab[i] = v\n",
    "print(vocab)"
   ]
  },
  {
   "cell_type": "markdown",
   "metadata": {},
   "source": [
    "* **Dictionary comprehension**"
   ]
  },
  {
   "cell_type": "code",
   "execution_count": 24,
   "metadata": {},
   "outputs": [
    {
     "name": "stdout",
     "output_type": "stream",
     "text": [
      "{0: 'Life', 1: 'is', 2: 'like', 3: 'a', 4: 'box', 5: 'of', 6: 'chocolate'}\n"
     ]
    }
   ],
   "source": [
    "# make 'vocab' dictionary from a sentence (2)\n",
    "vocab = {k:v for k, v in enumerate(vocab_list)}\n",
    "print(vocab)"
   ]
  },
  {
   "cell_type": "markdown",
   "metadata": {},
   "source": [
    "---\n",
    "p22"
   ]
  },
  {
   "cell_type": "markdown",
   "metadata": {},
   "source": [
    "## Tuple\n",
    "- A tuple is a collection of items which is ordered and **unchangeable**. \n",
    "  - It is more simple and efficient because the tuple is saved with the condition not to be changed in the future \n",
    "  - ‘items()’ method of dictionary returns list of **(key, value)** tuples"
   ]
  },
  {
   "cell_type": "code",
   "execution_count": 20,
   "metadata": {
    "jupyter": {
     "outputs_hidden": false
    }
   },
   "outputs": [
    {
     "name": "stdout",
     "output_type": "stream",
     "text": [
      "(20, 30) (20,)\n"
     ]
    }
   ],
   "source": [
    "# tuple\n",
    "x = (20,30)\n",
    "y = (20,)\n",
    "print(x, y)"
   ]
  },
  {
   "cell_type": "code",
   "execution_count": 21,
   "metadata": {},
   "outputs": [
    {
     "name": "stdout",
     "output_type": "stream",
     "text": [
      "Tome 1234\n",
      "john 5678\n",
      "dict_items([('Tome', 1234), ('john', 5678)])\n"
     ]
    }
   ],
   "source": [
    "# tuple and dictionary\n",
    "ids = dict()\n",
    "ids['Tome'] = 1234\n",
    "ids['john'] = 5678\n",
    "\n",
    "for key, val in ids.items():\n",
    "    print(key, val)\n",
    "print(ids.items())"
   ]
  },
  {
   "cell_type": "markdown",
   "metadata": {},
   "source": [
    "---\n",
    "p23"
   ]
  },
  {
   "cell_type": "markdown",
   "metadata": {},
   "source": [
    "## Set\n",
    "- A set is an unordered collection of items with no duplicates\n",
    "   - It can be initialized as **{  item1, item2, …  }** or\n",
    "   - It can be defined by the function **‘set()’**"
   ]
  },
  {
   "cell_type": "code",
   "execution_count": 18,
   "metadata": {
    "jupyter": {
     "outputs_hidden": false
    }
   },
   "outputs": [
    {
     "name": "stdout",
     "output_type": "stream",
     "text": [
      "{1, 2, 3}\n",
      "{1, 2, 3, 4}\n",
      "{'H', 'l', 'o', 'e'}\n"
     ]
    }
   ],
   "source": [
    "# Set\n",
    "s = {1,2,3}\n",
    "print(s)\n",
    "\n",
    "# Ignore duplicates\n",
    "lst = [1,2,2,3,3,4]\n",
    "set1 = set(lst)\n",
    "print(set1)\n",
    "\n",
    "# Ignore order\n",
    "strings = \"Hello\"\n",
    "set2 = set(strings)\n",
    "print(set2)"
   ]
  },
  {
   "cell_type": "markdown",
   "metadata": {},
   "source": [
    "---\n",
    "p24"
   ]
  },
  {
   "cell_type": "markdown",
   "metadata": {},
   "source": [
    "- **Set operations**\n",
    "  - **.intersection()**   (&)\n",
    "  - **.union()**            (|)\n",
    "  - **.difference()**     (-)"
   ]
  },
  {
   "cell_type": "code",
   "execution_count": 17,
   "metadata": {
    "jupyter": {
     "outputs_hidden": false
    }
   },
   "outputs": [
    {
     "name": "stdout",
     "output_type": "stream",
     "text": [
      "{2, 4}\n",
      "{2, 4}\n",
      "{1, 2, 3, 4, 6, 8}\n",
      "{1, 2, 3, 4, 6, 8}\n",
      "{1, 3}\n",
      "{1, 3}\n"
     ]
    }
   ],
   "source": [
    "# intersection, union, difference\n",
    "set1 = set([1,2,3,4])\n",
    "set2 = set([2,4,6,8])\n",
    "\n",
    "# intersection\n",
    "print(set1 & set2) # using &\n",
    "print(set1.intersection(set2)) # using intersection function \n",
    "\n",
    "# union\n",
    "print(set1 | set2) # using |\n",
    "print(set1.union(set2)) # using union function\n",
    "\n",
    "# difference\n",
    "print(set1 - set2) # using using -\n",
    "print(set1.difference(set2)) # using difference function"
   ]
  },
  {
   "cell_type": "markdown",
   "metadata": {},
   "source": [
    "---\n",
    "p25"
   ]
  },
  {
   "cell_type": "markdown",
   "metadata": {},
   "source": [
    "# File processing"
   ]
  },
  {
   "cell_type": "markdown",
   "metadata": {},
   "source": [
    "- **Opening the file**\n",
    "  - open() – it returns the handle used to manipulate the file\n",
    "  - The file handle is a sequence of each line of the file"
   ]
  },
  {
   "cell_type": "code",
   "execution_count": 14,
   "metadata": {
    "jupyter": {
     "outputs_hidden": false
    }
   },
   "outputs": [
    {
     "name": "stdout",
     "output_type": "stream",
     "text": [
      "27\n"
     ]
    }
   ],
   "source": [
    "# Open 'sample.txt' file and count lines\n",
    "fhand = open(\"sample.txt\")\n",
    "count = 0\n",
    "for line in fhand:\n",
    "    count = count+1\n",
    "fhand.close()\n",
    "print(count)"
   ]
  },
  {
   "cell_type": "markdown",
   "metadata": {},
   "source": [
    "- **Read all contents of the file**\n",
    "  - .read() – it reads all contents in the file and returns it as a sequence of a string"
   ]
  },
  {
   "cell_type": "code",
   "execution_count": 15,
   "metadata": {
    "jupyter": {
     "outputs_hidden": false
    }
   },
   "outputs": [
    {
     "name": "stdout",
     "output_type": "stream",
     "text": [
      "9483\n"
     ]
    }
   ],
   "source": [
    "# Open & close\n",
    "fhand = open(\"sample.txt\")\n",
    "mfile = fhand.read()\n",
    "print(len(mfile))\n",
    "fhand.close()"
   ]
  },
  {
   "cell_type": "code",
   "execution_count": 16,
   "metadata": {},
   "outputs": [
    {
     "name": "stdout",
     "output_type": "stream",
     "text": [
      "9483\n"
     ]
    }
   ],
   "source": [
    "# Open & with\n",
    "with open(\"sample.txt\") as f:\n",
    "    mfile = f.read()\n",
    "print(len(mfile))"
   ]
  },
  {
   "cell_type": "markdown",
   "metadata": {},
   "source": [
    "---\n",
    "p26"
   ]
  },
  {
   "cell_type": "markdown",
   "metadata": {},
   "source": [
    "# Class\n",
    "- **Object = Attribute + Method**  \n",
    "  - Classes provide a means of bundling data and functionality together \n",
    "  - Creating a new class creates a new type of object, allowing new instances of that type to be made\n",
    "  - Class, Object and Instance : https://alfredjava.wordpress.com/2008/07/08/class-vs-object-vs-instance/"
   ]
  },
  {
   "cell_type": "markdown",
   "metadata": {},
   "source": [
    "* **Creating a class**"
   ]
  },
  {
   "cell_type": "code",
   "execution_count": 10,
   "metadata": {
    "jupyter": {
     "outputs_hidden": false
    }
   },
   "outputs": [],
   "source": [
    "# Make 'Car' class\n",
    "class Car():\n",
    "    # Constructor\n",
    "    def __init__(self, brand, color, year, current_speed):\n",
    "        self.brand = brand\n",
    "        self.year = year\n",
    "        self.current_speed = current_speed\n",
    "    # Method\n",
    "    def accelerate(self):\n",
    "        self.current_speed += 10\n",
    "        return self.current_speed\n"
   ]
  },
  {
   "cell_type": "markdown",
   "metadata": {},
   "source": [
    "---\n",
    "p27"
   ]
  },
  {
   "cell_type": "markdown",
   "metadata": {},
   "source": [
    "* **Creating objects**"
   ]
  },
  {
   "cell_type": "code",
   "execution_count": 12,
   "metadata": {
    "jupyter": {
     "outputs_hidden": false
    }
   },
   "outputs": [],
   "source": [
    "# Make 'car1', 'car2' objects\n",
    "car1 = Car('toyota', 'red', 1995, 100)\n",
    "car2 = Car('hyundai', 'green', 2000, 120)"
   ]
  },
  {
   "cell_type": "markdown",
   "metadata": {},
   "source": [
    "* **Attributes & methods**"
   ]
  },
  {
   "cell_type": "code",
   "execution_count": 13,
   "metadata": {},
   "outputs": [
    {
     "name": "stdout",
     "output_type": "stream",
     "text": [
      "toyota\n",
      "120\n",
      "130\n"
     ]
    }
   ],
   "source": [
    "# Print attributes, execute the method\n",
    "print(car1.brand)\n",
    "print(car2.current_speed)\n",
    "car2.accelerate()\n",
    "print(car2.current_speed)"
   ]
  },
  {
   "cell_type": "markdown",
   "metadata": {},
   "source": [
    "---"
   ]
  },
  {
   "cell_type": "markdown",
   "metadata": {},
   "source": [
    "---\n",
    "p28"
   ]
  },
  {
   "cell_type": "markdown",
   "metadata": {},
   "source": [
    "# Submit\n",
    "- To make sure if you have completed this practice, **submit your practice file(Week\\*\\*_given_code.ipynb) to e-class**\n",
    "- **Due tomorrow 11:59pm**\n",
    "- Modify your ipynb file name as **“Week\\*\\*_StudentNum_Name.ipynb”**\n",
    "  - Ex) Week02\\_2020123456\\_홍길동.ipynb\n",
    "- You may upload the file without the quiz codes, but it is recommended to solve the quiz as well to prepare for the homeworks and the exam"
   ]
  },
  {
   "cell_type": "markdown",
   "metadata": {},
   "source": [
    "---\n",
    "p29"
   ]
  },
  {
   "cell_type": "markdown",
   "metadata": {},
   "source": [
    "# Quiz"
   ]
  },
  {
   "cell_type": "markdown",
   "metadata": {},
   "source": [
    "### 1. input, while, if\n",
    "- Write a program that continuously inputs numbers(positive integers), and outputs the total counts, sum, and average of the integers.\n",
    "- The program ends when the input is 0."
   ]
  },
  {
   "cell_type": "code",
   "execution_count": 6,
   "metadata": {
    "jupyter": {
     "outputs_hidden": false
    }
   },
   "outputs": [
    {
     "name": "stdout",
     "output_type": "stream",
     "text": [
      "2\n",
      "3\n",
      "4\n",
      "1\n",
      "0\n",
      "Total =  5\n",
      "Sum =  10\n",
      "Average =  2.0\n"
     ]
    }
   ],
   "source": [
    "sum_all = 0\n",
    "count = 0\n",
    "\n",
    "############ Start of your code ############\n",
    "\n",
    "while True:\n",
    "    a = int(input())\n",
    "    count+=1\n",
    "    sum_all+=a\n",
    "    if a == 0:\n",
    "        break\n",
    "\n",
    "\n",
    "\n",
    "\n",
    "\n",
    "############# End of your code #############\n",
    "        \n",
    "print(\"Total = \", count)\n",
    "print(\"Sum = \", sum_all)\n",
    "print(\"Average = \", sum_all/count)\n",
    "        "
   ]
  },
  {
   "cell_type": "markdown",
   "metadata": {},
   "source": [
    "---\n",
    "p30"
   ]
  },
  {
   "cell_type": "markdown",
   "metadata": {},
   "source": [
    "### 2. function, for, list\n",
    "- The temperature (temp) and iced americano sales (sale) have the following relation \n",
    "> `sale = 30.08 * temp - 159.47`  \n",
    "- Define a function to compute above equation\n",
    "- For following list of temps predicted for the next 10 days, make the list of sales(integers) for the next 10 days \n",
    "- Print the sales and average of them"
   ]
  },
  {
   "cell_type": "code",
   "execution_count": 5,
   "metadata": {},
   "outputs": [
    {
     "name": "stdout",
     "output_type": "stream",
     "text": [
      "Sales =  [198.482, 267.66599999999994, 297.746, 333.842, 357.90599999999995, 384.97799999999995, 397.01, 424.0819999999999, 505.298, 520.338]\n",
      "Average =  368.7348\n"
     ]
    }
   ],
   "source": [
    "temps = [11.9, 14.2, 15.2, 16.4, 17.2, 18.1, 18.5, 19.4, 22.1, 22.6]\n",
    "\n",
    "############ Start of your code ############\n",
    "\n",
    "def calculate(temp):\n",
    "    return 30.08 * temp - 159.47\n",
    "\n",
    "sales = []\n",
    "for temp in temps:\n",
    "    sales.append(calculate(temp))\n",
    "\n",
    "\n",
    "\n",
    "############# End of your code #############\n",
    "\n",
    "print('Sales = ', sales)\n",
    "print('Average = ', sum(sales)/len(sales))\n"
   ]
  },
  {
   "cell_type": "markdown",
   "metadata": {},
   "source": [
    "---\n",
    "p31"
   ]
  },
  {
   "cell_type": "markdown",
   "metadata": {},
   "source": [
    "### 3. dictionary  \n",
    "- Change the scores in following dictionary into 'P' (if score >= 70) or 'F' and print the result"
   ]
  },
  {
   "cell_type": "code",
   "execution_count": 3,
   "metadata": {},
   "outputs": [
    {
     "name": "stdout",
     "output_type": "stream",
     "text": [
      "{'Tom': 'F', 'Jane': 'P', 'Bill': 'P', 'Mary': 'F'}\n"
     ]
    }
   ],
   "source": [
    "scores = {\n",
    "    'Tom':60, \n",
    "    'Jane':95, \n",
    "    'Bill':80, \n",
    "    'Mary':55\n",
    "}\n",
    "\n",
    "############ Start of your code ############\n",
    "\n",
    "for person in scores:\n",
    "    if scores[person] >= 70:\n",
    "        scores[person] = 'P'\n",
    "    else:\n",
    "        scores[person] = 'F'\n",
    "\n",
    "\n",
    "\n",
    "\n",
    "############# End of your code #############\n",
    "\n",
    "print(scores)       "
   ]
  },
  {
   "cell_type": "markdown",
   "metadata": {},
   "source": [
    "---\n",
    "p32"
   ]
  },
  {
   "cell_type": "markdown",
   "metadata": {},
   "source": [
    "### 4. class \n",
    "- Create a 'Circle' class that has an attribute 'radius', and a method 'area()' that computes the area of the circle\n",
    "- Create a 'Rectangle' class that has attributes 'width' and 'height', and a method 'area()' that computes the area of the rectangle \n",
    "- Create an instance for each class, and print out the area of each instance. \n",
    "- Set 𝜋 to 3.14."
   ]
  },
  {
   "cell_type": "code",
   "execution_count": 11,
   "metadata": {},
   "outputs": [],
   "source": [
    "############ Start of your code ############\n",
    "# make Circle class\n",
    "from math import pi\n",
    "\n",
    "class Circle():\n",
    "    def __init__(self, radius):\n",
    "        self.radius = radius\n",
    "\n",
    "    def area(self):\n",
    "        return pi*(self.radius)**2 \n",
    "\n",
    "# make Rectangle class\n",
    "class Rectangle():\n",
    "    def __init__(self, width, height):\n",
    "        self.width = width\n",
    "        self.height = height\n",
    "        \n",
    "    def area(self):\n",
    "        return self.width*self.height\n",
    "\n",
    "############# End of your code #############\n",
    "\n",
    "circle = Circle(10)\n",
    "rectangle = Rectangle(20,30)"
   ]
  },
  {
   "cell_type": "code",
   "execution_count": 12,
   "metadata": {
    "jupyter": {
     "outputs_hidden": false
    }
   },
   "outputs": [
    {
     "data": {
      "text/plain": [
       "314.1592653589793"
      ]
     },
     "execution_count": 12,
     "metadata": {},
     "output_type": "execute_result"
    }
   ],
   "source": [
    "circle.area()"
   ]
  },
  {
   "cell_type": "code",
   "execution_count": 13,
   "metadata": {
    "jupyter": {
     "outputs_hidden": false
    }
   },
   "outputs": [
    {
     "data": {
      "text/plain": [
       "600"
      ]
     },
     "execution_count": 13,
     "metadata": {},
     "output_type": "execute_result"
    }
   ],
   "source": [
    "rectangle.area()"
   ]
  },
  {
   "cell_type": "code",
   "execution_count": null,
   "metadata": {},
   "outputs": [],
   "source": []
  }
 ],
 "metadata": {
  "kernelspec": {
   "display_name": "Python 3",
   "language": "python",
   "name": "python3"
  },
  "language_info": {
   "codemirror_mode": {
    "name": "ipython",
    "version": 3
   },
   "file_extension": ".py",
   "mimetype": "text/x-python",
   "name": "python",
   "nbconvert_exporter": "python",
   "pygments_lexer": "ipython3",
   "version": "3.7.1"
  }
 },
 "nbformat": 4,
 "nbformat_minor": 4
}
