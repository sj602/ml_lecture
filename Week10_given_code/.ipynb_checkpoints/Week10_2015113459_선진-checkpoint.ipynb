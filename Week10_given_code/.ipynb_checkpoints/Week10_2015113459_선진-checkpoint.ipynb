{
 "cells": [
  {
   "cell_type": "markdown",
   "metadata": {},
   "source": [
    "# Week10 Learning from Text Data"
   ]
  },
  {
   "cell_type": "markdown",
   "metadata": {},
   "source": [
    "---\n",
    "p6"
   ]
  },
  {
   "cell_type": "markdown",
   "metadata": {},
   "source": [
    "# 1. Preprocessing texts"
   ]
  },
  {
   "cell_type": "markdown",
   "metadata": {},
   "source": [
    "### Load the IMDb movie review data "
   ]
  },
  {
   "cell_type": "code",
   "execution_count": 1,
   "metadata": {},
   "outputs": [
    {
     "data": {
      "text/html": [
       "<div>\n",
       "<style scoped>\n",
       "    .dataframe tbody tr th:only-of-type {\n",
       "        vertical-align: middle;\n",
       "    }\n",
       "\n",
       "    .dataframe tbody tr th {\n",
       "        vertical-align: top;\n",
       "    }\n",
       "\n",
       "    .dataframe thead th {\n",
       "        text-align: right;\n",
       "    }\n",
       "</style>\n",
       "<table border=\"1\" class=\"dataframe\">\n",
       "  <thead>\n",
       "    <tr style=\"text-align: right;\">\n",
       "      <th></th>\n",
       "      <th>review</th>\n",
       "      <th>sentiment</th>\n",
       "    </tr>\n",
       "  </thead>\n",
       "  <tbody>\n",
       "    <tr>\n",
       "      <th>0</th>\n",
       "      <td>In 1974, the teenager Martha Moxley (Maggie Gr...</td>\n",
       "      <td>1</td>\n",
       "    </tr>\n",
       "    <tr>\n",
       "      <th>1</th>\n",
       "      <td>OK... so... I really like Kris Kristofferson a...</td>\n",
       "      <td>0</td>\n",
       "    </tr>\n",
       "    <tr>\n",
       "      <th>2</th>\n",
       "      <td>***SPOILER*** Do not read this, if you think a...</td>\n",
       "      <td>0</td>\n",
       "    </tr>\n",
       "  </tbody>\n",
       "</table>\n",
       "</div>"
      ],
      "text/plain": [
       "                                              review  sentiment\n",
       "0  In 1974, the teenager Martha Moxley (Maggie Gr...          1\n",
       "1  OK... so... I really like Kris Kristofferson a...          0\n",
       "2  ***SPOILER*** Do not read this, if you think a...          0"
      ]
     },
     "execution_count": 1,
     "metadata": {},
     "output_type": "execute_result"
    }
   ],
   "source": [
    "# movie review data\n",
    "import pandas as pd\n",
    "\n",
    "df = pd.read_csv('movie_data.csv', encoding='utf-8')\n",
    "df.head(3)"
   ]
  },
  {
   "cell_type": "code",
   "execution_count": 2,
   "metadata": {},
   "outputs": [
    {
     "data": {
      "text/plain": [
       "(50000, 2)"
      ]
     },
     "execution_count": 2,
     "metadata": {},
     "output_type": "execute_result"
    }
   ],
   "source": [
    "df.shape"
   ]
  },
  {
   "cell_type": "markdown",
   "metadata": {},
   "source": [
    "---\n",
    "p7"
   ]
  },
  {
   "cell_type": "markdown",
   "metadata": {},
   "source": [
    "### Cleaning text data"
   ]
  },
  {
   "cell_type": "code",
   "execution_count": 4,
   "metadata": {},
   "outputs": [
    {
     "data": {
      "text/plain": [
       "'this is a 100 test '"
      ]
     },
     "execution_count": 4,
     "metadata": {},
     "output_type": "execute_result"
    }
   ],
   "source": [
    "# cleaning texts using regular expression\n",
    "import re\n",
    "def preprocessor(text):\n",
    "    text = re.sub(\"<[^>]*>\", \"\", text) # remove <...> (tags)\n",
    "    text = re.sub(\"[\\W]+\", \" \", text)  # remove all non-words\n",
    "    text = text.lower()                # change to lower cases\n",
    "    return text\n",
    "\n",
    "preprocessor(\"</a>This is a $100 TEST!!! ^^\")"
   ]
  },
  {
   "cell_type": "markdown",
   "metadata": {},
   "source": [
    "---\n",
    "p8"
   ]
  },
  {
   "cell_type": "code",
   "execution_count": 5,
   "metadata": {},
   "outputs": [
    {
     "data": {
      "text/plain": [
       "\"OK... so... I really like Kris Kristofferson and his usual easy going delivery of lines in his movies. Age has helped him with his soft spoken low energy style and he will steal a scene effortlessly. But, Disappearance is his misstep. Holy Moly, this was a bad movie! <br /><br />I must give kudos to the cinematography and and the actors, including Kris, for trying their darndest to make sense from this goofy, confusing story! None of it made sense and Kris probably didn't understand it either and he was just going through the motions hoping someone would come up to him and tell him what it was all about! <br /><br />I don't care that everyone on this movie was doing out of love for the project, or some such nonsense... I've seen low budget movies that had a plot for goodness sake! This had none, zilcho, nada, zippo, empty of reason... a complete waste of good talent, scenery and celluloid! <br /><br />I rented this piece of garbage for a buck, and I want my money back! I want my 2 hours back I invested on this Grade F waste of my time! Don't watch this movie, or waste 1 minute of your valuable time while passing through a room where it's playing or even open up the case that is holding the DVD! Believe me, you'll thank me for the advice!\""
      ]
     },
     "execution_count": 5,
     "metadata": {},
     "output_type": "execute_result"
    }
   ],
   "source": [
    "# review 1 text\n",
    "df.loc[1, 'review']"
   ]
  },
  {
   "cell_type": "code",
   "execution_count": 6,
   "metadata": {},
   "outputs": [
    {
     "data": {
      "text/plain": [
       "'ok so i really like kris kristofferson and his usual easy going delivery of lines in his movies age has helped him with his soft spoken low energy style and he will steal a scene effortlessly but disappearance is his misstep holy moly this was a bad movie i must give kudos to the cinematography and and the actors including kris for trying their darndest to make sense from this goofy confusing story none of it made sense and kris probably didn t understand it either and he was just going through the motions hoping someone would come up to him and tell him what it was all about i don t care that everyone on this movie was doing out of love for the project or some such nonsense i ve seen low budget movies that had a plot for goodness sake this had none zilcho nada zippo empty of reason a complete waste of good talent scenery and celluloid i rented this piece of garbage for a buck and i want my money back i want my 2 hours back i invested on this grade f waste of my time don t watch this movie or waste 1 minute of your valuable time while passing through a room where it s playing or even open up the case that is holding the dvd believe me you ll thank me for the advice '"
      ]
     },
     "execution_count": 6,
     "metadata": {},
     "output_type": "execute_result"
    }
   ],
   "source": [
    "# cleaning review 1 text \n",
    "preprocessor(df.loc[1, 'review'])"
   ]
  },
  {
   "cell_type": "markdown",
   "metadata": {},
   "source": [
    "---\n",
    "p9"
   ]
  },
  {
   "cell_type": "markdown",
   "metadata": {},
   "source": [
    "### Processing documents into tokens(English)"
   ]
  },
  {
   "cell_type": "code",
   "execution_count": 7,
   "metadata": {},
   "outputs": [
    {
     "name": "stdout",
     "output_type": "stream",
     "text": [
      "The sun is shining, the weather is sweet, and she likes RUNNING!\n",
      "the sun is shining the weather is sweet and she likes running \n"
     ]
    }
   ],
   "source": [
    "text = 'The sun is shining, the weather is sweet, and she likes RUNNING!'\n",
    "print(text)\n",
    "\n",
    "# cleaning\n",
    "text_prep = preprocessor(text)\n",
    "print(text_prep)"
   ]
  },
  {
   "cell_type": "code",
   "execution_count": 11,
   "metadata": {},
   "outputs": [
    {
     "name": "stdout",
     "output_type": "stream",
     "text": [
      "['The', 'sun', 'is', 'shining', ',', 'the', 'weather', 'is', 'sweet', ',', 'and', 'she', 'likes', 'RUNNING', '!']\n"
     ]
    },
    {
     "name": "stderr",
     "output_type": "stream",
     "text": [
      "[nltk_data] Downloading package punkt to /Users/seonjin/nltk_data...\n",
      "[nltk_data]   Package punkt is already up-to-date!\n"
     ]
    }
   ],
   "source": [
    "# tokenizing\n",
    "import nltk\n",
    "nltk.download('punkt')   # tokenizer\n",
    "\n",
    "text_tokens = nltk.word_tokenize(text)\n",
    "print(text_tokens)"
   ]
  },
  {
   "cell_type": "markdown",
   "metadata": {},
   "source": [
    "---\n",
    "p10"
   ]
  },
  {
   "cell_type": "code",
   "execution_count": 12,
   "metadata": {
    "scrolled": true
   },
   "outputs": [
    {
     "name": "stdout",
     "output_type": "stream",
     "text": [
      "['the', 'sun', 'is', 'shine', 'the', 'weather', 'is', 'sweet', 'and', 'she', 'like', 'run']\n"
     ]
    }
   ],
   "source": [
    "# stemming\n",
    "from nltk.stem.porter import PorterStemmer\n",
    "\n",
    "porter = PorterStemmer()\n",
    "\n",
    "def tokenizer_porter(text):\n",
    "    text_tokens = nltk.word_tokenize(text)\n",
    "    return [porter.stem(word) for word in text_tokens]\n",
    "\n",
    "text_stems = tokenizer_porter(text_prep)\n",
    "print(text_stems)"
   ]
  },
  {
   "cell_type": "markdown",
   "metadata": {},
   "source": [
    "---\n",
    "p11"
   ]
  },
  {
   "cell_type": "code",
   "execution_count": 13,
   "metadata": {},
   "outputs": [
    {
     "name": "stderr",
     "output_type": "stream",
     "text": [
      "[nltk_data] Downloading package stopwords to\n",
      "[nltk_data]     /Users/seonjin/nltk_data...\n"
     ]
    },
    {
     "name": "stdout",
     "output_type": "stream",
     "text": [
      "['i', 'me', 'my', 'myself', 'we', 'our', 'ours', 'ourselves', 'you', \"you're\", \"you've\", \"you'll\", \"you'd\", 'your', 'yours', 'yourself', 'yourselves', 'he', 'him', 'his', 'himself', 'she', \"she's\", 'her', 'hers', 'herself', 'it', \"it's\", 'its', 'itself', 'they', 'them', 'their', 'theirs', 'themselves', 'what', 'which', 'who', 'whom', 'this', 'that', \"that'll\", 'these', 'those', 'am', 'is', 'are', 'was', 'were', 'be', 'been', 'being', 'have', 'has', 'had', 'having', 'do', 'does', 'did', 'doing', 'a', 'an', 'the', 'and', 'but', 'if', 'or', 'because', 'as', 'until', 'while', 'of', 'at', 'by', 'for', 'with', 'about', 'against', 'between', 'into', 'through', 'during', 'before', 'after', 'above', 'below', 'to', 'from', 'up', 'down', 'in', 'out', 'on', 'off', 'over', 'under', 'again', 'further', 'then', 'once', 'here', 'there', 'when', 'where', 'why', 'how', 'all', 'any', 'both', 'each', 'few', 'more', 'most', 'other', 'some', 'such', 'no', 'nor', 'not', 'only', 'own', 'same', 'so', 'than', 'too', 'very', 's', 't', 'can', 'will', 'just', 'don', \"don't\", 'should', \"should've\", 'now', 'd', 'll', 'm', 'o', 're', 've', 'y', 'ain', 'aren', \"aren't\", 'couldn', \"couldn't\", 'didn', \"didn't\", 'doesn', \"doesn't\", 'hadn', \"hadn't\", 'hasn', \"hasn't\", 'haven', \"haven't\", 'isn', \"isn't\", 'ma', 'mightn', \"mightn't\", 'mustn', \"mustn't\", 'needn', \"needn't\", 'shan', \"shan't\", 'shouldn', \"shouldn't\", 'wasn', \"wasn't\", 'weren', \"weren't\", 'won', \"won't\", 'wouldn', \"wouldn't\"]\n"
     ]
    },
    {
     "name": "stderr",
     "output_type": "stream",
     "text": [
      "[nltk_data]   Unzipping corpora/stopwords.zip.\n"
     ]
    }
   ],
   "source": [
    "# stopwords\n",
    "from nltk.corpus import stopwords\n",
    "nltk.download('stopwords')\n",
    "\n",
    "stop = stopwords.words(\"english\")\n",
    "print(stop)"
   ]
  },
  {
   "cell_type": "code",
   "execution_count": 14,
   "metadata": {},
   "outputs": [
    {
     "data": {
      "text/plain": [
       "['sun', 'shine', 'weather', 'sweet', 'like', 'run']"
      ]
     },
     "execution_count": 14,
     "metadata": {},
     "output_type": "execute_result"
    }
   ],
   "source": [
    "# removing stopwords\n",
    "def remove_stopwords(text):\n",
    "    return [w for w in text if w not in stop]\n",
    "\n",
    "text_stems = remove_stopwords(tokenizer_porter(text_prep))\n",
    "text_stems"
   ]
  },
  {
   "cell_type": "markdown",
   "metadata": {},
   "source": [
    "---\n",
    "p12"
   ]
  },
  {
   "cell_type": "markdown",
   "metadata": {},
   "source": [
    "### POS tagging(English)"
   ]
  },
  {
   "cell_type": "code",
   "execution_count": 18,
   "metadata": {},
   "outputs": [
    {
     "name": "stderr",
     "output_type": "stream",
     "text": [
      "[nltk_data] Error loading averaged_perception_tagger: Package\n",
      "[nltk_data]     'averaged_perception_tagger' not found in index\n"
     ]
    },
    {
     "ename": "LookupError",
     "evalue": "\n**********************************************************************\n  Resource \u001b[93maveraged_perceptron_tagger\u001b[0m not found.\n  Please use the NLTK Downloader to obtain the resource:\n\n  \u001b[31m>>> import nltk\n  >>> nltk.download('averaged_perceptron_tagger')\n  \u001b[0m\n  Attempted to load \u001b[93mtaggers/averaged_perceptron_tagger/averaged_perceptron_tagger.pickle\u001b[0m\n\n  Searched in:\n    - '/Users/seonjin/nltk_data'\n    - '/Users/seonjin/anaconda3/nltk_data'\n    - '/Users/seonjin/anaconda3/share/nltk_data'\n    - '/Users/seonjin/anaconda3/lib/nltk_data'\n    - '/usr/share/nltk_data'\n    - '/usr/local/share/nltk_data'\n    - '/usr/lib/nltk_data'\n    - '/usr/local/lib/nltk_data'\n**********************************************************************\n",
     "output_type": "error",
     "traceback": [
      "\u001b[0;31m---------------------------------------------------------------------------\u001b[0m",
      "\u001b[0;31mLookupError\u001b[0m                               Traceback (most recent call last)",
      "\u001b[0;32m<ipython-input-18-a5a6f8917d32>\u001b[0m in \u001b[0;36m<module>\u001b[0;34m\u001b[0m\n\u001b[1;32m      3\u001b[0m \u001b[0mnltk\u001b[0m\u001b[0;34m.\u001b[0m\u001b[0mdownload\u001b[0m\u001b[0;34m(\u001b[0m\u001b[0;34m'averaged_perception_tagger'\u001b[0m\u001b[0;34m)\u001b[0m \u001b[0;31m# POS tagger\u001b[0m\u001b[0;34m\u001b[0m\u001b[0;34m\u001b[0m\u001b[0m\n\u001b[1;32m      4\u001b[0m \u001b[0;34m\u001b[0m\u001b[0m\n\u001b[0;32m----> 5\u001b[0;31m \u001b[0mtagged_text\u001b[0m \u001b[0;34m=\u001b[0m \u001b[0mpos_tag\u001b[0m\u001b[0;34m(\u001b[0m\u001b[0mnltk\u001b[0m\u001b[0;34m.\u001b[0m\u001b[0mword_tokenize\u001b[0m\u001b[0;34m(\u001b[0m\u001b[0mtext_prep\u001b[0m\u001b[0;34m)\u001b[0m\u001b[0;34m)\u001b[0m\u001b[0;34m\u001b[0m\u001b[0;34m\u001b[0m\u001b[0m\n\u001b[0m\u001b[1;32m      6\u001b[0m \u001b[0mtagged_text\u001b[0m\u001b[0;34m\u001b[0m\u001b[0;34m\u001b[0m\u001b[0m\n",
      "\u001b[0;32m~/anaconda3/lib/python3.7/site-packages/nltk/tag/__init__.py\u001b[0m in \u001b[0;36mpos_tag\u001b[0;34m(tokens, tagset, lang)\u001b[0m\n\u001b[1;32m    159\u001b[0m     \u001b[0;34m:\u001b[0m\u001b[0mrtype\u001b[0m\u001b[0;34m:\u001b[0m \u001b[0mlist\u001b[0m\u001b[0;34m(\u001b[0m\u001b[0mtuple\u001b[0m\u001b[0;34m(\u001b[0m\u001b[0mstr\u001b[0m\u001b[0;34m,\u001b[0m \u001b[0mstr\u001b[0m\u001b[0;34m)\u001b[0m\u001b[0;34m)\u001b[0m\u001b[0;34m\u001b[0m\u001b[0;34m\u001b[0m\u001b[0m\n\u001b[1;32m    160\u001b[0m     \"\"\"\n\u001b[0;32m--> 161\u001b[0;31m     \u001b[0mtagger\u001b[0m \u001b[0;34m=\u001b[0m \u001b[0m_get_tagger\u001b[0m\u001b[0;34m(\u001b[0m\u001b[0mlang\u001b[0m\u001b[0;34m)\u001b[0m\u001b[0;34m\u001b[0m\u001b[0;34m\u001b[0m\u001b[0m\n\u001b[0m\u001b[1;32m    162\u001b[0m     \u001b[0;32mreturn\u001b[0m \u001b[0m_pos_tag\u001b[0m\u001b[0;34m(\u001b[0m\u001b[0mtokens\u001b[0m\u001b[0;34m,\u001b[0m \u001b[0mtagset\u001b[0m\u001b[0;34m,\u001b[0m \u001b[0mtagger\u001b[0m\u001b[0;34m,\u001b[0m \u001b[0mlang\u001b[0m\u001b[0;34m)\u001b[0m\u001b[0;34m\u001b[0m\u001b[0;34m\u001b[0m\u001b[0m\n\u001b[1;32m    163\u001b[0m \u001b[0;34m\u001b[0m\u001b[0m\n",
      "\u001b[0;32m~/anaconda3/lib/python3.7/site-packages/nltk/tag/__init__.py\u001b[0m in \u001b[0;36m_get_tagger\u001b[0;34m(lang)\u001b[0m\n\u001b[1;32m    105\u001b[0m         \u001b[0mtagger\u001b[0m\u001b[0;34m.\u001b[0m\u001b[0mload\u001b[0m\u001b[0;34m(\u001b[0m\u001b[0map_russian_model_loc\u001b[0m\u001b[0;34m)\u001b[0m\u001b[0;34m\u001b[0m\u001b[0;34m\u001b[0m\u001b[0m\n\u001b[1;32m    106\u001b[0m     \u001b[0;32melse\u001b[0m\u001b[0;34m:\u001b[0m\u001b[0;34m\u001b[0m\u001b[0;34m\u001b[0m\u001b[0m\n\u001b[0;32m--> 107\u001b[0;31m         \u001b[0mtagger\u001b[0m \u001b[0;34m=\u001b[0m \u001b[0mPerceptronTagger\u001b[0m\u001b[0;34m(\u001b[0m\u001b[0;34m)\u001b[0m\u001b[0;34m\u001b[0m\u001b[0;34m\u001b[0m\u001b[0m\n\u001b[0m\u001b[1;32m    108\u001b[0m     \u001b[0;32mreturn\u001b[0m \u001b[0mtagger\u001b[0m\u001b[0;34m\u001b[0m\u001b[0;34m\u001b[0m\u001b[0m\n\u001b[1;32m    109\u001b[0m \u001b[0;34m\u001b[0m\u001b[0m\n",
      "\u001b[0;32m~/anaconda3/lib/python3.7/site-packages/nltk/tag/perceptron.py\u001b[0m in \u001b[0;36m__init__\u001b[0;34m(self, load)\u001b[0m\n\u001b[1;32m    142\u001b[0m         \u001b[0;32mif\u001b[0m \u001b[0mload\u001b[0m\u001b[0;34m:\u001b[0m\u001b[0;34m\u001b[0m\u001b[0;34m\u001b[0m\u001b[0m\n\u001b[1;32m    143\u001b[0m             AP_MODEL_LOC = 'file:' + str(\n\u001b[0;32m--> 144\u001b[0;31m                 \u001b[0mfind\u001b[0m\u001b[0;34m(\u001b[0m\u001b[0;34m'taggers/averaged_perceptron_tagger/'\u001b[0m \u001b[0;34m+\u001b[0m \u001b[0mPICKLE\u001b[0m\u001b[0;34m)\u001b[0m\u001b[0;34m\u001b[0m\u001b[0;34m\u001b[0m\u001b[0m\n\u001b[0m\u001b[1;32m    145\u001b[0m             )\n\u001b[1;32m    146\u001b[0m             \u001b[0mself\u001b[0m\u001b[0;34m.\u001b[0m\u001b[0mload\u001b[0m\u001b[0;34m(\u001b[0m\u001b[0mAP_MODEL_LOC\u001b[0m\u001b[0;34m)\u001b[0m\u001b[0;34m\u001b[0m\u001b[0;34m\u001b[0m\u001b[0m\n",
      "\u001b[0;32m~/anaconda3/lib/python3.7/site-packages/nltk/data.py\u001b[0m in \u001b[0;36mfind\u001b[0;34m(resource_name, paths)\u001b[0m\n\u001b[1;32m    697\u001b[0m     \u001b[0msep\u001b[0m \u001b[0;34m=\u001b[0m \u001b[0;34m'*'\u001b[0m \u001b[0;34m*\u001b[0m \u001b[0;36m70\u001b[0m\u001b[0;34m\u001b[0m\u001b[0;34m\u001b[0m\u001b[0m\n\u001b[1;32m    698\u001b[0m     \u001b[0mresource_not_found\u001b[0m \u001b[0;34m=\u001b[0m \u001b[0;34m'\\n%s\\n%s\\n%s\\n'\u001b[0m \u001b[0;34m%\u001b[0m \u001b[0;34m(\u001b[0m\u001b[0msep\u001b[0m\u001b[0;34m,\u001b[0m \u001b[0mmsg\u001b[0m\u001b[0;34m,\u001b[0m \u001b[0msep\u001b[0m\u001b[0;34m)\u001b[0m\u001b[0;34m\u001b[0m\u001b[0;34m\u001b[0m\u001b[0m\n\u001b[0;32m--> 699\u001b[0;31m     \u001b[0;32mraise\u001b[0m \u001b[0mLookupError\u001b[0m\u001b[0;34m(\u001b[0m\u001b[0mresource_not_found\u001b[0m\u001b[0;34m)\u001b[0m\u001b[0;34m\u001b[0m\u001b[0;34m\u001b[0m\u001b[0m\n\u001b[0m\u001b[1;32m    700\u001b[0m \u001b[0;34m\u001b[0m\u001b[0m\n\u001b[1;32m    701\u001b[0m \u001b[0;34m\u001b[0m\u001b[0m\n",
      "\u001b[0;31mLookupError\u001b[0m: \n**********************************************************************\n  Resource \u001b[93maveraged_perceptron_tagger\u001b[0m not found.\n  Please use the NLTK Downloader to obtain the resource:\n\n  \u001b[31m>>> import nltk\n  >>> nltk.download('averaged_perceptron_tagger')\n  \u001b[0m\n  Attempted to load \u001b[93mtaggers/averaged_perceptron_tagger/averaged_perceptron_tagger.pickle\u001b[0m\n\n  Searched in:\n    - '/Users/seonjin/nltk_data'\n    - '/Users/seonjin/anaconda3/nltk_data'\n    - '/Users/seonjin/anaconda3/share/nltk_data'\n    - '/Users/seonjin/anaconda3/lib/nltk_data'\n    - '/usr/share/nltk_data'\n    - '/usr/local/share/nltk_data'\n    - '/usr/lib/nltk_data'\n    - '/usr/local/lib/nltk_data'\n**********************************************************************\n"
     ]
    }
   ],
   "source": [
    "# POS tagging\n",
    "from nltk.tag import pos_tag\n",
    "nltk.download('averaged_perception_tagger') # POS tagger\n",
    "\n",
    "tagged_text = pos_tag(nltk.word_tokenize(text_prep))\n",
    "tagged_text"
   ]
  },
  {
   "cell_type": "markdown",
   "metadata": {},
   "source": [
    "---\n",
    "p13"
   ]
  },
  {
   "cell_type": "markdown",
   "metadata": {},
   "source": [
    "### Processing documents into tokens(Korean)"
   ]
  },
  {
   "cell_type": "code",
   "execution_count": 19,
   "metadata": {},
   "outputs": [
    {
     "data": {
      "text/html": [
       "<div>\n",
       "<style scoped>\n",
       "    .dataframe tbody tr th:only-of-type {\n",
       "        vertical-align: middle;\n",
       "    }\n",
       "\n",
       "    .dataframe tbody tr th {\n",
       "        vertical-align: top;\n",
       "    }\n",
       "\n",
       "    .dataframe thead th {\n",
       "        text-align: right;\n",
       "    }\n",
       "</style>\n",
       "<table border=\"1\" class=\"dataframe\">\n",
       "  <thead>\n",
       "    <tr style=\"text-align: right;\">\n",
       "      <th></th>\n",
       "      <th>review</th>\n",
       "      <th>sentiment</th>\n",
       "    </tr>\n",
       "  </thead>\n",
       "  <tbody>\n",
       "    <tr>\n",
       "      <th>0</th>\n",
       "      <td>아 더빙.. 진짜 짜증나네요 목소리</td>\n",
       "      <td>0</td>\n",
       "    </tr>\n",
       "    <tr>\n",
       "      <th>1</th>\n",
       "      <td>흠...포스터보고 초딩영화줄....오버연기조차 가볍지 않구나</td>\n",
       "      <td>1</td>\n",
       "    </tr>\n",
       "    <tr>\n",
       "      <th>2</th>\n",
       "      <td>너무재밓었다그래서보는것을추천한다</td>\n",
       "      <td>0</td>\n",
       "    </tr>\n",
       "  </tbody>\n",
       "</table>\n",
       "</div>"
      ],
      "text/plain": [
       "                              review  sentiment\n",
       "0                아 더빙.. 진짜 짜증나네요 목소리          0\n",
       "1  흠...포스터보고 초딩영화줄....오버연기조차 가볍지 않구나          1\n",
       "2                  너무재밓었다그래서보는것을추천한다          0"
      ]
     },
     "execution_count": 19,
     "metadata": {},
     "output_type": "execute_result"
    }
   ],
   "source": [
    "# Korean movie reviews\n",
    "df_kor = pd.read_csv(\"kor_movie.csv\", encoding='utf-8')\n",
    "df_kor.head(3)"
   ]
  },
  {
   "cell_type": "code",
   "execution_count": 20,
   "metadata": {},
   "outputs": [
    {
     "data": {
      "text/plain": [
       "(200000, 2)"
      ]
     },
     "execution_count": 20,
     "metadata": {},
     "output_type": "execute_result"
    }
   ],
   "source": [
    "df_kor.shape"
   ]
  },
  {
   "cell_type": "code",
   "execution_count": 21,
   "metadata": {},
   "outputs": [
    {
     "data": {
      "text/plain": [
       "'흠...포스터보고 초딩영화줄....오버연기조차 가볍지 않구나'"
      ]
     },
     "execution_count": 21,
     "metadata": {},
     "output_type": "execute_result"
    }
   ],
   "source": [
    "# review 1 text \n",
    "df_kor.loc[1,'review']"
   ]
  },
  {
   "cell_type": "code",
   "execution_count": 22,
   "metadata": {},
   "outputs": [
    {
     "data": {
      "text/plain": [
       "'흠 포스터보고 초딩영화줄 오버연기조차 가볍지 않구나'"
      ]
     },
     "execution_count": 22,
     "metadata": {},
     "output_type": "execute_result"
    }
   ],
   "source": [
    "# cleaning review 1 text \n",
    "preprocessor(df_kor.loc[1,'review'])"
   ]
  },
  {
   "cell_type": "markdown",
   "metadata": {},
   "source": [
    "---\n",
    "p14"
   ]
  },
  {
   "cell_type": "code",
   "execution_count": 24,
   "metadata": {},
   "outputs": [
    {
     "name": "stdout",
     "output_type": "stream",
     "text": [
      "<split() method>\n",
      "['하늘을', '나는', '아름다운', '꿈을', '꾸었습니다!']\n",
      "<Okt word tokenizer>\n",
      "['하늘', '을', '나', '는', '아름다운', '꿈', '을', '꾸었습니다', '!']\n"
     ]
    }
   ],
   "source": [
    "# tokenizing - Okt\n",
    "from konlpy.tag import Okt\n",
    "okt = Okt()\n",
    "\n",
    "text = '하늘을 나는 아름다운 꿈을 꾸었습니다!'\n",
    "\n",
    "# simple split() method is not appropriate\n",
    "print('<split() method>')\n",
    "print(text.split())\n",
    "\n",
    "print('<Okt word tokenizer>')\n",
    "print(okt.morphs(text))"
   ]
  },
  {
   "cell_type": "markdown",
   "metadata": {},
   "source": [
    "---\n",
    "p15"
   ]
  },
  {
   "cell_type": "code",
   "execution_count": 25,
   "metadata": {},
   "outputs": [
    {
     "data": {
      "text/plain": [
       "[('하늘', 'Noun'),\n",
       " ('을', 'Josa'),\n",
       " ('나', 'Noun'),\n",
       " ('는', 'Josa'),\n",
       " ('아름다운', 'Adjective'),\n",
       " ('꿈', 'Noun'),\n",
       " ('을', 'Josa'),\n",
       " ('꾸었습니다', 'Verb'),\n",
       " ('!', 'Punctuation')]"
      ]
     },
     "execution_count": 25,
     "metadata": {},
     "output_type": "execute_result"
    }
   ],
   "source": [
    "# POS tagging (형태소 분석))\n",
    "tagged_text = okt.pos(text)\n",
    "tagged_text"
   ]
  },
  {
   "cell_type": "markdown",
   "metadata": {},
   "source": [
    "---\n",
    "p16"
   ]
  },
  {
   "cell_type": "code",
   "execution_count": 26,
   "metadata": {},
   "outputs": [
    {
     "name": "stdout",
     "output_type": "stream",
     "text": [
      "<Kkma word tokenizer>\n",
      "['하늘', '을', '날', '는', '아름답', 'ㄴ', '꿈', '을', '꾸', '었', '습니다', '!']\n"
     ]
    }
   ],
   "source": [
    "# tokenizing - Kkma\n",
    "from konlpy.tag import Kkma\n",
    "kkma = Kkma()\n",
    "\n",
    "print('<Kkma word tokenizer>')\n",
    "print(kkma.morphs(text))"
   ]
  },
  {
   "cell_type": "code",
   "execution_count": 28,
   "metadata": {},
   "outputs": [
    {
     "data": {
      "text/plain": [
       "[('하늘', 'NNG'),\n",
       " ('을', 'JKO'),\n",
       " ('날', 'VV'),\n",
       " ('는', 'ETD'),\n",
       " ('아름답', 'VA'),\n",
       " ('ㄴ', 'ETD'),\n",
       " ('꿈', 'NNG'),\n",
       " ('을', 'JKO'),\n",
       " ('꾸', 'VV'),\n",
       " ('었', 'EPT'),\n",
       " ('습니다', 'EFN'),\n",
       " ('!', 'SF')]"
      ]
     },
     "execution_count": 28,
     "metadata": {},
     "output_type": "execute_result"
    }
   ],
   "source": [
    "# POS tagging (형태소 분석) - Kkma\n",
    "tagged_text = kkma.pos(text)\n",
    "tagged_text"
   ]
  },
  {
   "cell_type": "markdown",
   "metadata": {},
   "source": [
    "---\n",
    "p17"
   ]
  },
  {
   "cell_type": "code",
   "execution_count": 29,
   "metadata": {},
   "outputs": [],
   "source": [
    "# Stemming\n",
    "def tokenizer_porter_kor(text):\n",
    "    return okt.morphs(text, norm=True, stem=True)"
   ]
  },
  {
   "cell_type": "code",
   "execution_count": 31,
   "metadata": {},
   "outputs": [
    {
     "data": {
      "text/plain": [
       "['하늘', '을', '나', '는', '아름다운', '꿈', '을', '꾸었습니다', '!']"
      ]
     },
     "execution_count": 31,
     "metadata": {},
     "output_type": "execute_result"
    }
   ],
   "source": [
    "# tokenizing only\n",
    "okt.morphs(text)"
   ]
  },
  {
   "cell_type": "code",
   "execution_count": 23,
   "metadata": {},
   "outputs": [
    {
     "data": {
      "text/plain": [
       "['하늘', '을', '나', '는', '아름답다', '꿈', '을', '꾸다', '!']"
      ]
     },
     "execution_count": 23,
     "metadata": {},
     "output_type": "execute_result"
    }
   ],
   "source": [
    "# tokenizing + stemming\n",
    "tokenizer_porter_kor(text)"
   ]
  },
  {
   "cell_type": "code",
   "execution_count": 33,
   "metadata": {},
   "outputs": [
    {
     "data": {
      "text/plain": [
       "['하늘', '나', '꿈']"
      ]
     },
     "execution_count": 33,
     "metadata": {},
     "output_type": "execute_result"
    }
   ],
   "source": [
    "# nouns only\n",
    "okt.nouns(text)"
   ]
  },
  {
   "cell_type": "code",
   "execution_count": 34,
   "metadata": {},
   "outputs": [
    {
     "data": {
      "text/plain": [
       "['아버지', '가방']"
      ]
     },
     "execution_count": 34,
     "metadata": {},
     "output_type": "execute_result"
    }
   ],
   "source": [
    "# 띄어쓰기 오류인 경우도 가능\n",
    "okt.nouns('아버지가방에들어가신다')"
   ]
  },
  {
   "cell_type": "markdown",
   "metadata": {},
   "source": [
    "---\n",
    "p20"
   ]
  },
  {
   "cell_type": "markdown",
   "metadata": {},
   "source": [
    "# 2. Vectorization: the bag-of-words model"
   ]
  },
  {
   "cell_type": "markdown",
   "metadata": {},
   "source": [
    "### Transforming documents into term frequency vectors "
   ]
  },
  {
   "cell_type": "code",
   "execution_count": 38,
   "metadata": {},
   "outputs": [],
   "source": [
    "# vectorize texts - Document-Term Matrix\n",
    "import numpy as np\n",
    "from sklearn.feature_extraction.text import CountVectorizer\n",
    "\n",
    "count = CountVectorizer()\n",
    "\n",
    "docs = np.array([\n",
    "        'The sun is shining',\n",
    "        'The weather is sweet',\n",
    "        'The sun is shining, the weather is sweet, and she likes RUNNING!'])\n",
    "bag = count.fit_transform(docs)"
   ]
  },
  {
   "cell_type": "code",
   "execution_count": 48,
   "metadata": {},
   "outputs": [
    {
     "name": "stdout",
     "output_type": "stream",
     "text": [
      "{'the': 8, 'sun': 6, 'is': 1, 'shining': 5, 'weather': 9, 'sweet': 7, 'and': 0, 'she': 4, 'likes': 2, 'running': 3}\n"
     ]
    }
   ],
   "source": [
    "# vocabulary\n",
    "print(count.vocabulary_)"
   ]
  },
  {
   "cell_type": "code",
   "execution_count": 42,
   "metadata": {},
   "outputs": [
    {
     "name": "stdout",
     "output_type": "stream",
     "text": [
      "[[0 1 0 0 0 1 1 0 1 0]\n",
      " [0 1 0 0 0 0 0 1 1 1]\n",
      " [1 2 1 1 1 1 1 1 2 1]]\n"
     ]
    }
   ],
   "source": [
    "# Document-Term Matrix\n",
    "print(bag.toarray())"
   ]
  },
  {
   "cell_type": "markdown",
   "metadata": {},
   "source": [
    "---\n",
    "p23"
   ]
  },
  {
   "cell_type": "markdown",
   "metadata": {},
   "source": [
    "### Transforming documents into TF-IDF vectors"
   ]
  },
  {
   "cell_type": "code",
   "execution_count": 29,
   "metadata": {
    "collapsed": true
   },
   "outputs": [],
   "source": [
    "np.set_printoptions(precision=2)"
   ]
  },
  {
   "cell_type": "code",
   "execution_count": 45,
   "metadata": {},
   "outputs": [],
   "source": [
    "# vectorize texts - TF-IDF Matrix\n",
    "from sklearn.feature_extraction.text import TfidfVectorizer\n",
    "\n",
    "tfidf = TfidfVectorizer()\n",
    "docs_vector = tfidf.fit_transform(docs)"
   ]
  },
  {
   "cell_type": "code",
   "execution_count": 46,
   "metadata": {},
   "outputs": [
    {
     "name": "stdout",
     "output_type": "stream",
     "text": [
      "{'the': 8, 'sun': 6, 'is': 1, 'shining': 5, 'weather': 9, 'sweet': 7, 'and': 0, 'she': 4, 'likes': 2, 'running': 3}\n"
     ]
    }
   ],
   "source": [
    "# vocabulary\n",
    "print(tfidf.vocabulary_)"
   ]
  },
  {
   "cell_type": "code",
   "execution_count": 47,
   "metadata": {},
   "outputs": [
    {
     "name": "stdout",
     "output_type": "stream",
     "text": [
      "[[0.         0.43370786 0.         0.         0.         0.55847784\n",
      "  0.55847784 0.         0.43370786 0.        ]\n",
      " [0.         0.43370786 0.         0.         0.         0.\n",
      "  0.         0.55847784 0.43370786 0.55847784]\n",
      " [0.33141999 0.39148397 0.33141999 0.33141999 0.33141999 0.25205345\n",
      "  0.25205345 0.25205345 0.39148397 0.25205345]]\n"
     ]
    }
   ],
   "source": [
    "# TF-IDF Matrix (normalized)\n",
    "print(docs_vector.toarray())"
   ]
  },
  {
   "cell_type": "markdown",
   "metadata": {},
   "source": [
    "---\n",
    "p24"
   ]
  },
  {
   "cell_type": "code",
   "execution_count": 49,
   "metadata": {},
   "outputs": [
    {
     "name": "stderr",
     "output_type": "stream",
     "text": [
      "/Users/seonjin/anaconda3/lib/python3.7/site-packages/sklearn/feature_extraction/text.py:300: UserWarning: Your stop_words may be inconsistent with your preprocessing. Tokenizing the stop words generated tokens ['abov', 'ani', 'becaus', 'befor', 'doe', 'dure', 'ha', 'hi', 'onc', 'onli', 'ourselv', 'themselv', 'thi', 'veri', 'wa', 'whi', 'yourselv'] not in stop_words.\n",
      "  'stop_words.' % sorted(inconsistent))\n"
     ]
    }
   ],
   "source": [
    "# vectorize texts - TF-IDF Matrix (with preprocessing, stemming, stopwords)\n",
    "from sklearn.feature_extraction.text import TfidfVectorizer\n",
    "\n",
    "tfidf = TfidfVectorizer(strip_accents=None,\n",
    "                        lowercase=False,\n",
    "                        preprocessor=preprocessor,   # preprocessing\n",
    "                        tokenizer=tokenizer_porter,  # stemming\n",
    "                        stop_words=stop              # removing stopwords\n",
    "                       )\n",
    "docs_vector = tfidf.fit_transform(docs)"
   ]
  },
  {
   "cell_type": "code",
   "execution_count": 51,
   "metadata": {},
   "outputs": [
    {
     "name": "stdout",
     "output_type": "stream",
     "text": [
      "{'sun': 3, 'shine': 2, 'weather': 5, 'sweet': 4, 'like': 0, 'run': 1}\n"
     ]
    }
   ],
   "source": [
    "# vocabulary\n",
    "print(tfidf.vocabulary_)"
   ]
  },
  {
   "cell_type": "code",
   "execution_count": 52,
   "metadata": {},
   "outputs": [
    {
     "name": "stdout",
     "output_type": "stream",
     "text": [
      "[[0.         0.         0.70710678 0.70710678 0.         0.        ]\n",
      " [0.         0.         0.         0.         0.70710678 0.70710678]\n",
      " [0.48148213 0.48148213 0.36617957 0.36617957 0.36617957 0.36617957]]\n"
     ]
    }
   ],
   "source": [
    "# TF-IDF Matrix (normalized)\n",
    "print(docs_vector.toarray())"
   ]
  },
  {
   "cell_type": "markdown",
   "metadata": {},
   "source": [
    "---\n",
    "p25"
   ]
  },
  {
   "cell_type": "code",
   "execution_count": 54,
   "metadata": {},
   "outputs": [
    {
     "name": "stdout",
     "output_type": "stream",
     "text": [
      "tf-idf of term \"is\" = 1.00\n",
      "tf-idf of term \"sun\" = 1.29\n"
     ]
    }
   ],
   "source": [
    "# TFIDF example\n",
    "docs = np.array([\n",
    "        'The sun is shining',\n",
    "        'The weather is sweet',\n",
    "        'The sun is shining, the weather is sweet, and she likes RUNNING!'])\n",
    "n_docs = 3\n",
    "\n",
    "# Tf-Idf score of \"is\" in doc 1\n",
    "tf = 1\n",
    "df = 3\n",
    "idf = np.log((n_docs+1)/(df+1))\n",
    "tfidf = tf * (idf + 1)\n",
    "print('tf-idf of term \"is\" = %.2f' % tfidf)\n",
    "\n",
    "# Tf-Idf score of \"sun\" in doc 1\n",
    "tf = 1\n",
    "df = 2\n",
    "idf = np.log((n_docs+1)/(df+1))\n",
    "tfidf = tf * (idf+1)\n",
    "print('tf-idf of term \"sun\" = %.2f' % tfidf)"
   ]
  },
  {
   "cell_type": "markdown",
   "metadata": {},
   "source": [
    "---\n",
    "p27"
   ]
  },
  {
   "cell_type": "markdown",
   "metadata": {},
   "source": [
    "# 3. Training a model for document classification"
   ]
  },
  {
   "cell_type": "markdown",
   "metadata": {},
   "source": [
    "### Load the IMDb movie review data "
   ]
  },
  {
   "cell_type": "code",
   "execution_count": 55,
   "metadata": {},
   "outputs": [
    {
     "data": {
      "text/html": [
       "<div>\n",
       "<style scoped>\n",
       "    .dataframe tbody tr th:only-of-type {\n",
       "        vertical-align: middle;\n",
       "    }\n",
       "\n",
       "    .dataframe tbody tr th {\n",
       "        vertical-align: top;\n",
       "    }\n",
       "\n",
       "    .dataframe thead th {\n",
       "        text-align: right;\n",
       "    }\n",
       "</style>\n",
       "<table border=\"1\" class=\"dataframe\">\n",
       "  <thead>\n",
       "    <tr style=\"text-align: right;\">\n",
       "      <th></th>\n",
       "      <th>review</th>\n",
       "      <th>sentiment</th>\n",
       "    </tr>\n",
       "  </thead>\n",
       "  <tbody>\n",
       "    <tr>\n",
       "      <th>0</th>\n",
       "      <td>In 1974, the teenager Martha Moxley (Maggie Gr...</td>\n",
       "      <td>1</td>\n",
       "    </tr>\n",
       "    <tr>\n",
       "      <th>1</th>\n",
       "      <td>OK... so... I really like Kris Kristofferson a...</td>\n",
       "      <td>0</td>\n",
       "    </tr>\n",
       "    <tr>\n",
       "      <th>2</th>\n",
       "      <td>***SPOILER*** Do not read this, if you think a...</td>\n",
       "      <td>0</td>\n",
       "    </tr>\n",
       "  </tbody>\n",
       "</table>\n",
       "</div>"
      ],
      "text/plain": [
       "                                              review  sentiment\n",
       "0  In 1974, the teenager Martha Moxley (Maggie Gr...          1\n",
       "1  OK... so... I really like Kris Kristofferson a...          0\n",
       "2  ***SPOILER*** Do not read this, if you think a...          0"
      ]
     },
     "execution_count": 55,
     "metadata": {},
     "output_type": "execute_result"
    }
   ],
   "source": [
    "import pandas as pd\n",
    "\n",
    "df = pd.read_csv('movie_data.csv', encoding='utf-8')\n",
    "df.head(3)"
   ]
  },
  {
   "cell_type": "markdown",
   "metadata": {},
   "source": [
    "---\n",
    "p28"
   ]
  },
  {
   "cell_type": "markdown",
   "metadata": {},
   "source": [
    "### Preprocessing"
   ]
  },
  {
   "cell_type": "code",
   "execution_count": 77,
   "metadata": {},
   "outputs": [
    {
     "data": {
      "text/plain": [
       "(1000,)"
      ]
     },
     "execution_count": 77,
     "metadata": {},
     "output_type": "execute_result"
    }
   ],
   "source": [
    "# use 1000 texts for training and test\n",
    "X_train = df.loc[0:999, 'review'].values\n",
    "y_train = df.loc[0:999, 'sentiment'].values\n",
    "X_test = df.loc[49000:, 'review'].values\n",
    "y_test = df.loc[49000:, 'sentiment'].values\n",
    "\n",
    "X_train.shape"
   ]
  },
  {
   "cell_type": "code",
   "execution_count": 78,
   "metadata": {},
   "outputs": [
    {
     "data": {
      "text/plain": [
       "'In 1974, the teenager Martha Moxley (Maggie Grace) moves to the high-class area of Belle Haven, Greenwich, Connecticut. On the Mischief Night, eve of Halloween, she was murdered in the backyard of her house and her murder remained unsolved. Twenty-two years later, the writer Mark Fuhrman (Christopher Meloni), who is a former LA detective that has fallen in disgrace for perjury in O.J. Simpson trial and moved to Idaho, decides to investigate the case with his partner Stephen Weeks (Andrew Mitchell) with the purpose of writing a book. The locals squirm and do not welcome them, but with the support of the retired detective Steve Carroll (Robert Forster) that was in charge of the investigation in the 70\\'s, they discover the criminal and a net of power and money to cover the murder.<br /><br />\"Murder in Greenwich\" is a good TV movie, with the true story of a murder of a fifteen years old girl that was committed by a wealthy teenager whose mother was a Kennedy. The powerful and rich family used their influence to cover the murder for more than twenty years. However, a snoopy detective and convicted perjurer in disgrace was able to disclose how the hideous crime was committed. The screenplay shows the investigation of Mark and the last days of Martha in parallel, but there is a lack of the emotion in the dramatization. My vote is seven.<br /><br />Title (Brazil): Not Available'"
      ]
     },
     "execution_count": 78,
     "metadata": {},
     "output_type": "execute_result"
    }
   ],
   "source": [
    "X_train[0]"
   ]
  },
  {
   "cell_type": "markdown",
   "metadata": {},
   "source": [
    "---\n",
    "p29"
   ]
  },
  {
   "cell_type": "code",
   "execution_count": 79,
   "metadata": {},
   "outputs": [],
   "source": [
    "# vectorize to TF-IDF Matrix \n",
    "from sklearn.feature_extraction.text import TfidfVectorizer\n",
    "\n",
    "tfidf = TfidfVectorizer(strip_accents=None,\n",
    "                        lowercase=False,\n",
    "                        preprocessor=preprocessor,\n",
    "                        # Below two steps are needed, but it takes long time,\n",
    "                        # so, We'll skip this processes\n",
    "                        #tokenizer=tokenizer_porter,\n",
    "                        #stop_words=stop,\n",
    "                        min_df=0.1,   # ignore terms occured in more than 10% of docs (stop words)\n",
    "                       )\n",
    "\n",
    "X_train_vector = tfidf.fit_transform(X_train)\n",
    "X_test_vector = tfidf.transform(X_test)"
   ]
  },
  {
   "cell_type": "code",
   "execution_count": 80,
   "metadata": {},
   "outputs": [
    {
     "name": "stdout",
     "output_type": "stream",
     "text": [
      "{'viva', 'islanders', 'bilge', 'sensitive', 'ubiquitous', 'itenglish', 'crams', 'chan', 'celebrations', 'scared', 'waltz', 'dollar', 'farrell', 'drunks', 'crass', 'cases', 'blooded', 'shaggy', 'sign', 'specially', '11', 'reciprocates', 'behaving', 'preferably', 'queasy', 'jenkins', 'daddy', 'combatants', 'cardboard', 'civilians', 'sleeping', 'mercenaries', 'peel', 'decided', 'free', 'participants', 'equals', 'gotta', 'permanently', 'danning', 'combine', 'lows', 'fades', 'pisa', 'chiara', 'holographic', 'jeannot', 'torsoed', 'difficult', 'vague', 'earliest', 'skies', 'masse', 'consummate', 'dp', 'couch', 'hutchinson', 'narration', 'atrocity', 'nerdishness', 'taught', 'berenger', 'charged', 'sadly', 'gay', '20th', 'fled', 'depressed', 'cheeky', 'include', 'collusion', 'embroiled', 'mary', 'region', 'mummy', 'disagree', 'reform', 'countdown', 'prosecutor', 'expeditious', 'watered', 'stoic', 'discs', 'powell', 'mood', 'subordinates', 'mohan', 'months', 'riding', 'envied', 'saudi', 'mastering', 'page', 'lansky', 'kevin', 'funnier', 'benning', 'artificially', 'orange', 'cries', 'psalms', 'wholesome', 'willingly', 'tyrannical', 'roadrunner', 'contemplated', 'stuttering', 'bounds', 'disabled', 'succeeed', 'misheard', 'methodically', 'pace', 'spite', 'raid', 'flashes', 'nintendo', 'blessing', 'martin', 'rockythebear', 'maximum', 'amercians', 'creed', 'billionaire', 'tribes', 'fortunes', 'cheque', 'florida', 'righteousness', 'deception', 'nature', 'rarest', 'hygiene', 'denying', 'frickin', 'locationing', 'junior', 'normandy', 'qualify', 'blend', 'paul', 'bother', 'arm', 'safety', 'foggyest', 'layering', 'naturally', 'miata', 'arab', 'buildings', 'solar', 'berkeley', 'goro', 'tiresome', 'imbibed', 'proof', 'constitute', 'finishing', 'airing', 'casimir', 'cargo', 'whiffle', 'diva', 'fatty', 'cursory', 'pursuit', 'transcendent', 'dodgeball', 'ensue', 'scurrying', 'photos', 'heiress', 'plains', 'cutler', 'bopped', 'fourth', 'moes', 'coccio', 'infinitesimal', 'intertwined', 'supreme', 'jour', 'avalon', 'cascading', 'hangover', 'lecter', 'floors', 'cheese', 'inner', 'slink', 'valseuses', 'reconsider', 'states', 'reader', 'hotline', 'palatable', 'enslaved', 'unmitigated', 'gpa', 'glorifies', 'die', 'belhmer', 'derita', 'glossed', 'thumbnail', 'explosive', '90', 'creek', 'son', 'shreds', 'impregnates', 'dickens', 'invited', 'pintilie', 'imaginative', 'joyous', 'sinhue', 'sluts', 'christ', 'patton', 'mason', 'longstanding', 'principle', 'carp', 'bianca', 'humor', 'marvelously', 'downey', 'duane', 'eruption', 'natures', 'prolific', 'completion', 'technicolour', 'deterred', 'outline', 'scorpion', 'holding', 'sum', 'apocalypse', 'unintentional', 'beware', 'simplistic', 'michal', 'harvery', 'sanitized', 'evoked', 'trick', 'grapes', 'taller', 'sorenson', 'h50', 'accompanies', 'infiltrate', 'bustling', 'goriest', 'natural', 'rockets', 'ark', 'rednecks', 'confronted', 'nottingham', 'bull', 'startle', 'coincidentally', 'haruhi', 'lava', 'cattlemen', 'thicker', 'redoubtable', 'futile', 'splendor', 'crashing', 'post', 'wright', 'detour', 'paycheck', 'roebuck', 'competitive', 'burn', 'majesty', 'vigour', 'shortfalls', 'steering', 'patekar', 'weena', 'vadas', 'cock', 'subtext', 'setup', 'slayer', 'vietnam', 'performs', 'rarely', 'bestselling', 'crawly', 'runner', 'irish', 'playmates', 'udo', 'odessa', 'mags', 'koran', 'digs', 'snarling', 'unmoored', 'karras', 'investigators', 'khanna', 'tangential', 'phrase', 'wicked', 'danger', 'uday', 'satisfaction', 'pix', 'nepotism', 'whalley', 'hellman', 'joking', 'charley', 'reporter', 'gains', 'bringing', 'hard', 'rice', 'evolves', 'prison', 'portraying', 'graduated', 'intellectualism', 'sharks', 'relative', 'representing', 'lusting', 'basis', 'awakens', 'vows', 'waylaid', 'horrendous', 'undisputed', 'flee', 'tomas', 'templeton', 'voyage', 'madison', 'tattoo', 'defying', 'affliction', 'skit', 'orator', 'machina', 'ducklings', 'dab', 'yourself', 'maxim', 'gigi', 'meaningless', 'clche', 'oscar', 'pondering', 'massacre', 'failings', 'hippie', 'jeopardy', 'thundercloud', 'led', 'pumpy', 'rastafarian', 'competently', 'weightlessly', 'yeung', 'heather', 'remarks', 'pterodactyl', 'doubtful', 'foresee', 'species', 'portrays', 'crap', 'cicely', 'international', 'joint', 'befuddled', 'immediate', 'hour', 'singer', 'homes', 'keeler', 'deranged', 'hr', 'sand', 'masochists', 'egos', 'panama', 'alike', 'intestines', 'disappearing', 'evelyn', 'incarnations', 'fung', 'formalità', 'chirpy', '16mm', 'pesky', 'snowstorm', 'unimaginably', 'laboratorised', 'sheet', 'shortest', 'less', 'inflicted', 'donaggio', 'gilda', 'seldomely', 'ridicules', 'creation', 'lochary', 'community', 'quit', 'prologue', 'breslin', 'letdown', 'connect', 'threw', 'emilfork', 'pried', 'choosing', 'symbols', 'dreary', 'argued', 'harmful', 'superintendent', 'speechless', 'vivien', 'woronov', 'viewer', 'meeker', 'absurdist', 'jed', 'capturesthis', 'desirable', 'crow', 'mgm', 'suitable', 'uncertainty', 'laps', 'sheriff', 'sanders', 'marshall', 'destruction', 'geoffrey', 'pish', 'weathers', 'vu', 'salman', 'struck', 'mahatma', 'fearing', 'appears', 'surrounded', 'oozy', 'statement', 'imx', 'ukraine', 'macfayden', 'refuses', 'pepi', 'haunts', 'corridors', 'lousy', 'linear', 'boot', 'pawns', 'impact', 'rubber', 'ninotchka', 'promotional', 'seymour', 'gosling', 'office', 'bright', 'santa', 'head', 'preferences', 'kyra', 'anthony', 'ronald', 'enters', 'albeniz', 'ruins', 'squandered', 'predicted', '151', 'hawks', 'hickok', 'joyce', 'turkish', 'plentiful', 'super', 'grin', 'duvall', '911', 'lugosi', 'fargo', 'anus', 'muted', 'ties', 'brauss', 'gcar', 'stereotype', 'caught', 'dear', 'bygone', 'cutout', 'routing', 'evading', 'goody', 'titillating', 'belle', 'sweating', 'ah', 'forthcoming', 'hauls', 'sights', 'wandering', 'direction', 'sequiturs', 'fenway', 'indolent', 'weaving', 'undermine', 'rocked', 'tape', 'respecting', 'overshadows', 'mclaglen', 'expiration', 'eponymous', 'ira', 'studios', 'greats', 'forks', 'nuns', 'massacres', 'makeup', 'willis', 'finally', 'powers', 'turmoil', 'mild', 'rubbery', 'whips', 'hideous', 'inhabitant', 'mountbatten', 'gouged', 'mst3000', 'stir', 'academic', 'government', 'cky', 'embarks', 'paradox', 'subway', 'rendez', 'educational', 'eardrums', 'aural', 'toxie', 'architecture', 'beams', 'consummated', 'worthless', 'prints', 'chi', 'hiphop', 'freighter', 'interurban', 'wismaster', 'slobbishness', 'memorial', 'olympic', 'bhatti', 'nemesis', 'warbucks', 'zombie', 'russia', 'punished', 'staggers', 'striperella', 'execs', 'presume', 'inez', 'silver', 'unanswerable', 'exits', 'adaption', 'dealing', 'spoils', 'rizwan', 'glorious', 'mamoulian', 'provoke', 'hidegarishous', 'captures', '1925', 'refreshingly', 'amply', 'seething', 'elation', 'sank', 'crimelord', 'onscreen', 'roaring', 'ragged', 'unafraid', 'sv', 'case', 'fulfillment', 'ed', 'childhood', 'combines', 'design', 'personals', 'jorgen', 'rumours', 'loathing', 'broaden', 'shoplifting', 'resurgence', 'shinning', 'resistance', 'stoned', 'vanity', 'turns', 'krank', 'poignant', '00am', 'samoilova', 'fort', 'refugees', 'cinemas', 'displayed', 'indispensable', 'plausible', 'sexiest', 'treasha', 'trunk', 'painfully', 'vulcan', 'disturbing', 'drug', 'grinding', 'butler', 'ideas', 'leaders', 'coonskin', 'grandmother', 'edgy', 'anchors', 'cheapness', 'brained', 'luhrman', 'mcphillip', 'sprightly', 'elected', 'sandals', 'respectable', 'teresa', 'inn', 'harshly', 'doc', 'nauseating', 'dram', 'sigh', 'exuberance', 'penultimate', 'goldwyn', 'rapists', 'parrot', 'poopchev', 'reporters', 'uncommunicative', 'manliness', 'ventured', 'doormat', 'unapologetically', 'drawn', 'srebrenica', 'conversationthe', 'cm', 'mole', 'tangled', 'goldman', 'aditya', 'sociopath', 'virgin', 'generation', 'declare', 'hurricanes', 'relief', 'shifting', 'gripping', 'unsatisfactory', 'categories', 'ithaca', 'interviewees', 'trains', 'carving', 'crimes', 'chests', 'outfits', 'mazzello', 'dimwit', 'minority', 'villainess', 'stork', 'picturization', 'semi', 'scuffle', 'bruised', 'solving', 'instances', 'moaned', 'indulged', 'mortician', 'feels', 'ozpetek', 'karloff', 'meter', 'fan', 'kristophersson', 'fitfully', 'lackawana', 'condemned', 'educate', 'upfront', 'greene', 'heston', 'donner', 'measured', 'haphazard', 'medication', 'astound', 'rental', 'fari', 'gravel', 'levels', 'barreto', 'oregon', 'wichita', 'heavens', 'mericals', 'scriptors', 'various', 'already', 'deeply', 'contracts', 'downfall', 'sporadically', 'steps', 'occassionaly', 'fe', 'scars', 'gambler', 'toth', 'drawback', 'unknown', 'gung', 'flyfishing', 'musician', 'arnold', 'hallucinogenic', 'buñuel', 'posed', 'standards', 'curio', 'morgue', 'heist', 'concept', 'sobiesky', 'ibiza', 'burt', 'rolls', 'python', 'beside', 'barb', 'unequipped', 'anywhere', 'fright', 'announced', 'whistle', 'cabo', 'duckling', 'owner', 'ishq', 'dexter', 'embarrassly', 'spins', 'wrestler', 'jeffersons', 'silk', 'tina', 'resersal', 'notting', 'damper', 'hear', 'chaotic', 'structure', '39', 'produced', 'enthusiasm', 'mausoleum', 'scrolling', 'rare', 'thoughts', 'intrinsic', 'dollars', 'numbingly', 'mingled', 'embodiment', 'vietnamese', 'eleni', 'domergue', 'acre', 'taylor', 'rumpled', 'souvenir', 'anger', 'masao', 'overacts', 'unequivocal', 'tattoe', 'replace', 'khleo', 'largest', 'sheridan', 'sciences', 'awkwardness', 'predictable', 'meat', 'materialistic', 'grandpa', 'marilyn', 'unlikable', 'lovesickness', 'nonsensical', 'input', 'logs', 'gooding', 'blasphemous', 'kruger', 'darr', 'complaints', 'dickish', 'effect', 'stylised', 'tended', 'randy', 'cattle', 'wrote', 'hudson', 'assured', 'grape', 'direct', 'payton', 'richardson', 'koichi', 'telemachus', 'webb', 'exhibited', 'constable', 'toward', '21st', 'filled', 'arabic', 'avoid', 'harrowing', 'conclude', 'prevents', 'reno', 'pratfalls', 'noon', 'plugged', 'patriot', 'bottom', 'oasis', 'effective', 'complement', 'fought', 'bombings', 'thet', 'sandy', 'anjelica', 'provided', 'asahi', 'eventually', 'sausage', 'disappointingly', 'baying', 'gates', 'diverged', 'joanne', 'everywhere', 'whisky', 'chad', 'refuse', 'trademarks', 'lookalike', 'bombed', 'blurs', 'colonial', 'chained', 'healthier', 'suspiciously', 'offers', 'lose', 'ogata', 'dancer', 'ott', 'parisian', 'cree', 'anime', 'sixpence', 'midgets', 'billed', 'blazing', 'gould', 'ineffectual', 'font', 'knitting', 'êxtase', 'six', 'africa', 'importantly', 'stepsisters', 'titled', 'reachindia', 'quits', 'iraqis', 'costello', 'huff', 'tribunal', 'union', 'youngest', 'combination', 'pitfalls', 'occupation', 'forgiven', 'peculiarities', 'goosebumps', 'supply', 'gossip', 'ehrenwort', '27', 'picaresque', 'carrying', 'fools', 'rag', 'imagining', 'satiric', 'seance', 'organ', 'mcsorley', 'nva', 'silly', 'pulp', 'filmde', 'frantisek', 'tributes', 'uwe', 'arsenal', 'indian', 'immune', 'bus', 'milquetoast', 'presentation', 'communicator', 'compromise', 'devices', 'youth', 'endowed', 'cel', 'dose', 'investigation', 'jersey', 'oaf', 'mind', 'hayworth', 'reactions', 'canal', 'myopic', 'claiming', 'newly', 'nikolett', 'pill', 'headless', 'flounder', 'inanimate', 'puzzle', 'hijacked', 'revolves', 'glittering', 'targeted', 'sergio', 'eden', 'overdone', 'temporal', 'undergrowth', 'explores', 'scantily', 'bobb', 'carr', 'miami', 'seagal', 'economic', 'trancers', 'honed', 'quess', 'elite', 'luxurious', 'booed', 'exposure', 'soaring', 'waterfall', 'capano', 'bob', 'commit', 'monty', 'divided', 'sinatra', 'whinging', 'herbert', 'tormentor', 'mothers', 'travel', 'bestowed', 'duos', 'pic', 'tuning', 'amateurs', 'tossing', 'obsessively', 'locals', 'pens', 'discarded', 'grills', 'samurais', 'vases', 'pigeon', 'documentary', 'pathology', 'morrissey', 'curled', 'drugstore', 'aka', 'abit', 'ravenous', 'sat', 'levies', 'masked', 'ish', 'whip', 'expedition', 'thug', 'automatics', 'toby', 'corbucci', 'cynicism', 'pals', 'barefoot', 'busying', 'joyously', 'burst', 'jarvis', 'faded', 'perversions', 'warning', 'fire', 'esha', 'fanatics', 'braveheart', 'follow', 'chops', 'groundwork', 'sim', 'crossed', 'grounds', 'fumbled', 'unvarying', 'wind', 'rumor', 'eliminating', 'blasts', 'atkinson', 'resuming', 'destiny', 'remark', 'eugene', 'written', 'le', 'celebrated', 'ingeniously', 'quake', 'composition', 'fahey', 'valse', 'skip', 'arctic', 'antonioni', 'farley', 'dress', 'plain', 'introduce', 'retested', 'mindless', 'location', 'nina', 'apathy', '51', 'lego', 'passengers', 'negoda', 'misogynist', 'paintings', 'barber', 'dowdy', 'teddy', 'blessed', 'marie', 'yancy', 'falfa', 'bullet', 'charmless', 'giorgio', 'exoticism', 'larry', 'inability', 'malaise', 'innocently', 'heavenly', 'atmospheric', 'earns', 'cinemagic', 'sashi', 'fund', 'menaces', 'uncontrollable', 'beverages', 'fave', 'cecil', 'offered', 'argentinian', 'tension', 'tasteful', 'operation', 'ravenna', 'fritter', 'twinkle', 'terrorized', 'diaries', 'unlike', 'deservedly', 'star', 'virgnie', 'piovani', 'cropped', 'x5', 'angelopoulos', 'innuendo', 'hardship', 'policy', 'cache', 'vocabulary', 'walker', 'marrying', 'morte', 'words', 'posh', 'macabre', 'horsepower', 'jai', 'kindly', 'adultery', 'ours', 'attire', 'contractual', 'wreck', 'thompson', 'seas', 'seasons', 'loincloth', 'bless', 'house', 'effort', 'mobile', 'father', 'lifeless', 'commands', 'hoists', 'aubrey', 'unattainable', 'cited', 'denied', 'syrupy', 'lsd', 'sidewalk', 'enter', 'unmotivated', 'robbed', 'erupting', 'ritter', 'brak', 'rush', 'abandonment', 'college', 'pinkly', 'secretes', 'suggest', 'pizza', 'auld', 'account', 'anagram', 'features', 'bomber', 'tease', 'daniel', 'transparent', 'automobiles', 'sinks', 'attracted', 'scimitar', 'rabidly', 'yuk', 'pretends', 'prospero', 'kasugi', 'equivalent', 'communicates', 'bosco', 'vohrer', 'shop', 'guidance', 'definitive', 'wheels', 'poets', 'asks', 'velly', 'darndest', 'trailers', 'dovey', 'methods', 'dialogs', 'synchronization', 'exist', 'sloppiness', 'stunts', 'aided', 'minium', 'reverand', 'phillip', 'catalani', 'pushing', 'pose', 'denier', 'loch', 'entire', 'helmed', 'ordinarily', 'th', 'clutters', 'trashings', 'tobey', 'tied', 'fetch', 'plan', 'captivating', 'brogue', 'disorienting', 'milner', 'lakawanna', 'unsympathetic', 'bout', 'jagger', 'causes', 'torturous', 'aphrodite', 'rostov', 'imagine', 'hogging', 'elya', 'leroy', 'shuttle', 'grenades', 'definite', 'harry', 'keach', 'paraphrasing', 'sematarty', 'policeman', 'afi', 'ample', 'predilection', 'kaaren', 'morons', 'stock', 'complexities', 'qualities', 'bills', 'employing', '1960', 'wormhole', 'stiles', 'hackman', 'mufflers', 'attempting', 'partly', 'goofs', 'theatrically', 'czech', 'marketing', 'fencing', 'depiction', 'aged', 'denigrate', 'developments', 'mr', 'captive', 'installment', 'curls', 'mindlessly', 'fever', 'slot', 'generic', 'blaspheming', 'gidwani', 'pick', 'writhing', 'totalled', 'directv', '1968', 'macanally', 'unerring', 'subtexts', 'tones', 'widows', 'contradictory', 'oppie', 'disdainfully', 'rankin', 'worrying', 'animations', 'wong', 'half', 'artful', 'timetrivia', 'el', 'beard', 'brought', 'maids', 'theological', 'restructuring', 'malley', 'forgets', 'craved', 'garner', 'perfectly', 'illustrate', 'scarier', 'tales', 'appreciation', 'colin', '1955', 'wrathful', 'italia', 'beep', 'moment', 'monster', 'moriarty', 'beefy', 'carlin', 'zanni', 'soulless', 'hectic', 'thieves', 'haysbert', 'westbridge', 'listing', 'bardot', 'brazil', 'supporting', 'faulted', 'obtaining', 'bits', 'layered', 'responses', 'mammoth', 'regards', 'incidental', 'avenge', 'anachronistic', 'ambassador', 'wailing', 'arvanitis', 'protracted', 'gandhi', 'host', 'ally', 'argentinians', 'lay', 'expeditiously', 'transfers', 'ipale', 'ridiculous', 'gunplay', 'charmings', 'bands', 'embarrass', 'leigh', 'overdue', 'sergeant', 'spun', 'simulates', 'heartless', 'spitting', 'coupled', 'suckers', 'choice', 'mercer', 'nightmares', 'instance', 'procrastination', 'drenched', 'wills', 'raines', 'referred', 'darling', 'vital', 'products', 'lester', 'dealer', 'wonderously', 'lurking', 'murky', 'orhal', 'shops', 'leap', 'eightes', 'dealings', 'jamestown', 'emotionally', 'wove', 'goof', 'cream', 'brevity', 'confine', 'technique', 'sleepers', 'manufactured', 'kidnappers', 'easygoing', 'extending', 'furst', 'fragmented', 'concluded', 'rotten', 'dependent', 'ashley', 'vamsi', 'accepted', 'cheat', 'mazzucato', 'rots', 'awakening', 'wwi', 'duchess', 'depression', 'expects', 'shemp', 'hopefully', 'foul', 'superlatives', 'objective', 'speech', 'snob', 'explained', 'kindness', 'interpretation', 'incestuous', 'maiden', 'maple', 'zany', 'proving', 'sliders', 'pragmatic', 'raped', 'deliver', 'narrator', 'whisperer', 'libra', 'atheist', 'fiction', 'curses', 'groin', 'smoking', 'imaginable', 'ache', 'tent', 'bet', 'row', 'scenic', 'paternal', 'un', 'nerd', 'poverty', 'float', 'unfaithful', 'swell', 'spat', 'geographically', 'victorian', 'undesirable', 'superheroes', 'contain', 'try', 'cerkassov', 'moreover', 'depressive', 'determined', 'alamos', 'study', 'security', 'extravaganzas', 'buck', 'release', 'swinging', 'deviants', 'burdock', 'active', 'findings', 'pilot', 'montossé', 'truman', 'beggar', 'wonderfully', 'unfathomable', 'puppet', 'losers', 'downright', 'overall', 'hoot', 'enhancers', 'slugging', 'overcoat', 'afterthought', 'faceman', 'kitchen', 'skeleton', 'advise', 'wonder', 'showcase', 'arrived', 'baveas', 'cameo', 'screamer', 'blowing', 'ball', 'peru', 'fuller', '1931', 'fade', 'lesley', 'theron', 'environment', 'chummy', 'appreciate', 'exchanged', 'whistling', 'twists', 'haunting', 'mph', 'fields', 'difficulty', 'monsters', 'saved', 'gushing', 'slipstream', 'carras', 'stated', 'cents', 'propers', 'choreographed', 'empathy', 'hiding', '500', 'scalding', 'puked', 'marketplaces', 'nations', 'demonstrative', 'nastiness', 'influenced', 'retain', 'exectution', 'condemnation', 'crocodiles', 'shia', 'recognizable', 'mountain', 'definetely', 'doom', 'luise', 'havent', 'works', 'piano', 'tae', 'coaster', 'canted', 'townspeople', 'usa', 'codename', 'dispatched', 'outrage', 'dead', 'snobs', 'session', 'pisttolero', 'depicts', 'toad', 'thier', 'catapulting', 'lowbrow', 'lassitude', 'correlation', 'lohan', '25yrs', 'voight', 'boardman', 'rings', 'playwright', 'ngyuen', 'doone', 'zorak', 'oysters', 'selfish', 'hari', 'kaif', 'kissed', 'harlot', 'progressively', 'concentrating', 'hendrix', 'foam', 'conflicted', 'transylvania', 'leave', 'vrs', 'glover', 'superstar', 'organize', 'root', 'sniffling', 'offer', 'opulent', 'crowning', 'sunrise', 'nut', 'uncertain', 'untouched', 'vermont', 'impulses', 'jewels', 'laroque', 'resplendent', 'azaria', 'scenario', 'goldblum', 'notion', 'huuuuuge', 'hub', 'simpler', 'robbers', 'sort', 'conceived', 'treading', 'reached', 'melanie', 'trampling', 'bricusse', 'insist', 'anglo', 'sums', 'witty', 'enhance', 'esquire', 'ted', 'thirty', 'encompassing', 'calls', 'folding', 'morroco', 'biggest', 'smart', 'venezia', 'bronenosets', 'timid', 'delinquents', 'concerning', 'switzerland', 'trio', 'newsman', 'committed', 'colleague', 'undeserving', 'against', 'costner', 'gasping', 'duh', 'pummel', 'hoping', 'coffees', 'breck', 'spectators', 'exeter', 'meryl', 'health', 'dervish', 'dejected', 'tempo', 'hawaiian', 'pearl', 'pirates', 'alls', 'flix', 'prey', 'refers', 'cubes', 'shouldn', 'nimble', 'communication', 'court', 'begging', 'connected', 'mask', 'lorna', 'nine', 'rewarding', 'am', 'fierce', 'sustained', 'purchased', 'assessment', 'mouthful', 'executes', 'tenderfoot', 'mc', 'alan', 'indecipherable', 'championships', 'driver', 'backstage', 'lens', 'mancini', 'abysmal', 'cellmate', 'indescribable', 'prevention', 'straightforward', 'melas', 'eduardo', 'eldest', 'personal', 'israelites', 'otto', 'miracles', 'tati', 'gathers', 'hellenic', 'holds', 'pants', 'du', 'matched', 'outright', 'van', 'packet', 'waterston', 'torah', 'genre', 'kimberly', 'unrealistic', 'gossamer', 'costuming', 'spewing', 'hartmann', 'deriguer', 'candidates', 'nursing', 'applaud', 'intercedes', 'member', 'jorma', 'intruders', 'trimming', 'choreography', 'tapped', 'performer', 'spots', 'abo', 'stadium', 'ooze', 'light', 'disappointed', 'seemed', 'osment', 'proper', 'sammy', 'smiling', 'perhaps', 'patting', 'amsterdam', 'operator', 'bribe', 'term', 'relying', 'prussian', 'profanity', 'titta', 'obtrusive', 'lealand', 'macht', 'crises', 'fornication', 'survey', 'heinous', 'bartender', 'vice', 'care', 'dale', 'trim', 'davies', 'overshooting', 'directly', 'raising', 'incorrectly', 'smacked', 'dressed', 'empty', 'adore', 'prominent', 'aerial', 'relaxing', 'airliner', 'summanen', 'imitation', 'platte', 'crystallises', 'paddy', 'intelligent', 'assisting', 'seem', 'starvation', 'akshaye', 'resurrected', 'notice', 'kralik', 'material', 'throes', '180s', 'snicker', 'zhi', 'afternoon', '1940', 'incomprehensible', 'silliest', 'seducing', 'sir', 'titular', 'hailed', 'outspoken', 'spoken', 'hooligan', 'philipe', '74', 'plead', 'bosnia', 'contra', 'adapting', 'confront', 'portrayals', 'paper', 'joss', 'technigolour', 'heaven', 'brazilian', 'entirely', 'whatsoever', 'cursing', 'montecito', 'wigs', 'transferred', 'camcorder', 'berger', 'trusted', 'allegedly', 'idiot', 'jaffar', 'sufficiently', 'romulans', 'óli', 'somethihng', 'zoomed', 'pupils', 'morbid', 'wildey', 'telling', 'detect', 'lecture', 'sounding', 'asthma', 'painless', 'hyeon', '13th', 'torches', 'lola', 'halfway', 'noises', 'laundered', 'puted', 'inspiration', 'cautious', 'hodgepodge', 'programmable', 'nazies', 'outta', 'crowded', 'socio', 'vast', 'nyc', 'rubberized', 'unit', 'chèvre', 'newcomer', 'hair', 'optimistic', 'hank', 'luke', 'da', 'ceiling', 'manageable', 'sickly', 'peers', 'enterprise', 'snoopy', 'courts', 'suppose', 'eclectic', 'comtemporary', 'oversexed', '3000', 'palestine', 'exclusively', 'plus', 'unedited', 'sabu', 'crust', 'infecting', 'ami', 'giggler', 'execution', 'wallow', 'simply', 'matinee', 'distrust', 'notions', '1979', 'humming', 'observed', 'monorail', 'spaghetti', 'wartime', 'rider', 'shifty', 'versacorps', 'washington', 'dong', 'sided', 'unanswered', '1945', 'mensonges', 'shane', 'dearly', 'constraints', 'incorporate', 'improves', 'herself', 'goo', 'sicker', 'helmets', 'meetings', 'pixar', 'vibrations', 'changed', 'handle', 'activates', 'hallie', 'bobbi', 'worst', 'guðmundsson', 'masterwork', 'helen', 'swallowing', 'cohesion', 'unpatriotic', 'smooth', 'judy', 'detest', 'invokes', 'captions', 'behavior', 'determination', 'miserably', 'demanding', 'rosalie', 'fuckland', 'quint', 'promoted', 'cro', 'thrice', 'twin', 'en', 'pita', 'weather', 'sticked', 'visconti', 'stéphanois', 'impuissant', 'assertive', 'gleaming', 'broad', 'stalag', 'promos', 'indigenous', 'negulesco', 'families', 'resort', 'designs', 'retelling', 'gaggle', 'stalin', 'frustrate', '20s', 'inventions', 'ruzowitzky', 'hum', 'ismail', 'courtney', 'disconcerting', 'teens', 'rundown', 'imitating', 'wolves', 'favelas', 'oblivion', 'woke', 'stepped', 'fernando', 'robes', 'starring', 'tackle', 'forrest', 'beau', 'breaking', 'er', 'flatness', 'prevalent', 'nominated', 'boundary', 'missiles', 'tediously', 'russoholds', 'wan', 'intercourse', '79', 'chandler', 'prune', 'mustn', 'etc', 'natives', 'afghanistan', 'originalvision', 'dub', 'dancers', 'defunct', 'throbbing', 'cathryn', 'excess', 'thespians', '666', 'ambitious', 'michel', 'breaks', 'jion', 'interested', 'restoration', 'receipt', 'laughs', 'lovestruck', 'sceptical', 'salaried', 'interval', 'blackmail', 'translation', 'sole', 'correction', 'standing', 'worked', 'classes', 'prior', 'backhanded', 'toughen', 'inadvertently', 'idiots', 'hugely', 'sassy', 'rourke', 'horsemanship', 'needlessly', 'newhart', 'whoville', 'claudel', 'collects', 'hoagy', 'mach', 'flick', 'getaway', 'screamed', 'thriller', 'cheek', 'viewable', 'sanctifies', 'choking', 'neighborhood', 'nero', '102', 'prudish', 'insulate', 'multiple', 'intriguing', 'interests', 'scifi', 'wildly', 'christopher', 'insipid', 'beatings', 'shy', 'milkwoman', 'presentable', 'bhat', 'intentioned', 'nefer', 'becoming', 'spot', 'owning', 'phelps', 'investment', 'doors', 'concealed', 'capitol', 'funds', 'discharged', 'rizzo', 'official', 'overcame', 'lend', 'chronological', 'calvin', 'jung', 'gulliver', 'godard', 'volunteering', 'paulina', 'somewhat', 'junt', 'actorsand', 'materials', 'teamwork', 'fizzy', 'mechanical', 'berry', 'terms', 'icky', 'macdowell', 'mining', 'staircases', 'reveal', 'mow', 'outer', 'nosferatu', 'displeasure', 'impacting', '1989', 'obnoxious', 'magazines', 'poodle', 'luminous', 'stitches', 'constellations', 'exceeded', 'japan', 'lau', 'finaly', 'prosecution', 'unmistakably', 'slip', 'costar', 'signed', 'heritage', 'intended', 'kay', '1967', 'necks', 'softening', 'contributing', 'editions', 'ww1', 'ochre', 'stars', 'drink', 'apology', 'control', 'leskin', 'soo', 'animatrix', 'bras', 'east', 'selection', 'peggy', 'administrator', 'peculiar', 'turnpike', 'dump', 'greg', 'quirk', 'cagily', 'smile', 'speak', 'advertised', 'dummy', 'framed', 'freud', 'raindrops', 'crooks', 'theatregoers', 'hurtling', 'screwing', 'tacky', 'shed', 'neptunefew', 'spindly', 'terminator', 'child', 'action', 'wants', 'resolved', 'jedis', 'mirage', 'lerman', 'hairspray', 'asia', 'napalm', 'planted', 'translates', 'victor', 'dwindling', 'observing', 'angular', 'unflattering', 'ski', 'heck', 'cazenove', 'token', 'paperclip', 'fedora', 'wet', 'crook', 'mankind', 'exit', 'bureaucrats', 'lends', 'tom', 'trenches', 'schmuck', 'partnership', 'executed', 'commitment', 'inappropriate', 'atomic', 'exploration', 'fluff', 'ringing', 'wtc', 'incredulity', '_apocalyptically', 'memo', 'halloweens', 'burgomeister', 'sullivan', 'containers', 'tarzan', 'hypnotic', 'tragicomedy', 'rex', 'suck', 'timers', 'philosophic', 'slightest', 'village', 'earnestly', 'challenging', 'dingy', 'battlespace', 'rivaled', 'zoe', 'sleeves', 'dated', '101', 'mecca', 'tormented', 'demi', 'musicality', 'specifications', 'mare', 'horemheb', 'eventual', 'reasoning', 'gail', 'ripley', 'vegetation', 'wider', 'mum', '1927', 'insecure', 'occur', 'heavily', 'natch', 'reappear', 'disorganized', 'philosophize', 'badlands', 'bueller', 'lure', 'meek', 'chic', 'antidote', 'obsolete', 'sachar', 'madly', 'premises', 'batman', 'paulyn', 'produce', 'hillbillys', 'rips', 'finland', 'technological', 'cappie', 'sleepaway', 'andrei', 'maclane', 'recreating', 'farmer', 'peppard', 'sholay', 'northern', 'rat', 'screeches', 'boris', 'anoscar', 'sonny', 'ramones', 'suburban', 'emphasize', 'focus', 'assigns', 'bank', 'forgiveness', 'britta', 'studied', 'bordeaux', 'hides', 'excited', 'blaxploitation', 'freaked', 'supercop', 'festivals', 'helicopter', '98', 'cracks', 'spoofy', 'trench', 'royally', 'admirable', '21', 'bunny', 'doce', 'series', 'drugs', 'prostitution', 'unsophisticated', 'zigzag', 'gaunt', 'irksome', 'derelict', 'melnick', 'qualified', 'ebay', 'freaking', 'ladies', 'jules', 'hackneyed', 'travelling', 'weismuller', 'woman', 'lesbians', 'appropriately', 'golino', 'nonchalant', 'asked', 'recognized', 'rhyme', 'shocking', 'annoyingly', 'reunite', 'ron', 'continued', 'grisby', 'tons', 'der', 'stomping', 'gustav', 'glitzy', 'creeps', 'conscripts', 'hoppitygoes', 'someday', 'spotlight', 'glitch', 'sandbagged', 'investigates', 'moronic', 'uniformly', 'opposite', 'sentiments', 'shtoop', 'peak', 'insurance', 'congrats', '1981', 'patriotism', 'graham', 'marbles', 'extolling', 'bobbled', 'jarring', 'factual', 'felix', 'lover', '90s', 'mvp', 'gardner', 'screams', 'puts', 'psychiatric', 'supports', 'blues', 'technician', 'indulges', 'swayed', 'bender', 'attempted', 'golden', 'gloria', 'mistreated', 'diatribes', 'compassion', 'mad', 'unkempt', 'sridevi', 'tropical', 'ticket', 'possibilities', 'backing', 'thwart', 'seesaw', 'falkland', 'harkens', 'exploitation', 'impossible', 'accusing', 'kin', 'unclothed', 'workout', 'arent', 'psychology', 'gravely', 'bored', 'fray', 'uncle', 'priceless', 'promptly', 'surroundings', 'localized', 'enrique', 'high', 'palpable', 'cates', 'reviewing', 'evaporated', 'fallon', '25', 'victoria', 'alarm', 'madnesses', 'exposing', 'parker', 'villains', 'shoulder', 'contrived', 'mussolini', 'architect', 'steven', 'musalman', 'dramas', 'matlock', 'mario', 'universally', 'assure', 'france', 'reflects', 'addison', 'dam', 'garous', 'thats', 'brawl', 'torch', 'wait', 'volnay', 'barring', 'decor', 'ghraib', 'mart', 'rains', 'climbs', 'moreau', 'frantic', 'embarrassing', 'darkest', 'gangs', 'bigotry', 'maggie', 'accessible', 'plinky', 'aircraft', 'slash', 'tommy', 'internalizing', 'sharply', 'interference', 'punishment', 'dies', 'saul', 'threaten', 'positives', 'promote', 'serve', 'countless', 'perspectives', 'operating', 'inferring', 'circle', 'backseat', 'bacon', 'vivek', 'marvelous', 'collectors', 'cells', 'accents', 'outrageous', 'superfluous', 'breathnach', 'charmingly', 'stylistic', 'masts', 'listening', '1950', 'hunts', 'sean', 'ucsb', 'eehaaa', 'blackout', 'lab', 'tribute', 'hoffman', 'slicing', 'servillo', 'enlightment', 'frenzy', 'endurance', 'dieter', 'squid', 'cunningham', 'backfires', 'illustrated', 'anemic', 'weddings', 'cave', 'defeated', 'carnage', 'enormously', 'gunshot', 'squeamish', 'mastershot', 'ultimately', 'aren', 'united', 'trotted', 'prehistoric', 'stairs', 'supported', 'surrounds', 'tenchi', 'monumental', 'cheesy', 'tornado', 'cushions', 'proletarian', 'bold', '28', 'parked', 'mean', 'nu', 'tully', 'jaws', 'clark', 'coward', 'humbug', 'doggish', 'loyal', 'dazzling', 'flatly', 'ammunition', 'idea', 'manages', 'shouted', 'scrap', 'diagnosis', 'distribute', 'sorority', 'waiting', 'machine', 'bun', 'scattered', 'books', 'revived', 'greener', 'february', 'mann', 'critical', 'protégé', 'monotheistic', 'undertones', 'slipping', 'dalliance', 'domestic', 'tongue', 'shearer', 'afford', 'pixilated', 'arghh', 'issued', 'conscious', 'breton', 'englishman', 'coerce', 'metres', 'saharan', 'mockumentary', 'eager', 'lear', 'peanut', 'tenuously', 'gwyneth', 'unattractive', 'puritanical', 'defiance', 'sincerity', 'madhuri', 'outside', 'carradine', 'watcher', '14', 'interest', 'roulette', 'steeped', 'looped', 'noteworthy', 'possibly', 'propaganda', 'views', 'rogers', 'covenant', 'ambiguity', 'contemplate', 'carla', 'elliot', 'burdened', 'bloodthirsty', 'szwarc', 'recitation', 'rita', 'grenade', 'happened', 'coasted', 'aback', 'created', 'vocalisations', 'dreamy', 'exquisite', 'macneille', 'tunes', 'unwary', 'adenoid', 'befitting', 'spoilt', 'human', 'swamps', 'conspicuous', 'harlin', 'turner', 'jaime', 'sasquatch', 'texture', 'sympathy', 'meaner', 'remake', 'interviewing', 'ant', 'insured', 'comprehending', 'amusement', 'billy', 'legend', 'compliment', 'kathleen', 'fishermen', 'kleppur', 'cinch', 'fraker', 'kids', 'bonding', 'reindeer', 'druid', 'epiphany', 'quirks', 'girly', 'nan', 'unfairly', 'oceans', 'tinseltown', 'correctly', 'youthful', 'booked', 'sellecca', 'tour', 'torn', 'fireworks', 'teeming', 'induce', 'torture', 'wuthering', '40', 'arguments', 'wilma', 'verite', 'classiest', 'interpret', 'scarce', 'regardless', 'alive', 'hush', 'glove', 'posturing', 'stinking', 'iain', 'ludicrous', 'acclaim', 'tires', 'impatient', 'babaloo', 'placement', 'dodgy', 'admitting', 'political', 'mickey', 'mosquito', 'kc', 'elementary', 'answered', 'lumpens', 'clancy', 'transposal', 'imagery', 'acne', 'imagined', 'rodents', 'abiding', 'baptism', 'simplistically', 'suffers', 'excuse', 'assaulting', 'retrieval', 'tricked', 'percent', 'sets', 'cho', 'territory', 'epilogue', 'inspirational', 'hitler', 'specifically', 'narcotic', 'einar', 'convulsing', 'astérix', 'puncturing', 'tanned', 'nelson', 'controlling', 'affect', 'especially', 'poetic', 'tubal', 'recipe', 'sketch', 'ruthlessness', 'requested', 'uk', 'immaculate', 'sticking', 'privates', 'suspect', 'bound', 'martha', 'german', 'edited', 'karas', 'described', 'ripe', 'movienetwork', 'expanding', 'ping', 'maeder', 'gamely', 'goodbye', 'roguish', 'foreground', 'attract', 'powerhouse', 'voices', 'devils', 'bell', 'schoolmaster', 'actresses', 'recorded', 'sailors', 'sadistic', 'strangle', 'mitch', 'untouchable', 'erased', 'emphasized', 'assimilate', 'seizes', 'timer', 'thousands', 'monkees', 'songs', 'theatrex', 'remedial', 'unheralded', 'ambitiously', 'rumba', 'cairo', 'kirschner', 'ones', 'beth', 'pays', 'opportunity', 'vip', 'foretold', 'occurrence', 'skyscraper', 'muscled', 'zoolander', 'baron', 'simultaneous', 'buses', 'tickled', 'depressingly', 'nutshell', 'engendered', 'anniversary', 'uncool', 'praying', 'alternative', 'oldboy', 'teared', 'geral', 'fessenden', 'courtmartialed', 'spawned', 'disrespectful', 'grief', 'masochistic', 'repression', 'separated', 'schlesinger', 'wager', 'malice', 'advert', 'flynch', 'bunta', 'piper', 'attain', 'addiction', 'toi', 'teams', 'gösta', 'faron', 'superstitious', 'constructs', 'hictcock', 'coins', 'remix', 'implausibility', 'uriah', 'splashed', 'founded', 'vulgar', 'named', 'enjo', 'instability', 'upset', 'liquid', 'morita', 'bore', 'lesbianism', 'someone', 'podunk', 'farm', 'simmons', 'bondage', 'sleek', 'legendary', 'cleverless', 'dreamcatchers', 'results', 'mccool', 'pleasuring', 'tying', 'havana', 'principal', 'wool', 'burmese', 'melodrama', 'cog', 'dementedly', 'marijuana', 'haircut', 'chauvinistic', 'ambiance', '1938', 'augie', 'reformed', 'toon', 'masterson', 'haunted', 'davis', 'looker', 'grinch', 'mitchell', 'vaio', 'manically', 'alarms', 'utmost', 'donations', 'missolonghi', 'disrupt', 'bears', 'bronson', 'result', 'headaches', 'bairstow', 'angels', 'pg', 'misfortune', 'furlong', 'severe', 'arouse', 'mahesh', 'mayoral', 'cronenberg', 'stereotyped', 'omar', 'triggers', 'dominic', 'zyada', 'trial', 'blink', 'barbara', '1963', 'marlene', 'pivotal', 'krueger', 'websites', 'remaining', 'greenhouse', 'realise', 'victim', 'peebles', 'rabgah', 'perpetrators', 'blobs', 'afore', 'wynne', 'firmly', 'covered', 'retains', 'doubles', 'chains', 'caustic', 'fruition', 'striking', 'tech', 'cuoco', 'soil', 'grendel', 'villagers', 'erk', 'lost', 'aquarium', 'ole', 'brusqueness', 'alzheimer', 'mukherjee', 'clouds', 'pricey', 'subtitled', 'dismal', 'pudding', 'arlington', 'wrangler', 'chant', 'fetched', 'tasks', 'cox', 'replaced', 'colors', 'moe', 'cams', 'vying', 'billion', 'comesup', 'cracked', 'wearing', 'palatial', 'ongoing', 'nowadays', 'party', 'verdict', 'let', 'appear', 'apparatchik', 'anywhozitz', 'followes', 'glazed', 'dick', 'entertained', 'sitting', 'walter', 'gadget', 'acromegaly', 'chews', 'theater', 'rutger', 'thor', 'lightest', 'sometimes', 'mtv', 'scripts', 'drama', 'boni', 'armor', 'dimensional', 'sturdy', 'illuminate', 'nana', 'tending', 'hotly', 'skull', 'organizations', 'moustaches', 'naff', 'mutiny', 'promised', 'armed', 'random', 'borders', 'beneficial', 'locales', 'jobs', 'harp', 'dealers', 'coordinated', 'sly', 'legault', 'juliet', 'threat', 'kim', 'removal', 'sized', 'worshipper', 'dutt', 'basket', 'altogether', 'impressive', '11th', 'sane', 'talkies', 'brains', 'slapped', 'escapism', 'narsimha', 'unsolved', 'iistening', 'recorder', 'camerini', 'unusually', 'frawley', 'record', 'lumpur', 'romania', 'guesses', 'omg', 'alluding', 'ivory', 'offended', 'petersburg', 'declaration', 'palm', 'placated', 'gordon', 'impossibly', 'alvin', 'conan', 'reimbursement', 'connery', 'pat', 'contribution', 'duvivier', 'ghoulish', 'rushing', 'repressive', 'toshiko', 'closed', 'test', 'macleans', 'kayàru', 'shell', 'jack', 'faulklands', 'ghajini', 'eyecatching', 'similarity', 'sexy', 'walhberg', 'terraces', 'bestbuy', 'alleviate', 'asking', 'excessive', 'gangster', 'ain', 'wasteland', 'allegiances', 'egyptology', 'courtship', 'crybaby', 'flashback', 'gloatingly', 'artisans', 'dracula', 'rambo', 'relived', 'idealistic', 'twaddle', 'pressured', 'hoped', 'weaver', 'archie', 'provider', 'map', 'ranger', 'mainframe', 'nonsense', 'baldwin', 'sacrifices', 'save', 'shutting', 'fresh', 'hang', 'magician', 'procuror', 'imperfection', 'privileged', 'vessels', 'catastrophe', 'pasted', 'designated', 'disappear', 'round', 'danielle', 'pj', 'budapest', 'snorer', 'seconds', 'explicitly', 'wanda', 'destroy', 'mac', 'stratton', 'chas', 'surfer', 'dumpster', 'hendersons', 'soviets', 'pope', 'morrison', 'substantially', 'por', 'ruined', 'camping', 'maguire', 'pollak', 'safran', 'voice', 'burrowing', 'jeremy', 'riley', 'durante', 'decreased', '40s', 'flamboyantly', 'trivialboring', 'entertains', 'mumblethunder', 'dispenser', 'wins', 'invents', 'church', 'alabama', 'imperturbable', 'transition', 'notified', 'physicist', 'pairings', 'walston', 'grass', 'cab', 'shakti', 'wire', 'adults', 'perceive', 'harvey', 'truthfully', '1959', 'icelandic', 'knightley', 'balconys', 'following', 'smita', 'tanaka', 'romanticized', 'kiki', 'blake', 'nicholas', 'democratically', 'salty', 'gotten', 'additional', 'spurting', 'jew', 'virtually', 'mauling', 'general', 'baketaten', 'aavjo', 'woeful', 'aside', 'knotts', 'helps', 'agatha', 'parodied', 'fatuous', 'steals', 'convent', 'scab', 'plunged', 'variations', 'pharaoh', 'walkie', 'rational', 'offence', 'entanglement', 'harrison', 'assassin', 'maeve', 'north', 'loose', 'routines', 'higher', 'fortune', 'classified', 'scowls', 'kahn', 'phycadelic', 'bahrain', 'sica', 'reconcile', 'dyer', 'unrelated', 'heads', 'reports', 'employed', 'ok', 'notation', 'believed', 'inequality', 'hidden', 'conversations', 'medieval', 'inklings', 'discourse', 'celine', 'assassination', 'bressart', 'virus', 'gleeful', 'bounty', 'walt', 'cabinet', 'istanbul', 'array', 'morose', 'figured', 'vanished', 'professed', 'invest', 'homemade', 'woodward', 'maker', 'penetrating', 'stricken', 'votes', 'schreiber', 'future', 'seedy', 'slipper', 'niven', 'bundy', 'incriminating', 'cadavers', 'sloane', 'trophy', 'commerce', 'chin', 'exploited', 'sweedish', 'appeal', 'precipitous', 'britain', 'filtered', 'mechanizations', 'familiars', 'execrable', 'removing', 'rapper', 'popular', 'fart', '52', 'revolts', 'nebbish', 'stern', 'flashier', 'editor', 'parole', 'deficiency', 'leaf', 'nihilistic', 'clutter', 'lawrence', 'launcher', 'laptop', 'holden', 'andrews', 'witless', 'unofficially', 'ized', 'gideon', 'suffering', 'generously', 'moral', 'socialist', 'confused', 'chill', 'envisions', 'terrorizing', 'terrance', 'trafficker', 'craves', 'bushido', 'virtues', 'hopkins', 'lovely', 'boogeymen', 'unusual', 'baths', 'filter', 'optimism', 'disillusionment', 'traveler', 'gun', 'egocentric', 'kelly', 'viewed', 'suppressed', 'celler', 'paramore', 'lowliest', 'dares', 'satisfying', 'skirt', 'prejudiced', 'mud', 'jumped', 'alcohol', 'eats', 'lil', 'twice', 'balance', 'away', 'chuckles', 'suitably', 'wackiness', 'generally', 'neighbor', 'enunciation', 'italian', 'homicide', 'jordan', 'consistently', 'cliches', 'hellboy', 'sensing', 'embezzling', 'draws', 'lays', 'lori', 'awwwwh', 'yards', 'madsen', 'impressions', 'frigon', 'wine', 'exudes', 'limited', 'skits', 'deliriously', 'freely', 'herded', 'uglier', 'tweaks', 'annie', 'sleepy', 'cyborgs', 'thanks', 'belfry', 'pet', 'gleanings', '0615', 'unseen', 'landfill', 'crew', 'succinct', 'revelation', 'evidence', 'balls', 'timberg', 'engaging', 'gabriel', 'saurian', 'facial', 'sebastian', 'doorman', 'remains', 'suspecting', 'palmer', 'widowed', 'geneva', 'involve', 'assorted', 'shapiro', 'lets', 'lian', 'docklands', 'wing', 'cockatoo', 'truthful', 'stylistically', 'burroughs', 'cameras', 'likable', 'mohinish', 'youtube', 'israel', 'tough', 'distracting', 'ritzy', 'comatose', 'coaches', 'tremendous', 'uncompromising', 'lid', 'irvin', 'feel', 'greyzone', 'docks', 'anthropomorphic', 'secluded', 'remember', 'happen', 'consideration', 'reeks', 'beon', 'kissing', 'vulnerability', 'tagging', 'humourless', 'clicking', 'leisure', 'typically', 'signe', 'hicks', 'cosby', 'foreheads', 'negative', 'transporting', 'mandark', 'sponsor', 'graceful', 'horseback', 'troops', 'kameena', 'unedifying', 'hq', 'misses', 'battlefronts', 'beruit', 'negate', 'raul', 'listened', 'robbery', 'impregnate', 'flourish', 'weed', 'roof', 'unsightly', 'viewing', 'riko', 'stake', 'relentless', 'repetitive', 'buddy', 'conformist', 'plants', 'kon', 'choppy', '6th', 'boil', 'loved', 'statutory', 'hunted', 'guests', 'lisa', 'bombshell', 'wisely', 'mellow', 'thrillers', 'survives', 'cages', 'glam', 'entertainment', 'silverheels', 'wisecracks', 'task', 'locked', 'mendocino', 'woven', 'montage', 'telegraphs', 'mainland', 'hustler', 'sneaks', 'variation', 'tip', 'vengeance', 'dratch', 'outweighed', 'picking', 'characteristics', 'tats', 'jonny', 'raye', 'components', 'respectively', 'fans', 'concepts', 'testament', 'kargil', 'dislike', 'standard', 'elderly', 'bona', 'transformed', 'amnityville', 'guilt', 'scariness', 'monkeys', 'merchandises', 'molly', 'eschatalogy', 'styrofoam', 'southern', 'retail', 'ohio', 'europe', 'confronts', '1946', 'diversion', 'perverse', 'numbers', 'constituted', 'flamberg', 'deteriorate', 'hawn', 'def', 'filing', 'flourishes', 'parents', 'memories', 'glenn', 'perkins', 'actionmovie', 'expecting', 'besser', 'format', 'minimum', 'fro', 'ons', 'vocals', 'docudrama', 'describing', 'pal', 'mackendrick', 'course', 'hier', 'household', 'seasoned', 'betrays', 'resting', 'attention', 'presents', 'constitutional', 'hermit', 'saddens', 'stargate', 'disappearance', 'rather', 'kapoordirection', 'noooo', 'supernatural', '700', 'uncles', 'confesses', 'convince', 'doubts', 'kidnapping', 'reasonable', 'tailor', 'philosopher', 'walmart', 'toothe', 'combining', 'mcvicar', 'subculture', 'perjury', 'birth', 'marine', 'appetite', 'having', 'aristocrats', 'sowhile', 'skank', 'kicks', 'happiest', 'yacht', 'slam', 'near', 'ensues', '100', 'repeating', 'medical', 'pros', 'clang', 'nuclear', 'radiation', 'hipster', 'benno', 'sapped', 'workouts', 'twins', 'favorite', 'peace', 'title', 'awards', 'shod', 'addicted', 'dyan', 'sutherland', 'secretly', 'events', 'cobb', 'profound', 'madness', 'proves', 'detritus', 'yippee', 'drivers', 'undeveloped', 'rippliest', 'prime', 'raffil', 'dumbfoundingly', 'bewitched', 'screenplay', 'bride', 'carreyesque', 'overblown', 'edged', 'bejeepers', 'wttw', 'purpose', 'compositions', 'goofball', 'comparisons', 'explosion', 'thom', 'complexity', 'borrow', 'yarn', 'supposibly', 'wyatt', 'meaning', 'fit', 'overworks', 'latent', 'exhausting', 'mannix', 'jim', '1924', 'pitch', 'innovate', 'softballs', 'swat', 'shrink', 'gravitate', 'extension', 'overlong', 'hugh', 'betuel', 'netflix', 'doomsday', 'personified', 'caliber', 'moy', 'starting', 'ebben', 'toned', 'timothy', 'surgeon', 'italy', 'image', 'gam', 'ensuing', 'coordinator', 'retirement', 'eloquent', 'manipulative', 'killings', 'undercurrents', 'dorky', 'themwhat', 'benoît', 'sob', 'communicating', 'oliver', 'giovanni', 'skinhead', 'goodman', 'spiritually', 'cult', 'landscape', 'pitts', 'lobotomized', 'rookie', 'unjustly', 'asceticism', 'metzergenstein', 'censor', 'cgi', 'ridgely', 'small', 'tumultuous', 'flak', 'suicidal', 'saint', 'rocking', 'picturesque', 'morales', 'markoff', 'zealot', 'ingredients', 'doggie', 'band', 'fool', 'bond', 'flag', 'coyote', 'reminder', 'cylons', 'criticise', 'tng', 'standoff', 'poisoning', 'yograj', 'extra', 'remodeling', '2004', 'ashame', 'explain', 'hoover', 'sordid', 'rushed', 'stritch', 'lastly', 'restaurant', 'hundreds', '18th', 'pennsylvania', 'heckerling', 'conventions', 'sustains', 'gigantic', 'nostalgiavessels', 'knees', 'scorsese', 'mabuse', 'kidnapper', 'slashers', 'staging', 'shape', 'troma', 'ground', 'tango', 'niki', 'ganesh', 'poses', 'crazy', 'speeded', 'believable', 'perseverance', 'dante', 'inject', 'investor', 'globe', 'appalling', 'discovers', 'destined', 'feeling', 'u2', 'gunpoint', 'math', 'soviet', 'valentine', 'knocked', 'amazed', 'traffickers', 'fantastical', 'masquerading', 'regarding', 'miniguns', 'sneering', 'thrilling', 'lacked', 'abu', 'obtain', 'assumed', 'perabo', 'appearing', 'raised', 'sneak', 'mop', 'planets', 'trainable', 'protagonists', 'stylization', 'branka', 'forgives', 'ray', 'defining', 'albanian', 'achieve', 'sax', 'woo', 'pretenders', 'pulls', 'stable', 'hope', 'abc', 'mixed', 'prodigious', 'exclaims', 'walsh', 'allthough', 'slams', 'taste', 'idaho', 'leary', 'unwilling', 'infectious', 'tennis', 'ringo', 'reluctant', 'banned', 'hickham', 'bonneville', 'hollow', 'tender', 'undergoes', 'loopy', 'scaring', 'elitist', 'longtime', 'chair', 'global', 'aphoristic', 'crummy', 'gratefully', 'claudius', 'ranks', 'confess', 'crimefighting', 'arresting', 'spooky', 'affirmed', 'irving', 'abducted', 'unpredictably', 'julien', 'leaving', 'swamp', 'dubs', 'finnish', 'mickster', 'innovative', 'incessantly', 'mormon', 'tail', 'schnitz', 'ol', 'flowing', 'modesty', 'cutting', 'transplanted', 'chiefly', 'futurama', 'sullied', 'narcissus', 'misusing', 'labor', 'benson', 'dahmer', 'ranges', 'belong', 'bandhan', 'shrugging', 'purist', 'houston', 'adjani', 'predator', 'riviere', 'lightning', 'circumstances', 'ghastly', 'scarred', 'featurette', 'rate', 'krishna', 'ward', 'villainy', 'rapidly', 'peters', 'telemarketing', 'yap', 'cemetery', 'element', 'sympathize', 'drinking', 'ruth', 'beliefs', 'everyway', 'square', 'aiming', 'lymi', 'veteran', 'protector', 'clunky', 'stroll', 'occasion', 'suave', 'update', 'lovebirds', 'separate', 'desk', 'befriends', 'roswell', 'necromaniacthis', 'bushman', 'gabor', 'rawls', 'teal', 'criminals', 'altman', 'stares', 'known', 'warhols', 'sexuality', 'chaos', 'thriving', 'mechanic', 'copiers', 'booth', 'tbs', 'searing', 'died', 'gut', 'welsh', 'pooptown', 'emotive', 'malden', 'provide', 'essayed', 'jolivet', 'dishonorable', 'camps', 'blows', 'celebrating', 'shies', 'guetary', 'hallucinations', 'undercutting', 'ingenuity', 'pete', 'sheep', 'bod', 'resemblances', 'tra', 'presence', 'along', 'kleinschloss', 'dean', 'opining', 'enshrined', 'pout', 'entirety', 'shipwreck', 'handicaps', 'forced', 'norway', 'idiotic', 'effortless', 'repertoire', 'ellipses', 'siskel', 'capturing', 'tear', 'surrendered', 'escaping', 'greeks', 'switch', 'stood', 'interspersed', 'screaming', 'hopeful', 'unintentionally', 'instant', 'prot', 'sparkles', 'owl', 'opening', 'crutch', 'busted', 'chodorov', 'davidson', 'dregs', 'several', 'slowly', 'sharp', 'prophet', 'breakumentary', 'height', 'reduced', 'port', 'illiteracy', 'outwitting', 'frankie', 'apprenticeship', 'oakie', 'stole', 'sophisticated', 'collapsing', 'situations', 'blond', 'coaching', 'soldiers', 'absolute', 'marvellously', 'para', 'slimy', 'grader', 'grateful', 'slim', 'babs', 'spinetti', 'blossom', 'indicator', 'rear', 'sun', 'willing', 'jackie', 'amazon', 'zeta', 'champ', 'consequence', 'unidentified', 'usually', 'pathetic', 'interaction', 'enhancing', 'binoculars', 'aankhen', 'columbia', 'mere', 'hurry', 'chaser', 'basements', 'borrows', 'affects', 'problem', 'jaw', 'politically', 'queer', 'clean', 'sparkle', 'zelda', 'orson', 'mraovich', 'mornell', 'swimming', 'definitely', 'risqué', 'puke', 'became', 'gifted', 'fantastically', 'avalanche', 'published', 'million', 'accomplished', 'hunks', 'rash', 'numerous', 'transfer', 'caesar', 'centering', 'deserves', 'elam', 'cinematographer', 'elsewhere', 'gawk', 'fulbright', 'doo', 'bogart', 'neither', 'dimitri', 'orca', 'fiona', 'predators', 'suggestions', 'páll', 'personality', 'wipe', 'riff', 'musicians', 'cuddling', 'sceneanime', 'groundless', 'kasch', 'reinterpretations', 'goods', 'rana', 'hellraiser', 'judges', 'dissected', 'beam', 'recognise', 'garou', 'frequently', 'mes', 'company', 'tonks', 'forcibly', 'gothic', 'enjoyment', 'latin', 'earrings', 'witnessing', 'paxson', 'lopez', 'culprit', 'wilde', 'todos', 'chords', 'favourites', 'promising', 'experiments', 'neill', 'reliable', 'nonentities', 'unselfish', 'meets', 'dawn', 'riveted', 'pomposity', 'sickest', 'reaction', 'madge', 'sniffing', 'rosario', 'guitar', 'karkoff', 'limo', 'endlessly', 'likes', 'weeks', 'extent', 'visage', 'unsuspectingly', 'filmography', 'digits', 'orgy', 'alone', 'firstborn', 'ghandi', 'worsened', 'sharpening', 'powerfull', 'oft', 'shirts', 'caring', 'photo', 'warfare', 'crowds', 'renamed', 'allegiance', 'analysis', 'pride', 'tampered', 'subtler', 'flirtatious', 'inept', 'herding', 'meet', 'pohler', 'temple', 'freezers', 'implant', 'irritant', 'assigned', 'lenore', 'stuck', 'occurring', 'spirited', 'considerable', 'forsakes', 'patriotic', 'susie', 'scrambled', 'surround', 'brief', 'viewers', 'approaching', 'confessing', 'phenomena', 'sarcasm', 'lousiest', 'lagoon', 'frederic', 'brosnan', 'hektor', 'strive', 'lo', 'posing', 'exaggerating', 'phenomenal', '83', 'reaches', 'starr', 'irrelevant', 'waqt', 'partner', 'walk', 'lifelike', 'williamson', 'vince', 'politicians', 'gardens', 'butter', 'demonstrated', 'mope', 'glass', 'builds', 'researched', 'retrograde', 'throat', 'westward', 'budgetary', 'fairly', 'byron', 'inundate', 'goddamned', 'lize', 'identifiable', 'noodle', 'nonstop', 'sixties', 'scant', 'exasperation', 'stroking', 'boxer', 'existences', 'excellently', 'trot', 'passage', 'kishibe', 'bannister', 'arched', 'contempt', 'pochath', 'charts', 'birds', 'wanted', 'committing', 'shoppers', 'edie', 'cesspool', 'recovers', 'intricate', 'indignities', 'sorely', 'fitting', 'sophomoric', 'karisma', 'modified', 'fashionable', 'involving', 'aliens', 'blvd', 'bemusing', 'rugge', 'riacho', 'typing', 'responding', 'analyze', 'blackened', 'offs', 'noirs', 'choose', 'insisting', 'adds', 'registers', 'permanent', 'blakely', 'argento', 'vicent', 'angle', 'horrors', 'professionally', 'mid', 'yr', 'forgetting', 'hardened', 'hitlerian', 'streams', 'computers', 'beethoven', 'shooter', 'dreamed', 'rylance', 'repetitively', 'dullness', 'disagreed', 'priminister', 'canda', 'mines', 'weston', 'caugt', 'sandwiches', 'deco', 'shorter', 'superstitions', 'chicka', 'dartmouth', 'pretense', 'maria', 'alma', 'disturbingly', 'midway', 'ride', 'timed', 'misstep', 'stress', 'instrumentation', 'mums', 'military', 'toupee', 'forensics', 'wray', 'necessarily', 'futures', '1990s', 'grail', 'mailbox', 'reincarnation', 'images', 'insufficiently', 'situation', 'marjorie', 'dole', 'resume', 'cybermen', 'tcm', 'alittle', 'wards', 'nonplussed', 'nazario', 'jill', 'comfortable', 'reach', 'foundation', 'platinum', 'camp', 'faulting', 'slut', 'oxford', 'rehearsal', 'wounded', 'toons', 'cad', 'carper', 'monotonously', 'singing', 'writing', 'andersson', 'apron', 'achievements', 'unfinished', 'blondell', 'rubberneck', 'stones', 'persepolis', 'luckily', 'compliance', 'k10c', 'sails', 'reasons', 'sorts', 'released', 'urinate', 'dash', 'dragon', 'burly', 'guitarist', 'patience', 'franco', 'collapsed', 'imposter', 'foundational', 'laboratory', 'davey', 'fog', 'carelessly', 'positive', 'leading', 'arizona', 'kristel', 'congratulate', 'senselessness', 'cervantes', 'lured', 'nose', 'throughly', 'raymar', 'untalented', 'triumphs', 'dave', 'thunder', 'smithee', 'survival', 'aesthetic', 'bare', 'shines', 'immediately', 'symphonic', 'undeniably', 'rsgre', 'ransom', 'sailor', 'squalid', 'versatility', 'teased', 'codfish', 'agent', 'flubber', 'mission', 'murli', 'agendas', 'melissa', 'wacking', 'ambivalent', 'bashing', 'soldier', 'pretending', 'focuses', 'warner', 'inharmonious', 'student', 'infantilised', 'tiku', 'error', 'performing', 'flesh', 'tag', 'liveliness', 'groans', 'insists', 'brightly', 'ahmad', 'wreak', 'qvc', 'careers', 'wound', 'tragic', 'throwing', 'mystifying', 'heartbreaking', 'connie', 'incest', 'confederate', 'distract', 'transylvanian', 'verhoeven', 'bibi', 'cubs', 'letter', 'onde', 'ads', 'rabid', 'extensive', 'delight', 'thank', 'unreconstructed', 'celluloid', 'forwarded', 'mystical', 'solace', 'progression', 'luchino', 'favor', 'previews', 'text', 'stormed', 'bergen', 'bel', 'cancer', 'guarantee', 'hundred', 'precinct', 'beseeches', 'witted', 'tepidly', 'slausen', 'traffic', 'honest', 'morals', 'gradually', 'kuchler', 'rejected', 'agrees', 'epitomize', 'aboriginal', 'widmark', 'johnson', 'coated', 'frustrating', 'qt', 'alert', 'hendrick', 'sweden', 'cia', 'debut', 'completed', 'disillusioned', 'mentioning', 'corner', 'coverage', 'notably', 'thurig', 'tarr', 'sundance', 'recklessness', 'renee', 'chance', 'finish', 'naaaa', 'praised', 'freezer', 'spirit', 'haven', 'par', 'pleasure', 'chawla', 'bankrupt', 'awakened', 'contaminated', 'cup', 'ukwell', 'defined', 'candle', 'closer', 'charm', 'tune', 'hokum', 'truckload', 'blizzard', 'safe', 'alternate', 'rebel', 'lifted', 'ora', 'theodor', 'elephants', 'exploitative', 'norms', 'presumably', 'oirish', 'rocicante', 'swept', 'waaaaayyyyyy', 'pains', 'lopping', 'tremendously', 'tristan', 'rising', 'swap', 'meditative', 'acts', 'transform', 'ungrateful', 'paragraph', 'kittens', 'teaches', 'hiroyuki', 'omni', 'babysat', 'england', 'insult', 'clips', 'evidenced', 'mills', 'cheezie', 'logic', 'group', 'merchants', 'autobiographic', 'reincarnated', 'nevada', 'pretentious', 'interdependence', 'lukas', 'isle', 'incisive', 'waving', 'garrett', 'deployment', 'ensemble', 'sennett', 'drinks', 'hydrogenated', 'disc', 'flip', 'correctness', '14ai', 'developing', 'infinity', 'cummings', 'tall', 'krebs', 'contact', 'discovering', 'graded', 'antagonists', 'overact', 'cantelon', 'dim', 'callum', 'mallarme', 'glyn', 'worker', 'rotates', 'devouring', 'elusive', 'derangère', 'chipping', 'lipstick', 'intend', 'michell', 'slang', 'foggy', 'cigarette', 'contemplating', 'newspaper', 'transformation', 'dinosaur', 'guild', 'seriously', 'measures', 'butchered', 'inseparable', 'surprise', 'existentialism', 'ancestors', 'meeks', 'inherent', 'franchises', 'muslim', 'trees', 'alain', 'misfire', 'stolen', 'playing', 'lollobrigida', 'kingdom', 'wrong', 'bland', 'surrealist', 'honey', 'iran', 'disorder', 'betty', 'versus', 'earnestness', 'offend', 'battlefield', 'freakin', 'lighting', 'directing', 'evolve', 'bogosian', 'ripping', 'covers', 'stymieing', 'unforgiven', 'read', 'mall', 'properly', 'luxembourg', 'itunes', 'ferrell', 'nishina', 'reacting', 'hopes', 'mouths', 'bulking', 'squeeze', 'victory', 'automatons', 'painted', 'failed', 'carrie', 'relation', 'bethany', 'gorgeous', 'emmerdeur', 'shivering', 'masterful', 'sado', 'catharsis', 'pot', 'buzzy', 'avid', 'kimble', 'daly', 'granger', 'florist', 'careful', 'literary', 'deceived', 'stallone', 'punishing', 'snoozer', 'facotory', 'isolation', 'stalks', 'dense', 'punk', 'dreck', 'steaming', 'dynamic', 'employs', 'civilization', 'ends', 'im', 'reissue', 'diamontopolous', 'dakar', 'bigoted', 'tonally', 'pong', 'outdid', 'construed', 'tornatore', 'classics', 'haese', 'pearce', 'fully', 'acknowledge', 'minor', 'barely', 'death', 'precedes', 'fun', 'spectacles', '89', 'lush', 'tibbits', 'brick', 'disregarding', 'comprehend', 'together', 'loesser', 'bulls', 'else', 'generous', 'badly', 'bs', 'elly', 'hedonism', 'drags', 'dimply', 'complain', 'boiled', 'maniacal', 'previn', 'emboldened', 'extreme', 'repercussions', 'tagline', 'ther', 'kar', 'irresistible', 'hay', 'naomi', 'banana', 'variant', 'sterile', 'opted', 'embarrassment', 'cocoon', 'munchies', 'pursuer', 'wry', 'ken', 'clowns', 'bedrooms', 'redhead', 'finger', 'nudity', 'establish', 'et', 'cryptic', 'appraisals', 'btw', 'framing', 'hollywood', 'spore', 'vein', 'corporate', 'embezzler', 'restrained', 'bai', 'implicit', 'sentimental', 'graffiti', 'considerably', 'psychosexually', 'naish', 'particularly', 'couloirdebus', 'scoring', 'resolving', 'bachan', 'wrenching', 'exchanges', 'prevails', 'patil', 'imprisonment', 'comas', 'streamline', 'voilà', 'ne', 'implies', 'formulas', 'celebration', 'metaphysics', 'hallways', 'persuasive', 'letterbox', 'recommendation', 'anyone', 'touching', 'confection', 'newspapers', 'lovey', 'deserve', 'fu', 'fox', 'reich', 'prequel', 'bakshi', 'themed', 'structuring', 'maricella', 'sllllowwwwwesssstttt', 'pleased', 'myself', 'dogma', 'spaceship', 'smarter', 'janitor', 'governments', 'speeches', 'sought', 'hulk', 'girls', 'squirted', 'spits', 'significantly', 'laying', 'brutal', 'dozens', 'bible', 'durst', 'racially', 'shingo', 'corny', 'whom', 'brusque', 'prototypes', 'truths', 'stills', 'vous', 'strikes', 'awkward', 'attempt', 'veterans', 'boyle', 'flicked', 'mobsters', 'davidtz', 'reviewers', 'jeers', 'captian', 'scarface', 'andie', 'biopic', 'boob', 'thoughtful', 'austen', 'cannon', 'anecdotal', 'epics', 'rhode', '50', 'painters', 'flirting', 'accurate', 'socially', 'eliach', 'wednesday', 'buddhism', 'depp', 'suckling', 'primed', 'storylines', 'sequestered', 'sacrifice', 'disclosure', 'lords', 'exactly', 'thinking', 'lex', 'couples', 'returned', 'throngs', 'vocalist', 'madhura', 'hunchbacked', 'heroic', 'maze', 'paranoia', 'zimmet', 'theory', 'sequels', 'residents', 'gangly', 'playground', 'focusing', 'cs', 'fondly', 'successes', 'naming', 'runtime', 'birthday', 'washroom', 'disturbed', 'whirling', 'clarence', 'unoriginal', 'reworking', 'figment', 'garde', 'vhs', 'retreat', 'ex', 'wreaking', 'paedophile', 'reversal', 'tightly', 'expectations', 'diahann', 'caged', 'prize', 'watterman', 'occurs', 'nineties', 'tangible', 'eccentric', 'rafe', 'pie', 'curiosity', 'expense', 'programmed', 'ideals', 'splashing', '1971', 'groves', 'menu', 'older', 'raunchy', 'hernandez', 'duo', 'singular', 'robbing', 'american', 'searching', 'enjoys', 'softness', 'absorb', 'desertion', 'speculative', 'rumoured', 'allow', 'rand', 'popkin', 'shapely', '1930s', 'delta', 'uptight', 'ventricle', 'insubordination', 'thrilled', 'suppress', 'examine', 'supporter', 'endearing', 'tribe', 'taken', 'obligation', 'borrringg', 'concentration', 'gambas', 'size', 'gallons', 'disguise', 'dope', 'stirling', 'sneaky', 'toe', 'seattle', 'strutters', 'context', '104', 'furthermore', 'tabloid', 'insisted', 'realizes', 'defies', 'realms', 'plywood', 'contemplation', 'vulnerable', 'benito', 'consumption', 'struts', 'honor', 'supportive', 'plugging', 'otherwise', 'improbably', 'revamping', 'university', 'hmm', 'epitomizes', 'linesmen', 'slowed', 'prominence', 'mental', 'petrifying', 'hamilton', 'consequently', 'artwork', 'hungarian', 'seekwet', 'horribly', 'unassuming', 'polite', 'godawful', 'culkin', 'hack', 'delirious', 'travels', 'nor', 'beacon', 'slumber', 'argue', 'inventor', 'greet', 'slandering', 'paying', 'davy', 'thuggery', 'stokes', 'rumpy', 'handyman', 'smitten', 'relating', 'ladder', 'carolina', 'generated', 'hubby', 'locks', 'announce', 'item', 'churning', 'prof', 'bhatt', 'paid', 'casing', 'commandeered', 'communities', 'compactor', 'mckidd', 'bhatra', 'tolerated', 'domino', 'cage', 'blank', 'education', 'lacks', 'coyly', 'seminal', 'teaming', 'chord', 'beowulf', 'subordinate', 'assassinates', 'expected', 'picked', 'filmslike', 'collagen', 'depth', 'hungry', 'pronunciation', 'push', 'amato', 'rodeo', 'jimi', 'spheeris', 'enveloped', 'recognizing', 'renewed', 'shovel', 'crowd', 'handling', 'braik', 'russians', 'earth', 'interludes', 'releases', 'spookishly', 'stragely', 'pertinent', 'decorti', 'nod', 'lyndon', 'boogeyman', 'dickinsen', 'korean', 'barre', 'nobility', 'instruction', 'inadequately', 'plague', 'network', 'archetype', 'glazes', 'lug', 'harvested', 'caron', 'increases', 'dermody', 'dynasty', 'reptile', 'waheeda', 'farmboy', 'carried', 'tradition', 'crockett', 'digest', 'centre', 'hong', 'reiner', 'details', 'lafia', 'trivial', 'hearty', 'spacecraft', 'upon', 'inane', 'looks', 'overwhelm', 'tillie', 'wars', 'preventing', 'joy', 'staged', 'unlikely', 'iq', 'recognize', 'gough', 'caper', 'encounters', 'encountering', 'cold', 'reservation', 'aplogise', 'jonestown', 'outdoor', 'continuing', 'nepalease', 'incurring', 'gilley', 'enacted', 'descendent', 'knight', 'infinitely', 'conveyor', 'hookers', 'lol', 'beals', 'crayon', 'solemnity', 'bursting', 'grassroots', 'seldom', 'snowball', 'doughty', 'pollard', 'maclaine', 'dramatization', 'blatant', 'indulgence', 'delicately', 'statistic', 'hurricane', 'morning', 'listens', 'beatle', 'jettisoning', 'nile', 'statue', 'naive', 'chung', 'shivers', 'punks', 'flawless', 'thorn', 'doses', 'workings', 'whispers', 'larkin', 'encourage', 'paolo', 'trouble', 'toddlers', 'politicization', 'apt', 'chick', 'conclusion', 'gratitude', '1948', 'taps', 'thematic', 'borrowed', 'rustle', 'pirovitch', 'humanitas', 'priest', 'piece', 'casted', 'loan', 'scares', 'muller', 'appreciates', 'deaf', 'skirmishes', 'furlough', 'moi', 'surrealistic', 'wished', 'timing', 'newswoman', 'sparks', 'impressionist', 'patriarch', 'remain', 'miramax', 'mega', 'overexposed', 'full', 'chikatilo', 'modernizing', 'enervating', 'cellar', 'escaped', 'mu', 'circulation', 'olsen', 'walkin', 'ankle', 'bathsheba', 'victors', 'sooo', 'whippet', 'lewis', 'del', 'sits', 'housewife', 'huston', 'cuore', 'pampered', 'shakespeare', 'superiority', 'holt', 'styling', 'amitabh', 'order', 'product', 'hangs', 'passing', 'chock', 'devour', 'auspicious', 'thirties', 'alright', 'eva', 'contract', 'newt', 'prearranged', 'kaurismaki', 'bleaker', 'insights', 'gazes', 'bedridden', 'jackass', 'processed', 'delany', 'marlow', 'stylish', 'mikado', 'rite', 'emerges', 'dismissal', 'ralph', 'familiar', 'unhesitatingly', 'sadism', 'elmyra', 'strengthened', 'brownstone', 'weird', 'convenience', 'russo', 'feared', 'johnny', 'cyclop', 'passable', 'rose', 'classy', 'confession', 'stereo', 'shelly', 'abuser', 'repeats', 'belvedere', 'bloom', 'li', 'poem', 'clad', 'bogs', 'overestimated', 'caves', 'shelley', 'edgerton', 'ninja', 'enclosed', 'monastery', 'fellows', 'sands', 'diabolique', 'looses', 'select', 'poll', 'jawani', 'talent', 'initial', 'drowning', 'fore', 'cinematographic', 'cruelty', 'facets', 'capoeira', 'accompanied', '2054', 'connor', 'necessity', 'chris', 'waner', 'ranch', 'atoms', 'rio', 'lotta', 'teacher', 'unrequited', 'tidbit', 'pink', 'zasu', 'doubt', 'sorrowful', 'gunfire', 'fincher', 'venezuela', 'possessing', 'waterfront', 'deskthere', 'flashing', 'criticism', '37', 'change', 'removed', 'ekman', 'siegel', 'jockey', 'corpse', 'dysfunctional', 'calamitous', 'maturity', 'disappointing', 'confines', 'pitched', 'poker', 'dingo', 'sprinkled', 'explains', 'angrily', 'dangerously', 'basics', 'slight', 'fashions', 'coburn', 'rise', 'avoids', 'baccarat', 'dexterity', 'conor', 'basterds', 'clearly', 'quinn', 'leaping', 'slaughtered', 'departing', 'wrath', 'mostly', 'marginal', 'drivels', 'bridges', 'pearly', 'wold', 'portrayer', 'lures', 'eleonora', 'underdeveloped', 'shot', 'helpless', 'offices', 'jurassic', 'englar', 'topper', 'airwolf', 'cocksure', 'pio', 'diluted', 'innate', 'pairing', 'advice', 'email', 'biz', 'borgnine', 'huh', 'mcshane', 'conspirators', 'patrols', 'chomping', 'explaining', 'hysterically', 'colette', 'roots', 'york', 'killing', 'unwatchable', 'schroeder', 'quality', 'palestinians', 'generate', 'inferior', 'waterness', 'storyline', 'stomachs', 'artifacts', 'childishly', 'lyons', 'radish', 'apprentice', 'macbeth', 'ways', 'leone', 'men', 'knox', 'monogamistic', 'diaz', 'galaxy', 'ollie', 'moore', 'encounter', 'trumped', 'promotion', 'sexperimental', 'disparate', 'constellation', 'gross', 'todays', 'emphasis', 'aschenbach', 'ealy', 'heartbeat', 'readily', 'dirty', 'arcs', 'offside', 'audience', 'frigging', 'lead', 'cerebral', 'suggestion', 'clocks', 'legacy', 'envy', 'vessel', 'footlight', 'strident', 'subplot', 'simplified', 'levity', 'ager', 'uncompelling', 'beauty', 'devito', 'portrait', 'relevant', 'xxth', 'dresses', 'kansas', 'brigitte', 'frazetta', 'magritte', 'pain', 'edginess', 'brien', 'lowers', 'tenths', 'reoccurring', 'unintriguing', 'forest', 'manuel', 'digitally', 'integral', 'conflagration', 'corbbett', 'motorcycle', 'regard', 'moly', 'rukh', 'urlaub', 'kitty', 'chaplin', 'shared', 'fable', '19', 'detract', 'exemplifies', 'chilling', 'maton', 'saturdays', 'icee', 'delon', 'pieta', 'appreciated', 'infuse', 'ashamed', 'disciplined', 'prussia', 'contend', 'reminding', 'housing', 'penned', 'frustration', 'clarissa', 'selfless', 'appropriate', 'nicking', 'hillbillies', 'stronger', 'nubile', 'loyalty', 'prompted', 'maneuvers', 'funding', 'narrowly', 'wear', 'comedy', 'bailey', 'construction', 'porbably', 'wig', 'goldie', 'lesbian', 'cn', 'formative', 'democrats', 'masterfully', 'babel', 'document', 'fat', 'cloussou', 'hilarity', 'anodynesprech', 'befriended', 'aw', 'malle', 'literature', 'minister', 'print', 'shintaro', 'glance', 'thomerson', 'suspicious', 'claim', 'composed', 'forward', 'bargained', 'julie', 'copies', 'emma', 'bourne', 'pm', 'nm', 'fender', 'selfishness', 'tress', 'theakston', 'sailed', 'swordplay', 'harbor', 'climax', 'bernadette', 'professionalism', 'pair', 'banter', 'snorting', 'sloppy', 'god', 'stature', 'example', 'fizzled', 'novelty', 'cause', 'invisibility', 'delivery', 'walks', 'qualifies', 'linley', 'infantile', 'chop', 'elaine', 'overt', 'behind', 'aby', 'ross', 'akin', 'motifs', 'brennon', 'princess', 'shriners', 'controls', 'liberties', 'deliciously', 'slack', 'theo', 'mixture', 'sweeet', 'contradicts', 'aiden', 'latinity', 'skating', 'ill', 'omitted', 'pauses', 'maimed', 'serving', 'closely', 'bradley', 'collection', 'miners', 'thumb', 'plainclothes', 'undercover', 'motivated', 'topics', 'upstarts', 'atkins', 'blends', 'resembling', 'newscasts', 'thorny', 'interacting', 'mentoring', 'kermit', 'britian', 'frenetic', 'existed', 'guerrini', 'missing', 'equipment', 'admonition', 'bolstered', 'woolf', 'paranormal', 'assignment', 'trait', 'twisted', 'melancholy', 'magazine', 'greater', 'adrenaline', 'preacher', 'bestow', 'misogynistic', 'monarch', 'agonized', 'tourist', 'fell', 'roughly', 'driven', 'vonnegut', 'hampered', 'vampishness', 'misleadingly', 'revenge', 'australians', 'tarnishing', 'electrified', 'harm', 'lithgow', 'barabas', 'hybrid', 'center', 'defeat', 'arquette', 'recruitment', 'oddsi', 'trained', 'streep', 'honorary', 'efforts', 'king', 'restaurants', 'cancelled', 'certification', 'holocaust', 'drone', 'magical', 'changes', 'terrence', 'bias', 'declaring', 'righteous', 'eberli', 'ability', 'olympus', 'newcastle', 'wits', 'fantastic', 'exerted', 'maintained', 'felt', 'slope', 'varied', 'relatives', 'glad', 'hunter', 'intimate', 'mazar', 'grave', 'mold', 'waters', 'christina', 'amidst', '1929', 'patched', 'rent', 'took', 'thou', 'pinned', 'shook', 'scalping', 'warden', 'sexually', 'holidays', 'conversion', 'admiration', 'cure', 'jostle', 'puppets', 'tucker', 'sees', 'drafted', 'paris', 'impostor', 'dell', 'pantomime', 'hepburn', 'michael', 'capra', 'bedtime', 'comelius', 'pavement', 'present', 'pontoon', 'treeline', 'reawakening', 'decision', 'our', 'bodies', 'nyu', 'lone', 'fiancé', 'zealousness', 'millionaire', 'unfurnished', 'communion', 'doctor', 'claims', 'hasso', 'uninspiring', 'clever', 'morsels', 'carano', 'novels', 'wannabes', 'prominently', 'perceptive', 'satchwell', 'orphaned', 'favorites', 'quartered', 'eotw', 'portends', 'seeds', '1936', 'embark', 'dastardly', 'lautrec', 'jews', 'cabin', 'plaguing', 'unapproachable', 'deleted', 'leather', 'majority', 'bruise', 'lodge', 'deep', 'pander', 'sagas', '35', 'psychoanalyst', 'mendez', 'plane', 'jimmy', 'description', 'lightly', 'inclines', 'underwhelmed', 'departed', 'lip', 'visions', 'wa', 'carry', 'similar', 'utters', 'innocents', 'accomplishments', 'smoked', 'traditionally', 'illustrates', 'pirate', 'spear', 'obélix', 'rode', 'cigar', 'surpassed', 'peasantry', 'erupt', 'average', 'laurel', 'kops', 'staffer', 'airplane', 'dimtri', 'extended', 'dimension', 'contradiction', 'veber', 'faith', 'concorde', 'daimajin', 'beyond', 'stumbled', 'making', 'bio', 'matthew', 'luxury', 'hire', 'episodic', 'guffaws', 'aggravated', 'danish', 'ago', 'anchoring', 'younglings', 'shamelessly', 'descend', 'alignment', 'unmindful', 'rodoreda', 'consensus', 'doting', 'opposed', 'plotting', 'clip', 'misguided', 'province', 'misdemeanour', 'havilland', 'revolved', 'bros', 'creaky', 'apologies', 'unbearable', 'hopelessly', 'reading', 'getters', 'cornel', 'date', 'rock', 'idolizes', 'schnass', 'domini', 'steinbeck', 'mountainous', 'hobby', 'greensboro', 'bathtub', 'sydrow', 'kinnear', 'trip', 'abound', 'kristi', 'offing', 'attractively', 'spending', 'engrossing', 'fifty', 'intertwining', 'goering', 'sham', 'dumas', 'whitlam', 'rooftop', 'inexhaustible', 'pad', 'justifiable', 'brow', 'gimmick', 'storytelling', 'desi', 'truer', 'sci', 'svengali', '99', 'abundance', 'inquisition', 'freeze', 'witnessed', 'voyages', 'face', 'achievement', 'nevermore', 'factory', 'roles', 'artsy', 'automaton', 'notched', 'pepsi', 'luved', 'asylum', 'manners', 'reinvents', 'foresees', 'allied', 'creature', '1995', 'occupying', 'danes', 'add', 'patrons', 'treating', 'baiting', 'frau', 'gnaw', 'rafting', 'berate', 'gentle', 'puerile', 'regal', 'mainly', 'em', 'motion', 'dominance', 'brave', 'seam', 'farewell', 'vegetating', 'rises', 'praises', 'detained', 'cornerstone', 'urges', 'shade', 'nasally', 'klezmer', 'greenaway', 'hut', 'moonlight', 'hughes', 'cube', 'deserted', 'cong', 'ordinance', 'janitors', 'dalmatians', 'unfulfilled', 'reintegrating', 'serum', 'propagated', 'corse', 'funnily', 'nadine', 'vienna', 'tailored', 'settle', 'visiting', 'kubrick', 'assuring', 'appointment', 'gilbert', 'bristol', 'exhilarating', 'dougray', 'complete', 'meirelles', 'satiating', 'footage', 'humiliated', 'paulette', 'vignettes', 'pop', 'stimulating', 'horrifying', 'silhouetted', 'fruits', 'gaelic', 'religion', 'sox', 'troublesome', 'olivia', 'rich', 'standouts', 'desert', 'experts', 'chopped', 'technologically', 'highway', 'fingers', 'maniacs', 'drift', 'easiest', 'stormhold', 'fl', 'whistles', 'pursued', 'undone', 'traces', 'wherein', 'generations', 'educated', 'nowhonestly', 'punched', 'aiken', 'danton', 'britains', 'rejecting', 'idolises', 'balanced', 'repetitions', 'delve', 'replicate', 'gutsy', 'beaufort', 'emerged', 'obstacles', 'investigations', 'intends', 'paramount', 'deny', 'arching', 'reward', 'pasolini', '1970', 'trousers', 'retaining', 'motive', 'inadequate', 'fullness', 'waldo', 'unstoppable', 'fame', 'superficially', 'caucasian', 'mannered', '4x', 'hardgore', 'discussion', 'pakistan', 'voters', 'underwater', 'reprising', 'dig', 'ryan', 'walken', 'dished', 'sickness', 'trout', 'anaesthetic', 'pound', 'scraggly', 'guy', 'padding', 'profiles', 'swearengen', 'strikingly', 'agonizingly', 'conductor', 'aired', 'boats', 'skulls', 'incomprehensibility', 'clutching', 'munchausen', 'workshops', 'eiji', 'hillyer', 'moo', 'remembers', 'phone', 'owes', 'bone', 'hallway', 'stayed', 'besieged', 'dream', 'carrier', 'subliminal', 'diffrent', 'herds', 'flings', 'land', 'knowledge', 'hindusthan', 'glen', 'demonic', 'tolerant', '86', 'surgically', 'brando', 'handkerchiefs', 'distressed', 'skeet', 'daughter', 'playboy', 'natalie', 'hearts', 'structured', 'lauren', 'sopranos', 'aerobics', 'paltry', 'determine', 'county', 'west', 'georg', 'immigrant', 'fugitive', 'leon', 'holmes', 'preaching', 'vinny', 'vengeful', 'render', 'stupidhead', 'sincere', 'forwarding', 'mme', 'dicamillo', 'interrogation', 'problems', 'chips', 'lenz', 'catcher', 'distasteful', 'solutions', 'willard', 'simpson', 'owners', 'leader', 'matthau', 'basically', 'thankless', 'matheson', 'horst', 'pam', 'section', 'catapult', 'roll', 'granddaddy', 'chapel', 'col', 'alicia', 'abuse', 'whimper', 'releasing', 'palace', 'sequences', 'rhys', 'undoubtedly', 'charging', 'reported', 'silhouette', 'bloodbath', 'screw', 'executives', 'eminent', 'unparalleled', 'quotidian', 'spanned', 'forming', 'thumps', 'eels', 'wilbur', 'touch', 'bounces', 'jails', 'bowling', 'venice', 'gervais', 'mazursky', 'incredible', 'ceremony', 'virginia', 'cultures', 'gypsy', 'sergei', 'outshone', 'kicker', 'facilitate', 'hereabouts', 'galactica', 'loudest', 'soft', 'policing', 'vainly', '5000', 'prokeviev', 'sentimentality', 'unjust', 'skillfully', 'loop', 'invention', 'tortuous', 'priyanka', 'caved', 'eisenstein', 'gunned', 'peet', 'hug', 'accomplishes', 'vision', 'survived', 'premeditated', 'catch', 'amrita', 'lad', 'maureen', 'consequences', 'joe', 'makeover', 'gopal', 'infused', 'drum', 'hardy', 'moustache', 'turnabout', 'brother', 'updated', 'upkeep', 'buffs', 'holly', 'assemble', 'disregard', 'mode', 'sympathies', 'liberal', 'everglades', 'bluff', 'asshole', 'decadent', 'elias', 'thus', 'suspended', 'lesser', 'skirts', 'tombstones', 'duped', 'tv', '2050', 'henri', 'expletive', 'samuarai', 'sony', 'clothilde', 'citizen', 'polly', 'women', 'elders', 'counselor', 'lifeboat', 'birdy', 'commented', 'tenth', 'cookie', 'fast', 'wavy', 'become', 'zarabeth', 'pepper', 'forcible', 'cheap', 'leisurely', 'reasonability', 'unmarried', 'neighbors', 'centennial', 'kudos', 'mastermind', 'camouflaged', 'survive', 'plagiarism', 'parties', 'injured', 'european', 'degrades', 'williams', 'venture', 'lou', 'exuding', 'banner', 'faucet', 'overtones', 'replete', 'mishmash', 'maraud', 'keeper', 'amalgamation', 'smackdown', 'innovation', 'ire', 'ving', 'ritual', 'started', 'valletta', 'yo', 'flattop', 'merits', 'frames', 'latinos', '1984', 'winnipeg', 'xian', 'throughout', 'adventures', 'mans', 'background', 'terribly', 'waking', 'worms', 'differed', 'sarn', 'boyfriends', 'minus', 'condemn', 'thanked', 'kitch', 'courses', 'amore', 'choices', 'slum', 'eluded', 'inquirer', 'stank', 'likeness', 'vadim', 'dee', 'formidable', 'whitaker', 'gig', 'philosophy', 'spelling', 'costume', 'sister', 'prevented', 'myriad', 'pathological', 'escalating', 'shallow', 'arms', 'revolving', 'reminiscence', 'hatred', 'alwin', 'banging', 'avoiding', 'enabled', 'thinner', 'creaking', 'jaffa', 'manoj', 'simplify', 'crashed', 'galore', 'service', 'deceiving', 'pompously', 'starlina', 'wallet', 'kills', 'flavor', 'teases', 'silverstone', 'privation', 'ose', 'merchant', 'descended', 'supplied', 'eaten', 'zag', 'oversight', 'pleasures', 'ratso', 'styled', 'disintegration', 'ticotin', 'finding', 'seeking', 'forsythe', 'vampires', '1952', 'intrigue', 'periods', 'biased', 'needless', 'lowly', 'prosthesis', 'curious', 'languages', 'dungy', 'arise', 'zanuck', 'cardenas', 'gilmore', 'activists', 'straight', 'zen', 'adopted', 'grindhouse', 'patronizing', 'bass', 'katherine', 'sites', 'sunk', 'unbeatable', 'wilted', 'ug', 'address', 'crumble', 'minelli', 'four', 'bye', 'angst', 'respected', 'important', 'debuted', 'flurry', 'penn', 'call', 'miriam', 'happily', 'michele', 'deviant', 'chuckywe', 'popeye', 'lips', 'separation', 'timewaster', 'consultant', 'clinic', 'scratching', 'immortal', 'bin', 'grady', 'despite', 'stories', 'collaborators', 'despicable', 'déjà', 'outstandingthe', 'trend', 'celestial', 'user', 'cybill', 'zillion', 'schultz', 'inspection', 'tlc', 'irritating', 'impartial', 'disappoints', 'eloquence', 'pommel', 'highschool', 'wholesale', 'backdrops', 'faithful', 'exchange', 'torment', 'watts', 'shows', 'differences', 'vhala', 'shanghai', 'snuggled', 'kurosawa', 'drown', 'puleeze', 'transforms', 'landed', 'messier', 'biehn', 'mutilated', 'mctiernan', 'jekyll', 'historic', 'snuggly', 'studies', 'eyesore', 'collector', 'talks', 'laundry', 'custom', 'confident', 'unendurable', 'correct', 'sled', 'judicious', 'pastiche', 'grab', 'protective', 'disembodied', 'resultant', 'relied', '54', 'roger', 'feeds', 'philadelphia', 'humanity', 'prophetic', 'conrack', 'offending', 'influential', 'crumbling', 'rape', 'resourcefulness', 'trek', 'pretensions', 'media', 'doppelganger', 'outcome', 'vehicle', 'professor', 'ocean', 'ins', 'susannah', 'wyman', 'foreshadowed', 'molesting', 'feelings', 'beloved', 'shaving', 'patient', 'joni', 'aways', 'hitting', 'apex', 'creepiest', 'grapewin', 'unforgiving', 'ideal', 'financial', 'di', 'bash', 'revelries', 'hop', 'grodin', 'scenarist', 'deconstructing', 'yelnats', 'guns', 'employer', 'corn', 'trapper', 'moll', 'bella', 'mexico', 'cinematographers', 'toy', 'sidelined', 'enola', 'alter', 'ate', 'kao', 'rattle', 'menacing', 'dismisses', 'fellini', 'presenting', 'abominable', 'laughably', 'nobody', 'pooa', 'garbage', 'enslaving', 'porn', 'complications', 'honorable', 'gruesomely', 'devotion', 'polarized', 'artel', 'taboos', 'sherlock', 'tandem', 'filmmaker', 'unequivocally', 'miss', 'unimpressive', 'tracey', 'dogberry', 'jeanne', 'awake', 'dh', 'devoted', 'adjectives', 'hauer', 'parallels', 'evolution', 'marks', 'evangelistic', 'burman', 'sing', 'disconnected', 'battalion', 'paupers', 'rudd', 'overboard', 'contrives', 'possessed', 'eliot', 'baltimore', 'physcho', 'whoever', 'propensity', 'katharine', 'foreboding', 'rack', 'press', 'proved', 'boundaries', 'crows', 'foreign', 'bells', 'cohesive', 'redeem', 'question', 'insanity', 'memorably', 'fastest', 'gum', '50p', 'meatloaf', 'rifle', 'joshua', 'mishevious', 'ishwar', 'dialog', 'surviving', 'satisfactory', 'bum', 'derivatives', 'slow', 'ranting', 'acknowledgement', 'bettering', 'upended', 'cann', 'milian', 'packs', 'transmits', 'among', 'overly', 'cemeteries', 'crafted', 'becky', 'milano', 'rothrock', 'kick', 'rabies', 'mystery', 'inserted', 'cockroach', 'predict', 'bessie', 'cylinder', 'alongside', 'smaller', 'bishop', 'angela', 'iii', 'chopper', 'lloyd', 'brannigan', 'splendid', 'tortured', 'lance', 'sorta', 'banal', 'market', 'shoddy', 'counting', 'threatening', 'temporarily', 'logo', 'itself', 'grandchildren', 'annoy', 'montages', 'syrup', 'jesse', 'vet', 'productions', 'muni', 'crapula', 'kinship', 'bookcase', 'organized', 'mcdonald', 'threats', 'victrola', 'mock', 'infamous', 'mercilessly', 'bathes', 'shah', 'conventionally', 'cappy', 'magnate', 'battered', 'geographic', 'corrupted', 'unearthed', 'corin', 'zucker', 'stowaways', 'snooze', 'repugnant', 'longed', 'roadside', 'secretarial', 'bazaar', 'inian', 'donkey', 'downtown', 'concede', 'longwinded', 'monkey', 'remarkable', 'lineage', 'treatise', 'interviews', 'mediocrity', 'person', 'slurs', 'performances', 'newbie', 'revel', 'honky', '16', 'traps', 'exterior', 'dantesque', 'specialist', 'private', 'initials', 'medium', 'raving', 'enforced', 'colours', 'colorado', 'edna', 'forms', 'sumptuous', 'airport', 'supervised', 'mork', 'nihilism', 'jive', 'priscilla', 'erroneously', 'kind', 'entrancing', 'handicap', 'whiney', 'identical', 'candid', 'hardly', 'maclean', 'saltwater', 'bed', 'deadpan', 'evolving', '2007', 'ethan', 'raptor', 'blob', 'barking', 'justify', 'hooey', 'tibor', 'tee', 'fatigue', 'similes', 'daniels', 'aleksandr', 'axe', 'looney', 'cough', 'craven', 'sleeper', 'respite', 'conquest', 'donnagio', 'honestly', 'helper', 'pattern', 'murderous', 'incomplete', '000', 'debbie', 'partially', 'innumerable', 'drawing', 'experiencing', 'moses', 'malkovich', 'dedicated', 'meanders', 'ops', 'accident', 'lasted', 'heeled', 'hospitalized', 'regions', 'wilmington', 'foxx', 'minimal', 'overuse', 'leonard', 'due', 'ethnic', 'leste', 'block', 'rested', 'run', 'suh', 'thugs', 'mechanically', 'washing', 'argumentative', 'shelters', 'cynical', 'snails', 'provides', 'whilst', 'confrontation', 'flashy', 'chupacabra', 'radio', 'sometime', 'flatter', 'cybersix', 'melinda', 'rancid', 'photograph', 'backwards', 'mishap', 'sunday', 'intensity', 'slump', 'repent', 'elwes', 'waltzes', 'thingamajig', 'episode', 'reservedly', 'decker', 'chocolate', 'unforced', 'sleepiness', 'benedict', 'requisite', 'lifelong', 'constructed', 'jail', 'experience', 'suspicion', 'closet', 'elas', 'legends', 'impatience', 'brad', 'believing', 'elocution', 'adaptation', 'consumer', 'illan', 'cripples', 'scenarios', 'russell', 'napoleon', 'younger', 'singularly', 'stoped', 'mike', 'aftermath', 'enrolled', 'highs', 'repressed', 'subjective', 'bukhanovsky', 'recognition', 'effortlessly', 'mono', 'catogoricaly', 'thackaray', 'lunatic', 'winnowing', 'ellie', 'incendiary', 'aryan', 'affleck', 'practical', 'trinians', 'terrace', 'pounds', 'navarro', 'sid', 'foley', 'featuring', 'latcho', 'feast', 'argument', 'ruler', 'lighthearted', 'gaps', 'afghan', 'limb', 'dust', 'doused', 'hypocrisy', 'strasberg', 'polanski', 'proxy', 'longest', 'alegria', 'replicas', 'restored', 'pitiful', 'dr', 'indulgent', 'during', 'hoge', 'braun', 'sorcery', 'tierney', 'protagonist', 'molloch', 'skinniness', 'dutta', 'buff', 'venus', 'shouting', 'dynamics', 'situated', 'baranski', 'handing', 'invested', 'scarp', 'cronies', 'kilcher', 'darryl', 'thoughtlessly', 'spectacular', 'disarms', 'diabolical', 'contessa', 'pastore', 'chain', 'nurtured', 'integration', 'ganz', 'sublimely', 'premise', 'inhabitants', 'division', 'thirst', 'carrol', '900', 'ignited', 'city', 'airline', 'invariably', 'concentrates', 'firing', 'useful', 'jealous', 'tomb', 'georges', 'hater', 'durham', 'belter', 'obverse', 'mister', 'stating', 'rosa', 'viktor', 'pacifist', 'park', 'valo', 'paste', 'gave', 'scatters', 'potter', 'stretches', 'egotistical', 'tickets', 'adult', 'chunk', 'professors', 'liz', 'explosions', 'overcoming', 'simulate', 'opéra', 'distant', 'techniques', 'sensory', 'nuanced', 'unstaged', 'inbreeds', 'shortage', 'moreokay', 'suitors', 'packed', 'purposes', 'unnatural', 'packing', 'decade', 'nightmarish', 'margarete', 'recital', 'pan', 'mercy', 'raced', 'rip', 'hogged', 'articulate', 'hmmm', 'overlooked', 'dublin', 'womanin', 'debit', 'randomly', 'sensational', 'stared', 'tanzania', 'sombre', 'barf', 'gamine', 'judah', 'introduced', 'valley', 'bulges', 'language', 'engenders', 'twelfth', 'favour', 'behold', 'spinal', 'bumming', 'decisions', 'wit', 'analytical', 'chess', 'phoning', 'caviezel', 'hung', 'arrowhead', 'latrine', 'precisely', 'expressed', 'alonzo', 'gritting', 'noted', 'chairs', 'clone', 'h20', 'eve', 'heed', 'roasting', 'game', 'contains', 'saki', 'scandinavian', 'illnesses', 'risk', 'sharing', 'lions', 'swedish', 'indeed', 'packets', 'feminine', 'terror', 'horse', 'pig', 'sterling', 'insinuating', 'ravaged', 'favourably', 'fodder', 'forcefully', 'strange', 'metaphoric', 'held', 'racier', 'adviser', 'morris', 'consecutive', 'bandits', 'cloak', 'francisville', 'everytime', 'krimis', 'derec', 'handcuffs', 'listless', 'deliberate', 'spends', 'interact', 'generates', 'wrinkle', 'representative', 'jesus', 'hearth', 'haired', 'paint', 'quickly', 'apes', 'tais', 'boo', 'thrill', 'brenden', 'injustice', 'experiences', 'announces', 'francis', 'lobotomy', 'bunch', 'asterix', 'freeman', 'diminutive', 'lamest', 'rhythm', 'sample', 'healing', 'carrefour', 'rivoting', 'organizers', 'pretenses', 'heavy', 'formidably', 'vibe', 'everett', 'mess', 'harassing', 'pacino', 'bassanio', 'triad', 'graveyard', 'whoppers', 'hunched', 'enlightened', 'charlotte', 'trash', 'halls', 'unleashes', 'bumpiest', 'gayle', 'pt', 'belgian', 'pilfered', 'bobcat', 'radioactive', 'tenko', 'james', 'nastiest', 'retired', 'lulls', 'dominate', 'schools', 'realization', 'nandani', 'idyll', 'gregory', 'phillips', 'immeasurable', 'mill', 'stepson', 'number', 'puzzling', 'stripping', 'launched', 'whats', 'equally', 'buster', 'red', 'starlet', 'system', 'politician', 'owe', 'rififi', 'slugs', 'brooding', 'serrault', 'wart', 'vastly', 'soon', 'languid', 'margera', 'faults', 'abomination', 'headed', 'sheedy', 'space', 'dominated', 'stinks', 'neptunemonday', '007s', 'opt', 'charlize', 'dummies', '00s', 'mustaches', '1928', 'fishing', 'accomplishment', 'smörgåsbord', 'yeaahhh', 'filming', 'nazis', 'completest', 'heany', 'facing', 'neeson', 'orchestral', 'environmental', 'distorted', 'choir', 'himself', 'crock', 'reminds', 'underscored', 'trojans', 'collage', 'kapadia', 'lyle', 'curl', 'transports', 'overpowering', 'freelancer', 'candles', 'fide', 'alienation', '1990', 'nell', 'postman', 'leah', 'equal', 'able', 'irreverent', 'clothes', 'primitive', 'perry', 'screen', 'foursome', 'lame', 'ireland', 'spikes', 'china', 'marple', 'stomp', 'artist', 'suit', 'shtetl', 'hamiltons', 'barantini', 'pronounced', 'atwill', 'vicious', 'swear', 'bullock', 'stanford', 'plausibility', 'curtis', 'unfunny', 'hara', 'kwame', 'burton', 'waif', 'hey', 'potential', 'desperation', 'hinton', 'worshipers', 'boxing', 'temps', 'trashiest', 'passively', 'leg', 'underground', 'sends', 'verdon', 'erica', 'unfocused', 'korman', 'mish', 'word', 'climaxes', 'amos', 'blocked', 'ming', 'peach', 'elated', 'fx', 'anding', 'bronze', 'divine', 'michelangelo', 'tricks', 'anton', 'oiled', 'handel', 'headmistress', 'hyde', 'couplings', 'bill', 'ontario', 'trussell', 'herschell', 'sari', 'bigger', 'duplicated', 'drastically', 'qualm', 'macdonald', 'massachusetts', 'enshrouded', 'bushes', 'suffered', 'moves', 'caine', 'hindi', 'protected', 'stefan', 'prc', 'related', 'darkly', '70s', 'courtesy', 'pile', 'renoir', 'penetrate', 'explorations', 'pretences', 'mentors', 'integrity', 'stand', 'harder', 'nurse', 'drew', 'iconography', 'sentence', 'angelina', 'cowboy', 'grittily', 'od', 'ascending', 'thisis', 'miranda', 'paltrow', 'sg', 'erratic', 'archaeologist', 'capsized', 'greenlake', 'double', 'definately', 'connecticut', 'minimalist', 'hand', 'bares', 'tyrone', 'lunch', 'tobel', 'identities', 'theodore', 'managed', 'emergence', 'fritton', 'formula', 'zilch', 'novgorod', 'reputed', 'addition', 'nuts', 'discussing', 'gaiman', 'chavez', 'attachments', 'hook', 'sheer', 'repeat', 'devised', 'deity', 'shimmer', 'different', 'consumes', 'plant', 'womaniser', 'drilling', 'interservice', 'compères', 'lovemaking', 'hugo', 'baracus', 'scream', 'wizards', 'clara', 'dougherty', 'remick', 'hopeless', 'rao', 'naturalistic', 'illustrious', 'moulin', 'bookends', 'roadshow', 'gravesite', 'dirtiness', 'ayeka', 'peeks', 'download', 'destroyer', 'herman', 'improvements', 'predictability', 'drag', 'diplomacy', 'royale', 'symbolizing', 'ineffective', 'algerian', 'file', 'flack', 'neighbour', 'live', 'bumptious', '82', 'crucial', 'sweet', '1953', 'descript', 'cremation', 'scrappy', 'rivalry', 'trilogy', 'coolest', 'sink', 'heave', 'insulting', 'demons', 'operatives', 'amara', 'fantasies', 'titillate', 'sunshine', 'josh', 'charge', '2002', 'influence', 'religious', 'gaze', 'blue', 'gabbed', 'accepts', 'eileen', 'hickson', 'engineers', 'genius', 'resolutely', 'struggling', 'aztec', 'claustrophobic', 'tragedy', 'abrasive', 'interwoven', 'content', 'racism', 'wifey', 'aforementioned', 'widower', 'recommendations', 'exam', 'hallowed', 'spoilers', 'verbal', 'progresses', 'clause', 'philippine', 'mb', 'machismo', 'famished', 'flickering', 'tortures', 'admire', 'sweep', 'ryne', 'cooperation', 'wooden', 'heart', 'false', 'auteur', 'secretaries', 'successful', 'lovelier', 'blunt', 'intelligence', 'departs', 'pino', 'copenhagen', 'sammo', 'exotic', 'stacey', 'welcomed', 'skills', 'inventing', 'selma', 'leto', '1300s', 'perimeter', 'worry', 'alf', 'fireplace', 'hashmi', 'graphics', 'experimental', 'ernest', 'crossing', 'unacurate', 'sumi', 'totally', 'persona', 'honourable', 'limbs', 'charleton', 'derivative', 'seater', 'tore', 'invade', 'succeed', 'ellen', 'iranian', 'halliburton', 'monotone', 'derived', 'kingship', 'discloses', 'unending', 'lustful', 'demonstrates', 'fabian', 'realm', '2008', 'wraps', 'soaked', 'cupid', 'brahms', '92', 'cafe', 'embarrassingly', 'lengths', 'submitted', 'hostility', 'judgmental', 'lenghts', 'anicee', 'malishu', 'giovanna', 'respective', 'mythical', 'animation', 'stave', 'insect', 'merrill', 'linda', 'manhood', 'jerald', 'reveres', 'stagey', 'kristine', 'clue', 'figurehead', 'flats', 'comrade', 'including', 'information', 'glaring', 'repair', 'matt', 'skimpy', 'grossly', 'dvd', 'kurt', 'hideously', 'girlfriend', 'subtitles', 'assurance', 'lately', 'modernity', 'subversive', 'recreate', 'raymond', 'erye', 'titian', 'desire', 'diggers', 'shirley', 'site', 'jalopy', 'craftsmanship', 'themes', 'diana', 'poisonous', 'hubba', 'rainer', 'forever', 'allies', 'spoil', 'tears', 'misanthropic', 'passageway', 'sentimentalized', 'winds', 'upbringing', 'gorbunov', 'semblance', 'knack', 'sanchez', 'affirming', 'vikings', 'script', 'levres', 'naval', 'demerit', 'lucrative', 'destroys', 'coughs', 'kashmira', 'defense', 'grace', 'goofiness', 'nakedly', 'restrooms', 'symbolized', 'boilerplate', 'desparation', 'massed', 'shifted', 'bowls', 'span', 'achiever', 'boyfriend', 'colony', 'skinning', 'dignified', 'keira', 'liotta', 'blossoming', 'coworkers', 'banjos', 'balfour', 'emily', 'reviews', 'tearful', 'buffett', 'dreamscapes', 'avaricious', 'carriages', 'lisbon', 'impress', 'darvi', 'jeb', '84', 'woodworth', 'tyzack', 'undertakings', 'scripture', 'illustrative', 'futuristic', 'replacing', 'karen', 'sweetwater', 'coldly', 'keystone', 'lawyer', 'lise', 'claw', 'atoll', 'gruner', 'upbeat', 'promiscuity', 'instructor', 'kiri', 'harris', 'disbelief', 'nope', 'steel', 'mano', 'bend', 'bobbies', 'flamethrower', 'kasi', 'documents', 'missions', 'marble', 'disfigured', 'shaky', 'depending', 'st', 'button', 'hannigan', 'branaugh', 'suited', 'attitude', 'ursula', 'isabel', 'tang', 'aristocats', 'tween', 'law', 'apple', 'deepti', 'backyard', 'blinkin', 'emerge', 'elfman', 'divorce', 'childlike', 'prince', 'pranks', 'eckhart', 'bachchan', 'pausing', 'volcanic', 'immortality', 'graduates', 'disneyfication', 'cohorts', 'brody', 'shacking', 'wilding', 'ought', 'annals', 'lace', 'calibre', 'arts', 'bette', 'gasp', 'unavailable', 'flared', 'cuthbert', 'substituted', 'senior', 'coraline', 'tuyle', 'mccambridge', 'ucci', 'soliciting', 'offensive', 'stumble', 'superman', 'uncut', 'surreal', 'borne', 'gao', 'pure', 'dissolve', 'audrey', 'restore', 'reminded', 'geographical', 'officer', 'learning', 'rachael', 'resonated', 'unforgettable', 'warmer', 'bret', 'until', 'industrial', 'infested', 'capos', 'sensations', 'thong', 'bowl', 'cacoyannis', 'scalped', 'abstinence', 'left', 'ola', 'superior', 'hacking', 'sydney', 'cowardly', 'estate', 'gumball', 'goer', 'hickock', 'battling', 'capacity', 'alix', 'resilience', 'reunion', 'putrid', 'subjects', 'likability', 'shockingly', 'narrow', 'moff', 'approached', 'alien', 'perfection', 'bafflingly', 'shrieking', 'birdie', 'hardships', 'continuous', 'mail', 'suffer', 'reign', 'ghettos', 'guides', 'ecosystem', 'thorough', 'dime', 'ban', 'eisner', 'caroling', 'bulk', 'censored', 'striptease', 'garbo', 'impacted', 'cupboards', 'money', 'losing', 'spoiler', 'feudal', 'gloss', 'conclusions', 'sell', 'sadomasochistic', 'salt', 'blemish', 'norton', 'indra', 'beggars', 'selflessly', 'pothus', 'potion', 'hokey', 'consultants', 'screwier', 'kid', 'stay', 'tracking', 'beginnings', 'shashi', 'customers', 'cohn', 'side', 'ankhnaten', 'reprehensible', 'applauds', 'littlest', 'found', 'warmly', 'wrap', 'brutalized', 'limos', 'maynard', 'fundament', 'bases', 'govinda', 'favorable', 'sprinkler', 'andre', 'cetera', 'corder', 'nathan', 'bleah', 'revolution', 'exposes', 'according', 'unethical', 'technology', 'finance', 'provocative', 'boyer', 'edith', 'artists', 'answers', 'streets', 'contacts', 'primary', 'rolling', 'basic', 'grudge', 'sur', 'broderick', 'mirrors', 'buice', 'boxy', 'rees', 'bosworth', 'choked', 'grows', 'plots', 'scat', 'renting', 'summarize', 'undressed', 'department', 'siphon', 'epos', 'bungy', 'swim', 'highlighting', 'virtue', 'snail', 'quirky', 'potato', 'jericho', 'ruthless', 'unprepared', 'stalwart', 'thundering', 'ordinary', 'burgeoning', 'discotheque', 'moctezuma', 'thrown', 'apologizes', 'renfro', 'amongst', 'cousin', 'fill', 'eroticism', 'buffalo', 'california', 'vacant', 'louco', 'holcomb', 'gas', 'shining', 'shoots', 'bizarre', 'version', 'fenn', 'armpit', 'arc', 'response', 'brilliant', 'mcdonnell', 'taekwondo', 'awarded', 'daffy', 'forgive', 'boulder', 'dropping', 'album', 'sigurrós', 'bath', 'monument', 'hoods', '250', 'volunteers', 'margheriti', 'sherilyn', 'oxidized', 'referencing', 'adotped', 'sea', 'internally', 'sitcom', 'amenities', 'zulu', 'teaching', 'belt', 'recruit', 'bitter', 'vis', 'detach', 'cathy', 'baddie', 'amuse', 'flaherty', 'unsaid', 'supercharged', 'tamblyn', 'dippie', 'skinheads', 'crisis', 'metaphors', 'drought', 'engage', 'wisdom', 'spectacularly', 'franka', 'femme', 'potente', 'barbarella', 'duration', 'celebrity', 'jackman', 'reception', 'supplements', 'panel', 'genres', 'amusingly', 'candice', 'actual', 'yiddish', 'marla', 'afar', 'horrigan', 'newer', 'nude', 'finer', 'ghostly', 'coworker', 'allusion', 'brainy', 'spent', 'overview', 'quotable', 'kenny', 'levinson', 'pageant', 'week', 'underdog', 'darwin', 'headly', 'convincingly', '1960s', 'telegraphed', 'casino', 'enclosure', 'hare', 'listers', 'aileen', 'mars', 'hotel', 'kitagawa', 'grossed', 'resorts', 'gripped', 'gone', 'stoners', 'weigall', 'racial', 'cliver', 'slap', 'chasing', 'track', 'compelled', 'varying', 'gesture', 'worm', 'widow', 'exceptionally', 'archetypal', 'wears', 'gamera', 'disentangling', 'delegates', 'intact', 'spray', 'gays', 'hearn', 'panning', 'strategized', '15am', 'excrement', 'import', 'roc', 'weeny', 'cocker', 'jake', 'mrs', 'famine', 'contrast', 'suspending', 'authentic', 'deaths', 'devoid', 'unsuspended', 'injecting', 'fabulous', 'marveled', 'noble', 'inky', 'datedness', 'dont', 'counter', 'dilemmas', 'sabrina', 'spirits', 'clenteen', 'mclane', 'jeans', 'bro', 'burger', 'startled', 'treated', 'boys', 'americans', 'mom', 'killed', 'madonna', 'fanatic', 'somber', 'evasive', 'multitude', 'extase', 'generating', 'tittering', 'wearwolf', 'silents', 'layout', 'sold', 'fatally', 'exterminating', 'prep', 'delicious', 'effin', 'luthor', 'nowhere', 'tins', 'cycle', 'knife', 'reveries', 'anticipated', 'interplay', 'cher', 'endeavors', 'weathervane', 'zemeckis', 'karel', 'decentsalman', 'trust', 'second', 'minded', 'finds', 'mythic', 'concentrate', 'dubliners', 'moviegoers', 'hindsight', 'hoodie', 'bundled', 'planet', 'rude', 'mcneely', 'casey', 'henstridge', 'shopgirl', 'nevertheless', 'dating', 'picture', 'draw', 'symbolism', 'coast', 'smidgen', 'newfound', 'humored', 'replied', 'evacuee', 'techincolored', 'gurie', 'guilfoyle', 'murderess', 'bearable', 'larf', 'bosses', 'miller', 'acclaimed', 'deathbed', 'korea', 'reckon', 'unappreciated', 'speaking', 'tomatoes', 'escapes', 'loitering', 'dull', 'crawl', 'subtlety', 'cactus', 'isla', 'shucks', 'seduce', 'seta', 'logan', 'messages', 'transcend', 'nodding', 'open', 'splatter', 'hooligans', 'ridiculousness', 'brand', 'andrew', 'throne', 'landau', 'capital', 'remotest', 'complaint', 'crappy', 'cynic', 'arrangement', 'authenic', 'latest', 'credits', 'legged', 'sprinkling', 'council', 'judge', 'bothersome', 'performers', 'matriarch', 'superuser', 'dutifully', 'warren', 'declared', 'plainspoken', 'gladiator', 'discover', 'stopping', 'co', 'ugly', 'freshness', 'beneath', 'titanic', 'wave', 'footpath', 'fairytale', 'sated', 'disservice', 'cadet', 'hooks', 'wrists', 'feces', 'patterson', 'stretch', 'masculine', 'workers', 'stepsister', 'dolphins', 'untucked', 'unaware', 'rodney', 'broadcasts', 'polyester', 'resulted', 'lorelai', 'locke', 'boxed', 'hindrance', 'passages', 'suspicions', 'sh', 'directorial', 'foreigner', 'revolutionary', 'tested', 'raju', 'scoping', 'nifty', 'spectrum', 'lucas', 'complex', 'opaque', 'escape', 'hinting', 'arena', 'perez', 'conjured', 'counterpoints', 'discrimination', 'arrow', 'pretend', 'gray', 'obscene', 'yesterday', 'rehman', 'farrow', 'sporty', 'invaded', 'tykwer', 'escapade', 'concise', 'adventurer', 'bolos', 'rediscover', 'approximates', 'zacarías', 'inviting', 'unwaveringly', 'biographical', 'kennedy', 'underbelly', 'laughable', 'arrives', 'unwashed', 'voicing', 'wrestling', 'jackee', 'fei', 'duck', 'distracted', 'com', 'mundane', 'limitations', 'injury', 'incompatible', 'condense', 'telegraph', 'chronicles', 'gold', 'eastwood', 'explainable', 'horrid', 'weakest', 'matrix', 'sensation', 'schumer', 'spears', '45', 'molested', 'jazzy', 'maneuver', '2nd', 'parasite', 'used', 'prisoner', 'necklace', 'testing', 'computerised', 'corpses', 'interface', 'toni', 'joey', 'bow', 'advertisers', 'teamed', 'yuko', 'debated', 'elude', 'forget', 'hacks', 'authors', 'enriched', 'considerations', 'colombia', 'guaranteed', 'diary', 'coffy', 'jubilant', 'restroom', 'shelter', 'sultan', 'radically', 'outtakes', 'translating', 'litel', 'moranis', 'energetic', 'premature', 'hilary', 'brits', 'sequel', 'begin', 'cataclysmic', 'escargot', 'discriminate', 'orchestra', 'fourths', 'admirers', 'frightened', 'adelaide', 'threatens', 'ointment', 'escapades', 'astronauts', 'compare', 'engle', 'remind', 'increase', 'miracle', 'brilliantly', 'gazing', 'apollo', 'deal', 'rabbi', 'denis', 'deliberately', 'dwarfs', 'lonely', 'scrambling', 'perverseness', 'weasel', 'barnum', 'acknowledged', 'motions', 'crowns', 'ferris', 'motel', 'insular', 'slug', 'thud', '43', 'quaid', 'parading', 'glasnost', 'venoms', 'antiquated', 'termed', 'oberoi', '65', 'parasitic', 'letting', 'fold', 'porch', 'keep', 'engulfed', 'manifests', 'pregnant', 'burdens', 'review', 'sputnik', 'centerline', 'titus', 'togar', 'transfixed', 'cineatique', 'bah', 'meanwhile', 'assert', 'nerve', 'kusak', 'downside', 'osteopath', 'oscer', 'ebert', 'prototype', 'recording', 'camion', 'alaskey', 'audiard', 'tio', 'villalobos', 'rathbone', 'fighter', 'list', 'accented', 'academy', 'informs', 'prospect', 'inert', 'creator', 'moshed', 'lahaye', 'railway', 'ripped', 'addict', 'hits', 'happier', 'forgiving', 'circumvented', 'reba', 'poetrymohinish', 'strokes', 'usage', 'behaviour', 'apartments', 'pokemon', 'activated', 'configured', 'reviewed', 'eighth', 'fabrics', 'nearly', 'brimming', 'runaway', 'warned', 'gruesome', 'unease', 'dueling', 'colourless', 'pitting', 'willingness', 'kotto', 'amateur', 'poignancy', 'lives', 'fuhrman', 'leno', 'neediest', 'leadership', 'fleshed', 'western', 'yearning', 'board', 'diseases', 'portions', 'catches', 'stabs', 'obi', 'cloud', 'twilight', 'stowing', 'hobgoblins', 'skinned', 'tedium', 'mathias', 'vilest', '1920s', 'swords', 'slapstick', 'jane', 'fascination', 'tenderness', 'wishes', 'blinded', '1986', 'vandeuvres', 'explicit', 'helm', 'precursor', 'lagaan', 'reccomend', 'dialogues', 'baird', 'grasshopper', 'tarantino', 'paragraphs', 'pacific', 'manage', 'realised', 'scarecrows', 'concerts', 'immersing', 'hold', 'kersey', 'essay', 'stopped', 'fantasyfilmfest', 'prefer', 'job', 'bouncing', 'substance', 'thanx', 'enables', 'rayford', 'mannerisms', 'whine', 'soy', 'tie', 'fall', 'truth', 'brushed', 'confusion', 'jannings', 'beings', 'amanda', 'carmus', 'doru', 'mesmerizing', 'porno', 'bubble', 'hecertainly', 'roman', 'kudzu', 'mezzogiorno', 'underplayed', 'perform', 'avant', 'carpenters', 'variable', 'channel', 'competence', 'thigh', 'una', 'closing', 'coffin', 'whipped', 'holbrook', 'involvement', 'humanist', 'nighttime', 'silent', 'untraditional', 'valereon', 'foremost', 'ironic', 'food', 'bettina', 'phony', 'enchanted', 'newfangled', 'additionally', 'clueless', 'dreyfuss', 'idioterne', 'tyneside', 'ang', 'hitchcockian', 'landis', 'inspector', 'suits', 'psst', 'mexican', 'flood', 'express', 'succumbs', 'weirdo', 'girl', 'dietrich', 'posey', 'shô', 'focused', 'opinions', 'smuggle', 'shaded', 'jutras', 'nwh', 'rays', 'recommend', 'emraan', 'lp', 'endeth', 'womanizer', 'levant', 'cover', 'ahh', 'conquerors', 'vil', 'uncanny', 'sleazy', 'independently', 'dug', 'corbin', 'retarded', 'casper', 'inspired', 'somethings', '200', 'scary', 'chew', 'din', 'shrunken', 'heroine', 'goth', 'sported', 'package', 'relentlessly', 'comforting', 'sleuth', 'unsentimental', 'popularized', 'wore', 'warns', 'cusack', 'jacksonville', 'lines', 'liked', 'unabashedly', 'hatched', 'fictional', 'midnight', 'po', 'profession', 'roms', 'unfamiliar', 'replies', 'swordsmanship', 'lion', 'towering', 'ponytail', 'shipman', 'wouldn', 'socket', 'ding', 'reads', 'meteor', 'kasdan', 'right', 'robsahm', 'consumers', 'dudikoff', 'marked', 'blacks', 'resigns', 'pre', '76', 'adhering', 'reykjavík', 'slaughter', 'dual', 'intelligibly', 'throw', 'voyeurism', 'alyson', 'boy', 'weekend', 'last', 'sail', 'lea', 'increasing', 'corrupt', 'tyres', 'redgrave', 'renown', 'succeeds', 'yawn', 'bystander', 'destroying', 'secret', 'laser', 'belated', 'annabelle', 'evil', 'dopey', 'decorate', 'kidding', 'omit', 'serling', 'unbeknownst', 'joins', 'narrators', 'register', 'arrogance', 'irani', 'cautioned', 'sweaty', 'pathway', 'mimi', 'purple', 'fella', 'formerly', 'hateful', 'adkins', 'kiddie', 'describe', 'grip', 'cléopâtre', 'contestant', 'crosby', 'hofstätter', 'liners', 'common', 'conflict', 'vines', 'directness', 'warming', 'amazingly', 'unexciting', 'espera', 'compensate', 'bitchy', 'spurts', 'angelic', 'intervention', 'transpired', 'auctioning', 'spinning', 'overbearing', 'abandoning', '1816', 'zipped', 'ado', 'strike', 'bombard', 'chiklis', 'hitchcock', 'esme', 'christmas', 'repentance', 'blah', 'deteriorated', 'receive', 'haggardly', 'musical', 'efficient', 'knew', 'ive', 'wb', 'aoki', 'link', 'disappears', 'resurrect', 'mcelhone', 'colman', 'giallo', 'ps', 'alexander', 'fbi', 'glued', '1900', 'segments', 'reversed', 'exhausts', 'renders', 'undeniable', 'titles', 'grégori', 'fish', 'ironically', 'douglas', 'third', 'bang', 'unicorn', 'prowess', 'villainous', 'disaster', 'dad', 'rapid', 'subsidiary', 'encompasses', 'spaces', 'ages', 'sidekick', 'minds', 'survivors', 'audio', 'bourgeoisie', 'earl', 'detailed', 'importance', 'herrings', 'hillsides', 'ridgemont', 'ääliöt', 'shrek', 'dynamism', 'stripper', 'speek', 'superhero', 'lots', 'yates', 'wearer', 'hobo', 'hardcore', 'cole', 'inexplicably', 'storyteller', 'threads', 'tribesman', 'unknowingly', 'crusty', 'elevates', 'homophobia', 'divorced', 'fluffy', 'thongs', 'viable', 'operative', 'mysterious', 'ned', 'pointless', 'photography', 'marvellous', 'fidelity', 'tennant', 'frowns', 'palance', 'ethical', 'reagan', 'dripping', 'mountaintop', 'strain', 'garish', 'scruffy', 'keeps', 'wally', 'miniature', 'mouse', 'sadder', 'coolio', 'arrangements', 'supposedly', 'deserving', 'sá', 'hustle', 'tips', 'chiller', 'skimmed', 'lamentable', 'blinked', 'facto', 'broadway', 'bids', 'comeback', 'ooh', 'imagination', 'allowing', 'society', 'selected', 'cobra', 'radar', 'jessie', 'eeriness', 'irritated', 'mumbled', 'fly', 'fiddle', 'panache', 'anybody', 'santiago', 'passes', 'widescreen', 'authenticity', 'feebly', 'predecessor', 'glorification', 'chiselled', 'anthem', 'rabbit', 'represent', 'canceled', 'beatty', '5ive', 'urge', 'canzonetta', 'judith', 'oscers', 'replay', 'sentences', 'canceling', 'piloting', 'feminist', 'sterioptical', 'narrates', 'vocation', 'festen', 'attached', 'children', 'farce', 'jimmie', '1992', 'twentysomething', 'rented', 'hat', 'style', 'subs', 'bums', 'spin', 'pleasant', 'resonate', 'rupture', 'commissars', 'hoax', 'hardcase', 'overcomes', 'observations', 'electricity', 'wada', 'mugging', 'jaa', 'yadav', 'banished', 'nearest', 'cassavetes', 'insert', 'wok', 'remarried', 'boos', 'outbursts', 'consumed', 'brontes', 'charlton', 'responsible', 'please', 'lennie', 'employment', 'messiness', 'kazaam', 'tempted', 'amid', 'transforming', 'cheung', 'strangers', 'wrecked', 'templar', 'danced', 'sparing', 'wholly', 'ridden', 'dubious', 'condition', 'flops', 'biding', 'bungle', 'hemorrhaging', 'unexpectedly', 'manner', 'sensationalism', 'melrose', 'conquistadors', 'preeti', 'nicolas', 'mankoff', 'enrico', 'quench', 'resembled', 'spencer', 'insistence', 'mined', 'decidedly', 'donors', 'hide', 'backdrop', 'writes', 'nosey', 'essence', 'unfair', 'psychological', 'tripping', 'buddies', 'beholder', 'clef', 'ebony', 'iwant', 'sicilian', 'mankiewicz', 'garcia', 'paramilitaries', 'raoul', 'interactions', 'beatrice', 'snipes', 'flew', 'overacting', 'jason', 'systems', 'tracks', 'preminger', 'generalities', 'wires', 'lovingly', 'interior', 'bottled', 'earpiece', 'exception', 'safari', 'taut', 'strauss', 'petty', 'type', 'step', 'fairbanks', 'placing', 'tone', 'risking', 'shakiest', 'raf', 'basil', 'trusting', 'icarus', 'hickey', 'trustworthy', 'utilize', 'rattigan', 'elevator', 'flare', 'delinko', 'shave', 'funky', 'warranted', 'clutch', 'commanding', 'sympathetic', 'meal', 'bon', 'tuneless', 'trafficking', 'bachelor', 'overwhelming', 'societies', 'drove', 'laure', 'bikini', 'bela', 'adama', 'relent', 'resigning', 'skywalker', 'throwback', 'inspire', 'lenard', 'bulky', 'slit', 'believability', 'breezy', 'mace', 'roofs', 'versions', 'completists', 'superwoman', 'naivete', 'shoulders', 'stalking', 'buchfellner', 'indulgently', 'von', 'grim', 'rivalries', 'scare', 'snowy', 'prospered', 'everyone', 'hats', 'bolan', 'factors', 'barton', 'team', 'tycoon', 'rapping', 'shelling', 'rights', 'fence', 'cohort', 'woody', 'manos', 'ailing', 'files', 'reruns', 'boosted', 'estes', 'romantic', 'watched', 'quick', 'beardsly', 'lemat', 'sailing', 'inconsistency', 'tornados', 'jackson', 'rob', 'incidentally', 'sisters', 'kite', 'turn', 'connecting', 'browse', 'merlyn', 'excursion', 'dizzying', 'epic', 'verne', 'rules', 'criminally', 'diction', 'dip', 'apologize', 'alastair', 'ch4', 'kisses', 'collora', 'urged', 'dishes', 'flieshcer', 'woon', 'backgrounds', 'fisherman', 'upcoming', 'favored', 'three', 'backs', 'power', 'frye', 'medicinal', 'blockbuster', 'nazarin', 'tic', 'plights', 'gunmen', 'plastic', '60s', 'chun', 'spirituality', 'stranded', 'disgusted', 'surprised', 'laughing', 'hooked', 'gloomy', 'mistress', 'sam', 'range', 'manhandled', 'albino', 'uv', 'behave', 'doll', 'ryoko', 'spouse', 'lillard', 'wal', 'referential', 'canada', 'fonda', 'sarcastic', 'cracking', 'superb', 'flipper', 'physicality', 'babylonian', 'lemmings', 'tilt', 'turan', 'stints', 'h3ll', 'ahead', 'mayer', 'historical', 'emanuelle', 'penalty', 'newest', 'beautifully', 'dangan', 'tolerate', 'tart', 'hadda', 'ginger', 'surplus', 'upping', 'bigley', 'proposes', 'blatantly', 'characterisation', 'notes', 'breakdown', 'juxtaposing', 'instinctively', 'samantha', 'maltreatment', 'greenscreen', 'liner', 'beset', 'fantasy', 'conway', 'doctors', 'launches', 'nicholson', 'turd', 'baddies', 'clockwork', 'equality', 'race', '2000', 'shirt', 'id', 'camel', 'purest', 'athena', 'giant', 'wrenchingly', 'christie', 'heroism', 'incredibly', 'ferried', 'facts', 'pfeiffer', 'adapt', 'attentively', 'austin', 'devolves', 'activist', 'sarandon', 'fancy', 'identified', 'iv', 'schoolers', 'loss', 'conrad', 'snobby', 'stds', 'descent', 'phil', 'received', 'automatically', 'whodunit', 'status', 'counts', 'descends', 'zahn', 'hell', 'split', 'gallery', 'creasey', 'arin', 'rediscovering', 'distinctly', 'babies', 'enormous', 'cooler', 'formal', 'carrey', 'stems', 'thedirector', 'akshay', 'smashing', 'matthias', 'emploi', 'mujhse', 'clients', 'mulling', 'richly', 'implore', 'helped', 'vérités', 'diversity', 'assuaged', 'slightly', 'wedded', 'lon', 'messiah', 'channeled', 'understand', 'passions', 'worse', 'distance', 'checked', 'intrator', 'pond', 'shtick', 'jessica', 'payola', 'astrid', 'assumes', '87', 'admittedly', 'examination', 'recommended', 'howard', 'douche', 'sleep', 'starters', 'zazu', 'ulster', 'capitalists', 'tinker', 'blasted', 'md', 'lordly', 'dumber', 'evident', 'models', 'nuke', 'decades', 'professional', 'terrorist', 'conceptual', 'knee', 'baby', 'gump', 'safer', 'oop', 'enlighten', 'funhouse', 'amen', 'uncovered', 'panoramas', 'mitchum', 'howling', 'shore', 'diamond', 'turned', 'persuade', 'interview', 'sanjay', 'philippines', 'bohemian', 'ouija', 'brawls', 'bugs', 'porter', 'stash', 'homosexuals', 'habitation', 'motherhood', 'agreed', 'flaws', 'teenagers', 'pinon', 'tote', 'seduced', 'tolkien', 'wai', 'sgreatness', 'swivel', 'romanian', 'earths', 'tried', 'lovitz', 'expressive', 'loser', 'auf', 'pale', 'jabs', 'indifferent', '300', 'sue', 'orifices', 'breathing', 'mummies', 'artillery', 'bridget', 'bcs', 'catherine', 'shiny', 'goddesses', 'jeunet', 'involved', 'chuckle', 'clear', 'dahl', 'conclusive', 'seduces', 'lindsey', 'glorified', 'grasped', 'evoke', 'racisem', 'eddie', 'eerie', 'wayne', 'produces', 'polka', 'ts', 'vs', 'clement', 'dirt', 'cker', 'strolling', 'struggles', 'nosedives', 'vacuous', 'crawls', 'asserts', 'innocent', 'lionel', 'vanessa', 'scandal', 'trump', 'whovier', 'mate', 'nightmare', 'amps', 'adolescent', 'relaxed', 'obviously', 'excalibur', 'worthlessness', '1965', 'chest', 'hail', 'unexpected', 'contestants', 'juggling', 'entries', 'gypsies', 'abby', 'mutated', 'represented', 'divisions', 'smug', 'garnered', 'petteri', 'drac', 'attend', 'selections', 'pamela', 'newsflash', 'instrumental', 'rilly', 'visceral', 'complains', 'talk', 'necromancy', 'frequent', 'cratchit', 'funakoshi', 'hes', 'dictatorship', 'petula', 'flunky', 'chases', 'morality', 'damn', 'freddie', 'nutcase', 'sampling', 'cafes', 'villa', 'roper', 'spac', 'frontier', 'businessman', 'anyway', 'intrapersonal', 'cindy', 'copying', 'awed', 'mistakes', 'sequence', 'muriel', 'bloodrayne', 'italians', 'unreal', 'shack', 'bubba', 'upstream', 'esteemed', 'nielson', 'limps', 'branch', 'reclusive', 'partners', 'immensely', 'elevate', 'giallos', 'narrative', 'adrien', 'adventurous', 'ling', 'moxley', 'banjo', 'hamlet', 'peeves', 'outwits', 'rid', 'hadn', 'unpretentious', 'toddler', 'freak', 'feasible', 'stabbings', 'voted', 'door', 'innermost', 'mutual', 'tim', 'towards', 'demand', '23', 'traitors', 'threatened', 'tomlin', 'hbo', 'windmill', 'untying', 'fatal', 'sinker', 'condon', 'graphic', 'rave', 'pleasing', 'boom', 'carol', 'crowe', 'intruder', 'authentically', 'jovial', 'stupidest', 'guess', 'stuart', 'dumbest', 'seal', 'caroles', 'copper', 'cheesiness', 'particular', 'crushing', 'complicit', 'vacuity', 'mute', 'capt', 'harline', 'philosophical', 'violently', 'insectoids', 'montpelier', 'lv', 'shaolin', 'rap', 'kane', 'incorrect', 'sokolov', 'tuckman', 'gwtw', 'kilbourne', 'arenas', 'regrets', 'dulled', 'theirs', 'horny', 'working', 'expertise', 'boots', 'relatively', 'bonds', 'robots', 'strata', 'troubled', 'gags', 'projects', 'audacious', 'drills', 'engrosses', 'junk', 'solange', 'blocks', 'dalton', '12', 'teri', 'embraces', 'device', 'precocious', 'logging', 'salon', 'pay', 'approximately', 'unrecognizable', 'punctured', 'unconvincingly', 'debacle', 'abe', 'saldívar', 'disability', 'drain', 'gore', 'pro', 'filmmakers', 'dwellers', 'galvanic', '1994', 'painful', 'nerds', 'punchline', 'grier', 'unexplained', 'rheubottom', 'killers', 'snoozefest', 'demornay', 'funerary', 'damien', 'tsurumi', 'ulysses', 'whirlpool', 'darker', 'remarkably', 'unquestionably', 'mdb', 'smokey', 'dustin', 'talked', 'mayans', 'wives', 'suffices', 'extend', 'genuinely', 'rightfully', 'scott', 'predicament', 'seemingly', 'defy', 'fervent', 'launch', 'indicate', 'article', 'sunlight', 'jay', 'berryman', 'aggressive', 'outlook', 'informative', 'cat', 'pressuring', 'bedpan', 'sexploitation', 'portrayed', 'subtle', 'robertson', 'palma', 'gridiron', 'obispo', 'cleverly', 'speckhahn', 'sarah', 'channels', 'farming', 'develop', 'stormy', 'achingly', 'concerned', 'dobel', 'bert', 'rotted', 'robinson', 'embarrassed', 'ivey', 'tavern', 'thepast', 'anomaly', 'help', 'lit', 'priority', 'replaying', 'circular', 'cheerleading', 'ship', 'alienated', 'billyclub', 'velde', 'hosts', 'proven', 'whomever', 'seti', 'eight', 'brennan', 'quasi', 'seann', 'shambles', 'bear', 'uninteresting', 'serene', 'goodfellas', '1982', 'losses', 'joke', 'lock', 'balk', 'asleep', '17', 'sketches', 'taboo', 'sky', 'lackluster', 'claws', 'muscular', 'manslaughter', 'neve', 'salk', 'environments', 'elegant', 'havoc', 'vincente', 'clock', 'narrowed', 'lake', 'interconnecting', 'cheered', 'urgency', 'ventriloquist', 'handsome', 'truant', 'train', 'needn', 'gi', 'toast', 'racist', 'jackasses', 'ribisi', 'prefers', 'floyd', 'whittaker', 'hunting', 'hilarious', 'commentary', 'undermines', 'dissenter', 'melt', 'british', 'dolt', 'itchy', 'yup', 'fest', 'coffee', 'mullets', 'perceives', 'loos', 'socialism', 'jayant', 'pockets', 'hipsters', 'lumet', 'sway', 'distribution', 'primal', 'widens', 'mythology', 'accidentally', 'censors', 'butlers', 'presented', 'saura', 'relates', 'vigário', 'purdom', 'mightily', 'munching', 'stevens', 'start', 'truest', 'plimpton', 'slain', 'cocktail', 'hippies', 'brood', 'cameos', 'vamp', 'wahlberg', 'gorillas', 'bargain', 'clunker', 'mick', 'unintended', 'quilty', 'officially', 'seating', 'loses', 'conversation', 'razzie', 'steadicam', 'streamlined', 'spring', 'ness', 'unwatched', 'govida', 'friendships', 'terrorism', 'nefarious', 'mcqueen', 'backstory', 'spunky', 'suzumiya', 'outlandish', 'access', 'karogi', 'manager', 'fells', 'crusades', 'spoking', 'dana', 'bridge', 'deals', 'dominators', 'gossiping', 'stink', 'reprise', 'unconvincing', 'entertain', 'matches', 'alaska', 'snippets', 'hasn', 'onward', 'flight', 'monotonous', 'unfortunately', 'boredom', 'nighy', 'scotland', 'elevated', 'elicit', 'reinforced', 'screenwriters', 'hitchhiking', 'falls', 'hearted', 'sctv', 'segregation', 'lakeside', 'wallace', 'exaggerates', 'screening', 'suicidewatch', 'crawling', 'cutter', 'baker', 'lavigne', 'revealed', 'looms', 'chiba', '16th', 'wild', 'decently', 'accepting', 'meant', 'symbolist', 'masses', 'counterpart', 'daydreaming', 'havel', 'backpackers', 'factly', 'blast', 'bronx', 'swindler', 'infatuated', 'artistic', 'warrior', 'dispel', 'sauce', 'studio', 'excuses', 'handles', 'incongruous', 'julia', 'victims', 'rajpal', 'elucidate', 'prejudious', 'partial', 'midwestern', 'toepfer', 'listen', 'gritty', 'unsub', 'poorly', 'inherited', 'nietzsche', 'fits', 'lift', 'ii', 'flowed', 'squad', 'acapulco', 'tracing', 'chopping', 'blinking', 'illuminating', 'contending', 'screened', 'liver', 'ditch', 'tramp', 'reflect', 'lying', 'realism', 'slickly', 'prices', 'flaky', 'dealt', 'tuneful', 'tendencies', 'aching', 'deneuve', 'cramming', 'angus', 'treat', 'quarter', 'upwards', 'deterent', 'rugged', 'nosbusch', 'sars', 'princes', 'proportions', 'barry', 'puling', 'matter', 'chu', 'cassie', 'uses', 'existential', 'slums', 'torrance', 'labored', 'mihäescu', 'tier', 'slaughtering', 'senseless', 'awesomely', 'sgt', 'overstatement', 'charlie', 'steer', 'hands', 'obstacle', 'isabelle', 'adam', 'stone', 'crossover', 'cons', 'fitzgerald', 'islands', 'spall', 'airbag', 'vowel', 'falling', 'swims', 'jelly', 'aficionados', 'wonderful', 'cringing', 'feed', 'lightweight', 'clive', 'flow', 'advertise', 'surreptitiously', 'spiked', 'consult', 'filmable', 'coaxed', 'severed', 'jacobi', 'lucci', 'conseguenze', 'idol', 'temporary', 'adapted', 'surrealism', 'handful', 'peck', 'horizon', 'friday', 'automated', 'undeserved', 'proceed', 'thrist', 'decide', 'bertrand', 'managing', 'mandatory', 'lovin', 'admits', 'gnp', 'glimpsed', 'arrogant', 'revolve', 'probably', 'watchers', 'subtract', 'pages', 'soundtrack', 'proclaims', 'posters', 'ring', 'motif', 'appealing', 'succeeding', 'mambo', 'ghost', 'barley', 'sock', 'shroff', 'laundrette', 'leni', 'heyday', 'loaded', 'ghosts', 'subversions', 'weep', 'cartoonish', 'faint', 'skateboard', 'wage', 'brandy', 'television', 'katie', 'hornby', 'tanoka', 'glean', 'stuff', 'confidence', 'painting', 'implications', 'vapours', 'cinderella', 'blakmailed', 'embellishments', 'thumbed', 'learned', 'rhinos', 'allegra', 'unbridled', 'delores', 'tipped', 'lennon', 'caprice', 'progeny', 'depardieu', 'marcia', 'riveting', 'approach', 'vile', 'catalog', 'pepe', 'buries', 'sixth', 'ronnie', 'butterfly', 'pestering', 'patching', 'chalk', 'aldrege', 'superimposed', 'weaknesses', 'jerky', 'psycho', 'bats', 'bulbous', 'drive', 'bruno', '70', 'katisha', 'savage', 'katsu', 'karate', '09', 'surely', 'kuala', 'reignite', 'alarmed', 'score', 'mice', 'perfectionist', 'famous', 'approximate', 'hermann', 'dyslexic', 'dieing', 'harsh', 'intrested', 'producers', 'joyful', 'waitress', 'disastrous', 'joys', 'linden', 'david', 'unorganized', 'relish', 'versed', 'bistro', 'peek', 'magnani', 'dial', 'outdo', 'goofy', 'stranger', 'downsides', 'jarringly', 'cloth', 'communists', 'july', 'needed', 'filth', 'adept', 'bandaged', 'jfk', 'bersen', 'kipling', 'ruff', 'rocket', 'sixteen', 'kanik', 'pressure', 'kingpin', 'communist', 'rages', 'cate', 'normally', 'sensitivity', 'chen', 'standout', 'garage', 'news', 'nails', 'expose', 'frost', 'hammer', 'franklin', 'ethereal', 'casting', 'logically', 'sirico', 'trashy', 'blacklisted', 'jada', 'lt', 'inclined', 'simulator', 'aimée', 'dumb', 'corresponding', 'woolfe', 'traits', '1934', 'tactic', 'lawernce', 'figures', 'sissy', 'chosen', 'expert', 'sandberg', 'elements', 'reconnecting', 'fatherly', 'pressing', 'westerns', 'accustomed', 'convict', 'atrociously', 'conditioned', 'reginald', 'favortisem', 'teutonic', 'chested', 'lean', 'potts', 'fails', 'cinematic', 'hating', 'twitch', 'beat', 'lighter', 'hull', 'evel', 'capsule', 'preparation', 'abused', 'huge', 'belly', 'mahayana', 'wildness', 'mouldy', 'koyaanisqatsi', 'army', 'coat', 'endeavor', 'fabio', 'adage', 'ideology', 'describes', 'levy', 'giancarlo', 'continues', 'hewitt', 'grombek', 'carroll', 'support', 'delusions', 'everything', 'jennifer', 'wrongdoing', 'goings', 'joined', 'sounded', 'institutional', 'target', 'posative', 'thankfully', 'saccharine', 'earthquake', 'pursues', 'campers', 'pioneer', 'quantity', 'ostensibly', 'dvds', 'pianist', 'eric', 'coincidence', 'fangs', 'stakes', 'sniggers', 'welles', 'ackroyd', 'impassivity', 'pales', 'odyssey', 'corners', 'uneasy', 'daring', 'stiller', 'fornicating', 'although', 'dorothy', 'ivan', 'conducts', 'bouncy', 'redundant', 'prudence', 'point', 'kern', 'concocted', 'bolger', 'probable', 'grew', 'abrupt', 'establishes', 'stalker', 'symphony', 'opens', 'lifestyle', 'texas', 'database', 'battle', 'preferred', 'lady', 'ticks', 'prescribed', 'murders', 'planning', 'steiger', 'awhile', 'intent', 'constant', 'crooked', 'cry', 'weak', 'instantly', 'nada', 'icon', 'intoxication', 'fires', 'liberally', 'weapon', 'vocal', 'morlocks', 'tigers', 'weaker', 'presbyterian', 'misconceived', 'inexplicable', 'afro', 'mugur', 'enticing', 'traumatized', 'misako', 'sudden', 'decrepit', 'greed', 'owed', 'sanity', 'replicated', 'weight', 'mile', 'nickleby', 'bodybuilding', 'view', 'gently', 'collaborates', 'note', 'strongly', 'virginya', 'majorly', 'discussions', 'bug', 'tide', 'basra', 'ondu', 'mediocre', 'reserving', 'auspices', 'implying', 'stocked', 'aim', 'acidy', 'scottish', 'vigorous', 'overrated', 'pronto', 'dedicating', 'janine', 'lessons', 'braille', 'windu', 'reality', 'byzantine', 'sight', 'litter', 'femmes', 'comedienne', '1881', 'concubines', 'absurdity', 'adroitly', 'internet', 'humorous', 'stroked', 'bully', 'mar', 'horizons', 'resurrection', 'began', 'reed', 'railroad', 'guards', 'sower', 'unwillingly', 'winner', 'shogun', 'heights', 'picks', 'satisfy', 'blockbusters', 'estevez', 'tinti', 'exorbitant', 'sparse', 'coded', 'nuance', 'stereotyping', 'creating', 'downbeat', 'hoodlums', 'lucky', 'affection', 'camaraderie', '1000', 'takes', 'involves', 'discouraging', 'reporting', 'cringed', 'blaze', 'valeria', 'irony', 'grits', 'theaters', 'oedipus', 'reliving', 'falco', 'emotion', 'damaging', 'fulfill', 'marry', 'planks', 'extensions', 'burden', 'flame', 'lurches', 'perceptions', 'meyers', 'underworld', 'medicated', 'backpack', 'attracts', 'probing', 'pricier', 'insufficient', 'watchable', 'damned', 'rainy', 'belushi', 'gary', 'extraordinarily', 'flora', 'boorman', 'grandeur', 'magnet', 'yells', 'cursed', 'rolle', 'ped', 'jab', 'katana', 'dragged', 'oppenheimer', 'fooled', 'cannibalistic', 'ende', 'tactical', 'feeding', 'postwar', 'butt', 'paula', 'strap', 'both', 'inflexible', 'collaborator', 'welfare', 'philippe', 'dumps', 'larson', 'ranjit', 'rentals', 'wow', 'moribund', 'corman', 'spice', 'robert', 'foree', 'graphical', 'settings', 'includes', 'fault', 'viennese', 'insistent', 'boston', 'san', 'strutting', 'malapropisms', 'hgl', 'mats', 'dop', 'arid', 'subject', 'groupie', 'pauly', 'whittled', 'sublimation', 'running', 'painstaking', 'meretricious', 'lifting', 'relationship', 'sung', 'sweetest', 'worthwhile', 'silvio', 'natalya', 'serial', 'directors', 'companies', 'internal', 'breath', 'gathered', 'set', 'detached', 'moh', 'streak', 'praising', 'fiefdoms', 'isings', 'football', 'ann', 'randell', 'thread', 'randolph', 'pilots', 'organizes', 'rick', 'said', 'oujia', 'parodies', 'valour', 'edward', 'inherently', 'hilariously', 'rebelion', 'scorch', 'dalmatian', 'deren', 'sc', 'elinor', 'gass', 'warrick', 'potentially', 'buffoons', 'thrust', 'beginners', 'reminiscent', 'nostalgia', 'sworn', 'resulting', 'boobage', 'audiences', 'michaels', 'wargames', 'battles', 'lupino', 'norman', 'butts', 'deride', 'spellbound', 'fifties', 'baboon', 'offset', 'setting', 'spoofs', 'stitch', 'mathematical', 'mash', 'theories', 'yaphet', 'loin', 'cristies', 'demolished', 'jeepster', 'incomprehension', 'henry', 'misfires', 'legions', 'battlestar', 'wealth', 'hammers', 'resemblance', 'marvel', 'ronny', 'metaphorical', 'warlord', 'cynics', 'wickedly', 'dolemite', 'zilcho', 'toughest', 'sr', 'beats', 'afterwords', 'cart', 'subscribe', 'katic', 'hopper', 'sybil', 'grana', 'madhouse', 'courttv', 'lizabeth', 'hamton', 'hanging', 'rounds', 'deeds', 'impeccable', 'mounting', 'hans', 'hazlehurst', 'vibes', 'frolicking', 'antoni', 'mistake', 'dynamite', 'rectal', 'knightly', 'concludes', 'monologues', 'reaper', 'rendition', 'imaginations', 'spanning', 'rides', 'accuracy', 'heartbreakingly', 'heroin', 'neighboring', 'bettie', 'vividness', 'rake', 'prophecy', 'teasing', 'passionate', 'kunst', 'notables', 'impersonator', 'elsa', 'stops', 'spectacle', 'brie', 'use', 'jonathan', 'joints', 'attacked', 'treetops', 'hitter', 'command', '1949', 'bejo', 'curly', 'squeaky', 'reiterate', 'brink', 'bernard', 'touched', 'enemies', 'resovoir', 'understands', 'lange', 'students', 'sparkling', 'comfortably', 'cutaways', 'lackawanna', 'colourful', 'beatles', 'speeding', 'jogger', 'beginning', 'front', 'soleil', 'tapestry', 'disclose', 'kill', 'rationale', 'pies', 'misdirection', 'stacy', 'swiftly', 'pacios', 'literal', 'engages', 'charismatic', 'untold', 'citizenx', 'distinguishing', 'closest', 'restraints', 'jacket', 'tiny', 'synapse', 'mcgrath', 'hearing', 'butchery', 'grusin', 'avail', 'potemkin', 'spatial', '32', 'targets', 'wax', 'filmographic', 'spies', 'normal', 'sins', 'retreats', 'sequal', 'softheaded', 'expressionistic', 'rivers', 'visitors', 'fist', 'fix', 'unlikeable', 'greer', 'margie', 'aesthetically', 'lenny', 'preston', 'mesmerize', 'plucks', 'magnificently', 'grinds', 'valuable', 'grinning', 'skilled', 'uninterrupted', 'shipped', 'stumps', 'pillow', 'gaming', 'polar', 'shadings', 'sped', 'increasingly', 'cubby', 'kapoor', 'arbuckle', 'cuts', 'vets', 'strict', 'fine', 'adieu', 'lamarr', 'humanism', 'adverse', 'tempered', 'untrained', 'directed', 'peddle', 'wilder', 'conviction', 'statuette', 'agenda', 'benny', 'recuperate', 'camera', 'revival', 'fares', 'cram', 'snag', 'inferiority', 'introverted', 'chanting', 'detective', 'om', 'foliage', 'lysette', 'routinely', 'steroids', 'neatness', 'inhabiting', 'writer', 'cinematography', 'paradise', 'horror', 'knightrider', 'tala', 'advance', 'tilly', 'goodness', 'yearnings', 'spreading', 'quintessential', 'struggle', 'kent', 'tribulation', 'painter', 'enthralled', 'erotica', 'pulpy', 'comprised', 'litghow', 'manipulate', 'rates', 'diversions', 'brooks', 'hid', 'steadfastly', 'current', 'washed', 'fetisov', 'prays', 'fallow', 'dammit', 'source', 'tasty', 'mysticism', 'rethink', 'mumble', 'calling', 'falsely', 'bronte', 'draperies', 'route', 'inventive', 'redeemable', 'pounding', 'plotline', 'driving', 'social', 'exemplified', 'toil', 'arbitrary', 'possess', 'fascism', 'blew', 'unnecessarily', 'keem', 'spliced', 'illusion', 'muttering', 'days', 'grupo', 'sydow', 'markov', 'conception', 'force', 'overshadowed', 'millicent', 'derringer', 'reviewings', 'sneaking', 'psychic', 'gibney', 'shrines', 'esteem', 'caption', 'celeste', 'tipping', 'countries', 'nike', 'activities', 'krishnas', 'antiques', 'leaves', 'essentially', 'enlightening', '1974', 'merriwether', 'detention', 'retrieves', 'resident', 'solid', 'runway', 'casual', 'sending', 'prematurely', 'displaced', 'bruising', 'forbidden', 'singles', 'furniture', 'war', 'vanning', 'water', 'universal', 'distinct', 'schizophreniac', 'qualifying', 'distinction', 'relive', 'pushes', 'uneducated', '1937', 'cd', 'lotr', 'affecting', '750', 'spate', 'career', 'sincerely', 'freedom', 'crocodile', 'finian', 'careless', 'impersonated', 'illuminated', 'beaux', 'clown', 'nestled', 'jungle', 'implausible', 'radical', 'troubles', 'bruce', 'drafting', 'poor', 'need', 'fact', 'boll', 'enriches', 'uncharted', 'colorful', 'herrmann', 'bleeding', 'tep', 'author', 'assistants', 'within', 'deceit', 'wiki', 'gimmicks', 'masters', 'headlights', 'vera', 'shoot', 'broke', 'crazed', 'crank', 'walking', 'ie', 'unashamed', 'critics', 'russ', 'greetings', 'tribeca', 'illusive', 'valleys', 'commentator', 'shower', '22', 'tables', 'moonwalker', 'static', 'uplifting', 'enchanting', 'happening', 'violent', 'guardian', 'bungling', 'murderers', 'facile', 'atop', 'wayward', 'canadian', 'clumsy', 'la', 'symbolic', 'yellow', 'kirstie', 'seriocomic', 'wordless', 'endear', 'penelope', 'outcast', 'shattered', 'drilled', 'annihilation', 'evidently', 'tch', 'theres', 'dickinson', 'unimitable', 'obsessive', 'addressed', 'demonstration', 'royal', 'contained', 'broadcast', 'snow', 'deol', 'tinkering', 'justin', 'schlock', 'intervals', 'charming', 'blot', 'sit', 'nick', 'gaping', 'charity', 'incident', 'microphone', 'erection', 'slick', 'anna', 'vipul', 'fragile', 'rotated', 'offering', 'criterion', 'soprano', 'colonies', 'rancher', 'mumbling', 'catholicism', 'based', 'lovable', 'aussie', 'passionately', 'unappealing', 'connections', 'lands', 'differing', 'idiocy', 'caterer', 'penny', 'raging', 'tambourine', 'melio', 'disease', 'sheba', 'robo', 'overweight', 'rolled', 'gem', 'indie', 'skin', 'saturday', 'senators', 'meg', 'investigate', 'solved', 'backwoods', 'sensibilities', 'vcr', 'rollin', 'wielding', 'pollack', 'dubbed', 'sensical', 'establishment', 'potyomkin', 'cynthia', 'scatter', 'ueda', 'patrol', 'similarities', 'bee', 'leatherface', 'retraces', 'welker', 'lite', 'paychecks', 'deviations', 'tehran', 'parade', 'playful', 'questionable', 'symbol', 'trade', 'desired', 'columnist', 'tedious', 'recent', 'flower', 'defend', 'cane', 'heathrow', 'unraveled', 'vampirsim', 'preachy', 'excruciatingly', 'nit', 'compares', 'sensibility', 'pleaser', 'currency', 'supposed', 'crave', 'picnic', 'appointed', 'blaisdell', 'areas', 'alice', 'corps', 'unimaginable', 'procure', 'frank', 'dubbing', 'flippant', 'duminicä', 'tells', 'nice', 'sightedness', 'airlines', 'line', 'creates', 'stripped', 'hillbilly', 'casablanca', 'inherits', 'discrepancy', 'wondered', 'thrive', 'gaining', 'levene', 'laden', 'graces', 'poe', 'arriving', 'forgettable', 'morbidity', 'heartland', 'substances', 'providing', 'traipsing', 'wiped', 'sofa', 'ledoyen', 'rests', 'posture', 'scientific', 'dispensable', 'bandekartrivia', 'century', 'igor', 'delves', 'powerful', 'remained', 'jury', 'confidential', 'sith', 'malleson', 'twosome', 'bekim', 'earnest', 'sanitarium', 'flaw', 'keen', 'caked', 'headmaster', 'extremite', 'jon', 'wearisome', 'dakota', 'rule', 'mon', 'mosque', 'borte', 'web', 'air', 'gee', 'josé', 'refirmitories', 'overworked', 'vehicles', 'hit', 'alway', 'dustbowl', 'formulate', 'testosterone', 'punctuated', 'mastrantonio', 'putting', 'stumbling', 'stylites', 'crude', 'whitest', 'outdated', 'steiner', 'kaufman', 'yelling', 'vaseline', 'reside', 'fiancée', 'ney', 'undercurrent', 'zoo', 'search', 'norm', 'attraction', 'sports', 'keyboard', 'celebrates', 'amazes', 'eventful', 'aug', 'spiritual', 'squalor', 'sweeping', 'applicant', 'romulan', 'troop', 'chicks', 'happy', 'rouge', 'sultry', 'hangman', 'psalm', 'violin', 'foot', 'masten', 'glowing', 'springs', 'analytically', 'manr', 'fellowship', 'adler', 'superbugs', 'funniest', 'pa', 'affair', 'hk', 'roar', 'padre', 'programmes', 'conveying', 'serfs', 'culea', 'bodega', 'conservatism', 'create', 'commercially', 'portion', 'commonly', 'sauper', 'main', 'heavies', 'interchangeable', 'vampirism', 'flows', 'inserts', 'helgeland', 'captain', 'unflinching', 'petiot', 'glimpses', 'wall', 'sol', 'cooper', 'aware', 'ropey', 'sued', 'daiei', 'exciting', 'annette', 'mindy', 'oddity', 'criminal', 'gandolfini', 'jeff', 'clashes', 'werewolves', 'fellow', 'rumored', 'pretension', 'friedkin', 'cute', 'motor', 'whether', 'sanctimonious', 'click', 'boozing', 'conceive', 'granny', 'measure', 'schoolgirl', 'conquerer', 'hamburger', 'attended', 'wherever', 'sadistically', 'flint', 'briefly', 'misdeeds', 'deprived', 'hyped', 'koop', 'weaponry', 'subsequent', 'suddenly', 'odd', 'eaglebauer', 'sentenced', 'understatement', 'success', 'boozy', 'reassuring', 'englund', 'understandably', 'alas', 'attica', 'successfully', 'accomplish', 'lovers', 'nuremberg', 'seat', 'rusty', 'commendable', 'veneer', 'kibbee', 'clubbing', 'breakumentarions', 'ashanti', 'axed', 'hypnosis', 'stupidity', 'porshe', 'lucking', 'malik', 'romantically', 'minnelli', 'liking', 'owns', 'sherry', 'export', 'caprini', 'moralistic', 'trailer', 'devastatingly', 'oxygen', 'spiyk', 'stance', 'egypt', 'refunded', 'hitch', 'rialto', 'seriousness', 'financially', '100s', 'strained', 'sensible', 'substantial', 'malenkaya', 'achilles', 'nandini', 'mob', 'famed', 'perfunctory', 'concentrated', 'lauded', 'whitman', 'gabe', 'goes', 'lingered', 'suspend', 'decadence', 'bal', 'filling', 'whiny', 'needing', 'indigent', 'outs', 'steady', 'akki', 'inhabited', 'vamps', 'jacob', 'mannequins', 'fondles', 'relic', 'manufacturing', 'semitism', 'slaving', 'embarking', 'siblings', 'cluelessly', 'automobile', 'snappy', 'berle', 'saying', 'outsider', 'iris', 'baywatch', 'ran', 'dennis', 'baroque', 'latex', 'lower', 'fascists', 'brighter', 'inter', 'relocated', 'elegance', 'revolt', 'robocop', 'butting', 'expect', 'easily', 'wonderland', 'shortly', 'tissues', 'muffled', 'rebels', 'lasers', 'spend', 'dilithium', 'scroll', 'clarify', 'grizzled', 'resigned', 'ultimate', 'amour', 'tragedies', 'talsania', 'luz', 'bickering', 'antony', 'kiddin', 'continuity', 'skateboarder', 'inconceivable', 'perception', 'revolvers', 'seeks', 'favors', 'matinée', 'gasbstich', 'laurence', 'drugged', 'entwined', 'unmatched', 'emo', 'softley', 'crispen', 'psyche', 'spaced', 'adaptations', 'uncover', 'orchestrated', 'priesthood', 'motives', 'capable', 'brian', 'globalisation', 'happiness', 'peaks', 'keitel', 'unreasonable', 'anethesia', 'irreconcilable', 'interestingly', 'altruistic', 'negro', 'wtf', 'rankings', 'yau', 'sonora', 'remade', 'jedi', 'sarabande', 'requiem', 'outstay', 'utterance', 'gustavsson', 'admit', 'sappy', 'rampling', 'plotlines', 'nickolas', 'zippo', 'races', 'daughters', 'visual', 'guiding', '1972', 'practically', 'percussion', 'gable', 'lax', 'displays', 'thespian', 'likely', 'frivolous', 'miniseries', 'credible', 'surfaced', 'puerto', 'fullest', 'ida', 'india', 'gibb', 'shine', 'frenzied', 'wrangling', 'warms', 'myths', 'fiery', 'cut', 'hurt', 'morally', 'nostalgic', 'mistaken', 'reacts', 'zimbalist', 'courtiers', 'teach', 'weary', 'club', 'solve', 'chiefs', 'bikinis', 'imitate', 'developed', 'alpine', 'surface', 'groove', 'bets', 'credibility', 'samoan', 'anytime', 'crashes', 'berlin', 'mcbride', 'eyeballs', 'disadvantage', 'wwii', 'blonde', 'gender', 'rattler', 'underway', 'frightening', 'crawford', 'synopsis', 'emulsion', 'bonham', 'lestrade', 'judgement', 'truckers', 'posts', 'incognito', 'traitor', 'tri', 'floating', 'stagecoach', 'kings', 'traveling', 'progressive', 'collective', 'remagen', 'ramirez', 'underachieving', 'madeleine', 'marlon', 'hoppity', 'junker', 'warts', 'uninterestingly', 'wardrobe', 'clergyman', 'journey', 'climatic', 'auxiliary', 'cannot', 'stinker', 'indiain', 'hospital', 'stairway', 'geisha', 'wonders', 'event', 'swagger', 'guitars', 'culture', 'adoree', 'halle', 'platitudes', 'coherently', 'qm', 'echelon', 'smacks', 'bite', 'pillars', '70ies', 'romancing', 'serious', '1991', 'springwood', 'scored', 'creepiness', 'color', 'wolfe', 'withdrawal', 'feet', 'activity', 'bazillion', 'chestnuts', '1993', 'senator', 'pbs', 'walked', 'salvage', 'everybody', 'costs', 'sword', 'restraint', 'err', 'shimmering', 'rendering', 'luck', 'hotheaded', 'indies', 'hte', 'rowing', 'renner', 'justly', 'albert', 'articles', 'bimbo', 'home', 'wake', 'pickle', 'mysteriously', 'realistically', 'surrender', 'examining', 'iceberg', 'cruel', 'cobwebs', 'lenses', 'wristwatch', 'helpers', 'savvy', 'surprises', 'bodysnatchers', 'jerry', 'charo', 'binge', 'preppies', 'gooped', 'gene', 'swath', 'nervous', 'wilderness', 'okay', 'arch', 'stubby', 'scientist', 'sucked', 'boyish', 'echoing', 'naivety', 'struss', 'garcea', 'errol', 'wife', 'wilson', 'unlucky', 'guarding', 'mastiff', 'bollywood', 'larger', 'starving', 'norris', 'asian', 'beetlejuice', 'bafta', 'inder', 'gonna', 'prefaced', 'gears', 'protect', 'elijah', 'scalpels', 'harman', 'dog', 'injected', 'ardent', 'shameful', 'history', 'terrible', 'dilemma', 'rebuked', 'instructors', 'anatole', 'keeping', 'bereft', 'patterns', 'ninny', 'engine', 'flapjack', 'icy', 'amber', 'transportation', 'maintain', 'tereasa', 'reid', 'considering', 'problematic', 'hammy', 'required', 'naked', 'dumitru', 'ww', 'philips', 'desperate', 'spoof', 'mastered', 'flashbacks', 'ended', 'cunning', 'spunk', 'kang', 'handy', 'pulse', 'duritz', 'turtle', 'smurf', 'shaft', 'weller', 'charters', 'soap', 'early', 'populated', 'references', 'dry', 'ape', 'severely', 'riches', 'veli', 'translate', 'signified', 'laugh', 'rhine', 'filthiest', 'identification', 'troy', 'rockers', 'de', 'puns', 'photograped', 'milk', 'comparing', 'basset', 'shaadi', 'ballad', 'zoom', 'christy', '30', 'vanish', 'uneventful', 'male', 'tumble', 'charitable', 'agents', 'troll', 'marred', 'documented', 'lightfoot', 'triumph', 'inaccurate', 'resembles', 'insight', 'fleeting', 'hain', 'mel', 'dir', 'miguel', 'demonstrate', 'suspects', 'ordinariness', 'buchholz', 'ramsey', 'crippled', 'aloof', 'critic', 'imposing', 'came', 'memory', 'remembered', 'juliette', 'uninterested', 'maclachlan', 'insides', 'assistant', 'millenia', 'teenager', 'reduce', 'poorest', 'lowell', 'correlating', 'octavian', 'incidents', 'bastardised', 'scarlett', 'alley', 'updating', 'sinners', 'carlo', 'imitator', 'clique', 'june', 'humiliate', 'travolta', 'officials', 'remove', 'engineer', 'unscathed', 'tea', 'kristin', 'dodedo', 'haha', 'licence', 'healer', 'wrapped', 'headache', 'godzilla', 'truly', 'servais', 'sapphire', 'aristocracy', 'disgusting', 'godmother', 'contemporaries', 'local', 'tunneling', 'rebuffed', 'cockpit', 'eighty', 'suggested', 'harried', 'favourable', 'contributed', 'excite', 'favourite', 'refuge', 'realistic', 'touted', 'matuschek', 'outward', 'glenne', 'hayward', 'referring', 'undershirt', 'taiwanese', 'paced', 'mentality', 'miroslav', 'aspects', 'length', 'racer', 'penchant', 'bench', 'grey', 'introspective', 'toronto', 'molassessy', 'restless', 'buy', 'signaled', 'legs', 'return', 'causing', 'anguished', 'starred', 'hagan', 'soulful', 'displacement', 'considers', 'abhishek', 'accused', 'till', 'comrades', 'arbiter', '15', 'tequila', 'research', 'stephen', 'minion', 'accelerated', 'shirl', 'credited', 'nights', 'breathless', 'uneven', 'act', 'duskfall', 'jeer', 'toole', 'pertwee', 'castles', 'commander', 'fences', 'aviator', 'pacing', 'challenges', 'unrecognized', 'nausicaa', 'swill', 'endings', 'controlled', 'advocate', 'bothered', 'maya', 'tyaga', 'godwin', 'uncritical', 'comparison', 'hearst', 'gladiators', 'intrudes', 'kittson', 'globetrotting', 'president', 'questions', 'doubtfully', 'pocket', 'vader', 'bimbos', 'disguised', 'livelier', 'prickly', 'cranes', 'grandma', 'filmgoer', 'wikipedia', 'blaine', 'arranges', 'gamut', 'screenings', 'cabbie', 'sore', 'satirise', 'respects', 'puking', 'pack', 'issues', 'elf', 'nanny', 'heaping', 'journalists', 'day', 'caretaker', 'hrishita', 'filmedthe', 'spaniards', 'immerse', 'carley', 'unceremonious', 'observation', 'aline', 'figure', 'absence', 'sycophantic', 'nosy', 'lolita', 'confusing', 'seinfeld', 'panned', 'easy', 'hallucinating', 'missed', 'country', 'mimic', 'developmenti', 'rooms', 'murder', 'faster', 'burlesque', 'jafar', 'indoor', 'delmar', 'bury', 'cashed', 'dominant', 'pursuing', 'balloon', 'macho', 'romp', 'sternberg', 'coleseum', 'probes', 'card', 'arabia', 'ms', 'lombardi', 'discounted', 'crusading', 'novak', 'klaus', 'upsetting', 'impressed', 'shares', 'radford', 'youngsters', 'explore', 'greeting', 'spaghettis', 'herein', 'explored', '180', 'impotent', 'lust', 'comprehensively', 'workdays', 'mourners', 'bothers', 'hairstyle', 'eberhardt', 'ing', 'collaboration', 'victorio', 'fascinating', 'underpass', 'marginally', 'purplish', 'slutty', 'nikki', 'noses', 'treesben', 'watches', 'sheltered', 'wont', 'phrases', 'requirements', 'regularly', 'goggle', 'invading', 'unless', 'ignorant', 'taco', 'imminent', 'experiment', 'faultless', 'jaspal', 'shoveling', 'shootouts', 'dismiss', 'carmela', 'parts', 'languorous', 'laurie', 'cameron', 'clerk', 'intellectual', 'prologues', 'carnal', 'oriented', 'missionaries', 'ready', 'thooughly', 'fred', 'invitation', 'revisiting', 'hanks', 'astonished', 'foregoing', 'bucket', 'idolized', 'versatile', 'alysons', 'lynch', 'amoeba', 'intimately', 'padme', 'whateley', 'mystifies', 'settlers', 'rife', 'apc', 'governed', 'curtain', 'brock', 'proficient', 'recurrent', 'estelle', 'bluejeans', 'reprises', 'replaces', 'terrifically', 'lolbad', 'ambiguous', 'nonexistent', 'depicting', 'aatish', 'bambino', 'entertaining', 'monica', 'bittersweet', 'ingenious', 'angelo', 'blamed', 'seaman', 'sharpened', 'psychopath', 'featured', 'pier', 'distributed', 'lasting', 'whilereminding', 'emission', 'meloni', 'beheads', 'persuasion', 'treeless', 'humans', 'advisor', 'deferential', 'slowmotion', 'under', 'services', 'perjurer', 'tiger', 'strings', 'searches', 'traumatic', 'damon', 'fonzie', 'darwyn', 'busey', 'idle', 'sans', 'sian', 'demunn', 'rhythmic', 'ears', 'masterpieces', 'kong', 'uniquely', 'opera', 'stellar', 'road', 'eliminate', 'links', 'westerners', 'plays', 'bates', 'denials', 'angering', 'thunderstorm', 'edges', 'behl', 'consisting', 'cradles', 'showing', 'disintegrated', 'scramble', 'classify', 'divides', 'lucid', 'tidy', 'five', 'grill', 'heels', 'dread', 'imho', 'panahi', 'bumble', 'deck', 'disposing', 'lubitsch', 'festival', 'checking', 'neal', 'thoroughly', 'origins', 'negligence', 'bmg', 'anchorman', '1973', 'dour', 'tends', 'duality', 'japery', 'places', 'spared', 'moroder', 'seven', 'ourselves', 'patients', 'guarded', 'glomp', 'robin', 'mercifully', 'alias', 'reeked', 'pecker', 'usual', 'numbing', 'differentiate', 'cruella', 'satirical', 'joan', 'candy', 'string', 'yecch', 'andrò', 'disappoint', 'stepping', 'wages', 'sylvia', 'landscapes', 'dutton', 'aura', 'morricone', 'madigan', 'police', 'townsfolk', 'endeavour', 'kinski', 'queen', 'refusal', 'mediterranean', 'realized', 'shreiber', 'overcome', 'unmissable', 'gown', 'flaunts', 'ry', 'cultural', 'mcs', 'abbott', 'disgraceful', 'baltic', 'eisenberg', 'razor', 'ignorance', 'nicola', 'absorbing', 'window', 'absurdities', 'specific', 'wields', 'techno', 'paints', 'overseeing', 'carville', 'informed', 'metropolis', 'apprehended', 'kidnapped', 'plunge', 'eloi', 'touches', 'hubert', 'wretched', 'imprison', 'cannibals', 'reprisals', 'suffice', 'attorney', '1602', 'served', 'damning', 'payed', 'rarity', 'inglorious', 'basketball', 'jxl', 'kerr', 'consisted', 'awfully', 'belgium', 'praiseworthy', 'mays', 'thumbs', 'reappearing', '1922', 'dramatic', 'sin', 'born', 'piling', 'aggravating', 'japanese', 'arndt', 'sloughed', 'appallingly', 'gingerman', 'solider', 'ludicrously', 'yugoslavia', 'cardona', 'figuratively', 'spokesperson', 'highlights', 'surfaces', 'wendy', 'vexing', 'meaningful', 'difficulties', 'rough', 'fraser', 'brio', 'fitzpatrick', 'whining', 'balkans', 'klein', 'indiains', 'keehne', 'expensive', 'bening', 'others', 'bonus', 'exile', 'vulnerably', 'oded', 'sigrid', 'façade', 'prospective', 'galli', 'andersen', 'greendale', 'intransigent', 'weaves', 'shrill', 'mckay', 'soul', 'clarinet', 'hers', 'pyramid', 'blowhards', 'black', 'operates', 'madman', 'met', 'showcases', 'exists', 'ninety', 'hint', 'advised', 'uneasily', 'forth', 'mins', 'explode', 'operatic', 'chewing', 'saints', 'paperwork', 'nc', 'dreaming', 'posting', 'structurally', 'unrelenting', 'griffiths', 'linney', 'jaded', 'dacoscos', 'bleep', 'bay', 'fighting', 'devil', 'restrict', 'horrible', 'contest', 'warmth', 'toro', 'shuck', 'gus', 'bent', 'financing', 'castmates', 'bombardment', 'instruments', 'edelman', 'fifteen', 'soles', 'booby', 'fantasizing', 'inevetably', 'ace', 'kyle', 'voyeur', 'stands', 'finest', 'underexposed', 'fired', 'impetus', 'marjane', 'abetted', 'trimmed', 'baggy', 'dan', 'built', 'ceilings', 'waist', 'expansion', 'visits', 'incompetent', 'lived', 'latter', 'heartthrob', 'melbourne', 'barbed', 'merely', 'seats', 'tobacco', 'negotiated', 'hence', 'churchill', 'method', 'paranoid', 'pierre', 'fundamentalism', 'kiss', 'went', 'rudyard', 'wash', 'shadows', 'lightnings', 'short', 'mystique', '61', '1920', 'creatures', 'aniston', 'marriages', 'colder', 'shove', 'rudely', 'jonbenet', 'separating', 'julian', 'saga', 'factor', 'ask', 'defending', 'incoherent', 'surprising', 'ks', 'objects', 'seek', 'vità', 'dreamer', 'heartedly', 'squadron', 'assess', 'cheer', 'achieved', 'negotiating', 'fowler', 'parasites', 'abandoned', 'locally', 'ditto', 'lena', 'perestroika', 'earlier', 'encourages', 'announcement', 'guard', 'keyholed', 'carefully', 'danze', 'reaching', 'farmers', 'minimalistic', 'jump', 'unfairness', 'responsibility', 'revolting', 'shirdan', 'straw', 'vivacious', 'donna', 'output', 'bleak', 'patricia', 'gravitational', 'intensive', 'temptation', 'eyeliner', 'worldly', 'inspiring', 'oldies', 'eggar', 'heigl', 'reason', 'countess', 'strangely', 'wes', 'gravity', 'urchin', 'obnoxiously', 'luscious', '56', 'looked', 'amoral', 'eliminates', 'psychotic', 'inaccuracies', 'heckle', 'awkwardly', 'upright', 'kathy', 'bothering', 'mighty', 'identifying', 'exteriors', 'fiend', 'raquel', 'strangest', 'enraptured', 'subpar', 'armageddon', 'jingle', 'senile', 'debilitated', 'misunderstanding', 'kenneth', 'decapitation', 'straddle', 'lorry', 'ambition', 'clichéd', 'toys', 'crack', 'duplicate', 'sub', 'karaindrou', 'unfit', 'venerable', 'jazz', 'moor', 'eureka', 'endured', 'l950', 'massey', 'stirring', 'housekeeper', 'commenting', 'blithely', 'september', 'hawke', 'conjure', 'ornaments', 'ethnicity', 'visually', 'garson', 'haruna', 'doppleganger', 'deter', 'summing', 'assistance', 'tara', 'amounts', 'philip', 'stuffy', 'beaudelaire', 'rating', 'breasts', 'heartwarming', 'castro', 'legit', 'jitters', 'andrey', 'uniforms', 'hollyweird', 'oogling', 'clint', 'producer', 'gods', 'unsure', 'bard', 'gen', 'favours', 'chagos', 'maid', 'juhi', 'neil', 'businesses', 'crab', 'shelves', 'consciously', 'stanton', 'retire', 'netting', 'atonement', 'logistics', 'praise', 'astonishingly', 'conner', 'energy', 'consistent', 'incapable', 'dud', 'accidents', 'buried', 'therefore', 'shifts', 'greatness', 'suspenseful', 'skewed', 'nichols', 'encouragement', 'individuality', 'meadows', 'unspeakable', 'unravel', 'loggia', 'coronado', 'fooling', 'papas', 'border', 'reflected', 'shopkeeper', 'concert', 'schizoid', 'snl', 'tunnel', 'simon', 'glamourous', 'bombs', 'sodomite', 'varies', 'commandments', 'pitt', 'charisma', 'sticks', 'documentation', 'brion', 'overwrought', 'heavier', 'grand', 'grade', 'yaowwww', 'seaside', 'missile', 'stunned', 'backward', 'versa', 'precociously', 'ringer', 'holy', 'feature', 'hanson', 'rico', 'hatefulness', 'seeming', 'dallas', 'earn', 'south', 'position', 'besides', 'cribbing', 'teenage', 'monitored', '106min', 'homosexually', 'metropolitan', 'speedboat', 'campsite', 'cancan', 'bogarde', 'poo', 'baffled', 'widely', 'homicidal', 'stun', 'adhere', 'attributed', 'absent', 'mandell', 'message', 'followed', 'spark', 'sas', 'gorilla', 'trace', 'allen', 'grinder', 'moments', 'jerk', 'move', 'blainsworth', 'geek', 'hansel', 'gerard', 'gaimans', 'spontaneity', 'imply', 'ketchup', 'pinochets', 'tastefully', 'deeeeeep', 'extract', 'concern', 'valued', 'francisca', 'admitted', 'narcissist', 'delicate', 'ullman', 'multi', 'haines', 'lie', 'kilt', 'ss', 'loosely', 'reckless', 'yonekura', 'fed', 'proposed', 'grasp', '1935', 'today', 'widdoes', 'browning', 'delivers', 'relegating', 'confrontations', 'gadgets', 'greatly', 'spell', 'critically', 'hestons', 'liam', 'collections', 'shabby', 'dentist', 'herzog', 'scarfe', 'refugee', 'per', 'coddled', 'owned', 'bagged', 'vain', 'outpopulated', 'vaguely', 'nasty', 'talentless', 'bullying', 'public', 'relieved', 'sierra', 'kidnap', 'ranked', 'extracted', 'dutcher', 'rm', 'degree', 'yaffa', 'deepest', '1961', 'skaters', 'strawberry', 'wrung', 'lacking', 'movement', 'wheeled', 'chainsaw', 'notch', 'reverting', 'pointing', 'nailed', 'stereotypical', 'goers', 'actor', 'serialkiller', 'played', 'wendigo', 'misogyny', 'oneself', 'evans', '1964', 'pc', 'dalle', 'conventional', 'mecha', 'online', 'bourgeois', 'dudley', 'vomit', 'signia', 'shillings', 'varma', 'lull', 'fads', 'bodyguards', 'closeted', 'partaking', 'rigid', 'april', 'extensively', 'belived', 'frozen', 'coke', 'hints', 'lights', 'hubcaps', 'controllers', 'popularity', 'stepmother', 'despised', 'reviewer', 'connors', 'chucky', 'occupies', 'shadowed', 'rushes', 'objections', 'technical', 'avril', 'animated', 'bloodlust', 'lively', 'groups', 'trowels', 'halloween', 'adrian', 'speaks', 'carnivorous', 'choreographer', 'miserable', 'bush', 'humphrey', 'upstate', 'regime', 'illegal', 'midst', 'thomas', 'unconventional', 'fundamentalists', 'vaudeville', 'prostitute', 'missionary', 'ca', 'cushing', 'hazard', 'sarek', 'underside', 'blanchett', 'cried', 'ica', 'punches', 'tiina', 'starved', 'proud', 'copied', 'gutter', 'denzel', 'jam', 'criticisms', 'damnation', 'wasn', 'cherry', 'moviegoer', 'incessant', 'max', 'spoiling', 'hulking', 'piwer', 'poulsson', '117', 'methodist', 'napolini', 'superdupercharged', 'jewel', 'reeeaally', 'starter', 'vanquishes', 'sayin', 'season', 'pipe', 'digital', 'somehow', 'unwarranted', 'stresses', 'positively', 'roscoe', 'elizabeth', 'greece', 'cliché', 'sara', 'strong', 'trail', 'altered', 'rescuers', 'notwithstanding', 'peril', 'saddam', 'implicitly', 'daines', 'dependable', 'intricately', 'giggle', 'scumbag', 'mails', 'former', 'protection', 'dassin', 'roth', 'hydrogen', 'familiarity', 'bonnie', 'blurred', 'nationals', 'katona', 'busfield', 'gish', 'marking', 'nearby', 'doug', 'burnett', 'oddly', 'exclusive', 'outing', 'photographer', 'distributor', 'hours', 'intense', 'carnosaur', 'spoiled', 'equate', 'nation', 'bat', 'styles', 'lucio', 'hirsch', 'intangible', 'arrested', 'mika', 'kretschmann', 'mailman', 'quarters', 'fixed', 'rousselot', 'dare', 'reportedly', 'tan', 'movements', 'arty', 'garland', 'cuban', 'millions', 'initiation', 'sleaziness', 'giddy', 'cruise', 'bess', 'australia', '17th', 'unconfortable', 'applies', 'jenny', 'walteri', 'jax', 'mina', 'sequoia', 'siu', 'decides', 'goldberg', '152', 'extravagant', 'possible', 'entrance', 'liu', 'orbit', 'transplant', '1970s', 'misery', 'suitcase', 'creasy', 'cooking', 'belief', 'soapier', 'nomination', 'baton', 'electrician', 'trauma', 'lbs', '1999', 'corbett', 'denouement', 'terrified', 'bourvier', 'ruefully', 'gemser', 'elicited', 'fight', 'benis', 'harboring', 'prone', 'glasses', 'stephanie', 'understandings', 'tabs', 'carole', 'pics', 'henson', 'devagan', 'sexist', 'grabbing', 'metallica', 'dunn', 'terrifying', 'affairs', 'cheering', 'muffat', 'sawyer', 'punishes', '1933', 'campus', 'attractive', 'via', 'names', 'merchandise', 'infected', 'languish', 'toss', 'attending', 'nightclub', 'teeny', 'watson', 'thinks', 'expressions', 'sharper', 'vanquish', 'saddest', 'flawed', 'surge', 'pole', 'growling', 'topped', 'stability', 'hunchback', 'sitcoms', 'roamed', 'takers', 'admirably', 'pleasured', 'tanks', 'wilhoite', 'repulsive', 'cranked', 'underwhelming', 'fined', 'mugged', 'universe', 'potboilers', 'freighted', 'seamless', 'shoved', 'fortunate', 'momentum', 'knott', 'snide', 'deniro', 'knows', 'discovery', 'delicacy', 'snogs', 'iberia', 'imbues', 'indendoes', 'doran', 'kutcher', 'weaved', 'beattie', 'erotic', 'apply', 'undeterred', 'dantons', 'tame', 'newbies', 'hecklers', 'sheila', 'creepy', 'greedy', 'endless', 'risen', 'dockside', 'hart', 'conducting', 'reflex', 'colonel', 'thru', 'usherette', 'graúda', 'cue', 'receptive', 'conflicts', 'agency', 'samurai', 'astounding', 'delpy', 'shepherd', 'hauser', 'aurelio', 'spacey', 'hired', 'distinguished', 'castle', 'tantalizingly', 'billions', 'ny', 'betterment', 'daze', 'skipping', 'reichter', 'failure', 'fürmann', 'cinema', 'stanley', 'bumped', 'impending', 'vj', 'nancy', 'sleeps', 'scowling', 'alheimsins', 'customized', 'learn', 'situational', 'vw', 'dining', 'fancier', 'spells', 'yes', 'loopholesdirection', 'civil', 'expansive', 'ophelia', 'spiderman', 'ritualistic', 'smoothly', 'bauer', 'dismissed', 'beguiled', 'writers', 'offbeat', 'richards', 'platform', 'whale', 'convincing', 'roto', 'romanticize', 'meshuganah', 'gall', 'angeles', 'downed', 'buffoon', 'sideburns', 'somebody', 'theatreadvice', 'hate', 'psychopathic', 'bushi', 'typical', 'unraveling', 'rosita', 'demon', 'shudder', 'diappointed', 'manor', 'imp', 'scuttle', 'fess', 'scripted', '18', 'comment', 'sidney', 'mahler', 'flowers', 'trashed', 'juan', 'holiday', 'parcel', 'honesty', 'attacker', 'volume', 'hapless', 'susan', 'holier', 'economical', 'integrated', 'send', 'physics', 'nazi', 'amy', 'mei', 'sohnrey', 'tapes', 'bucked', 'either', 'absorption', 'guessing', 'allan', '80', 'folks', 'borderline', 'fisher', 'showgirls', 'seed', 'obscure', 'data7', 'basement', 'gaffe', 'gems', 'howl', 'indiscretion', 'granted', 'houses', 'yell', 'natascha', 'empire', 'staunch', 'sounds', 'livesey', 'theatrical', 'blowup', 'gouald', 'awww', 'exceptional', 'horn', 'contributions', 'talentkashmira', 'murphy', 'bmtg', 'later', 'pristine', 'snack', 'redeemed', 'matters', 'richie', 'atterbury', 'genie', 'serenely', 'gibson', 'lucha', 'histrionics', 'foo', 'excellent', 'lent', 'connects', 'bean', 'glamorise', 'monroe', 'lambert', 'juxtaposed', 'greatest', 'coal', 'buying', 'rotting', 'nary', 'conservative', 'dreadful', 'absorbed', 'past', 'flynn', 'infrequently', 'dexterously', 'addicts', 'actio', 'saving', 'brainwashed', 'theft', 'coming', 'won', 'hiring', 'croc', 'shoes', 'gremlins', 'underling', 'swing', 'mention', 'roses', 'jip', 'prick', 'scratch', 'chickens', '1932', 'compiled', 'carrell', 'girolamo', 'harrowed', 'pulling', 'husbands', 'senses', 'treats', 'horrific', 'lontano', 'handled', 'patrick', 'employees', 'powder', 'thermometer', 'properties', 'forster', 'ten', 'bloodsucker', 'sake', 'phibes', 'unhappy', 'horses', 'catholic', 'reassure', 'ancestral', 'damndest', 'pits', 'federal', 'chynna', 'dialouge', 'torturing', 'mst3k', 'vignette', 'giggles', 'characteristic', 'preview', 'fashioned', 'interacts', 'devours', 'natzy', 'echos', 'lane', 'satirically', 'inevitable', 'vote', 'amateurish', 'tush', 'predecessors', 'nuances', 'rani', 'elisha', 'homoerotic', 'adrift', 'mintz', '1988', 'somewhere', 'murdock', 'spacek', 'told', 'oscars', 'softcore', 'expertly', 'swindling', 'amithab', 'loads', 'vie', 'steinberg', 'capture', 'annoyed', 'pitches', 'bluest', 'studying', 'arrest', 'nunez', 'waco', 'jeffries', 'kerman', 'brutality', 'solo', 'anonymous', 'nasa', 'values', 'boogie', 'carl', 'solitude', '1980', 'loves', 'gaffes', '10s', 'plagued', 'playschool', 'mangrove', 'ernst', 'scale', 'microchip', 'lieutenant', 'zombies', 'wide', 'evaluated', 'emilio', 'gurgle', 'cooperating', 'exiled', 'repetition', 'adorably', 'flush', 'purse', 'kicking', 'large', 'reverso', 'noise', 'diagetic', 'blandly', 'piety', 'rapture', 'outwardly', 'reposed', 'steers', 'floor', 'dresser', 'surpasses', 'welcome', 'hamper', 'disasters', 'expresses', 'lass', 'ugliness', 'stormish', 'aid', 'mature', 'disliked', 'sigurðusson', 'suzanna', 'seuss', 'circuses', '1997', 'bookkeepers', 'mastery', 'tosses', 'branagh', 'swank', 'price', 'standpoint', 'kate', 'triple', 'healthy', '42', 'judgment', 'shan', 'photographing', 'possibility', 'comig', 'archdeacon', 'konchalovsky', 'fraught', 'organs', 'song', '2020', 'sharon', 'plaster', 'goal', 'satan', 'drowned', 'revealing', 'locomotive', 'risque', 'tenuous', 'fend', 'emotions', 'peabody', 'watering', 'museum', 'month', 'montrocity', 'consciousness', 'alternating', 'sabotage', 'inc', 'encrypt', 'understanding', 'retribution', 'strut', 'britney', 'nunk', 'muddy', 'kaye', 'realize', 'kaas', 'combined', 'tensions', 'chimps', 'zorie', 'simple', 'escapist', 'alda', 'consent', 'pictured', 'grisham', 'mist', 'impressively', 'district', 'violation', 'snowman', 'smirking', 'maniac', 'bought', 'lawn', 'gratuitous', 'screens', 'stanwyck', 'citizens', 'crystals', 'games', 'baked', 'patty', 'thaw', 'mantegna', 'promoting', 'strangles', 'literally', 'worlds', 'gaa', 'unkill', 'worringly', 'wood', 'indians', 'tarentino', 'tittipudlian', 'clash', 'screechy', 'respect', 'abilities', 'guys', 'eyes', 'osborne', 'fading', 'spotted', 'fetus', 'los', 'ashutosh', 'dude', 'attacking', 'sealed', 'campy', 'wise', 'flamenco', 'welch', 'dishonest', 'discretion', 'ejection', 'pooja', 'proceedings', 'goat', 'anders', 'birell', 'bolster', 'christian', 'convinces', 'unite', 'capitalism', 'class', 'managers', 'pepoire', 'gimmicky', 'portrayal', 'faulty', 'imprisoning', 'stage', 'comedies', 'thais', 'tagawa', 'kerchief', 'flails', 'mashing', 'reservations', '95', 'hummers', 'awe', 'holes', 'franz', 'tights', 'singerbasically', 'graves', 'unspectacular', 'jefferson', 'brandon', 'echelons', 'convinced', 'fears', 'brady', 'check', 'canoe', 'fastly', 'heeding', 'intentionally', 'wrongly', 'metal', 'peasants', 'family', 'darkened', 'applied', 'rousing', 'expectation', 'bathed', 'playbill', 'each', 'dressing', 'clothing', 'simplicity', 'leanings', 'chills', 'goddard', 'courage', 'rupert', 'richmond', 'pinky', 'demeans', 'freshman', 'stationed', 'stifling', 'desecrate', 'geordie', 'acquaintances', 'town', 'hilt', 'eastern', 'relations', 'esposito', 'heros', 'humblest', 'laughter', 'wonderous', 'stylized', 'laughed', 'detectives', 'whacking', 'heartstring', 'kizz', 'scholar', 'barbet', 'crazies', 'pawn', 'adjust', 'captains', 'rainfall', 'demographic', 'elevators', 'breathtaking', 'trademark', 'desperately', 'exaggerated', 'coherent', 'adored', 'tamara', 'layers', 'leatherfaces', 'dozen', 'liang', 'chines', 'pap', 'smoky', 'attachment', 'furs', 'designed', 'gwot', 'errand', 'scooby', 'egyptian', 'desolate', 'tojo', 'log', 'believeable', 'contemporary', 'snugly', 'savannah', 'apocalypto', 'ninjas', 'claudia', 'tremors', 'labeled', '3d', 'prepare', 'detroit', 'gardening', 'aztecs', 'broader', 'ojibway', 'spread', 'motivation', 'excellence', 'crispin', 'pigs', 'comfort', 'slides', 'adventure', 'hoey', 'winding', 'understandable', 'shuts', 'steele', 'homage', 'assuming', 'miscasting', 'rowboats', 'grit', 'subconscious', 'pseudo', 'acceptable', 'swallowed', 'unbelievable', 'scientists', 'discriminated', 'overhyped', 'limit', 'glamour', 'snapshot', 'afroreggae', 'imprision', 'gargoyle', 'sieldman', 'repress', 'daragh', 'jamming', 'calculus', 'slob', 'bureaucracy', 'lasts', 'practice', 'manned', 'firm', 'unremarkable', 'duplicative', 'sixty', 'preserve', 'storm', 'poison', 'installing', 'verse', 'fake', 'poured', 'measly', 'vegas', 'jade', 'thievesroger', 'damme', 'norma', 'mourn', 'immigrating', 'roderick', 'mouth', 'kicked', 'marc', 'chianese', 'automatic', 'criticize', 'mckinney', 'egyption', 'acerbity', 'posted', 'intro', 'transferring', 'dashes', 'babes', 'detail', 'relies', 'gain', 'russel', 'sidle', 'telephone', 'querying', 'reverse', 'hysterics', 'liberating', 'rampant', 'momma', 'wanting', 'fiance', 'invites', 'masturbation', 'rats', 'bike', 'rovner', 'psychologist', 'riotous', 'frantically', 'débutante', 'trinity', 'caprica', 'favoritism', 'isolated', 'coincidences', 'himmler', 'shark', 'medicine', 'imperioli', 'taxi', 'confessed', 'fishes', 'badass', 'introductions', 'deer', 'clichés', 'athletic', 'rod', 'krimi', 'genuine', 'cell', 'alleged', 'menial', 'contemplative', 'um', 'jewish', 'formed', 'openness', 'deadly', 'rehearsed', 'competent', 'serves', 'defenetly', 'single', 'cheated', 'beach', 'ewan', 'ram', 'once', 'worried', 'outlive', 'se', 'isaiah', 'muggers', 'uninspired', 'sucking', 'harmless', 'abrahams', 'yvaine', 'focal', 'chicago', 'piedmont', 'necro', 'compulsory', 'strategically', 'implication', 'dedication', 'sex', 'pshycos', 'underused', 'cannibal', '35mm', 'play', 'nominations', 'bsg', 'caribbean', 'celebrities', 'overhead', 'cleve', 'fundamentalist', 'abandon', 'andreas', 'notable', 'souls', 'wannabe', 'inertia', 'dosen', 'werner', 'eggs', 'americana', 'transcending', 'compelling', 'concussion', 'spawns', 'sucky', 'finished', 'impulse', 'thre', 'tur', 'explanatory', 'burakov', 'america', 'appearance', 'punch', 'wimps', 'coen', 'laird', 'redeeming', 'wainwright', 'skill', 'national', 'mishandled', 'blind', 'racing', 'anxiety', 'flamboyant', 'gymnastics', 'nemec', 'wedding', 'industrialist', 'catching', 'supremely', 'lazy', 'entertainments', 'negligible', 'tomboy', 'independent', 'chooses', 'forces', 'sheeze', 'flyfisherman', 'alex', 'petit', 'oil', 'award', 'flannery', 'crime', 'videophiles', 'slasher', 'nuptials', 'roundhouse', 'scope', 'josie', 'passenger', 'againrani', 'forcing', 'australian', 'proceeds', 'green', 'amaze', 'extraordinary', 'vertigo', 'locations', 'clerks', 'native', 'mine', 'aide', 'warehouse', 'bloody', 'liberty', 'secure', 'strung', 'edge', 'undergo', 'dwight', 'spoon', 'vapid', 'dandy', 'convulsivebeauty', 'biblical', 'quelled', 'shootout', 'connection', 'cheerleader', 'entail', 'uh', 'errors', 'campaign', 'barrymore', 'exhibition', 'sings', 'mischief', 'year', 'ingvar', 'pin', 'manly', 'calm', 'downer', 'kept', 'smallest', 'bane', 'players', 'misunderstandings', 'inflict', 'shannon', 'lies', 'fixing', 'sponge', 'fricker', 'herring', 'smoke', 'finch', 'unstable', 'brush', 'sf', 'curry', 'ramallo', 'louise', 'invasion', 'associates', 'fond', 'crafts', 'chanwook', 'bumbling', 'yard', 'definatly', 'watershed', 'bring', 'explodes', 'chaney', 'gal', 'solomon', 'ritt', 'squarely', 'nepalese', 'personally', 'promoters', 'lowerclass', 'runyonesque', 'info', 'nocturnal', 'anticlimactic', 'definition', 'sophistication', 'moscovis', 'gina', 'resolution', 'mountainside', 'goggles', 'fledged', 'devastated', 'vulcans', 'padget', '1900s', 'mindset', 'paired', 'pompous', 'dollies', 'landmarks', 'living', 'industry', 'pedestrians', 'arranged', 'obscurity', 'kidnaps', 'sage', 'illness', 'comments', 'engaged', 'unnecessary', 'thirds', 'andrea', 'hills', 'virtual', 'frisson', 'unbelievably', 'chased', 'sponsors', 'commissioned', 'groping', 'quartet', 'secondly', 'bettered', 'unaccredited', 'handed', 'interrupted', 'folklore', 'steep', 'stuffed', 'wittiest', 'visit', 'wacky', 'rooted', 'werewolf', 'perennially', 'fathers', 'sorry', 'educator', 'reasonably', 'comprehensive', 'compete', 'wiseness', 'kristofferson', 'cost', 'cop', 'multiples', 'jolt', '1962', 'clausen', 'recently', 'cary', 'jarkovsky', 'skeptical', 'delivering', 'mossbank', 'kureishi', 'identity', 'subsequently', 'trucks', 'speculate', 'outraged', 'prisoners', 'arte', 'uphill', 'iota', 'robotic', 'atchoo', '5yrs', 'adequately', 'physician', 'aberrant', 'outset', 'function', 'gabriele', 'overnight', 'macy', 'husband', 'cant', 'abode', 'chestnut', 'simpsons', 'require', 'gestapo', 'hutton', 'chuck', 'scenethere', 'prevent', 'louisiana', 'mini', 'video', 'smiles', 'scam', 'immature', 'form', 'crosses', 'cartoon', 'koresh', 'minton', 'controversy', 'previous', 'completely', 'unpleasant', 'perspective', 'devout', 'kilmer', 'proposition', 'vivid', 'conscience', 'bottles', 'wanders', 'assignations', 'motorized', 'tryst', 'player', 'composer', 'notorious', 'visible', 'boss', 'claus', 'ballads', 'ulrich', 'warmed', 'wyoming', 'meager', 'concerns', 'sucks', 'credence', 'odds', 'homosexuality', 'allison', 'jarl', 'stagger', 'coldness', 'remembrance', 'highlight', 'wrapping', 'gujarati', 'non', 'considered', 'ford', 'appalled', 'stick', 'escalate', 'finely', '1943', 'attaches', 'deterrance', 'schoolmates', 'callous', 'anderson', 'ist', '24', '19th', 'schwarzenegger', 'ruffalo', 'certain', 'romances', 'ecstasy', 'rodriguez', 'xiao', 'fashion', 'miles', 'theology', 'exceptions', 'overdose', 'incompetence', 'vittles', 'burr', 'boring', 'happenings', 'stromboli', 'spanish', 'responsibilities', 'compared', 'millenial', 'wee', 'stiffer', 'deserved', '1978', 'stamped', 'quaint', 'underwoods', 'afflicted', 'torrential', 'violence', 'damage', 'screwball', 'christine', 'guide', 'ucsd', 'warm', 'cheryl', 'individual', 'breed', 'riders', 'master', 'drop', 'viet', 'weren', 'bajpai', 'prix', 'misunderstood', 'kline', 'statements', 'olds', 'lindstrom', 'mein', 'entity', 'affections', 'greek', 'contender', 'depths', 'cagey', 'foster', 'loxley', 'sense', 'dramatically', 'dimmed', 'colourised', 'dances', 'blood', 'leaning', 'hunters', 'sadie', 'eighties', 'dungeons', 'ya', 'fringe', 'relocating', 'bashings', 'lifts', 'enamored', 'indicates', 'winter', 'operate', 'external', 'bedingfield', '227', 'thefts', 'drill', 'holm', 'haley', 'disjointed', 'hutz', 'plans', 'extravaganza', 'parental', 'followings', 'handbook', 'physical', 'mater', 'actioner', 'glances', 'nail', 'homeowners', 'sinking', 'al', 'loving', 'persistent', 'ordered', 'amon', 'goremeister', 'code', 'villain', 'dali', 'corruption', 'entrepreneurial', 'renaud', 'bioroids', 'associated', 'inferno', 'gauging', 'fates', 'duncan', 'box', 'micheal', 'improved', 'barfly', 'lizzie', 'secretary', 'abruptly', 'sweeps', 'unboards', 'samples', 'caused', 'pod', 'ignoring', 'franchise', 'kimbo', 'repel', 'foxy', 'constantly', 'refused', 'unconsciously', 'preaches', 'mo', 'upward', 'floored', 'raining', 'scold', 'ministrations', 'howdy', '02', 'trap', 'store', 'bathroom', 'caricatures', 'earring', 'sentiment', 'decent', 'romance', 'ego', 'alkatraz', 'sugar', 'playback', 'hefty', 'ebeneezer', 'nested', 'scrooge', 'stealing', 'insinuate', 'comedian', 'vittorio', 'astronaut', 'art', 'tac', 'evinced', 'conscript', 'purchasing', 'badness', 'nobleman', 'prerogative', 'depended', 'mink', 'erroneous', 'bloore', 'headquarters', 'oafish', 'elaborate', '1947', 'core', 'development', 'sections', 'vampyre', 'dorm', 'undies', 'resist', 'category', 'deeper', 'unarmed', 'boundless', 'garden', 'retrospective', 'spouting', 'volatile', 'affords', 'westernized', 'senes', 'marathon', 'dismembered', 'earned', 'strategy', 'sleaze', 'registration', 'raise', 'called', 'respectfully', 'dabbing', 'distortion', 'vargas', 'whereabouts', 'augusta', 'palsy', 'gutenburg', 'gutless', 'enjoying', 'stardom', 'playmate', 'tonking', 'prove', 'remoteness', 'inside', 'vaughn', 'cable', 'payout', 'realises', 'candidate', 'pony', 'rebellious', 'special', 'functions', 'fusion', 'octane', 'volckman', 'sewers', 'competition', 'lili', 'henny', 'stoner', 'sophie', 'deported', 'swallow', 'conti', 'toughness', 'utilized', 'dien', 'ondaatje', 'cinematically', 'monk', 'kasem', 'introduces', 'alcoholic', '88', 'lima', 'nebraska', 'records', 'ditzy', 'madeline', 'soccer', 'election', 'useless', 'portray', 'ranged', 'collide', 'hattie', 'eeeewwww', 'gate', 'cocaine', 'galdos', 'hams', 'electronics', 'hardware', 'behalf', '60', 'hysterical', 'boondock', 'assets', 'dropped', 'erudite', 'assume', 'avery', 'discuss', 'patent', 'northwest', 'trepidation', 'provine', 'disrespect', 'ripoff', 'probe', 'crush', 'philharmonic', 'doing', 'feldman', 'downhill', 'reel', 'radiant', 'montana', 'laws', 'johnston', 'extraordinaries', 'helping', 'romanticizing', 'propper', 'baz', 'edit', 'sexo', 'recognised', 'keith', 'surrendering', 'masterif', 'publicized', 'minagawa', 'mystics', 'gormless', 'hessling', 'taciturn', 'carto', 'bam', 'imo', 'sayeed', 'biographies', 'classical', 'peddler', 'pigeons', 'stony', 'waves', 'outlines', 'plagues', 'blondes', 'searchlight', 'chatting', 'uncensored', 'bacall', 'janet', 'spurt', 'lambs', 'premiered', 'flames', 'preform', 'drops', 'knockoff', 'singers', 'sponsored', 'respectful', 'knights', 'rain', 'customer', 'panes', 'lombardo', 'miraculously', 'reared', 'pax', 'engines', 'setbacks', 'warrants', 'trying', 'anil', 'shield', 'disappointment', 'fone', 'liability', 'childe', 'carlos', 'pass', 'selve', 'nora', 'donuts', 'celebrate', 'pointers', 'concierge', 'swayze', 'belmont', 'haunt', 'karts', 'dirk', 'mesmerized', 'turbulence', 'germany', 'rappers', 'bugsy', 'labour', 'mccoy', 'min', 'copy', 'stoltz', 'unfold', 'acknowledges', 'equipped', 'process', 'spiral', 'frances', 'patinkin', 'cliched', 'winced', 'count', 'vancouver', 'iranians', 'prettier', 'spain', 'resent', 'dorff', '06', 'conducted', 'value', 'refunds', 'gestures', 'brooke', 'lists', 'load', 'monotheism', 'ignorantly', 'regret', 'calendar', 'episodes', 'rea', 'rescued', '38', 'heiligt', 'deputy', '1977', 'disappearances', 'adoration', 'quotes', 'michalka', 'grow', 'brain', 'masterly', 'superbly', 'discreetly', 'fury', 'pool', 'transported', 'believe', 'gratiano', 'stations', 'clothe', 'clearer', 'everyday', 'serviceable', 'knockabout', 'unsatisfying', 'vanilla', 'hanif', 'proudly', 'goons', 'tyrants', 'mazurki', 'guiccioli', 'drunk', 'torrid', 'stageed', 'ghetto', 'subplots', 'knocks', 'pardon', 'instrumentals', 'wacko', 'area', 'remote', 'shotgun', 'planned', 'intimacy', 'philosophers', 'beeps', 'collect', 'associate', 'succeeded', 'astonishing', 'cleverness', 'spider', 'modern', 'rooker', 'using', 'bravura', 'ancient', 'creative', 'pew', 'rene', 'grandson', 'understood', 'technically', 'sinister', 'raises', 'cringe', 'deceased', 'depictions', 'inclinations', 'governor', 'apologise', 'midget', 'ferrari', 'disintegrates', 'age', 'coach', '01', 'caste', 'buffy', 'authorities', 'weatherman', '75', 'bogged', 'hockey', 'anti', 'friend', 'kenji', 'blade', 'gondola', 'brigade', 'ledger', 'wonderment', 'synergy', 'stardust', 'mayan', 'mouthed', 'enjoyed', 'criticized', 'chomp', 'helmet', 'culminates', 'conditions', 'handsaw', 'definable', 'compound', 'learnt', 'acuteness', 'polito', 'rocker', 'hot', 'flutters', 'atmosphere', 'inconsequential', 'fur', 'convicts', 'shill', 'projector', 'quashed', 'intellect', 'refreshing', 'aure', 'dictator', 'fehr', 'perpetually', 'occasionally', 'dv', '77', 'examples', '46', 'predictor', 'scheider', 'technicolor', 'pumping', '1985', 'salomon', 'cagney', 'bailiffs', 'futility', 'members', 'forgotten', 'definitively', 'advises', 'adversaries', 'personalities', 'whiz', 'individualist', 'sync', 'peckinpah', 'riefenstahl', 'fetish', 'conscientious', 'added', 'surly', 'figuring', 'predalien', 'killer', 'mst', 'captured', 'existing', 'hype', 'fascinates', 'limits', 'redundancy', 'bluntly', 'reinvent', 'mushy', 'originally', 'mystic', 'significance', 'loots', 'hines', 'meandering', 'smell', 'egg', 'folk', 'gere', 'whalberg', 'pi', 'krauss', 'urinating', 'dons', 'rest', 'manfredi', '9lbs', 'weeping', 'impenetrable', 'shooting', 'traugott', 'prized', 'gained', 'lavish', 'bono', 'repugnancy', 'photographed', 'elves', 'slows', 'muster', '4th', 'queens', 'tap', 'remakes', 'tacking', 'yoda', 'sickening', 'darbar', 'jena', 'triangle', 'authoritative', 'ichikawa', 'frame', 'brat', 'aids', 'dismay', 'annoyance', 'hehas', 'spock', 'reprised', 'chorus', 'exercise', 'con', 'cheng', 'rejects', 'hostage', 'tense', 'lombard', 'plummer', 'das', 'babbling', 'darth', 'butchering', 'advantage', 'key', 'heat', 'boon', 'niagara', 'bait', 'wanna', 'pathetically', 'samuari', 'wounds', 'franchot', 'therein', 'deletion', 'summer', 'convoluted', 'monstrous', 'afoot', 'crediblity', 'documentaries', '12th', 'sparkuhl', 'planed', 'encountered', 'latch', 'accurately', 'beret', 'wagon', 'further', 'idealism', 'tasteless', 'kinlan', 'heap', 'jolie', 'sharaff', 'cukor', 'woods', 'glamorous', 'circus', 'ennio', 'niro', 'hears', 'dogs', 'transcends', 'goatee', 'mm', 'renderings', 'overwhelmed', 'rarified', 'island', 'blanket', 'waste', 'messy', 'unbidden', 'dinosaurs', 'similarly', 'hocked', 'ardelean', 'apartment', 'heading', 'corey', 'malinged', 'jean', 'barcelona', 'types', 'sprawling', 'gentil', 'zant', 'affectionate', 'kinda', 'rue', 'afterwards', 'precludes', 'childish', 'avpr', 'bullets', 'albeit', 'ocs', 'individuals', 'exponentially', 'frankenstein', 'bedeila', 'christians', 'hitmen', 'backstabbing', 'unfortunate', 'ravages', 'cyborg', 'nyman', 'janos', 'visibly', 'bar', 'difford', 'teenish', 'priests', 'grown', 'sleepwalking', 'prakash', 'swelling', 'worthy', 'packard', 'presumed', 'discerning', 'emotionless', 'popcorn', 'breathtakingly', 'stigma', 'frail', 'antics', 'flash', 'book', 'hitchens', 'inequities', 'kleenex', 'wade', 'fisted', 'pirated', 'afterward', 'sad', 'meeting', 'outstanding', 'stays', 'veidt', 'wastes', 'grandparents', 'hairy', 'namely', 'adapter', 'mos', 'blair', 'limp', 'defiant', 'brazilians', 'thomsen', 'mysteries', 'profess', 'britons', 'stimulate', 'peddling', 'gag', 'bliss', 'filmstock', 'europeans', 'faceless', 'moon', 'across', 'crimson', 'presidential', 'strongest', 'frill', 'conference', 'quietly', 'improvised', 'alphabet', 'legally', 'whereas', 'rhetoric', 'skunk', 'ufo', 'carnet', 'eatery', 'suspense', 'bearing', 'caller', 'feminism', 'eerily', 'zeroni', 'tolerable', 'staying', 'corporation', 'plowright', 'tranquility', 'lyrics', '30pm', 'lowest', 'underlying', 'decorating', 'dhawan', 'pinkett', 'buzzers', 'martial', 'judging', 'verve', 'abusers', 'unheated', 'anymore', 'skins', 'bullies', 'magnon', 'semra', 'fourteen', 'crabs', 'payment', 'rubbed', 'sidenotes', 'terrific', 'intersected', 'regular', 'descendants', 'tantrums', 'wolfies', 'exec', 'persecuted', 'mccallum', 'totes', 'horrorfests', 'uplifted', 'feinstone', 'tale', 'unimaginative', 'scribbled', 'outbound', 'hellll', 'crown', 'zone', 'clod', 'meantime', 'fresher', 'kabul', 'chester', 'confidentiality', 'arrival', 'yesterdays', 'saintly', 'principles', 'regroup', 'youngish', 'scarecrow', 'twangy', 'chants', 'entendre', 'inhabit', 'recalls', 'solution', 'scarf', 'ghostbusters', 'zero', 'semitic', 'interpretations', 'cidade', 'rigs', 'importation', 'pieces', 'stream', 'roundly', 'spade', 'scoured', 'dolph', 'committee', 'jar', 'eye', 'politics', 'homosexual', 'building', 'tactics', '80s', 'reserved', 'cancels', 'reflection', 'cuddle', 'indifference', 'groundbreaking', 'murdering', 'craft', 'onset', 'majestic', 'define', 'gangsters', 'hunt', 'bruckheimer', 'melvyn', 'conchata', 'brett', 'sockets', 'currently', 'viewpoint', 'knives', 'croaking', 'leads', 'klause', 'bicycle', 'hispanic', 'ruby', 'excel', 'estrangement', 'delivered', 'paley', 'shekhar', 'tangent', 'silliness', 'genitals', 'cities', 'invaders', 'hawaii', '1998', 'forehead', 'mentally', 'environmentalism', 'valiantly', 'excluding', 'chinawell', 'showdown', 'champion', 'relocate', 'carmichael', 'tree', 'suspension', 'disposal', 'digging', 'bravely', 'malone', 'shrewsbury', 'grieving', 'tank', 'talking', 'forgot', 'bewilderment', 'computer', 'software', 'improve', 'stafford', 'burns', 'morrrison', 'intensify', 'cratchits', 'organizational', 'goldfish', 'raimi', 'threesome', 'soup', 'sound', 'graced', 'crusade', 'neurotic', 'paternity', 'treacherous', 'offerings', 'twenties', 'postal', 'doctrinaire', 'bleed', 'glaringly', 'evanescent', 'hays', 'rebecca', 'voiced', 'lighthouse', 'warrant', 'demise', 'purely', 'davidian', 'total', 'forty', 'afraid', 'extremely', 'urban', 'combat', 'lilililililii', 'misadventures', 'viewings', 'romeo', 'plimton', 'differently', 'hitchhiker', 'runyon', 'kilgannon', 'morse', 'tek', '42nd', 'irresistibly', 'campbell', 'thison', 'vidor', 'perverted', 'destroyed', 'depicted', 'deterioration', 'break', 'closure', 'africaans', 'ceases', 'dangling', 'tagged', 'partisan', 'phenomenon', 'thrills', 'falk', 'myth', 'nuttin', 'explanations', 'mciver', 'wings', 'worship', 'suite', 'duke', 'scan', 'foolishly', 'legionnaires', 'nothings', 'verbose', 'couple', 'picky', 'lumps', 'lingering', 'tact', 'era', 'weakness', 'object', 'homeland', 'totenkopf', 'wolfman', 'awesome', 'gunning', 'put', 'discount', 'spasm', 'underated', 'typed', 'fairplay', 'monday', 'join', 'suggestive', 'productively', 'zooming', 'declining', 'asneeze', 'mayhem', 'pskov', 'branaghs', 'sunken', 'stripperella', 'grad', 'avenging', 'poelvoorde', 'completeness', 'staple', 'tearfully', 'located', 'ethic', 'fanning', 'edition', 'donald', 'solitary', 'appropriated', 'inch', 'altering', 'weighed', 'delightful', 'shouldered', 'kirkpatrick', 'les', 'metaphor', 'lifetime', 'knock', 'school', 'blame', 'distraction', 'tails', 'alight', 'admired', 'abroad', 'oily', 'slept', 'introducing', 'miscast', 'tin', 'plenty', 'soubrette', 'communications', 'isaac', 'finals', 'gift', 'pondered', 'ely', 'limelight', 'messing', 'guessed', 'libbed', 'pitchfork', 'irons', 'name', 'topless', 'plasse', 'winger', 'earle', 'excesses', 'bont', 'sandwich', 'vibrant', 'refer', 'sap', 'courtroom', 'andresson', 'shut', 'countryside', 'manhattan', 'bitterly', 'disembowelment', 'mcpherson', 'immoral', 'elapses', 'fatale', 'ammo', 'irishman', 'bikes', 'trigger', 'melodramatic', 'uproar', 'eyed', 'fehmiu', 'delineate', 'macmahon', 'karl', 'gentleman', 'lillie', 'wheeler', 'introduction', 'lightening', 'sardonic', 'chunky', 'naïve', 'turquoise', 'pussy', 'departure', 'lucifer', 'occasional', 'infuriates', 'rv', 'beaus', 'healed', 'elton', 'completist', 'camilla', 'convictions', 'cake', 'blames', 'juicy', 'hefner', 'model', 'sides', 'bag', 'dwarf', 'complained', 'showed', 'summerslam', 'homer', 'labeouf', 'quaaludes', 'totting', 'oyster', 'collums', 'ear', 'mansion', 'violet', 'fascinated', 'las', 'ballet', 'fearnet', 'wardrobes', 'lang', 'tactful', 'dimensionality', 'collecting', 'doot', '1969', 'wish', 'mentioned', 'sour', 'custer', 'murderer', 'believes', 'ordeal', 'spaceport', 'finale', 'phoren', 'barriers', 'scowl', 'upa', 'ventresca', 'morocco', 'bribes', 'cups', 'kurtz', 'magnum', 'barabara', 'towns', 'quakerly', 'encouraging', 'guiltily', 'fights', 'grating', 'gundam', 'struggled', 'prescribe', 'makers', 'attacks', 'brennaman', 'wierd', 'rank', 'dominici', 'fulfills', 'ho', 'malicious', 'appendage', 'plated', 'smack', 'vigorously', 'reconstituirea', 'killian', 'males', 'margaret', 'gabriels', 'youngman', 'ruled', 'dwell', 'climactic', 'stupid', 'challenge', 'cool', 'juice', 'marianne', 'videographer', 'ocp', 'utilitarian', 'ditka', 'editing', 'guise', 'appeared', 'circe', 'tribulations', 'intention', 'bewitching', 'poise', 'hole', 'kitschy', 'letterman', 'translated', 'assembled', 'ethics', 'sollett', 'marva', 'frauds', 'eu', 'openly', 'hungary', 'mixing', 'anonymously', 'pheacians', 'rainbow', 'runs', 'invisible', 'healy', 'prepared', 'cured', 'spy', 'rehash', 'oblique', 'colour', 'unwanted', 'helpful', 'gettin', 'honour', 'shackled', 'feat', 'beaten', 'manckiewitz', 'pavey', 'fatalistic', 'peoples', 'sensual', 'thayer', 'pornographic', 'dixon', 'cg', 'stroke', 'echo', 'discernible', 'slumming', 'homophobe', 'trips', 'reluctantly', 'obvious', 'culpable', 'luege', 'rade', 'jurisdiction', 'climate', 'woes', 'whiff', 'quickie', 'mouffetard', 'reserve', 'caricature', 'dramatists', 'cranberries', 'jumps', 'pervading', 'revulsion', 'amazing', 'girlpower', 'earthly', 'dung', 'diner', 'interpreted', 'calcutta', 'pitying', 'seasick', 'projection', 'bags', 'performed', 'haggard', 'lily', 'whatever', 'morgan', 'errant', 'ennui', 'lwr', 'vine', 'historically', 'interiors', 'zefferelli', 'zu', 'aging', 'listings', 'appease', 'sells', 'grossing', 'unreality', 'biology', 'modest', 'duet', 'rufus', 'chopra', 'servant', 'epitomised', 'edmond', 'skitters', 'emperor', 'entry', 'midler', 'appeals', 'promoter', 'compassionate', 'dachshunds', 'faces', 'outproduced', 'squeals', 'advertising', 'boathouses', 'imperial', 'angel', 'ag', 'credential', 'stupor', 'corporations', 'hero', 'animal', 'downs', 'foil', 'impregnation', 'stab', 'collectible', 'bennett', 'income', 'creators', 'inducing', 'extras', 'sleaziest', 'loup', 'partying', 'interred', 'pornography', 'rehashed', 'prayers', 'cleared', 'menace', 'chinese', 'lilly', 'obliviously', 'dancing', 'defenceless', 'lesson', 'waits', 'accordingly', 'titty', 'winston', 'alaskan', 'windows', 'mack', 'dying', 'panoply', 'excelled', 'dialogue', 'menorah', 'fallacy', 'alienating', 'reynolds', 'ultra', 'linen', 'stepfather', 'carpet', 'vacation', 'pimp', 'boor', 'reconstituted', 'jerusalem', 'unclever', 'ignored', 'budgeted', 'filmed', 'langbein', 'caution', 'und', 'manna', 'thailand', 'ad', 'license', 'swashbuckling', 'sociopaths', 'pine', 'highly', 'talkie', 'available', 'osbourne', 'avert', 'satrapirenaissance', 'crumley', 'strippers', 'clooney', 'discreet', 'arguably', 'acclamation', 'primarily', 'deemed', 'pared', 'night', 'reformatory', 'carriers', 'warn', 'lads', 'mix', 'dishonor', 'mississippi', 'counterfeiting', 'guignol', 'scar', 'wishing', 'challenged', 'stages', 'teeth', 'winning', 'forfeit', 'stunning', 'mother', 'charles', 'giggling', 'traversing', 'idioms', 'cincinnati', 'screwfly', 'powerfully', 'visualizing', 'strictly', 'grabs', 'ridiculed', 'sympa', 'drab', 'oxenbuld', 'masterpiece', 'rhett', 'above', 'scheming', 'creations', 'wufei', 'premiere', 'betrayal', 'expelled', 'scrapes', 'toot', 'pharmacy', 'penal', 'tottenham', 'starts', 'liveries', 'visuals', 'luis', 'drawl', 'trinian', 'stooges', 'sadness', 'pantheon', 'bulb', 'sale', 'tyne', 'porten', 'intrusive', 'apporiate', 'bouquet', '50s', 'papers', 'fraternity', '87minutes', 'brocoli', 'fortitude', 'physically', 'rockefeller', 'continent', 'estranged', 'paralyzed', 'capers', 'instructs', 'ships', 'enhances', 'researching', 'sondra', 'faulkland', 'chapters', 'trampled', 'instalments', 'massive', 'gails', 'barkin', 'bookstore', 'crystal', 'mourning', 'maj', 'signal', 'dahlia', 'salvation', 'grant', 'craps', 'tho', 'fairy', 'spielberg', 'chat', 'opinionated', 'tired', 'economy', 'advances', 'tastes', 'nesic', 'harold', 'petrified', 'rudy', 'crossroads', 'horrified', 'blomberg', 'blokes', 'cleaning', 'wang', 'sensitively', 'tut', 'antedote', 'slide', '1942', 'adequate', 'since', 'weepy', 'swam', 'shift', 'programs', 'vortex', '237', 'sylvie', 'crash', 'gft', 'bottle', 'gladly', 'whos', 'hardest', 'dreamt', 'morethan', 'showtime', 'pervades', 'wither', 'await', 'top', 'tomorrow', 'guest', 'yuck', 'bizarrely', 'covert', 'tire', 'pharoah', 'replacement', 'tougher', 'nft', 'costumes', 'domain', 'roller', 'starchy', 'nash', '23rd', 'chagossian', 'mauritius', 'typecast', 'embedded', 'gather', 'mockery', 'regain', 'convey', 'weapons', 'geary', 'rescue', 'misleading', 'forsaken', 'shootings', 'slice', 'mclanahan', 'suchet', 'anthology', 'polished', 'thief', 'disco', 'trow', 'syndrome', 'rendered', 'league', 'resenting', 'destitute', 'doyle', 'clap', 'stratosphere', 'misinterpreted', 'creativity', 'fastforward', 'precipitating', 'prancing', 'field', 'clawing', 'evening', 'rodgers', 'cabins', 'jude', 'diving', 'rump', 'fossey', 'tries', 'distaste', 'insults', 'accept', '400', 'raiser', 'captivate', 'towel', 'endure', 'option', '1940s', 'fittingly', 'gives', 'permissive', 'concur', 'amusing', 'livestock', 'pressley', 'logical', 'construct', 'humour', 'laid', 'stratas', '1951', 'customs', 'wiser', 'unrehearsed', 'aimlessly', 'inkling', 'experienced', 'humpp', 'bibles', 'fear', 'tracy', 'gang', 'uni', 'canning', 'moby', 'pressed', 'endures', 'montez', 'deviates', 'mussel', 'topic', 'encircled', 'develops', 'prudishness', 'stimuli', 'lump', 'obligatory', 'sneered', 'mcteer', 'bourbon', 'suppurating', 'astoundingly', 'continue', 'reactionary', 'opposing', 'watanabe', 'gooder', 'alfred', 'recon', 'comes', 'absolutely', 'weirdest', 'legde', 'ease', 'screenwriter', 'egyptologist', 'barks', 'imperishable', '9th', 'sheen', 'elvis', 'nossiter', 'ignore', 'wrightly', 'lecherous', 'english', 'surprisingly', 'swan', 'follows', 'teen', 'cliff', 'centers', 'december', 'missi', 'ingrid', 'ruin', 'dumping', 'reveals', 'squashed', 'adverts', 'sexual', 'rosebud', 'janney', 'lewd', 'win', 'filmhistory', 'commenter', 'tanzanians', 'twelve', 'borer', 'peter', 'drivel', 'fishburne', 'loneliness', 'build', '2001', 'loony', 'inserting', 'stagnant', 'walls', 'klan', 'females', 'frustrated', 'velii', 'mangled', 'republic', 'amorous', 'dance', 'quasimodo', 'growl', 'aspect', 'says', 'largely', 'favela', 'lacey', 'manufacture', 'swerves', 'zhdanov', 'sirens', 'requirement', 'warriors', 'dangerous', 'depravation', 'pura', 'merit', 'lifeforms', 'comedic', 'daily', 'vaults', 'rivals', 'vin', 'debra', 'gallo', 'rewards', 'roberts', 'jan', 'resignation', 'offends', 'rewrites', 'tyson', 'butcher', 'galaxina', 'crouching', 'ittoku', 'beating', 'pointed', 'neo', 'doomed', 'gentlemen', 'amrutlal', 'amount', 'shorts', 'maintains', 'mag', 'swoon', 'hooker', 'foch', 'glimpse', 'abstract', 'promises', 'previously', 'hannibal', 'robot', 'xerox', 'counterparts', 'scanner', 'attendant', 'peed', 'thunderbolt', 'farcical', '1983', 'entitled', 'lydie', 'prescription', 'heralds', 'curmudgeon', 'component', 'dapper', 'fi', 'besson', 'base', 'throws', 'excitement', 'mark', 'predictably', 'shying', '85', 'berserk', 'survivor', 'insects', 'banda', 'moron', 'smarmy', 'wondering', 'turistas', 'cope', 'request', 'obtained', 'helplessly', 'template', 'kathe', 'sons', 'refrain', 'soaking', 'caan', 'display', 'entering', 'quebec', 'twenty', 'whenever', 'vivian', 'steam', 'heated', 'exploratory', 'instincts', 'fulci', 'summerville', 'exiting', 'taxes', 'knit', 'dalloway', 'flies', 'unbielevable', 'cody', 'slater', 'ups', 'minute', 'gets', 'gathering', 'improvisational', 'mattered', 'wu', 'population', 'bloated', 'celina', 'stark', 'comeuppance', 'lillian', 'craparama', 'justice', 'breathe', 'parnell', 'mismatched', 'hijinx', 'instructions', 'ackland', 'katya', 'scum', 'dumped', 'arrogated', 'monumentally', 'tony', 'roseanne', 'advisories', 'redford', 'brainless', '00', 'jolly', 'bellhops', 'executions', 'tell', 'congresswoman', 'unsettling', 'behaviors', 'chauvinist', 'snake', 'aharon', 'budget', 'risky', 'actively', 'kumar', 'bites', 'uninitiated', 'dashiel', 'manhunt', 'buys', 'shoe', 'fey', 'carriage', 'sigourney', 'contributes', 'plight', 'perpetuate', 'teleplay', 'precision', 'comprehended', 'street', 'hello', 'flopped', 'winners', 'brobdingnagian', 'diane', 'speed', 'baseball', 'averagely', 'comparative', 'flicks', 'goebels', 'expressionist', 'biopics', 'detracts', 'ernie', 'theme', 'sunglasses', 'gellar', 'pr', 'tools', 'yum', 'tyke', 'answer', 'libre', '7eventy', 'latina', 'whoooole', 'opponent', 'akiko', 'breakfast', 'march', 'unique', 'insensitive', 'trembling', 'commitments', 'enhanced', 'spectator', 'ton', 'receiving', '71', 'uncomfortable', 'itinerant', 'carries', 'hated', 'shylock', 'crying', 'antagonist', 'obliterate', 'infrequent', 'amused', 'matinees', 'outstretched', 'snotty', 'commercials', 'homesickness', 'proverbs', 'owen', 'otherworldly', 'filipino', 'emotional', 'initially', 'finessed', 'cats', 'softly', 'ranging', 'married', 'fainting', 'kermode', 'florence', 'bidding', 'tivo', 'succceed', 'renaissance', 'expanded', 'toussaint', 'twitching', 'expendable', 'comical', 'organizer', 'vaccination', 'fortified', 'quoted', 'saks', 'backstreet', 'elucidation', 'velda', 'diverse', 'chides', 'firstly', 'resources', 'neglect', 'spans', 'tenacious', 'alotta', 'theoretical', 'suburbia', 'benches', 'below', 'adorable', 'scripting', 'expression', 'arkin', 'changing', 'oav', 'desires', 'bashki', 'filler', 'intentions', 'persons', 'selecting', 'renounced', 'jeffrey', 'shoelace', 'conquer', 'maybe', 'moscow', 'wipes', 'rage', 'insanely', 'placed', 'aimed', 'regarded', 'contraption', 'domesticity', 'torpedoes', 'heath', 'friendly', 'traditional', 'fai', 'posses', 'bicker', 'leatrice', 'loretto', 'halt', 'duplications', 'twist', 'bathing', 'jumping', 'atrocities', 'instead', 'awoke', 'needs', 'trainer', 'yours', 'station', 'investigator', 'entered', 'manic', 'stiff', 'reservoir', 'defeating', 'jumper', 'compton', 'recycled', 'distillation', 'bergman', 'audibly', 'unbelief', 'genghis', 'bartram', 'peppered', 'mammals', 'priestess', 'murthy', 'beds', 'avoided', 'witnesses', '1956', 'lashes', 'bach', 'remorse', 'glow', 'donovan', 'training', 'delightfully', 'meticulous', 'macaulay', 'fortunately', 'twentieth', 'cavemen', 'misty', 'shagging', 'childless', 'clarification', 'obsession', 'selling', 'billing', 'sinise', 'sullen', 'interactive', 'charade', 'talents', 'disappeared', 'holger', 'vials', 'fail', 'azadi', 'john', 'fardeen', 'uneasiness', 'heroes', 'trapped', 'duty', 'discovered', 'notices', 'witness', 'greenwich', 'entice', 'cocky', 'disassociate', 'self', 'dissolves', 'loosing', 'arthur', 'accuse', 'natto', 'combs', 'leachman', 'daylight', 'insane', 'inhumane', 'vivan', 'central', 'squeezed', 'repeated', 'applause', 'turkey', 'oops', 'penises', 'spree', 'smash', 'saddened', 'projectionist', 'cartoons', 'misplaced', 'janeiro', 'assassins', 'blended', 'cocteau', 'realities', 'englishmen', 'ricky', 'popped', 'venom', 'issue', 'sparked', 'mastroianni', 'sashaying', 'scariest', 'troopers', 'mj', 'smap', 'lethal', 'circa', 'wrecks', 'lack', 'becomes', 'murray', 'raisuli', 'saves', 'spoke', 'emulates', 'repelling', 'principals', 'flat', 'sporting', 'chicken', 'honeymoon', 'stabbed', 'glory', 'watery', 'dictate', 'rowan', 'mifune', 'obsessed', 'worn', 'variety', 'kwai', 'massenet', 'boulders', 'zapata', 'radha', 'grandfather', 'mirror', 'precious', 'teasers', 'wed', 'provoking', 'steve', 'worth', 'nausea', 'crib', 'evolved', 'points', 'bbc', 'selective', 'low', 'blush', 'foibles', 'ensure', 'taped', 'pervasive', 'orders', 'complicated', 'squirming', 'difference', 'subtly', 'eighteen', 'fireball', 'switches', 'divide', 'vinnie', 'profitable', 'plonk', 'compulsive', 'bellevue', 'locker', 'culminating', 'bonfire', 'planes', 'norcut', 'summary', 'dark', 'leland', 'oh', 'vacanta', 'samberg', 'pun', 'white', 'imperfect', 'bloodshed', 'emerald', 'backbone', 'telephoning', 'discussed', 'strength', 'ha', 'maxwell', 'characterization', 'recruited', 'close', 'cent', 'hrs', 'mia', 'boat', 'beaches', 'transsexual', 'protée', 'london', 'cash', 'marshal', 'mod', 'travelogues', 'laura', '1939', 'marion', 'beckham', 'convert', 'sonic', 'nearing', 'awfulness', 'maudlin', 'inscribed', 'october', 'tyrant', 'queue', 'kaley', 'terry', 'rift', 'conspiracy', 'answears', 'yourselves', 'renny', 'edmund', 'strindberg', 'investigating', 'racks', 'democrat', 'leslie', 'sick', 'reintroduces', 'arturo', 'birthistle', 'dario', 'inevitably', 'mates', 'bubolova', 'depict', 'animatronics', 'phantom', 'uncouth', 'anchor', 'zig', 'evilness', 'emote', 'female', 'roeper', 'pit', 'true', 'burning', 'innuendos', 'net', 'bird', 'stomach', 'fallen', 'naps', 'companion', 'lavud', 'actions', 'heal', 'write', 'drawings', 'narratives', 'defence', 'unicazurn', 'middletown', 'dusty', 'scandals', 'utilizing', 'loud', 'prowling', 'cheesecake', 'byrne', 'match', 'schieder', 'preffered', 'frontal', 'buddhist', 'barlow', 'bail', 'cared', 'smith', 'lampshade', 'singapore', 'highest', 'dawson', 'canon', 'festive', 'barrier', 'kaddiddlehopper', 'quentin', 'hammett', 'biological', 'equivalents', 'hip', 'looking', 'stride', 'terminally', 'carter', 'wrestles', 'counterculture', 'parent', 'deluded', 'inopportune', 'clownish', 'parody', 'exploring', 'distress', 'ponder', 'downward', 'tunnels', 'socks', 'cliche', 'miniatures', 'quest', 'car', 'wronged', 'rightly', 'battleship', 'breckin', 'emasculate', 'leaps', 'enigmatic', 'cannibalism', 'biting', 'swiss', 'gutted', 'pierce', 'dutch', 'decarlo', 'misconceptions', 'frankly', 'exasperated', 'benefit', 'burned', 'executive', 'wilkinson', 'empties', 'wasted', 'enemy', 'peeling', 'rocky', 'overuses', 'shenanigans', 'gawd', 'retarted', 'pasting', 'fundamental', 'angelica', 'psychiatrist', 'faced', 'poet', 'tchaikovsky', 'broadcasted', 'akira', 'springy', 'answering', 'detonate', 'steal', 'scapegoats', 'scape', 'mercedes', 'utter', 'disheveled', 'tempting', 'guantanamo', 'brassy', 'program', 'strengths', 'operas', 'stunt', 'experiement', 'georgia', '1976', 'project', 'identify', 'bomb', 'polish', 'implied', 'portia', 'chapeau', 'boasts', 'klux', 'terrify', 'collins', 'anita', '1980s', 'aria', 'literate', 'catatonic', 'theoretically', 'none', 'resonates', 'mis', 'slips', 'production', 'ajay', 'seams', 'eat', 'gorylicious', 'ayn', 'stooped', 'strays', 'nitpicking', 'neatly', 'tripe', 'corrupting', 'banderas', 'resemble', 'perfect', 'dabble', 'raiders', 'systematically', 'sprocket', 'seeing', 'classic', 'quixote', 'unbalanced', 'memorable', 'montanas', 'mic', 'plucky', 'improvement', 'shots', 'meals', 'anu', 'jacques', 'conflicting', 'edits', 'outback', 'guilty', 'rickman', 'website', 'ending', 'sase', 'couldn', 'suggests', 'megastar', 'talky', 'religiously', 'prisons', 'shauna', 'fair', 'satisfied', 'sickle', 'infiltrating', 'coup', 'explanation', 'fairness', 'shit', 'adder', 'teamsters', 'grocery', 'pyle', 'library', 'denmark', 'finery', 'state', 'cook', 'charms', 'slapdash', 'cleaner', 'clues', 'juvenile', 'syllable', 'established', 'cars', 'stunk', 'caligari', 'given', 'gojoe', 'drives', 'unilaterally', 'sport', 'magnificent', 'hottest', 'anakin', 'odysseus', 'congo', 'centered', 'dire', 'items', 'loudspeakers', 'richard', 'body', 'november', 'remembering', 'domination', 'olympics', 'dangly', 'thematically', '70mm', 'denominator', 'sokurov', 'claire', 'coleman', 'wistful', 'remnants', 'shameless', 'kee', 'sunny', 'higly', 'masturbatory', 'except', 'unceasingly', 'euro', 'fruit', 'outlet', 'collar', 'impersonal', 'moody', 'breeze', 'tiberius', 'dreadfully', 'commits', 'detriment', 'brothers', 'restive', 'fondling', '2006', 'fakk', 'drom', 'africanism', 'boobs', 'howler', 'yellows', 'rachel', 'frightmare', 'crisp', 'grisly', 'occasions', 'gap', 'archival', 'eating', 'intensely', 'imagines', 'stubbornness', 'cued', 'hallucination', 'whelk', 'poster', 'coulier', 'brochures', 'necessary', 'orlando', 'rural', 'alleys', 'disagrees', 'mclovins', 'kirk', 'efficiency', 'achieving', 'ice', 'contrary', 'bulldozers', 'wildlife', 'rival', 'ass', 'flocks', 'flapping', 'seine', 'begins', 'major', 'crushes', 'sweetheart', 'rant', 'melodramas', 'trickery', 'lord', 'fate', 'kinds', 'footsteps', 'gil', 'shakes', 'legitimate', 'listed', 'externals', 'glimmer', 'weirdly', 'registered', 'homeric', 'ben', 'debi', 'pans', 'tethered', 'growth', 'noni', 'forbidding', 'exhilarated', 'rouben', 'mainstream', 'conroy', 'bluesy', 'adding', 'bluray', 'sacro', 'pinch', 'cartridges', 'cavewoman', 'ruck', 'critters', 'attack', 'aspiring', 'noticed', 'gavrilo', 'interlude', 'heaps', 'recreated', 'endeared', 'brag', 'distinguish', 'stamp', 'yohn', 'possesses', 'nun', 'ku', 'spike', 'commercial', 'bureaucratic', 'learns', 'hires', 'ustinov', 'stoled', 'institutionalized', 'deftly', 'attenborough', 'dough', 'autistic', 'lest', 'protestant', 'humble', 'takanashi', 'sufficient', 'cowl', 'woman2', 'hoop', 'crotchety', 'sent', 'dazzled', 'outrageousness', 'atrocious', 'enthusiastic', 'labute', 'mayor', 'mccree', 'disable', 'gory', 'embody', 'siege', 'gambling', 'actress', 'lamb', 'opinion', '50k', 'atone', 'teems', 'bureau', 'excellent22nd', 'injuries', 'dotting', 'epps', 'dex', 'flavin', 'warnings', 'michale', 'drummond', 'darkness', '2003', 'betwixt', 'flimsy', 'drool', 'marley', 'petrol', 'tint', 'branded', 'accusatory', 'dashing', 'pops', 'effectively', 'chrissakes', 'processing', 'oldest', 'underestimated', 'undead', 'rosie', 'intrigued', 'vincent', 'moving', 'pleasence', 'reputation', 'pollution', 'sandal', 'jr', 'shelf', 'wares', 'shrouded', 'occupied', 'vanishing', 'mendes', 'clones', 'barrage', 'ants', 'julianne', 'chrstmas', 'counted', 'toting', 'sagal', 'exteriorizing', 'dutchman', 'infuriating', 'nicely', 'emmental', 'már', 'passed', 'pity', 'fluid', 'artificial', 'mutilation', 'argentina', 'donat', 'schwering', 'burrows', 'astro', 'kerry', 'onto', 'ominous', 'youfor', 'distortions', 'chief', 'trite', 'trading', 'scanners', 'wealthy', 'impression', 'startling', 'blow', 'gregorini', 'churned', 'slaying', 'inspires', 'sunderland', 'treasure', 'sacrificial', 'physicists', 'anne', 'brown', 'shame', 'cryer', 'warp', '1987', 'recall', 'climbing', 'contents', 'revels', 'lugia', 'riot', 'surrounding', 'unreleased', 'dinner', 'blown', 'superficial', 'muscle', 'heterosexual', 'michelle', 'angles', 'annual', 'protested', 'shaking', 'kam', 'improving', 'remotely', 'headline', '3rd', 'tides', 'kaikini', 'sherritt', 'emulate', 'wakes', 'haters', 'nevrrland', 'staff', 'furious', 'busby', 'suicide', 'cloris', 'searle', 'lustrous', 'debate', 'minutes', 'spiritedness', 'prepares', 'tourists', 'scarlet', 'popoca', 'mane', 'dalek', 'expressionism', 'roland', 'dunes', 'sack', 'transposition', 'perpetual', 'tops', 'liev', 'missouri', 'garry', '1958', 'fondness', 'lowered', 'narcissism', 'mutants', 'destination', 'reconstructed', 'damaged', 'louis', 'performance', 'dyke', 'farmhouse', 'arabs', 'sfiff', 'programming', 'bradshaw', 'gothenburg', 'report', 'owls', 'contemptuous', 'hosted', 'saddles', 'supermodels', 'resounds', 'essential', 'scuttling', 'rottingham', 'meanness', 'kiefer', 'gloves', 'laverne', 'dungeon', 'diwanireview', 'cops', 'earnings', 'schildkraut', 'frieze', 'inefficient', 'hairdresser', 'filmmaking', 'unprecedented', 'cheating', 'theatre', 'pervaded', 'dissonance', 'mellowed', 'resumes', 'nolan', 'eyebrows', 'demobbed', 'lameness', 'freaky', 'jones', 'frights', 'photographs', 'gloriously', 'dismayed', 'execrably', 'therapy', 'visited', 'trials', 'militiaman', 'bollo', 'frog', 'limbic', 'failing', 'pleasantly', 'golthwaite', 'originality', 'opened', 'pixyish', 'unto', 'whoopi', 'yeah', 'lurid', 'airhead', 'carell', 'redemption', 'bubbles', 'falcone', 'hi', 'yokels', 'demands', 'summed', 'stale', 'rambling', 'slingshot', 'abduct', 'velvet', 'infact', 'menville', 'verge', 'winchester', 'nbc', 'seduction', 'exhausted', '2005', 'se7en', 'chee', 'failures', 'pervs', 'gage', 'sarafian', 'mathews', 'progress', 'precise', 'terrorists', 'hampshire', 'commuter', 'thin', 'poitier', 'robber', 'fabrication', 'woefully', 'fictitious', 'bismarck', 'carey', 'blier', 'bombing', 'iraq', 'centerpiece', 'wouln', 'insightful', 'overriding', 'apart', 'exact', 'mistry', 'shadow', 'themselves', 'hartley', 'auto', 'catchphrase', 'stewart', 'shadowy', 'pushed', 'jewelry', 'wisecracking', 'quivers', 'devastating', 'invented', 'networks', 'profile', 'wilkerson', 'désirée', 'enjoy', 'volcano', 'royalty', 'lee', 'passion', 'signs', 'traveled', 'milton', 'sunset', 'beer', 'slavery', 'cord', 'coogan', 'drifter', 'chore', 'csi', 'brookfield', 'khan', 'dubber', 'disney', 'indignant', 'judged', 'gassman', 'navigate', 'toilet', 'witch', '20', 'level', 'farrelly', 'diet', 'twisting', 'kindest', 'underlings', 'beforehand', 'oeuvre', 'poetry', 'ham', 'concerto', 'taccone', 'dino', 'bungler', 'shyamalan', 'loc', 'robe', 'retro', 'existent', 'jamie', 'brigitta', 'podium', 'raw', 'heaton', 'chancellor', 'estimation', 'hue', 'satiricle', 'twigs', 'funeral', 'magic', 'countenance', 'period', 'willowy', 'devgan', 'african', 'icons', 'giggly', 'sandman', 'manny', 'talented', 'bunuelian', 'kieron', 'atf', 'cain', 'imdb', 'commend', 'apparently', 'saboteur', 'forties', 'hedy', 'angrier', 'flamingos', 'glossy', 'shahrukh', 'getting', 'imprisoned', 'tad', 'apparent', 'echoes', 'returning', 'dreams', 'flair', 'chronic', 'sweat', 'judd', 'hannah', 'classically', 'liberated', 'collars', 'gnomic', 'buttock', 'plate', 'lugubrious', 'kier', 'popping', 'commissioner', 'unqualified', 'cleese', 'pull', 'provision', 'gamble', 'hershell', 'lizard', 'giving', 'cert', 'unprofessional', 'recuperated', 'prejudice', 'arrive', 'turning', 'craziness', 'bc', 'decline', 'trance', 'ian', 'thai', 'pray', 'tower', 'stunningly', 'beast', 'sequals', 'orthodox', 'void', 'complementary', 'haze', 'maintaining', 'angry', 'brass', 'dependence', 'muddled', 'sorrentino', 'aaron', 'devastation', 'generals', 'staircase', 'hill', 'fleischer', 'friends', 'videos', 'purchase', 'gumshoe', 'barrister', 'babysitting', 'vakulinchuk', 'arcane', 'acted', 'dramatize', 'totalitarian', 'treatment', 'historian', 'kanin', 'seamed', 'mutter', 'rubbish', 'tool', 'springer', 'chase', 'latino', 'superlative', 'espionage', 'brings', 'kung', 'cowell', 'keanu', 'mannequin', 'patric', 'quantico', '1957', '24p', 'shocked', 'yep', 'headlines', 'embassy', 'whines', 'cbs', 'casts', 'loveless', 'mildly', 'milestone', 'quarterback', 'prevailed', 'onion', 'bérénice', 'auch', 'fuzzy', 'gregor', 'laserdisc', 'next', 'hal', 'angie', 'existant', 'promise', 'peopled', 'acceptance', 'populace', 'troubling', 'outshines', 'cheers', 'lampoon', 'weekends', 'almighty', 'katey', 'junkies', 'katja', 'represents', 'derek', '26', 'mass', 'rev', 'unable', 'suspected', 'fda', 'bald', 'omissions', 'godfather', 'conversely', 'fritz', 'yothers', 'destinies', 'haft', 'lowlifes', 'unspeakably', 'xenophobe', 'depressing', 'rooney', 'warhol', 'iconic', 'barbra', 'bones', 'spores', 'hurts', 'ridiculously', 'william', 'edgar', 'middle', 'caveman', 'explosives', 'evaporates', 'props', 'irene', 'officers', 'synthesizer', 'mafia', 'undergirds', 'noir', 'wasting', 'rescues', 'caleb', 'cultivated', 'assists', 'underneath', 'cannes', 'blondie', 'rightful', 'moviola', 'nets', 'blucher', 'independence', 'grove', 'fifth', 'atv', 'goliath', 'habit', 'mentor', 'lemmon', 'bump', 'disloyalty', 'cherish', 'ormondroyd', 'nominea', 'moodysson', 'sparrow', 'addictive', 'stupidly', 'btk', 'acquired', 'atoz', 'kimonos', 'allowed', 'carnival', 'residence', 'scheme', 'novel', 'dispatch', 'aarp', 'gabrielle', 'parallel', 'accent', 'cross', 'méndez', 'responds', 'torgoff', 'orhan', 'bazooka', 'absurd', 'exhaustion', 'letters', 'showcasing', 'busy', 'slipped', 'succinctly', 'secrets', 'cr', 'cheadle', 'corpo', 'relate', 'videoclip', 'jarhead', 'unfolds', 'clay', 'africans', 'heralded', 'final', 'drunken', 'attempts', 'means', 'noting', 'agree', 'relax', 'felicity', 'anxious', 'geothermic', 'dignity', 'stereotypes', 'dreaded', 'villages', 'android', 'famously', 'lowe', 'practicing', 'debell', 'locate', 'knowing', 'antonio', 'tattooed', 'patten', 'fare', 'consists', 'understated', 'despair', 'wheel', 'melody', 'exportation', 'bewafaa', 'thinnes', 'reference', 'exaturated', 'encoded', 'shock', 'hijack', 'solely', 'messed', 'monotony', '67', 'steadily', 'participate', 'unwitting', 'effects', 'hunk', 'justification', 'scenesjackie', 'yvan', 'unintelligent', 'safely', 'denise', 'joel', 'colleagues', '63', 'installed', 'bumps', 'accentuated', 'incubus', 'implicates', 'foolish', 'slave', 'delusion', 'benefits', 'guardhouse', 'subdued', 'upside', 'kerby', 'realizing', 'serbedzija', 'conchatta', 'untamed', 'representation', 'terrorizes', 'herr', 'motormouth', 'luciano', 'heartily', 'scenery', 'sluggish', 'ineptly', '10th', 'confirmed', 'table', 'technicalities', 'tatiana', 'readings', 'blonds', 'meditate', 'insulted', 'winfield', 'gusto', 'shall', 'utah', 'significant', 'machinations', 'aunt', 'awareness', 'proverbial', 'undecided', 'bake', 'philanthropist', 'easier', 'cares', 'dichotomy', 'reenacting', 'machiavellian', 'fuels', 'stubborn', 'columbine', 'continually', 'myers', 'cam', 'dau', 'ciff', 'guts', 'theid', 'smugglers', 'portentous', 'grotesque', 'often', 'greenest', 'definitions', 'property', 'freakiest', 'composite', 'routine', 'reels', 'demented', 'newman', 'buhre', 'trusts', 'sooner', 'marsha', 'salome', 'descending', 'deceptive', 'climb', 'bud', 'ensured', 'george', 'cretinous', 'flop', 'geniuses', 'consider', 'synchronism', 'messick', 'wept', 'junkie', 'lining', 'neglected', 'approaches', 'hiroshima', 'surgery', 'downloaded', 'forests', 'unredeemed', 'neat', 'convicted', 'tend', 'craig', 'vividly', 'heard', 'truck', 'nare', 'gretel', 'quote', 'maxine', 'samuel', 'megmilk', 'artistry', 'dwindled', 'institute', 'observant', 'attitudes', 'wimp', 'anthropomorhic', 'sublime', 'nino', 'cheesiest', 'freddy', 'certainly', 'urging', 'breakthrough', 'nettie', 'original', 'timeless', 'chocolates', 'waller', 'bushell', 'boyce', 'abbasi', 'gérard', 'scouts', 'nobles', 'hammered', 'persuaded', 'business', 'mojave', 'shrug', 'voodoo', 'snarl', 'jealousy', 'iron', 'authority', 'friendship', 'cavort', 'suv', '1941', 'tragically', 'literalizing', 'appeasement', 'boman', 'connolly', 'immense', 'brenda', 'testimony', 'facility', 'oomph', 'grenfell', 'beautiful', 'whose', 'novelist', 'controversial', 'expand', 'science', 'whimsical', 'manufacturer', 'harmon', 'chances', 'innocence', 'ching', 'competing', 'olivier', 'colossal', 'scrutiny', '1930', 'searingly', 'infringement', 'cobweb', 'brutally', 'ranna', 'late', 'perm', 'kris', 'application', 'shefali', 'attal', 'roy', 'claimed', 'tongued', 'spout', 'banks', 'granite', 'complaining', 'caspar', 'netted', 'harker', 'cos', 'amalgam', 'cohen', 'graders', 'marguerite', 'harassment', 'ricci', 'geoffry', 'alluring', 'golf', 'cuba', 'depravity', 'unpredictable', 'jet', 'wrongs', 'closeups', 'matheisen', 'exploits', 'inclusions', 'newcombe', 'sceneries', 'affected', 'somersaults', 'bucks', 'outfit', '96', 'tightened', 'persevering', 'atika', 'dc', 'hearkens', 'supermarket', 'shake', 'raja', 'subjecting', 'disloyal', 'eternally', 'ticaks', 'dunne', 'illogical', 'exposed', 'domke', 'tackles', 'peripheral', 'fretted', 'eternal', 'repeatedly', 'venetian', 'kilos', 'rebuke', 'rocks', 'speeds', 'perron', 'fellas', 'tube', 'nest', 'shaw', 'strip', 'filthy', 'onofrio', 'brit', 'debauchery', 'penguin', 'ruthlessly', 'mountains', 'terrain', 'examined', 'credit', 'terence', 'accountant', 'heuring', '13', 'esther', 'corduner', 'mocking', 'exaggeration', 'squirm', 'vigilante', 'buzz', 'statues', 'ambivalence', 'pressures', 'blending', 'awful', 'meshes', 'payback', 'shrinks', 'switched', 'mochary', 'returns', 'goals', '6pm', 'mackenzie', 'stalked', 'tarkovsky', 'saxon', 'schmidt', 'french', 'screwed', 'annoying', 'brilliance', 'tax', 'mandy', 'growing', 'underrated', 'silence', 'formosa', 'bystanders', 'sandra', 'fifi', 'dolls', 'allure', 'littered', 'dion', 'farik', 'genial', 'frist', 'sociological', 'hebrew', 'guidebooks', 'haul', 'caldicott', 'oddest', 'comics', 'recurring', 'quatrilho', 'witching', 'thick', 'eyeball', 'porky', 'andy', 'cotton', 'unconscionably', 'deus', 'nephew', 'dagger', 'chemistry', 'axis', 'broken', 'enjoyable', 'stop', 'duties', 'resurrects', 'scot', 'participant', 'characterise', 'taking', 'rely', 'stan', 'grounded', 'traumatise', 'subdue', '1st', 'orso', 'verneuil', 'melodious', 'decaying', 'sang', 'crocs', 'loathsome', 'cowards', 'existence', 'keaton', 'oss', 'arabian', 'foer', 'mardsen', 'madame', 'marriage', 'constitutes', 'tonight', 'zatoichi', 'perplex', 'joo', 'pursue', 'greens', 'masks', 'engineered', 'longer', 'shown', 'ugh', 'yore', 'snobbish', 'hammed', 'belongs', 'requisites', 'presenters', 'lighten', 'elephant', 'association', 'reputations', 'bondarchuk', 'animals', 'minako', 'comic', '58', 'moth', 'tootsie', 'nonsequiturs', 'meyer', 'requires', 'slower', 'stilted', 'elina', 'faculty', 'tibbs', 'segment', 'vampire', 'evaluation', 'squeaking', 'residue', 'democratic', 'receives', 'wagner', 'merriman', 'kress', 'curiously', 'ratings', 'reds', 'convolute', 'abduction', 'oddness', 'legitimise', 'opus', 'pensioner', 'tudors', 'contrasting', 'paces', 'lumpy', 'hood', 'flying', 'bodyguard', 'journalist', 'transpires', 'capote', 'calmly', 'room', 'circles', 'grainy', 'topping', 'tdat', 'soapy', 'gretchen', 'avenges', 'jaitleycringeworthy', 'caucasians', 'haiku', 'knot', 'marries', 'pringle', 'murdered', 'leaden', 'inventiveness', 'ounce', 'upstairs', 'melvis', 'deliverance', 'landing', 'river', 'natured', 'january', 'skedaddles', 'participation', 'distinguishes', 'gutting', 'unfolding', 'professionals', 'formulaic', 'hall', 'upper', 'appearances', 'manipulation', 'eyre', 'advertisement', 'pictures', 'boils', 'sure', 'sacred', 'austere', 'without', 'pulled', 'discoveries', 'meagre', 'moved', 'buffoonery', 'veterinarian', 'martino', 'germans', '1966', 'deceitful', 'irked', 'bobby', 'chose', 'vorhaus', 'legal', 'malcolm', 'icing', 'curse', 'achieves', 'included', 'outrageously', 'neck', 'raab', 'allah', 'russian', 'waken', 'bava', 'grunting', 'satire', 'proyect', 'misfits', 'containing', 'scores', 'oz', 'systematic', 'relationships', 'woywood', 'plod', 'directions', 'sullavan', 'val', 'starship', 'share', 'distorts', 'mustard', 'moderate', 'lungs', 'harbour', 'inconsistent', 'bizillion', 'danny', 'montmartre', 'dimwits', 'stifler', 'boone', 'opportunities', 'kiddies', 'disgrace', 'explicitness', 'reeves', 'acid', 'joseph', 'fay', 'adams', 'shawn', 'milieu', '1000000', 'hurried', 'unnoticed', 'tackling', 'substandard', 'tight', 'elfin', 'nightlife', 'overused', 'francisco', 'rope', 'ashmore', 'machines', 'hynkel', 'bars', 'joab', 'ukrainian', 'roaming', 'quiet', 'carpenter', 'thousand', 'publicity', 'calculated', 'pause', 'happens', 'privately', 'establishing', 'allows', 'skillful', 'coping', 'cues', 'jokes', 'budgets', 'rated', 'hilton', 'topcoat', 'utterly', 'vault', 'passive', 'hates', 'baisez', 'supplies', 'lynn', 'capabilities', 'monstrosity', 'stooge', 'zellweger', 'demeaning', 'directs', 'nonetheless', 'paulie', 'gosselin', 'moralizing', 'peal', 'battery', 'centres', 'overlook', 'casualty', 'perch', 'evade', 'mcnally', 'graduate', 'path', 'fountain'}\n"
     ]
    }
   ],
   "source": [
    "# automatic stop words\n",
    "print(tfidf.stop_words_)"
   ]
  },
  {
   "cell_type": "markdown",
   "metadata": {},
   "source": [
    "---\n",
    "p30"
   ]
  },
  {
   "cell_type": "code",
   "execution_count": 81,
   "metadata": {},
   "outputs": [
    {
     "data": {
      "text/plain": [
       "(1000, 212)"
      ]
     },
     "execution_count": 81,
     "metadata": {},
     "output_type": "execute_result"
    }
   ],
   "source": [
    "# data dimension\n",
    "X_train_vector = X_train_vector.toarray()\n",
    "X_test_vector = X_test_vector.toarray()\n",
    "X_train_vector.shape"
   ]
  },
  {
   "cell_type": "markdown",
   "metadata": {},
   "source": [
    "---\n",
    "p31"
   ]
  },
  {
   "cell_type": "code",
   "execution_count": 82,
   "metadata": {},
   "outputs": [],
   "source": [
    "# vectorize to TF-IDF Matrix - remove rare terms too\n",
    "tfidf = TfidfVectorizer(strip_accents=None,\n",
    "                        lowercase=False,\n",
    "                        preprocessor=preprocessor,\n",
    "                        # Below two steps are needed, but it takes long time,\n",
    "                        # so, We'll skip this processes\n",
    "                        #tokenizer=tokenizer_porter,\n",
    "                        #stop_words=stop,\n",
    "                        max_df=0.1,   # ignore terms occured in more than 10% of docs (stop words)\n",
    "                        min_df=0.1     # ignore terms occured in less than 10 docs\n",
    "                       )\n",
    "\n",
    "X_train_vector = tfidf.fit_transform(X_train)\n",
    "X_test_vector = tfidf.transform(X_test)"
   ]
  },
  {
   "cell_type": "code",
   "execution_count": 83,
   "metadata": {},
   "outputs": [
    {
     "data": {
      "text/plain": [
       "(1000, 1)"
      ]
     },
     "execution_count": 83,
     "metadata": {},
     "output_type": "execute_result"
    }
   ],
   "source": [
    "# data dimension\n",
    "X_train_vector = X_train_vector.toarray()\n",
    "X_test_vector = X_test_vector.toarray()\n",
    "X_train_vector.shape"
   ]
  },
  {
   "cell_type": "markdown",
   "metadata": {},
   "source": [
    "---\n",
    "p32"
   ]
  },
  {
   "cell_type": "code",
   "execution_count": 84,
   "metadata": {},
   "outputs": [
    {
     "name": "stdout",
     "output_type": "stream",
     "text": [
      "In 1974, the teenager Martha Moxley (Maggie Grace) moves to the high-class area of Belle Haven, Greenwich, Connecticut. On the Mischief Night, eve of Halloween, she was murdered in the backyard of her house and her murder remained unsolved. Twenty-two years later, the writer Mark Fuhrman (Christopher Meloni), who is a former LA detective that has fallen in disgrace for perjury in O.J. Simpson trial and moved to Idaho, decides to investigate the case with his partner Stephen Weeks (Andrew Mitchell) with the purpose of writing a book. The locals squirm and do not welcome them, but with the support of the retired detective Steve Carroll (Robert Forster) that was in charge of the investigation in the 70's, they discover the criminal and a net of power and money to cover the murder.<br /><br />\"Murder in Greenwich\" is a good TV movie, with the true story of a murder of a fifteen years old girl that was committed by a wealthy teenager whose mother was a Kennedy. The powerful and rich family used their influence to cover the murder for more than twenty years. However, a snoopy detective and convicted perjurer in disgrace was able to disclose how the hideous crime was committed. The screenplay shows the investigation of Mark and the last days of Martha in parallel, but there is a lack of the emotion in the dramatization. My vote is seven.<br /><br />Title (Brazil): Not Available\n"
     ]
    }
   ],
   "source": [
    "# text 0 \n",
    "print(X_train[0])"
   ]
  },
  {
   "cell_type": "code",
   "execution_count": 85,
   "metadata": {},
   "outputs": [
    {
     "name": "stdout",
     "output_type": "stream",
     "text": [
      "[0.]\n"
     ]
    }
   ],
   "source": [
    "# text 0 \n",
    "print(X_train_vector[0])"
   ]
  },
  {
   "cell_type": "markdown",
   "metadata": {},
   "source": [
    "---\n",
    "p33"
   ]
  },
  {
   "cell_type": "markdown",
   "metadata": {},
   "source": [
    "### Logistic Regression"
   ]
  },
  {
   "cell_type": "code",
   "execution_count": 86,
   "metadata": {},
   "outputs": [
    {
     "name": "stdout",
     "output_type": "stream",
     "text": [
      "[LibLinear]"
     ]
    },
    {
     "name": "stderr",
     "output_type": "stream",
     "text": [
      "/Users/seonjin/anaconda3/lib/python3.7/site-packages/sklearn/linear_model/logistic.py:433: FutureWarning: Default solver will be changed to 'lbfgs' in 0.22. Specify a solver to silence this warning.\n",
      "  FutureWarning)\n"
     ]
    },
    {
     "data": {
      "text/plain": [
       "LogisticRegression(C=1.0, class_weight=None, dual=False, fit_intercept=True,\n",
       "          intercept_scaling=1, max_iter=100, multi_class='warn',\n",
       "          n_jobs=None, penalty='l2', random_state=None, solver='warn',\n",
       "          tol=0.0001, verbose=1, warm_start=False)"
      ]
     },
     "execution_count": 86,
     "metadata": {},
     "output_type": "execute_result"
    }
   ],
   "source": [
    "# train using Logistic Regression\n",
    "from sklearn.linear_model import LogisticRegression\n",
    "lr = LogisticRegression(penalty='l2', verbose=1)\n",
    "lr.fit(X_train_vector, y_train)"
   ]
  },
  {
   "cell_type": "code",
   "execution_count": 87,
   "metadata": {},
   "outputs": [
    {
     "data": {
      "text/plain": [
       "0.513"
      ]
     },
     "execution_count": 87,
     "metadata": {},
     "output_type": "execute_result"
    }
   ],
   "source": [
    "# train score\n",
    "lr.score(X_train_vector, y_train)"
   ]
  },
  {
   "cell_type": "code",
   "execution_count": 88,
   "metadata": {},
   "outputs": [
    {
     "data": {
      "text/plain": [
       "0.508"
      ]
     },
     "execution_count": 88,
     "metadata": {},
     "output_type": "execute_result"
    }
   ],
   "source": [
    "# test score\n",
    "lr.score(X_test_vector, y_test)"
   ]
  },
  {
   "cell_type": "code",
   "execution_count": 89,
   "metadata": {},
   "outputs": [
    {
     "data": {
      "text/plain": [
       "array([1, 1, 1])"
      ]
     },
     "execution_count": 89,
     "metadata": {},
     "output_type": "execute_result"
    }
   ],
   "source": [
    "# sentiment prediction example \n",
    "tweets = [\"this movie is garbage\", \n",
    "          \"I loved it very much\", \n",
    "          \"what a fantastic film!\"]\n",
    "\n",
    "tweets_tfidf = tfidf.transform(tweets)\n",
    "lr.predict(tweets_tfidf)"
   ]
  },
  {
   "cell_type": "markdown",
   "metadata": {},
   "source": [
    "---\n",
    "p34"
   ]
  },
  {
   "cell_type": "markdown",
   "metadata": {},
   "source": [
    "### Decision Tree"
   ]
  },
  {
   "cell_type": "code",
   "execution_count": 90,
   "metadata": {},
   "outputs": [
    {
     "data": {
      "text/plain": [
       "DecisionTreeClassifier(class_weight=None, criterion='gini', max_depth=20,\n",
       "            max_features=None, max_leaf_nodes=None,\n",
       "            min_impurity_decrease=0.0, min_impurity_split=None,\n",
       "            min_samples_leaf=1, min_samples_split=2,\n",
       "            min_weight_fraction_leaf=0.0, presort=False, random_state=None,\n",
       "            splitter='best')"
      ]
     },
     "execution_count": 90,
     "metadata": {},
     "output_type": "execute_result"
    }
   ],
   "source": [
    "# train using Decision Tree\n",
    "from sklearn.tree import DecisionTreeClassifier\n",
    "tree = DecisionTreeClassifier(max_depth=20)\n",
    "tree.fit(X_train_vector, y_train)"
   ]
  },
  {
   "cell_type": "code",
   "execution_count": 91,
   "metadata": {},
   "outputs": [
    {
     "data": {
      "text/plain": [
       "0.513"
      ]
     },
     "execution_count": 91,
     "metadata": {},
     "output_type": "execute_result"
    }
   ],
   "source": [
    "# train score\n",
    "lr.score(X_train_vector, y_train)"
   ]
  },
  {
   "cell_type": "code",
   "execution_count": 92,
   "metadata": {},
   "outputs": [
    {
     "data": {
      "text/plain": [
       "0.508"
      ]
     },
     "execution_count": 92,
     "metadata": {},
     "output_type": "execute_result"
    }
   ],
   "source": [
    "# test score\n",
    "lr.score(X_test_vector, y_test)"
   ]
  },
  {
   "cell_type": "markdown",
   "metadata": {},
   "source": [
    "---\n",
    "p35"
   ]
  },
  {
   "cell_type": "code",
   "execution_count": 93,
   "metadata": {},
   "outputs": [
    {
     "name": "stdout",
     "output_type": "stream",
     "text": [
      " 1. ['music']                      1.000000\n"
     ]
    },
    {
     "ename": "IndexError",
     "evalue": "index 1 is out of bounds for axis 0 with size 1",
     "output_type": "error",
     "traceback": [
      "\u001b[0;31m---------------------------------------------------------------------------\u001b[0m",
      "\u001b[0;31mIndexError\u001b[0m                                Traceback (most recent call last)",
      "\u001b[0;32m<ipython-input-93-5b15a31f803c>\u001b[0m in \u001b[0;36m<module>\u001b[0;34m\u001b[0m\n\u001b[1;32m      5\u001b[0m \u001b[0;32mfor\u001b[0m \u001b[0mf\u001b[0m \u001b[0;32min\u001b[0m \u001b[0mrange\u001b[0m\u001b[0;34m(\u001b[0m\u001b[0;36m10\u001b[0m\u001b[0;34m)\u001b[0m\u001b[0;34m:\u001b[0m\u001b[0;34m\u001b[0m\u001b[0;34m\u001b[0m\u001b[0m\n\u001b[1;32m      6\u001b[0m     print(\"%2d. %-30s %f\" % (f+1, \n\u001b[0;32m----> 7\u001b[0;31m                              \u001b[0;34m[\u001b[0m\u001b[0mw\u001b[0m \u001b[0;32mfor\u001b[0m \u001b[0mw\u001b[0m\u001b[0;34m,\u001b[0m \u001b[0mn\u001b[0m \u001b[0;32min\u001b[0m \u001b[0mtfidf\u001b[0m\u001b[0;34m.\u001b[0m\u001b[0mvocabulary_\u001b[0m\u001b[0;34m.\u001b[0m\u001b[0mitems\u001b[0m\u001b[0;34m(\u001b[0m\u001b[0;34m)\u001b[0m \u001b[0;32mif\u001b[0m \u001b[0mn\u001b[0m \u001b[0;34m==\u001b[0m \u001b[0mindices\u001b[0m\u001b[0;34m[\u001b[0m\u001b[0mf\u001b[0m\u001b[0;34m]\u001b[0m\u001b[0;34m]\u001b[0m\u001b[0;34m,\u001b[0m\u001b[0;34m\u001b[0m\u001b[0;34m\u001b[0m\u001b[0m\n\u001b[0m\u001b[1;32m      8\u001b[0m                              importances[indices[f]]))\n",
      "\u001b[0;32m<ipython-input-93-5b15a31f803c>\u001b[0m in \u001b[0;36m<listcomp>\u001b[0;34m(.0)\u001b[0m\n\u001b[1;32m      5\u001b[0m \u001b[0;32mfor\u001b[0m \u001b[0mf\u001b[0m \u001b[0;32min\u001b[0m \u001b[0mrange\u001b[0m\u001b[0;34m(\u001b[0m\u001b[0;36m10\u001b[0m\u001b[0;34m)\u001b[0m\u001b[0;34m:\u001b[0m\u001b[0;34m\u001b[0m\u001b[0;34m\u001b[0m\u001b[0m\n\u001b[1;32m      6\u001b[0m     print(\"%2d. %-30s %f\" % (f+1, \n\u001b[0;32m----> 7\u001b[0;31m                              \u001b[0;34m[\u001b[0m\u001b[0mw\u001b[0m \u001b[0;32mfor\u001b[0m \u001b[0mw\u001b[0m\u001b[0;34m,\u001b[0m \u001b[0mn\u001b[0m \u001b[0;32min\u001b[0m \u001b[0mtfidf\u001b[0m\u001b[0;34m.\u001b[0m\u001b[0mvocabulary_\u001b[0m\u001b[0;34m.\u001b[0m\u001b[0mitems\u001b[0m\u001b[0;34m(\u001b[0m\u001b[0;34m)\u001b[0m \u001b[0;32mif\u001b[0m \u001b[0mn\u001b[0m \u001b[0;34m==\u001b[0m \u001b[0mindices\u001b[0m\u001b[0;34m[\u001b[0m\u001b[0mf\u001b[0m\u001b[0;34m]\u001b[0m\u001b[0;34m]\u001b[0m\u001b[0;34m,\u001b[0m\u001b[0;34m\u001b[0m\u001b[0;34m\u001b[0m\u001b[0m\n\u001b[0m\u001b[1;32m      8\u001b[0m                              importances[indices[f]]))\n",
      "\u001b[0;31mIndexError\u001b[0m: index 1 is out of bounds for axis 0 with size 1"
     ]
    }
   ],
   "source": [
    "# finding most important terms\n",
    "importances = tree.feature_importances_\n",
    "indices = np.argsort(importances)[::-1]\n",
    "\n",
    "for f in range(10):\n",
    "    print(\"%2d. %-30s %f\" % (f+1, \n",
    "                             [w for w, n in tfidf.vocabulary_.items() if n == indices[f]],\n",
    "                             importances[indices[f]]))"
   ]
  },
  {
   "cell_type": "markdown",
   "metadata": {},
   "source": [
    "### Gaussian Naive Bayes"
   ]
  },
  {
   "cell_type": "code",
   "execution_count": 146,
   "metadata": {},
   "outputs": [
    {
     "data": {
      "text/plain": [
       "GaussianNB(priors=None)"
      ]
     },
     "execution_count": 146,
     "metadata": {},
     "output_type": "execute_result"
    }
   ],
   "source": [
    "# train using Decision Tree\n",
    "from sklearn.naive_bayes import GaussianNB\n",
    "nb = GaussianNB()\n",
    "nb.fit(X_train_vector, y_train)"
   ]
  },
  {
   "cell_type": "code",
   "execution_count": 147,
   "metadata": {},
   "outputs": [
    {
     "data": {
      "text/plain": [
       "0.95899999999999996"
      ]
     },
     "execution_count": 147,
     "metadata": {},
     "output_type": "execute_result"
    }
   ],
   "source": [
    "# train score\n",
    "nb.score(X_train_vector, y_train)"
   ]
  },
  {
   "cell_type": "code",
   "execution_count": 148,
   "metadata": {},
   "outputs": [
    {
     "data": {
      "text/plain": [
       "0.73599999999999999"
      ]
     },
     "execution_count": 148,
     "metadata": {},
     "output_type": "execute_result"
    }
   ],
   "source": [
    "# test score\n",
    "nb.score(X_test_vector, y_test)"
   ]
  },
  {
   "cell_type": "markdown",
   "metadata": {},
   "source": [
    "### KNN\n",
    "- Not recommended"
   ]
  },
  {
   "cell_type": "code",
   "execution_count": 94,
   "metadata": {},
   "outputs": [
    {
     "data": {
      "text/plain": [
       "KNeighborsClassifier(algorithm='auto', leaf_size=30, metric='minkowski',\n",
       "           metric_params=None, n_jobs=None, n_neighbors=5, p=2,\n",
       "           weights='uniform')"
      ]
     },
     "execution_count": 94,
     "metadata": {},
     "output_type": "execute_result"
    }
   ],
   "source": [
    "# train using K-NN\n",
    "from sklearn.neighbors import KNeighborsClassifier\n",
    "knn = KNeighborsClassifier()\n",
    "knn.fit(X_train_vector, y_train)"
   ]
  },
  {
   "cell_type": "code",
   "execution_count": 95,
   "metadata": {},
   "outputs": [
    {
     "data": {
      "text/plain": [
       "0.513"
      ]
     },
     "execution_count": 95,
     "metadata": {},
     "output_type": "execute_result"
    }
   ],
   "source": [
    "# train score\n",
    "knn.score(X_train_vector, y_train)"
   ]
  },
  {
   "cell_type": "code",
   "execution_count": 96,
   "metadata": {},
   "outputs": [
    {
     "data": {
      "text/plain": [
       "0.508"
      ]
     },
     "execution_count": 96,
     "metadata": {},
     "output_type": "execute_result"
    }
   ],
   "source": [
    "# test score\n",
    "knn.score(X_test_vector, y_test)"
   ]
  },
  {
   "cell_type": "markdown",
   "metadata": {},
   "source": [
    "### Multi-layer Neural Network"
   ]
  },
  {
   "cell_type": "code",
   "execution_count": 97,
   "metadata": {},
   "outputs": [
    {
     "name": "stdout",
     "output_type": "stream",
     "text": [
      "Iteration 1, loss = 0.69318005\n",
      "Iteration 2, loss = 0.69389990\n",
      "Iteration 3, loss = 0.69250087\n",
      "Iteration 4, loss = 0.69246409\n",
      "Iteration 5, loss = 0.69105734\n",
      "Iteration 6, loss = 0.69144135\n",
      "Iteration 7, loss = 0.69176423\n",
      "Iteration 8, loss = 0.69199268\n",
      "Iteration 9, loss = 0.69122007\n",
      "Iteration 10, loss = 0.69154856\n",
      "Iteration 11, loss = 0.69227361\n",
      "Iteration 12, loss = 0.69125104\n",
      "Iteration 13, loss = 0.69207852\n",
      "Iteration 14, loss = 0.69119775\n",
      "Iteration 15, loss = 0.69237249\n",
      "Iteration 16, loss = 0.69154192\n",
      "Training loss did not improve more than tol=0.000100 for 10 consecutive epochs. Stopping.\n"
     ]
    },
    {
     "data": {
      "text/plain": [
       "MLPClassifier(activation='relu', alpha=0.0001, batch_size='auto', beta_1=0.9,\n",
       "       beta_2=0.999, early_stopping=False, epsilon=1e-08,\n",
       "       hidden_layer_sizes=(100,), learning_rate='constant',\n",
       "       learning_rate_init=0.01, max_iter=100, momentum=0.9,\n",
       "       n_iter_no_change=10, nesterovs_momentum=True, power_t=0.5,\n",
       "       random_state=None, shuffle=True, solver='adam', tol=0.0001,\n",
       "       validation_fraction=0.1, verbose=1, warm_start=False)"
      ]
     },
     "execution_count": 97,
     "metadata": {},
     "output_type": "execute_result"
    }
   ],
   "source": [
    "# train using Neural Network\n",
    "from sklearn.neural_network import MLPClassifier\n",
    "mlp = MLPClassifier(learning_rate_init=0.01, max_iter=100, verbose=1)\n",
    "mlp.fit(X_train_vector, y_train)"
   ]
  },
  {
   "cell_type": "code",
   "execution_count": 98,
   "metadata": {},
   "outputs": [
    {
     "data": {
      "text/plain": [
       "0.513"
      ]
     },
     "execution_count": 98,
     "metadata": {},
     "output_type": "execute_result"
    }
   ],
   "source": [
    "# train score\n",
    "mlp.score(X_train_vector, y_train)"
   ]
  },
  {
   "cell_type": "code",
   "execution_count": 99,
   "metadata": {},
   "outputs": [
    {
     "data": {
      "text/plain": [
       "0.508"
      ]
     },
     "execution_count": 99,
     "metadata": {},
     "output_type": "execute_result"
    }
   ],
   "source": [
    "# test score\n",
    "mlp.score(X_test_vector, y_test)"
   ]
  },
  {
   "cell_type": "markdown",
   "metadata": {},
   "source": [
    "---\n",
    "p37"
   ]
  },
  {
   "cell_type": "markdown",
   "metadata": {},
   "source": [
    "# Quiz : Naver movie review classification(Korean)\n",
    "- Use movie review dataset \"kor_movie.csv\"\n",
    "- class : 0, 1 (neg, pos)\n",
    "- data size : 200,000 - use first 1,000 texts\n",
    "- use 70% as training set\n",
    "1. Preprocess text using Okt to make TFIDF vectors - ignore terms occured in more than 10% of texts\n",
    "2. Build model using Logistic Regression, Decision Tree, and Neural Network. Check the accuracies\n",
    "3. Find most important 20 terms using DT"
   ]
  },
  {
   "cell_type": "markdown",
   "metadata": {},
   "source": [
    "### Read dataset. Use first 1000 texts only"
   ]
  },
  {
   "cell_type": "code",
   "execution_count": 155,
   "metadata": {},
   "outputs": [
    {
     "data": {
      "text/html": [
       "<div>\n",
       "<style>\n",
       "    .dataframe thead tr:only-child th {\n",
       "        text-align: right;\n",
       "    }\n",
       "\n",
       "    .dataframe thead th {\n",
       "        text-align: left;\n",
       "    }\n",
       "\n",
       "    .dataframe tbody tr th {\n",
       "        vertical-align: top;\n",
       "    }\n",
       "</style>\n",
       "<table border=\"1\" class=\"dataframe\">\n",
       "  <thead>\n",
       "    <tr style=\"text-align: right;\">\n",
       "      <th></th>\n",
       "      <th>review</th>\n",
       "      <th>sentiment</th>\n",
       "    </tr>\n",
       "  </thead>\n",
       "  <tbody>\n",
       "    <tr>\n",
       "      <th>0</th>\n",
       "      <td>아 더빙.. 진짜 짜증나네요 목소리</td>\n",
       "      <td>0</td>\n",
       "    </tr>\n",
       "    <tr>\n",
       "      <th>1</th>\n",
       "      <td>흠...포스터보고 초딩영화줄....오버연기조차 가볍지 않구나</td>\n",
       "      <td>1</td>\n",
       "    </tr>\n",
       "    <tr>\n",
       "      <th>2</th>\n",
       "      <td>너무재밓었다그래서보는것을추천한다</td>\n",
       "      <td>0</td>\n",
       "    </tr>\n",
       "  </tbody>\n",
       "</table>\n",
       "</div>"
      ],
      "text/plain": [
       "                              review  sentiment\n",
       "0                아 더빙.. 진짜 짜증나네요 목소리          0\n",
       "1  흠...포스터보고 초딩영화줄....오버연기조차 가볍지 않구나          1\n",
       "2                  너무재밓었다그래서보는것을추천한다          0"
      ]
     },
     "execution_count": 155,
     "metadata": {},
     "output_type": "execute_result"
    }
   ],
   "source": [
    "import pandas as pd\n",
    "import numpy as np\n",
    "\n",
    "# read dataset\n",
    "df_kor = pd.read_csv(\"kor_movie.csv\", encoding='utf-8')\n",
    "df_kor.head(3)"
   ]
  },
  {
   "cell_type": "code",
   "execution_count": 156,
   "metadata": {},
   "outputs": [
    {
     "data": {
      "text/plain": [
       "array([508, 492], dtype=int64)"
      ]
     },
     "execution_count": 156,
     "metadata": {},
     "output_type": "execute_result"
    }
   ],
   "source": [
    "# use 1000 reviews \n",
    "df_sample = df_kor.iloc[:1000]\n",
    "np.bincount(df_sample.sentiment)"
   ]
  },
  {
   "cell_type": "markdown",
   "metadata": {},
   "source": [
    "### Get training and test set"
   ]
  },
  {
   "cell_type": "code",
   "execution_count": 157,
   "metadata": {},
   "outputs": [
    {
     "data": {
      "text/plain": [
       "(1000,)"
      ]
     },
     "execution_count": 157,
     "metadata": {},
     "output_type": "execute_result"
    }
   ],
   "source": [
    "# get X and y\n",
    "X = df_sample[\"review\"].values\n",
    "y = df_sample['sentiment'].values\n",
    "\n",
    "# number of data\n",
    "X.shape"
   ]
  },
  {
   "cell_type": "code",
   "execution_count": 158,
   "metadata": {},
   "outputs": [
    {
     "data": {
      "text/plain": [
       "(700,)"
      ]
     },
     "execution_count": 158,
     "metadata": {},
     "output_type": "execute_result"
    }
   ],
   "source": [
    "# Split Dataset into 70% train and 30% test\n",
    "from sklearn.model_selection import train_test_split\n",
    "\n",
    "X_train, X_test, y_train, y_test = train_test_split(X, y, test_size=0.3, stratify=y, random_state=1)\n",
    "X_train.shape"
   ]
  },
  {
   "cell_type": "markdown",
   "metadata": {},
   "source": [
    "### Vectorize using Okt"
   ]
  },
  {
   "cell_type": "code",
   "execution_count": 159,
   "metadata": {
    "collapsed": true
   },
   "outputs": [],
   "source": [
    "# function for tokenizing + stemming using Okt\n",
    "from konlpy.tag import Okt\n",
    "okt = None\n",
    "\n",
    "def tokenizer_kor(text):\n",
    "    return None "
   ]
  },
  {
   "cell_type": "code",
   "execution_count": 160,
   "metadata": {},
   "outputs": [],
   "source": [
    "# vectorize to TF-IDF Matrix\n",
    "from sklearn.feature_extraction.text import TfidfVectorizer\n",
    "\n",
    "tfidf = None\n",
    "\n",
    "X_train_vector = None\n",
    "X_test_vector = None"
   ]
  },
  {
   "cell_type": "code",
   "execution_count": 161,
   "metadata": {},
   "outputs": [
    {
     "name": "stdout",
     "output_type": "stream",
     "text": [
      "{'하다', '에', '이', '은', '들', '가', '보다', '없다', '도', '을', '영화', '의'}\n"
     ]
    }
   ],
   "source": [
    "# check automatic stop words\n",
    "print(None)"
   ]
  },
  {
   "cell_type": "code",
   "execution_count": 162,
   "metadata": {},
   "outputs": [
    {
     "data": {
      "text/plain": [
       "(700, 2654)"
      ]
     },
     "execution_count": 162,
     "metadata": {},
     "output_type": "execute_result"
    }
   ],
   "source": [
    "# data dimension\n",
    "X_train_vector = X_train_vector.toarray()\n",
    "X_test_vector = X_test_vector.toarray()\n",
    "X_train_vector.shape"
   ]
  },
  {
   "cell_type": "code",
   "execution_count": 163,
   "metadata": {},
   "outputs": [
    {
     "name": "stdout",
     "output_type": "stream",
     "text": [
      "진짜 잘 만든 수작\n"
     ]
    }
   ],
   "source": [
    "# text 0 \n",
    "print(X_train[0])"
   ]
  },
  {
   "cell_type": "code",
   "execution_count": 164,
   "metadata": {},
   "outputs": [
    {
     "name": "stdout",
     "output_type": "stream",
     "text": [
      "[ 0.    0.    0.    0.    0.    0.    0.    0.    0.    0.    0.    0.    0.\n",
      "  0.    0.    0.    0.    0.    0.    0.    0.    0.    0.    0.    0.    0.\n",
      "  0.    0.    0.    0.    0.    0.    0.    0.    0.    0.    0.    0.    0.\n",
      "  0.    0.    0.    0.    0.    0.    0.    0.    0.    0.    0.    0.    0.\n",
      "  0.    0.    0.    0.    0.    0.    0.    0.    0.    0.    0.    0.    0.\n",
      "  0.    0.    0.    0.    0.    0.    0.    0.    0.    0.    0.    0.    0.\n",
      "  0.    0.    0.    0.    0.    0.    0.    0.    0.    0.    0.    0.    0.\n",
      "  0.    0.    0.    0.    0.    0.    0.    0.    0.    0.    0.    0.    0.\n",
      "  0.    0.    0.    0.    0.    0.    0.    0.    0.    0.    0.    0.    0.\n",
      "  0.    0.    0.    0.    0.    0.    0.    0.    0.    0.    0.    0.    0.\n",
      "  0.    0.    0.    0.    0.    0.    0.    0.    0.    0.    0.    0.    0.\n",
      "  0.    0.    0.    0.    0.    0.    0.    0.    0.    0.    0.    0.    0.\n",
      "  0.    0.    0.    0.    0.    0.    0.    0.    0.    0.    0.    0.    0.\n",
      "  0.    0.    0.    0.    0.    0.    0.    0.    0.    0.    0.    0.    0.\n",
      "  0.    0.    0.    0.    0.    0.    0.    0.    0.    0.    0.    0.    0.\n",
      "  0.    0.    0.    0.    0.    0.    0.    0.    0.    0.    0.    0.    0.\n",
      "  0.    0.    0.    0.    0.    0.    0.    0.    0.    0.    0.    0.    0.\n",
      "  0.    0.    0.    0.    0.    0.    0.    0.    0.    0.    0.    0.    0.\n",
      "  0.    0.    0.    0.    0.    0.    0.    0.    0.    0.    0.    0.    0.\n",
      "  0.    0.    0.    0.    0.    0.    0.    0.    0.    0.    0.    0.    0.\n",
      "  0.    0.    0.    0.    0.    0.    0.    0.    0.    0.    0.    0.    0.\n",
      "  0.    0.    0.    0.    0.    0.    0.    0.    0.    0.    0.    0.    0.\n",
      "  0.    0.    0.    0.    0.    0.    0.    0.    0.    0.    0.    0.    0.\n",
      "  0.    0.    0.    0.    0.    0.    0.    0.    0.    0.    0.    0.    0.\n",
      "  0.    0.    0.    0.    0.    0.    0.    0.    0.    0.    0.    0.    0.\n",
      "  0.    0.    0.    0.    0.    0.    0.    0.    0.    0.    0.    0.    0.\n",
      "  0.    0.    0.    0.    0.    0.    0.    0.    0.    0.    0.    0.    0.\n",
      "  0.    0.    0.    0.    0.    0.    0.    0.    0.    0.    0.    0.    0.\n",
      "  0.    0.    0.    0.    0.    0.    0.    0.    0.    0.    0.    0.    0.\n",
      "  0.    0.    0.    0.    0.    0.    0.    0.    0.    0.    0.    0.    0.\n",
      "  0.    0.    0.    0.    0.    0.    0.    0.    0.    0.    0.    0.    0.\n",
      "  0.    0.    0.    0.    0.    0.    0.    0.    0.    0.    0.    0.    0.\n",
      "  0.    0.    0.    0.    0.    0.    0.    0.    0.    0.    0.    0.    0.\n",
      "  0.    0.    0.    0.    0.    0.    0.    0.    0.    0.    0.    0.    0.\n",
      "  0.    0.    0.    0.    0.    0.    0.    0.    0.    0.    0.    0.    0.\n",
      "  0.    0.    0.    0.    0.    0.    0.    0.    0.    0.    0.    0.    0.\n",
      "  0.    0.    0.    0.    0.    0.    0.    0.    0.    0.    0.    0.    0.\n",
      "  0.    0.    0.    0.    0.    0.    0.    0.    0.    0.    0.    0.    0.\n",
      "  0.    0.    0.    0.    0.    0.    0.    0.    0.    0.    0.    0.    0.\n",
      "  0.    0.    0.    0.    0.    0.    0.    0.    0.    0.    0.    0.    0.\n",
      "  0.    0.    0.    0.    0.    0.    0.    0.    0.    0.    0.    0.    0.\n",
      "  0.    0.    0.    0.    0.    0.    0.    0.    0.    0.    0.    0.    0.\n",
      "  0.    0.    0.    0.    0.    0.    0.    0.    0.    0.    0.    0.    0.\n",
      "  0.    0.    0.    0.    0.    0.    0.    0.    0.    0.    0.    0.    0.\n",
      "  0.    0.    0.    0.    0.    0.    0.    0.    0.    0.    0.    0.    0.\n",
      "  0.    0.    0.    0.    0.    0.    0.    0.    0.    0.    0.    0.    0.\n",
      "  0.    0.    0.    0.    0.    0.    0.    0.    0.    0.    0.    0.    0.\n",
      "  0.    0.    0.    0.    0.    0.    0.    0.    0.    0.    0.    0.    0.\n",
      "  0.    0.    0.    0.    0.    0.    0.    0.    0.    0.    0.    0.    0.\n",
      "  0.    0.    0.    0.    0.    0.    0.    0.    0.    0.    0.    0.    0.\n",
      "  0.    0.    0.    0.    0.    0.    0.    0.    0.    0.    0.    0.    0.\n",
      "  0.    0.    0.    0.    0.    0.    0.    0.    0.    0.    0.    0.    0.\n",
      "  0.    0.    0.    0.    0.    0.    0.    0.    0.    0.    0.    0.    0.\n",
      "  0.    0.    0.    0.    0.    0.    0.    0.    0.    0.    0.    0.    0.\n",
      "  0.    0.    0.    0.    0.    0.    0.    0.    0.    0.    0.    0.    0.\n",
      "  0.    0.    0.    0.    0.    0.    0.    0.    0.    0.    0.    0.    0.\n",
      "  0.    0.    0.    0.    0.    0.    0.    0.    0.    0.    0.    0.    0.\n",
      "  0.    0.    0.    0.    0.    0.    0.    0.    0.    0.    0.    0.    0.\n",
      "  0.    0.    0.    0.    0.    0.    0.    0.    0.    0.    0.    0.    0.\n",
      "  0.    0.    0.    0.    0.    0.    0.    0.    0.    0.    0.    0.    0.\n",
      "  0.    0.    0.    0.    0.    0.    0.    0.    0.    0.    0.    0.    0.\n",
      "  0.    0.    0.    0.    0.    0.    0.    0.    0.    0.    0.    0.    0.\n",
      "  0.    0.    0.    0.    0.    0.    0.    0.    0.    0.    0.    0.    0.\n",
      "  0.    0.    0.    0.    0.    0.    0.43  0.    0.    0.    0.    0.    0.\n",
      "  0.    0.    0.    0.    0.    0.    0.    0.    0.    0.    0.    0.    0.\n",
      "  0.    0.    0.    0.    0.    0.    0.    0.    0.    0.    0.    0.    0.\n",
      "  0.    0.    0.    0.    0.    0.    0.    0.    0.    0.    0.    0.    0.\n",
      "  0.    0.    0.    0.    0.    0.    0.    0.    0.    0.    0.    0.    0.\n",
      "  0.    0.    0.    0.    0.    0.    0.    0.    0.    0.    0.    0.    0.\n",
      "  0.    0.    0.    0.    0.    0.    0.    0.    0.    0.    0.    0.    0.\n",
      "  0.    0.    0.    0.    0.    0.    0.    0.    0.    0.    0.    0.    0.\n",
      "  0.    0.    0.    0.    0.    0.    0.    0.    0.    0.    0.    0.    0.\n",
      "  0.    0.    0.    0.    0.    0.    0.    0.    0.    0.    0.    0.    0.\n",
      "  0.    0.    0.    0.    0.    0.    0.    0.    0.    0.    0.    0.    0.\n",
      "  0.    0.    0.    0.    0.    0.    0.    0.    0.    0.    0.    0.    0.\n",
      "  0.    0.    0.    0.    0.    0.    0.    0.    0.    0.    0.    0.    0.\n",
      "  0.    0.    0.    0.    0.    0.    0.    0.    0.    0.    0.    0.    0.\n",
      "  0.    0.    0.    0.    0.    0.    0.    0.    0.    0.    0.    0.    0.\n",
      "  0.    0.    0.    0.    0.    0.    0.    0.    0.    0.    0.    0.    0.\n",
      "  0.    0.    0.    0.    0.    0.    0.    0.    0.    0.    0.    0.    0.\n",
      "  0.    0.    0.    0.    0.    0.    0.    0.    0.    0.    0.    0.    0.\n",
      "  0.    0.    0.    0.    0.    0.    0.    0.    0.    0.    0.    0.    0.\n",
      "  0.    0.    0.    0.    0.    0.    0.    0.    0.    0.    0.    0.    0.\n",
      "  0.    0.    0.    0.    0.    0.    0.    0.    0.    0.    0.    0.    0.\n",
      "  0.    0.    0.    0.    0.    0.    0.    0.    0.    0.    0.    0.    0.\n",
      "  0.    0.    0.    0.    0.    0.    0.    0.    0.    0.    0.    0.    0.\n",
      "  0.    0.    0.    0.    0.    0.    0.    0.    0.    0.    0.    0.    0.\n",
      "  0.    0.    0.    0.    0.    0.    0.    0.    0.    0.    0.    0.    0.\n",
      "  0.    0.    0.    0.    0.    0.    0.    0.    0.    0.    0.    0.    0.\n",
      "  0.    0.    0.    0.    0.    0.    0.    0.    0.    0.    0.    0.    0.\n",
      "  0.    0.    0.    0.    0.    0.    0.    0.    0.    0.    0.    0.    0.\n",
      "  0.    0.    0.    0.    0.    0.    0.    0.    0.    0.    0.    0.    0.\n",
      "  0.    0.    0.    0.    0.    0.    0.    0.    0.    0.    0.    0.    0.\n",
      "  0.    0.    0.    0.    0.    0.    0.    0.    0.    0.    0.    0.    0.\n",
      "  0.    0.    0.    0.    0.    0.    0.    0.    0.    0.    0.    0.    0.\n",
      "  0.    0.    0.    0.    0.    0.    0.    0.    0.    0.    0.    0.    0.\n",
      "  0.    0.    0.    0.    0.    0.    0.    0.    0.    0.    0.    0.    0.\n",
      "  0.    0.    0.    0.    0.    0.    0.    0.    0.    0.    0.    0.    0.\n",
      "  0.    0.    0.    0.    0.    0.    0.    0.    0.    0.    0.    0.    0.\n",
      "  0.    0.    0.    0.    0.    0.    0.    0.    0.    0.    0.    0.    0.\n",
      "  0.    0.    0.    0.    0.    0.    0.    0.    0.    0.    0.    0.    0.\n",
      "  0.    0.    0.    0.    0.    0.    0.    0.    0.    0.    0.    0.    0.\n",
      "  0.    0.    0.    0.    0.    0.    0.    0.    0.    0.    0.    0.    0.\n",
      "  0.    0.    0.    0.    0.    0.    0.    0.    0.    0.    0.    0.    0.\n",
      "  0.    0.    0.    0.    0.    0.    0.    0.    0.64  0.    0.    0.    0.\n",
      "  0.    0.    0.    0.    0.    0.    0.    0.    0.    0.    0.    0.    0.\n",
      "  0.    0.    0.    0.    0.    0.    0.    0.    0.    0.    0.    0.    0.\n",
      "  0.    0.    0.    0.    0.    0.    0.    0.    0.    0.    0.    0.    0.\n",
      "  0.    0.    0.    0.    0.    0.    0.    0.    0.    0.    0.    0.    0.\n",
      "  0.    0.    0.    0.    0.    0.    0.    0.    0.    0.    0.    0.    0.\n",
      "  0.    0.    0.    0.    0.    0.    0.    0.    0.    0.    0.    0.    0.\n",
      "  0.    0.    0.    0.    0.    0.    0.    0.    0.    0.    0.    0.    0.\n",
      "  0.    0.    0.    0.    0.    0.    0.    0.    0.    0.    0.    0.    0.\n",
      "  0.    0.    0.    0.    0.    0.    0.    0.    0.    0.    0.    0.    0.\n",
      "  0.    0.    0.    0.    0.    0.    0.    0.    0.    0.    0.    0.    0.\n",
      "  0.    0.    0.    0.    0.    0.    0.    0.    0.    0.    0.    0.    0.\n",
      "  0.    0.    0.    0.    0.    0.    0.    0.    0.    0.    0.    0.    0.\n",
      "  0.    0.    0.    0.    0.    0.    0.    0.    0.    0.    0.    0.    0.\n",
      "  0.    0.    0.    0.    0.    0.    0.    0.    0.    0.    0.    0.    0.\n",
      "  0.    0.    0.    0.    0.    0.    0.    0.    0.    0.    0.    0.    0.\n",
      "  0.    0.    0.    0.    0.    0.    0.    0.    0.    0.    0.    0.    0.\n",
      "  0.    0.    0.    0.    0.    0.    0.    0.    0.    0.    0.    0.    0.\n",
      "  0.    0.    0.    0.    0.    0.    0.    0.    0.    0.    0.    0.    0.\n",
      "  0.    0.    0.    0.    0.    0.    0.    0.    0.    0.    0.    0.    0.\n",
      "  0.    0.    0.    0.    0.    0.    0.    0.    0.    0.    0.    0.    0.\n",
      "  0.    0.    0.    0.    0.    0.    0.    0.    0.    0.    0.    0.    0.\n",
      "  0.    0.    0.    0.    0.    0.    0.    0.    0.    0.    0.    0.    0.\n",
      "  0.    0.    0.    0.    0.    0.    0.    0.    0.    0.    0.    0.    0.\n",
      "  0.    0.    0.    0.    0.    0.    0.    0.    0.    0.    0.    0.    0.\n",
      "  0.    0.    0.    0.    0.    0.    0.    0.    0.    0.    0.    0.    0.\n",
      "  0.    0.    0.    0.    0.    0.    0.    0.    0.    0.    0.    0.    0.\n",
      "  0.    0.    0.    0.    0.    0.    0.    0.    0.    0.    0.    0.    0.\n",
      "  0.    0.    0.    0.    0.    0.    0.    0.    0.    0.    0.    0.    0.\n",
      "  0.    0.    0.    0.    0.    0.    0.    0.    0.    0.    0.    0.    0.\n",
      "  0.    0.    0.    0.    0.    0.    0.    0.    0.    0.    0.    0.    0.\n",
      "  0.    0.    0.    0.    0.    0.    0.    0.    0.    0.    0.    0.    0.\n",
      "  0.    0.    0.    0.    0.    0.    0.    0.    0.    0.    0.    0.    0.\n",
      "  0.    0.    0.    0.    0.    0.    0.    0.    0.    0.    0.    0.    0.\n",
      "  0.    0.    0.    0.    0.    0.    0.    0.    0.    0.    0.    0.    0.\n",
      "  0.    0.    0.    0.    0.    0.    0.    0.    0.    0.    0.    0.    0.\n",
      "  0.    0.    0.    0.    0.    0.    0.    0.    0.    0.    0.    0.    0.\n",
      "  0.    0.    0.    0.    0.    0.    0.    0.    0.    0.    0.    0.    0.\n",
      "  0.    0.    0.    0.    0.    0.    0.    0.    0.    0.    0.    0.    0.\n",
      "  0.    0.    0.    0.    0.    0.    0.    0.    0.    0.    0.    0.    0.\n",
      "  0.    0.    0.    0.    0.    0.    0.    0.    0.    0.    0.    0.    0.\n",
      "  0.    0.    0.    0.    0.    0.    0.    0.    0.    0.    0.    0.    0.\n",
      "  0.    0.    0.    0.    0.    0.    0.    0.    0.    0.    0.    0.    0.\n",
      "  0.    0.    0.    0.    0.    0.    0.    0.    0.    0.    0.    0.    0.\n",
      "  0.    0.    0.    0.    0.    0.    0.    0.    0.    0.    0.    0.    0.\n",
      "  0.    0.    0.    0.    0.    0.    0.    0.    0.    0.    0.    0.    0.\n",
      "  0.    0.    0.    0.    0.    0.    0.    0.    0.    0.    0.    0.49\n",
      "  0.    0.    0.    0.    0.    0.    0.    0.    0.    0.    0.    0.    0.\n",
      "  0.    0.    0.    0.    0.    0.    0.    0.    0.    0.    0.    0.    0.\n",
      "  0.    0.    0.    0.    0.    0.    0.    0.    0.    0.    0.    0.    0.\n",
      "  0.    0.    0.    0.    0.    0.    0.    0.    0.    0.    0.    0.    0.\n",
      "  0.    0.    0.    0.    0.    0.    0.    0.    0.    0.    0.    0.    0.\n",
      "  0.    0.    0.    0.    0.    0.    0.    0.    0.    0.    0.    0.    0.\n",
      "  0.    0.    0.    0.    0.    0.    0.    0.    0.    0.    0.    0.    0.\n",
      "  0.    0.    0.    0.    0.    0.    0.    0.    0.    0.    0.    0.    0.\n",
      "  0.    0.    0.    0.    0.    0.    0.    0.    0.    0.    0.    0.    0.\n",
      "  0.    0.    0.    0.    0.    0.    0.    0.    0.    0.    0.    0.    0.\n",
      "  0.    0.    0.    0.    0.    0.    0.    0.    0.    0.    0.    0.    0.\n",
      "  0.    0.    0.    0.    0.    0.    0.    0.    0.    0.    0.    0.    0.\n",
      "  0.    0.    0.    0.    0.    0.    0.    0.    0.    0.    0.    0.    0.\n",
      "  0.    0.    0.    0.    0.    0.    0.    0.    0.    0.    0.    0.    0.\n",
      "  0.    0.    0.    0.    0.    0.    0.    0.    0.    0.    0.    0.    0.\n",
      "  0.    0.    0.    0.    0.    0.    0.    0.    0.    0.    0.    0.    0.\n",
      "  0.    0.    0.    0.    0.    0.    0.    0.    0.    0.    0.    0.    0.\n",
      "  0.    0.    0.    0.    0.    0.    0.    0.    0.    0.    0.    0.    0.\n",
      "  0.    0.    0.    0.    0.    0.    0.    0.    0.    0.    0.    0.    0.\n",
      "  0.    0.    0.    0.    0.    0.    0.    0.    0.    0.    0.    0.    0.\n",
      "  0.    0.41  0.    0.    0.    0.    0.    0.    0.    0.    0.    0.    0.\n",
      "  0.    0.    0.    0.    0.    0.    0.    0.    0.    0.    0.    0.    0.\n",
      "  0.    0.    0.    0.    0.    0.    0.    0.    0.    0.    0.    0.    0.\n",
      "  0.    0.    0.    0.    0.    0.    0.    0.    0.    0.    0.    0.    0.\n",
      "  0.    0.    0.    0.    0.    0.    0.    0.    0.    0.    0.    0.    0.\n",
      "  0.    0.    0.    0.    0.    0.    0.    0.    0.    0.    0.    0.    0.\n",
      "  0.    0.    0.    0.    0.    0.    0.    0.    0.    0.    0.    0.    0.\n",
      "  0.    0.    0.    0.    0.    0.    0.    0.    0.    0.    0.    0.    0.\n",
      "  0.    0.    0.    0.    0.    0.    0.    0.    0.    0.    0.    0.    0.\n",
      "  0.    0.    0.    0.    0.    0.    0.    0.    0.    0.    0.    0.    0.\n",
      "  0.    0.    0.    0.    0.    0.    0.    0.    0.    0.    0.    0.    0.\n",
      "  0.    0.    0.    0.    0.    0.    0.    0.    0.    0.    0.    0.    0.\n",
      "  0.    0.    0.    0.    0.    0.    0.    0.    0.    0.    0.    0.    0.\n",
      "  0.    0.    0.    0.    0.    0.    0.    0.    0.    0.    0.    0.    0.\n",
      "  0.    0.    0.    0.    0.    0.    0.    0.    0.    0.    0.    0.    0.\n",
      "  0.    0.    0.    0.    0.    0.    0.    0.    0.    0.    0.    0.    0.\n",
      "  0.    0.    0.    0.    0.    0.    0.    0.    0.    0.    0.    0.    0.\n",
      "  0.    0.    0.    0.    0.    0.    0.    0.    0.    0.    0.    0.    0.\n",
      "  0.    0.    0.    0.    0.    0.    0.    0.    0.    0.    0.    0.    0.\n",
      "  0.    0.    0.    0.    0.    0.    0.    0.    0.    0.    0.    0.    0.\n",
      "  0.    0.    0.    0.    0.    0.    0.    0.    0.    0.    0.    0.    0.\n",
      "  0.    0.    0.    0.    0.    0.    0.    0.    0.    0.    0.    0.    0.\n",
      "  0.    0.    0.    0.    0.    0.    0.    0.    0.    0.    0.    0.    0.\n",
      "  0.    0.    0.    0.    0.    0.    0.    0.    0.    0.    0.    0.    0.\n",
      "  0.    0.    0.    0.    0.    0.    0.    0.    0.    0.    0.    0.    0.\n",
      "  0.    0.    0.    0.    0.    0.    0.    0.    0.    0.    0.    0.    0.\n",
      "  0.    0.    0.    0.    0.    0.    0.    0.    0.    0.    0.    0.    0.\n",
      "  0.    0.    0.    0.    0.    0.    0.    0.    0.    0.    0.    0.    0.\n",
      "  0.    0.    0.    0.    0.    0.    0.    0.    0.    0.    0.    0.    0.\n",
      "  0.    0.    0.    0.    0.    0.    0.    0.    0.    0.    0.    0.    0.\n",
      "  0.    0.    0.    0.    0.    0.    0.    0.    0.    0.    0.    0.    0.\n",
      "  0.    0.    0.    0.    0.    0.    0.    0.    0.    0.    0.    0.    0.\n",
      "  0.    0.    0.    0.    0.    0.    0.    0.    0.    0.    0.    0.    0.\n",
      "  0.    0.    0.  ]\n"
     ]
    }
   ],
   "source": [
    "# vector of text 0 \n",
    "print(X_train_vector[0])"
   ]
  },
  {
   "cell_type": "markdown",
   "metadata": {},
   "source": [
    "### Logistic Regression"
   ]
  },
  {
   "cell_type": "code",
   "execution_count": 165,
   "metadata": {},
   "outputs": [
    {
     "name": "stdout",
     "output_type": "stream",
     "text": [
      "[LibLinear]"
     ]
    },
    {
     "name": "stderr",
     "output_type": "stream",
     "text": [
      "C:\\ProgramData\\Anaconda3\\lib\\site-packages\\sklearn\\linear_model\\logistic.py:1228: UserWarning: 'n_jobs' > 1 does not have any effect when 'solver' is set to 'liblinear'. Got 'n_jobs' = -1.\n",
      "  \" = {}.\".format(self.n_jobs))\n"
     ]
    },
    {
     "data": {
      "text/plain": [
       "LogisticRegression(C=1.0, class_weight=None, dual=False, fit_intercept=True,\n",
       "          intercept_scaling=1, max_iter=100, multi_class='ovr', n_jobs=-1,\n",
       "          penalty='l2', random_state=None, solver='liblinear', tol=0.0001,\n",
       "          verbose=1, warm_start=False)"
      ]
     },
     "execution_count": 165,
     "metadata": {},
     "output_type": "execute_result"
    }
   ],
   "source": [
    "from sklearn.linear_model import LogisticRegression\n",
    "lr = None\n",
    "None"
   ]
  },
  {
   "cell_type": "code",
   "execution_count": 166,
   "metadata": {},
   "outputs": [
    {
     "data": {
      "text/plain": [
       "0.97285714285714286"
      ]
     },
     "execution_count": 166,
     "metadata": {},
     "output_type": "execute_result"
    }
   ],
   "source": [
    "lr.score(X_train_vector, y_train)"
   ]
  },
  {
   "cell_type": "code",
   "execution_count": 167,
   "metadata": {},
   "outputs": [
    {
     "data": {
      "text/plain": [
       "0.75666666666666671"
      ]
     },
     "execution_count": 167,
     "metadata": {},
     "output_type": "execute_result"
    }
   ],
   "source": [
    "lr.score(X_test_vector, y_test)"
   ]
  },
  {
   "cell_type": "markdown",
   "metadata": {},
   "source": [
    "### Decision Tree"
   ]
  },
  {
   "cell_type": "code",
   "execution_count": 168,
   "metadata": {},
   "outputs": [
    {
     "data": {
      "text/plain": [
       "DecisionTreeClassifier(class_weight=None, criterion='gini', max_depth=30,\n",
       "            max_features=None, max_leaf_nodes=None,\n",
       "            min_impurity_decrease=0.0, min_impurity_split=None,\n",
       "            min_samples_leaf=1, min_samples_split=2,\n",
       "            min_weight_fraction_leaf=0.0, presort=False, random_state=None,\n",
       "            splitter='best')"
      ]
     },
     "execution_count": 168,
     "metadata": {},
     "output_type": "execute_result"
    }
   ],
   "source": [
    "# train using Decision Tree\n",
    "from sklearn.tree import DecisionTreeClassifier\n",
    "tree = None\n",
    "None"
   ]
  },
  {
   "cell_type": "code",
   "execution_count": 169,
   "metadata": {},
   "outputs": [
    {
     "data": {
      "text/plain": [
       "0.83857142857142852"
      ]
     },
     "execution_count": 169,
     "metadata": {},
     "output_type": "execute_result"
    }
   ],
   "source": [
    "tree.score(X_train_vector, y_train)"
   ]
  },
  {
   "cell_type": "code",
   "execution_count": 170,
   "metadata": {},
   "outputs": [
    {
     "data": {
      "text/plain": [
       "0.68000000000000005"
      ]
     },
     "execution_count": 170,
     "metadata": {},
     "output_type": "execute_result"
    }
   ],
   "source": [
    "tree.score(X_test_vector, y_test)"
   ]
  },
  {
   "cell_type": "code",
   "execution_count": 171,
   "metadata": {},
   "outputs": [
    {
     "name": "stdout",
     "output_type": "stream",
     "text": [
      " 1. ['재밌다']                        0.100997\n",
      " 2. ['최고']                         0.074553\n",
      " 3. ['적']                          0.056057\n",
      " 4. ['있다']                         0.046053\n",
      " 5. ['재미있다']                       0.040013\n",
      " 6. ['재미없다']                       0.037542\n",
      " 7. ['그']                          0.034809\n",
      " 8. ['말']                          0.031189\n",
      " 9. ['못']                          0.027528\n",
      "10. ['굿']                          0.026359\n",
      "11. ['내용']                         0.025618\n",
      "12. ['좋다']                         0.025488\n",
      "13. ['ㅎㅎ']                         0.021447\n",
      "14. ['괜찮다']                        0.020102\n",
      "15. ['명작']                         0.019655\n",
      "16. ['와']                          0.019223\n",
      "17. ['보고']                         0.018771\n",
      "18. ['대단하다']                       0.018297\n",
      "19. ['마지막']                        0.017175\n",
      "20. ['인상']                         0.017158\n"
     ]
    }
   ],
   "source": [
    "# finding 20 most important terms\n",
    "importances = None\n",
    "indices = None\n",
    "\n",
    "for f in range(20):\n",
    "    print(\"%2d. %-30s %f\" % None)"
   ]
  },
  {
   "cell_type": "markdown",
   "metadata": {},
   "source": [
    "### Multi-layer Nueral Network"
   ]
  },
  {
   "cell_type": "code",
   "execution_count": 172,
   "metadata": {},
   "outputs": [
    {
     "name": "stdout",
     "output_type": "stream",
     "text": [
      "Iteration 1, loss = 0.68455276\n",
      "Iteration 2, loss = 0.52977602\n",
      "Iteration 3, loss = 0.34821027\n",
      "Iteration 4, loss = 0.19276600\n",
      "Iteration 5, loss = 0.10139269\n",
      "Iteration 6, loss = 0.05531005\n",
      "Iteration 7, loss = 0.03423999\n",
      "Iteration 8, loss = 0.02366867\n",
      "Iteration 9, loss = 0.01726586\n",
      "Iteration 10, loss = 0.01359902\n",
      "Iteration 11, loss = 0.01101815\n",
      "Iteration 12, loss = 0.00959464\n",
      "Iteration 13, loss = 0.00815791\n",
      "Iteration 14, loss = 0.00717363\n",
      "Iteration 15, loss = 0.00660868\n",
      "Iteration 16, loss = 0.00608317\n",
      "Iteration 17, loss = 0.00565105\n",
      "Iteration 18, loss = 0.00514797\n",
      "Iteration 19, loss = 0.00494041\n",
      "Iteration 20, loss = 0.00468230\n",
      "Iteration 21, loss = 0.00451519\n",
      "Iteration 22, loss = 0.00440235\n",
      "Iteration 23, loss = 0.00426854\n",
      "Iteration 24, loss = 0.00420126\n",
      "Iteration 25, loss = 0.00409780\n",
      "Iteration 26, loss = 0.00400663\n",
      "Iteration 27, loss = 0.00395034\n",
      "Iteration 28, loss = 0.00386498\n",
      "Training loss did not improve more than tol=0.000100 for two consecutive epochs. Stopping.\n"
     ]
    },
    {
     "data": {
      "text/plain": [
       "MLPClassifier(activation='relu', alpha=0.0001, batch_size='auto', beta_1=0.9,\n",
       "       beta_2=0.999, early_stopping=False, epsilon=1e-08,\n",
       "       hidden_layer_sizes=(100,), learning_rate='constant',\n",
       "       learning_rate_init=0.01, max_iter=100, momentum=0.9,\n",
       "       nesterovs_momentum=True, power_t=0.5, random_state=None,\n",
       "       shuffle=True, solver='adam', tol=0.0001, validation_fraction=0.1,\n",
       "       verbose=1, warm_start=False)"
      ]
     },
     "execution_count": 172,
     "metadata": {},
     "output_type": "execute_result"
    }
   ],
   "source": [
    "# train using Neural Network\n",
    "from sklearn.neural_network import MLPClassifier\n",
    "mlp = None\n",
    "None"
   ]
  },
  {
   "cell_type": "code",
   "execution_count": 173,
   "metadata": {},
   "outputs": [
    {
     "data": {
      "text/plain": [
       "0.99857142857142855"
      ]
     },
     "execution_count": 173,
     "metadata": {},
     "output_type": "execute_result"
    }
   ],
   "source": [
    "mlp.score(X_train_vector, y_train)"
   ]
  },
  {
   "cell_type": "code",
   "execution_count": 174,
   "metadata": {},
   "outputs": [
    {
     "data": {
      "text/plain": [
       "0.72666666666666668"
      ]
     },
     "execution_count": 174,
     "metadata": {},
     "output_type": "execute_result"
    }
   ],
   "source": [
    "mlp.score(X_test_vector, y_test)"
   ]
  }
 ],
 "metadata": {
  "anaconda-cloud": {},
  "kernelspec": {
   "display_name": "Python 3",
   "language": "python",
   "name": "python3"
  },
  "language_info": {
   "codemirror_mode": {
    "name": "ipython",
    "version": 3
   },
   "file_extension": ".py",
   "mimetype": "text/x-python",
   "name": "python",
   "nbconvert_exporter": "python",
   "pygments_lexer": "ipython3",
   "version": "3.7.1"
  },
  "toc": {
   "nav_menu": {},
   "number_sections": true,
   "sideBar": true,
   "skip_h1_title": false,
   "title_cell": "Table of Contents",
   "title_sidebar": "Contents",
   "toc_cell": false,
   "toc_position": {},
   "toc_section_display": true,
   "toc_window_display": false
  }
 },
 "nbformat": 4,
 "nbformat_minor": 4
}
