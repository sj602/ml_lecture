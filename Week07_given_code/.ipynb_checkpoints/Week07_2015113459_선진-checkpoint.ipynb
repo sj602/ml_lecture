{
 "cells": [
  {
   "cell_type": "markdown",
   "metadata": {},
   "source": [
    "# Week07 : K-Nearest Neighbors, Multilayer Neural Network"
   ]
  },
  {
   "cell_type": "markdown",
   "metadata": {},
   "source": [
    "---\n",
    "p3"
   ]
  },
  {
   "cell_type": "markdown",
   "metadata": {},
   "source": [
    "# 1. K-Nearest Neighbors using Scikit-learn"
   ]
  },
  {
   "cell_type": "markdown",
   "metadata": {},
   "source": [
    "### Load Iris Dataset - binary classification"
   ]
  },
  {
   "cell_type": "code",
   "execution_count": 404,
   "metadata": {},
   "outputs": [
    {
     "name": "stdout",
     "output_type": "stream",
     "text": [
      "Class labels: [1 2]\n"
     ]
    }
   ],
   "source": [
    "from sklearn import datasets\n",
    "import numpy as np\n",
    "\n",
    "iris = datasets.load_iris()\n",
    "\n",
    "# use features 2 and 3 only\n",
    "X = None\n",
    "y = None\n",
    "\n",
    "print('Class labels:', np.unique(y))"
   ]
  },
  {
   "cell_type": "markdown",
   "metadata": {},
   "source": [
    "### Splitting data into 70% training data & 30% test data"
   ]
  },
  {
   "cell_type": "code",
   "execution_count": 405,
   "metadata": {
    "collapsed": true
   },
   "outputs": [],
   "source": [
    "from sklearn.model_selection import train_test_split\n",
    "\n",
    "X_train, X_test, y_train, y_test = None"
   ]
  },
  {
   "cell_type": "code",
   "execution_count": 406,
   "metadata": {},
   "outputs": [
    {
     "name": "stdout",
     "output_type": "stream",
     "text": [
      "Labels counts in y: [ 0 50 50]\n",
      "Labels counts in y_train: [ 0 35 35]\n",
      "Labels counts in y_test: [ 0 15 15]\n"
     ]
    }
   ],
   "source": [
    "print('Labels counts in y:', np.bincount(y))\n",
    "print('Labels counts in y_train:', np.bincount(y_train))\n",
    "print('Labels counts in y_test:', np.bincount(y_test))"
   ]
  },
  {
   "cell_type": "markdown",
   "metadata": {},
   "source": [
    "---\n",
    "p4"
   ]
  },
  {
   "cell_type": "markdown",
   "metadata": {},
   "source": [
    "### Standardize the dataset"
   ]
  },
  {
   "cell_type": "code",
   "execution_count": 407,
   "metadata": {
    "collapsed": true
   },
   "outputs": [],
   "source": [
    "from sklearn.preprocessing import StandardScaler\n",
    "\n",
    "sc = StandardScaler()\n",
    "sc.fit(X_train)\n",
    "X_train_std = None\n",
    "X_test_std = None"
   ]
  },
  {
   "cell_type": "markdown",
   "metadata": {},
   "source": [
    "### Building a K-Nearest Neighbor Classifier"
   ]
  },
  {
   "cell_type": "code",
   "execution_count": 408,
   "metadata": {},
   "outputs": [
    {
     "data": {
      "text/plain": [
       "KNeighborsClassifier(algorithm='auto', leaf_size=30, metric='minkowski',\n",
       "           metric_params=None, n_jobs=1, n_neighbors=5, p=2,\n",
       "           weights='uniform')"
      ]
     },
     "execution_count": 408,
     "metadata": {},
     "output_type": "execute_result"
    }
   ],
   "source": [
    "from sklearn.neighbors import KNeighborsClassifier\n",
    "\n",
    "knn = None\n",
    "None"
   ]
  },
  {
   "cell_type": "markdown",
   "metadata": {},
   "source": [
    "---\n",
    "p5"
   ]
  },
  {
   "cell_type": "markdown",
   "metadata": {},
   "source": [
    "### Evaluation"
   ]
  },
  {
   "cell_type": "code",
   "execution_count": 37,
   "metadata": {},
   "outputs": [
    {
     "name": "stdout",
     "output_type": "stream",
     "text": [
      "Train accuracy : 0.9429\n"
     ]
    }
   ],
   "source": [
    "# Train accuracy\n",
    "acc = None\n",
    "print(\"Train accuracy : %.4f\" % acc)"
   ]
  },
  {
   "cell_type": "code",
   "execution_count": 38,
   "metadata": {},
   "outputs": [
    {
     "name": "stdout",
     "output_type": "stream",
     "text": [
      "Test accuracy : 0.9667\n"
     ]
    }
   ],
   "source": [
    "# Test accuracy\n",
    "acc = None\n",
    "print(\"Test accuracy : %.4f\" % acc)"
   ]
  },
  {
   "cell_type": "markdown",
   "metadata": {},
   "source": [
    "---\n",
    "p6"
   ]
  },
  {
   "cell_type": "markdown",
   "metadata": {},
   "source": [
    "### Plotting decision boundary"
   ]
  },
  {
   "cell_type": "code",
   "execution_count": 40,
   "metadata": {
    "collapsed": true
   },
   "outputs": [],
   "source": [
    "from matplotlib.colors import ListedColormap\n",
    "import matplotlib.pyplot as plt\n",
    "\n",
    "\n",
    "def plot_decision_regions(X, y, classifier, test_idx=None, resolution=0.02):\n",
    "\n",
    "    # setup marker generator and color map\n",
    "    markers = ('s', 'x', 'o', '^', 'v')\n",
    "    colors = ('red', 'blue', 'lightgreen', 'gray', 'cyan')\n",
    "    cmap = ListedColormap(colors[:len(np.unique(y))])\n",
    "\n",
    "    # plot the decision surface\n",
    "    x1_min, x1_max = X[:, 0].min() - 1, X[:, 0].max() + 1\n",
    "    x2_min, x2_max = X[:, 1].min() - 1, X[:, 1].max() + 1\n",
    "    xx1, xx2 = np.meshgrid(np.arange(x1_min, x1_max, resolution),\n",
    "                           np.arange(x2_min, x2_max, resolution))\n",
    "    Z = classifier.predict(np.array([xx1.ravel(), xx2.ravel()]).T)\n",
    "    Z = Z.reshape(xx1.shape)\n",
    "    plt.contourf(xx1, xx2, Z, alpha=0.3, cmap=cmap)\n",
    "    plt.xlim(xx1.min(), xx1.max())\n",
    "    plt.ylim(xx2.min(), xx2.max())\n",
    "\n",
    "    for idx, cl in enumerate(np.unique(y)):\n",
    "        plt.scatter(x=X[y == cl, 0], \n",
    "                    y=X[y == cl, 1],\n",
    "                    alpha=0.8, \n",
    "                    c=colors[idx],\n",
    "                    marker=markers[idx], \n",
    "                    label=cl, \n",
    "                    edgecolor='black')\n",
    "\n",
    "    # highlight test samples\n",
    "    if test_idx:\n",
    "        # plot all samples\n",
    "        X_test, y_test = X[test_idx, :], y[test_idx]\n",
    "\n",
    "        plt.scatter(X_test[:, 0],\n",
    "                    X_test[:, 1],\n",
    "                    c='',\n",
    "                    edgecolor='black',\n",
    "                    alpha=1.0,\n",
    "                    linewidth=1,\n",
    "                    marker='o',\n",
    "                    s=100, \n",
    "                    label='test set')"
   ]
  },
  {
   "cell_type": "code",
   "execution_count": 41,
   "metadata": {
    "scrolled": true
   },
   "outputs": [
    {
     "data": {
      "image/png": "[encoded data removed]",
      "text/plain": [
       "<matplotlib.figure.Figure at 0x2353b4fbd30>"
      ]
     },
     "metadata": {},
     "output_type": "display_data"
    }
   ],
   "source": [
    "X_combined_std = np.vstack((X_train_std, X_test_std))\n",
    "y_combined = np.hstack((y_train, y_test))\n",
    "\n",
    "plot_decision_regions(X_combined_std, y_combined, \n",
    "                      classifier=knn, test_idx=range(70, 100))\n",
    "\n",
    "plt.xlabel('petal length [standardized]')\n",
    "plt.ylabel('petal width [standardized]')\n",
    "plt.legend(loc='upper left')\n",
    "plt.tight_layout()\n",
    "\n",
    "plt.show()"
   ]
  },
  {
   "cell_type": "markdown",
   "metadata": {},
   "source": [
    "---\n",
    "p7"
   ]
  },
  {
   "cell_type": "markdown",
   "metadata": {},
   "source": [
    "### Try other k values"
   ]
  },
  {
   "cell_type": "code",
   "execution_count": 42,
   "metadata": {},
   "outputs": [
    {
     "data": {
      "text/plain": [
       "KNeighborsClassifier(algorithm='auto', leaf_size=30, metric='minkowski',\n",
       "           metric_params=None, n_jobs=1, n_neighbors=9, p=2,\n",
       "           weights='uniform')"
      ]
     },
     "execution_count": 42,
     "metadata": {},
     "output_type": "execute_result"
    }
   ],
   "source": [
    "from sklearn.neighbors import KNeighborsClassifier\n",
    "\n",
    "knn = None\n",
    "None"
   ]
  },
  {
   "cell_type": "code",
   "execution_count": 43,
   "metadata": {},
   "outputs": [
    {
     "name": "stdout",
     "output_type": "stream",
     "text": [
      "Train accuracy : 0.9286\n"
     ]
    }
   ],
   "source": [
    "# Train accuracy\n",
    "acc = knn.score(X_train_std, y_train)\n",
    "print(\"Train accuracy : %.4f\" % acc)"
   ]
  },
  {
   "cell_type": "code",
   "execution_count": 44,
   "metadata": {},
   "outputs": [
    {
     "name": "stdout",
     "output_type": "stream",
     "text": [
      "Test accuracy : 0.9667\n"
     ]
    }
   ],
   "source": [
    "# Test accuracy\n",
    "acc = knn.score(X_test_std, y_test)\n",
    "print(\"Test accuracy : %.4f\" % acc)"
   ]
  },
  {
   "cell_type": "markdown",
   "metadata": {},
   "source": [
    "---\n",
    "p8"
   ]
  },
  {
   "cell_type": "code",
   "execution_count": 45,
   "metadata": {},
   "outputs": [
    {
     "data": {
      "image/png": "[encoded data removed]",
      "text/plain": [
       "<matplotlib.figure.Figure at 0x2353b619f98>"
      ]
     },
     "metadata": {},
     "output_type": "display_data"
    }
   ],
   "source": [
    "X_combined_std = np.vstack((X_train_std, X_test_std))\n",
    "y_combined = np.hstack((y_train, y_test))\n",
    "plot_decision_regions(X_combined_std, y_combined, \n",
    "                      classifier=knn, test_idx=range(70, 100))\n",
    "\n",
    "plt.xlabel('petal length [standardized]')\n",
    "plt.ylabel('petal width [standardized]')\n",
    "plt.legend(loc='upper left')\n",
    "plt.tight_layout()\n",
    "\n",
    "plt.show()"
   ]
  },
  {
   "cell_type": "markdown",
   "metadata": {},
   "source": [
    "# 2. Multi-layer Neural Networks using Scikit-learn"
   ]
  },
  {
   "cell_type": "markdown",
   "metadata": {},
   "source": [
    "---\n",
    "p18"
   ]
  },
  {
   "cell_type": "markdown",
   "metadata": {},
   "source": [
    "### Load Iris Dataset - binary classification"
   ]
  },
  {
   "cell_type": "code",
   "execution_count": 314,
   "metadata": {},
   "outputs": [
    {
     "name": "stdout",
     "output_type": "stream",
     "text": [
      "Class labels: [1 2]\n"
     ]
    }
   ],
   "source": [
    "from sklearn import datasets\n",
    "import numpy as np\n",
    "\n",
    "iris = datasets.load_iris()\n",
    "X = None\n",
    "y = None\n",
    "\n",
    "print('Class labels:', np.unique(y))"
   ]
  },
  {
   "cell_type": "markdown",
   "metadata": {},
   "source": [
    "### Splitting data into 70% training data & 30% test data"
   ]
  },
  {
   "cell_type": "code",
   "execution_count": 315,
   "metadata": {
    "collapsed": true
   },
   "outputs": [],
   "source": [
    "from sklearn.model_selection import train_test_split\n",
    "\n",
    "X_train, X_test, y_train, y_test = None"
   ]
  },
  {
   "cell_type": "code",
   "execution_count": 316,
   "metadata": {},
   "outputs": [
    {
     "name": "stdout",
     "output_type": "stream",
     "text": [
      "Labels counts in y: [ 0 50 50]\n",
      "Labels counts in y_train: [ 0 35 35]\n",
      "Labels counts in y_test: [ 0 15 15]\n"
     ]
    }
   ],
   "source": [
    "print('Labels counts in y:', np.bincount(y))\n",
    "print('Labels counts in y_train:', np.bincount(y_train))\n",
    "print('Labels counts in y_test:', np.bincount(y_test))"
   ]
  },
  {
   "cell_type": "markdown",
   "metadata": {},
   "source": [
    "---\n",
    "p19"
   ]
  },
  {
   "cell_type": "markdown",
   "metadata": {},
   "source": [
    "### Standardize the dataset"
   ]
  },
  {
   "cell_type": "code",
   "execution_count": 317,
   "metadata": {
    "collapsed": true
   },
   "outputs": [],
   "source": [
    "from sklearn.preprocessing import StandardScaler\n",
    "\n",
    "sc = StandardScaler()\n",
    "sc.fit(X_train)\n",
    "X_train_std = None\n",
    "X_test_std = None"
   ]
  },
  {
   "cell_type": "markdown",
   "metadata": {},
   "source": [
    "### Building a Multi-layer Neural Network and Training the model"
   ]
  },
  {
   "cell_type": "code",
   "execution_count": 338,
   "metadata": {},
   "outputs": [
    {
     "name": "stdout",
     "output_type": "stream",
     "text": [
      "Iteration 1, loss = 0.71016458\n",
      "Iteration 2, loss = 0.59771194\n",
      "Iteration 3, loss = 0.50787981\n",
      "Iteration 4, loss = 0.44944913\n",
      "Iteration 5, loss = 0.41261814\n",
      "Iteration 6, loss = 0.38456503\n",
      "Iteration 7, loss = 0.35945002\n",
      "Iteration 8, loss = 0.33476426\n",
      "Iteration 9, loss = 0.30923804\n",
      "Iteration 10, loss = 0.28353317\n",
      "Iteration 11, loss = 0.25986126\n",
      "Iteration 12, loss = 0.23951732\n",
      "Iteration 13, loss = 0.22314582\n",
      "Iteration 14, loss = 0.21011100\n",
      "Iteration 15, loss = 0.19895346\n",
      "Iteration 16, loss = 0.18893915\n",
      "Iteration 17, loss = 0.17992167\n",
      "Iteration 18, loss = 0.17190484\n",
      "Iteration 19, loss = 0.16469415\n",
      "Iteration 20, loss = 0.15828186\n",
      "Iteration 21, loss = 0.15253475\n",
      "Iteration 22, loss = 0.14740190\n",
      "Iteration 23, loss = 0.14283431\n",
      "Iteration 24, loss = 0.13871857\n",
      "Iteration 25, loss = 0.13510085\n",
      "Iteration 26, loss = 0.13189753\n",
      "Iteration 27, loss = 0.12898641\n",
      "Iteration 28, loss = 0.12635281\n",
      "Iteration 29, loss = 0.12394738\n",
      "Iteration 30, loss = 0.12172591\n",
      "Iteration 31, loss = 0.11966868\n",
      "Iteration 32, loss = 0.11774740\n",
      "Iteration 33, loss = 0.11594347\n",
      "Iteration 34, loss = 0.11426029\n",
      "Iteration 35, loss = 0.11267659\n",
      "Iteration 36, loss = 0.11120892\n",
      "Iteration 37, loss = 0.10987058\n",
      "Iteration 38, loss = 0.10860739\n",
      "Iteration 39, loss = 0.10743355\n",
      "Iteration 40, loss = 0.10640521\n",
      "Iteration 41, loss = 0.10544359\n",
      "Iteration 42, loss = 0.10453533\n",
      "Iteration 43, loss = 0.10370558\n",
      "Iteration 44, loss = 0.10293428\n",
      "Iteration 45, loss = 0.10232321\n",
      "Iteration 46, loss = 0.10176494\n",
      "Iteration 47, loss = 0.10125793\n",
      "Iteration 48, loss = 0.10083587\n",
      "Iteration 49, loss = 0.10045855\n",
      "Iteration 50, loss = 0.10010566\n",
      "Iteration 51, loss = 0.09980686\n",
      "Iteration 52, loss = 0.09950306\n",
      "Iteration 53, loss = 0.09925742\n",
      "Iteration 54, loss = 0.09901261\n",
      "Iteration 55, loss = 0.09879579\n",
      "Iteration 56, loss = 0.09860485\n",
      "Iteration 57, loss = 0.09843314\n",
      "Iteration 58, loss = 0.09826197\n",
      "Iteration 59, loss = 0.09809348\n",
      "Iteration 60, loss = 0.09790541\n",
      "Iteration 61, loss = 0.09774221\n",
      "Iteration 62, loss = 0.09759436\n",
      "Iteration 63, loss = 0.09744616\n",
      "Iteration 64, loss = 0.09729584\n",
      "Iteration 65, loss = 0.09715723\n",
      "Iteration 66, loss = 0.09702581\n",
      "Iteration 67, loss = 0.09688209\n",
      "Iteration 68, loss = 0.09675391\n",
      "Iteration 69, loss = 0.09663771\n",
      "Iteration 70, loss = 0.09651201\n",
      "Iteration 71, loss = 0.09640769\n",
      "Iteration 72, loss = 0.09626385\n",
      "Iteration 73, loss = 0.09615371\n",
      "Iteration 74, loss = 0.09604106\n",
      "Iteration 75, loss = 0.09591880\n",
      "Iteration 76, loss = 0.09581189\n",
      "Iteration 77, loss = 0.09569525\n",
      "Iteration 78, loss = 0.09557735\n",
      "Iteration 79, loss = 0.09548742\n",
      "Iteration 80, loss = 0.09536841\n",
      "Iteration 81, loss = 0.09525663\n",
      "Iteration 82, loss = 0.09515221\n",
      "Iteration 83, loss = 0.09504182\n",
      "Iteration 84, loss = 0.09495044\n",
      "Iteration 85, loss = 0.09483165\n",
      "Iteration 86, loss = 0.09473837\n",
      "Iteration 87, loss = 0.09462110\n",
      "Iteration 88, loss = 0.09453111\n",
      "Iteration 89, loss = 0.09440779\n",
      "Iteration 90, loss = 0.09431435\n",
      "Iteration 91, loss = 0.09420784\n",
      "Iteration 92, loss = 0.09409278\n",
      "Iteration 93, loss = 0.09401909\n",
      "Iteration 94, loss = 0.09389507\n",
      "Iteration 95, loss = 0.09379614\n",
      "Iteration 96, loss = 0.09368186\n",
      "Iteration 97, loss = 0.09358913\n",
      "Iteration 98, loss = 0.09346996\n",
      "Iteration 99, loss = 0.09336969\n",
      "Iteration 100, loss = 0.09326859\n"
     ]
    },
    {
     "name": "stderr",
     "output_type": "stream",
     "text": [
      "C:\\ProgramData\\Anaconda3\\lib\\site-packages\\sklearn\\neural_network\\multilayer_perceptron.py:564: ConvergenceWarning: Stochastic Optimizer: Maximum iterations (100) reached and the optimization hasn't converged yet.\n",
      "  % self.max_iter, ConvergenceWarning)\n"
     ]
    },
    {
     "data": {
      "text/plain": [
       "MLPClassifier(activation='relu', alpha=0.0001, batch_size='auto', beta_1=0.9,\n",
       "       beta_2=0.999, early_stopping=False, epsilon=1e-08,\n",
       "       hidden_layer_sizes=(10, 10), learning_rate='constant',\n",
       "       learning_rate_init=0.1, max_iter=100, momentum=0.9,\n",
       "       nesterovs_momentum=True, power_t=0.5, random_state=0, shuffle=True,\n",
       "       solver='sgd', tol=0.0001, validation_fraction=0.1, verbose=1,\n",
       "       warm_start=False)"
      ]
     },
     "execution_count": 338,
     "metadata": {},
     "output_type": "execute_result"
    }
   ],
   "source": [
    "from sklearn.neural_network import MLPClassifier\n",
    "\n",
    "mlp = None\n",
    "None"
   ]
  },
  {
   "cell_type": "markdown",
   "metadata": {},
   "source": [
    "---\n",
    "p20"
   ]
  },
  {
   "cell_type": "markdown",
   "metadata": {},
   "source": [
    "### Loss curve"
   ]
  },
  {
   "cell_type": "code",
   "execution_count": 339,
   "metadata": {
    "scrolled": true
   },
   "outputs": [
    {
     "data": {
      "image/png": "[encoded data removed]",
      "text/plain": [
       "<matplotlib.figure.Figure at 0x2350111b2b0>"
      ]
     },
     "metadata": {},
     "output_type": "display_data"
    }
   ],
   "source": [
    "# plot the loss\n",
    "None\n",
    "plt.show()"
   ]
  },
  {
   "cell_type": "markdown",
   "metadata": {},
   "source": [
    "### Evaluation"
   ]
  },
  {
   "cell_type": "code",
   "execution_count": 340,
   "metadata": {},
   "outputs": [
    {
     "name": "stdout",
     "output_type": "stream",
     "text": [
      "Train accuracy : 0.9429\n"
     ]
    }
   ],
   "source": [
    "# Train accuracyacc = mlp.score(X_train_std, y_train)\n",
    "acc = None\n",
    "print(\"Train accuracy : %.4f\" % acc)"
   ]
  },
  {
   "cell_type": "code",
   "execution_count": 341,
   "metadata": {},
   "outputs": [
    {
     "name": "stdout",
     "output_type": "stream",
     "text": [
      "Test accuracy : 0.9667\n"
     ]
    }
   ],
   "source": [
    "# Test accuracy\n",
    "acc = None\n",
    "print(\"Test accuracy : %.4f\" % acc)"
   ]
  },
  {
   "cell_type": "markdown",
   "metadata": {},
   "source": [
    "---\n",
    "p21"
   ]
  },
  {
   "cell_type": "markdown",
   "metadata": {},
   "source": [
    "### Plotting decision boundary"
   ]
  },
  {
   "cell_type": "code",
   "execution_count": 342,
   "metadata": {},
   "outputs": [
    {
     "data": {
      "image/png": "[encoded data removed]",
      "text/plain": [
       "<matplotlib.figure.Figure at 0x235006239e8>"
      ]
     },
     "metadata": {},
     "output_type": "display_data"
    }
   ],
   "source": [
    "X_combined_std = np.vstack((X_train_std, X_test_std))\n",
    "y_combined = np.hstack((y_train, y_test))\n",
    "\n",
    "#mlp.fit(X_train_std, y_train)\n",
    "\n",
    "plot_decision_regions(X_combined_std, y_combined, \n",
    "                      classifier=mlp, test_idx=range(70, 100))\n",
    "\n",
    "plt.xlabel('petal length [standardized]')\n",
    "plt.ylabel('petal width [standardized]')\n",
    "plt.legend(loc='upper left')\n",
    "plt.tight_layout()\n",
    "\n",
    "plt.show()"
   ]
  },
  {
   "cell_type": "markdown",
   "metadata": {},
   "source": [
    "---\n",
    "p22"
   ]
  },
  {
   "cell_type": "markdown",
   "metadata": {},
   "source": [
    "### Try other regularization parameters (alpha)"
   ]
  },
  {
   "cell_type": "code",
   "execution_count": 343,
   "metadata": {},
   "outputs": [
    {
     "name": "stderr",
     "output_type": "stream",
     "text": [
      "C:\\ProgramData\\Anaconda3\\lib\\site-packages\\sklearn\\neural_network\\multilayer_perceptron.py:564: ConvergenceWarning: Stochastic Optimizer: Maximum iterations (100) reached and the optimization hasn't converged yet.\n",
      "  % self.max_iter, ConvergenceWarning)\n"
     ]
    },
    {
     "data": {
      "text/plain": [
       "MLPClassifier(activation='relu', alpha=1, batch_size='auto', beta_1=0.9,\n",
       "       beta_2=0.999, early_stopping=False, epsilon=1e-08,\n",
       "       hidden_layer_sizes=(10, 10), learning_rate='constant',\n",
       "       learning_rate_init=0.1, max_iter=100, momentum=0.9,\n",
       "       nesterovs_momentum=True, power_t=0.5, random_state=0, shuffle=True,\n",
       "       solver='sgd', tol=1e-06, validation_fraction=0.1, verbose=0,\n",
       "       warm_start=False)"
      ]
     },
     "execution_count": 343,
     "metadata": {},
     "output_type": "execute_result"
    }
   ],
   "source": [
    "from sklearn.neural_network import MLPClassifier\n",
    "\n",
    "mlp = None\n",
    "None"
   ]
  },
  {
   "cell_type": "code",
   "execution_count": 344,
   "metadata": {},
   "outputs": [
    {
     "data": {
      "image/png": "[encoded data removed]",
      "text/plain": [
       "<matplotlib.figure.Figure at 0x2350111b860>"
      ]
     },
     "metadata": {},
     "output_type": "display_data"
    }
   ],
   "source": [
    "# plot the loss\n",
    "plt.plot(mlp.loss_curve_)\n",
    "plt.show()"
   ]
  },
  {
   "cell_type": "markdown",
   "metadata": {},
   "source": [
    "---\n",
    "p23"
   ]
  },
  {
   "cell_type": "code",
   "execution_count": 345,
   "metadata": {},
   "outputs": [
    {
     "name": "stdout",
     "output_type": "stream",
     "text": [
      "Train accuracy : 0.9286\n"
     ]
    }
   ],
   "source": [
    "# Train accuracy\n",
    "acc = mlp.score(X_train_std, y_train)\n",
    "print(\"Train accuracy : %.4f\" % acc)"
   ]
  },
  {
   "cell_type": "code",
   "execution_count": 346,
   "metadata": {},
   "outputs": [
    {
     "name": "stdout",
     "output_type": "stream",
     "text": [
      "Test accuracy : 0.9667\n"
     ]
    }
   ],
   "source": [
    "# Test accuracy\n",
    "acc = mlp.score(X_test_std, y_test)\n",
    "print(\"Test accuracy : %.4f\" % acc)"
   ]
  },
  {
   "cell_type": "markdown",
   "metadata": {},
   "source": [
    "---\n",
    "p24"
   ]
  },
  {
   "cell_type": "code",
   "execution_count": 347,
   "metadata": {},
   "outputs": [
    {
     "data": {
      "image/png": "[encoded data removed]",
      "text/plain": [
       "<matplotlib.figure.Figure at 0x23502da0208>"
      ]
     },
     "metadata": {},
     "output_type": "display_data"
    }
   ],
   "source": [
    "X_combined_std = np.vstack((X_train_std, X_test_std))\n",
    "y_combined = np.hstack((y_train, y_test))\n",
    "\n",
    "plot_decision_regions(X_combined_std, y_combined, \n",
    "                      classifier=mlp, test_idx=range(70, 100))\n",
    "\n",
    "plt.xlabel('petal length [standardized]')\n",
    "plt.ylabel('petal width [standardized]')\n",
    "plt.legend(loc='upper left')\n",
    "plt.tight_layout()\n",
    "\n",
    "plt.show()"
   ]
  },
  {
   "cell_type": "markdown",
   "metadata": {},
   "source": [
    "---\n",
    "p27"
   ]
  },
  {
   "cell_type": "markdown",
   "metadata": {},
   "source": [
    "# 3. Multi-layer Neural Networks - Image Classification"
   ]
  },
  {
   "cell_type": "markdown",
   "metadata": {},
   "source": [
    "### Load MNIST Dataset"
   ]
  },
  {
   "cell_type": "code",
   "execution_count": 1,
   "metadata": {},
   "outputs": [
    {
     "data": {
      "text/plain": [
       "{'__header__': b'MATLAB 5.0 MAT-file Platform: posix, Created on: Sun Mar 30 03:19:02 2014',\n",
       " '__version__': '1.0',\n",
       " '__globals__': [],\n",
       " 'mldata_descr_ordering': array([[array(['label'], dtype='<U5'), array(['data'], dtype='<U4')]],\n",
       "       dtype=object),\n",
       " 'data': array([[0, 0, 0, ..., 0, 0, 0],\n",
       "        [0, 0, 0, ..., 0, 0, 0],\n",
       "        [0, 0, 0, ..., 0, 0, 0],\n",
       "        ...,\n",
       "        [0, 0, 0, ..., 0, 0, 0],\n",
       "        [0, 0, 0, ..., 0, 0, 0],\n",
       "        [0, 0, 0, ..., 0, 0, 0]], dtype=uint8),\n",
       " 'label': array([[0., 0., 0., ..., 9., 9., 9.]])}"
      ]
     },
     "execution_count": 1,
     "metadata": {},
     "output_type": "execute_result"
    }
   ],
   "source": [
    "# from sklearn.datasets import fetch_mldata\n",
    "import matplotlib.pyplot as plt\n",
    "import numpy as np\n",
    "from scipy import io\n",
    "\n",
    "mnist = io.loadmat('mnist-original.mat')\n",
    "mnist"
   ]
  },
  {
   "cell_type": "markdown",
   "metadata": {},
   "source": [
    "### Get X and y"
   ]
  },
  {
   "cell_type": "code",
   "execution_count": null,
   "metadata": {},
   "outputs": [],
   "source": [
    "X, y = mnist['data'], mnist['label']\n",
    "X = np.array(X).T\n",
    "y = np.array(y).T.ravel()\n",
    "X.shape"
   ]
  },
  {
   "cell_type": "code",
   "execution_count": 202,
   "metadata": {},
   "outputs": [
    {
     "data": {
      "text/plain": [
       "array([  0,   0,   0,   0,   0,   0,   0,   0,   0,   0,   0,   0,   0,\n",
       "         0,   0,   0,   0,   0,   0,   0,   0,   0,   0,   0,   0,   0,\n",
       "         0,   0,   0,   0,   0,   0,   0,   0,   0,   0,   0,   0,   0,\n",
       "         0,   0,   0,   0,   0,   0,   0,   0,   0,   0,   0,   0,   0,\n",
       "         0,   0,   0,   0,   0,   0,   0,   0,   0,   0,   0,   0,   0,\n",
       "         0,   0,   0,   0,   0,   0,   0,   0,   0,   0,   0,   0,   0,\n",
       "         0,   0,   0,   0,   0,   0,   0,   0,   0,   0,   0,   0,   0,\n",
       "         0,   0,   0,   0,   0,   0,   0,   0,   0,   0,   0,   0,   0,\n",
       "         0,   0,   0,   0,   0,   0,   0,   0,   0,   0,   0,   0,   0,\n",
       "         0,   0,   0,   0,   0,   0,   0,   0,   0,   0,  51, 159, 253,\n",
       "       159,  50,   0,   0,   0,   0,   0,   0,   0,   0,   0,   0,   0,\n",
       "         0,   0,   0,   0,   0,   0,   0,   0,   0,   0,   0,  48, 238,\n",
       "       252, 252, 252, 237,   0,   0,   0,   0,   0,   0,   0,   0,   0,\n",
       "         0,   0,   0,   0,   0,   0,   0,   0,   0,   0,   0,   0,  54,\n",
       "       227, 253, 252, 239, 233, 252,  57,   6,   0,   0,   0,   0,   0,\n",
       "         0,   0,   0,   0,   0,   0,   0,   0,   0,   0,   0,   0,  10,\n",
       "        60, 224, 252, 253, 252, 202,  84, 252, 253, 122,   0,   0,   0,\n",
       "         0,   0,   0,   0,   0,   0,   0,   0,   0,   0,   0,   0,   0,\n",
       "         0, 163, 252, 252, 252, 253, 252, 252,  96, 189, 253, 167,   0,\n",
       "         0,   0,   0,   0,   0,   0,   0,   0,   0,   0,   0,   0,   0,\n",
       "         0,   0,  51, 238, 253, 253, 190, 114, 253, 228,  47,  79, 255,\n",
       "       168,   0,   0,   0,   0,   0,   0,   0,   0,   0,   0,   0,   0,\n",
       "         0,   0,   0,  48, 238, 252, 252, 179,  12,  75, 121,  21,   0,\n",
       "         0, 253, 243,  50,   0,   0,   0,   0,   0,   0,   0,   0,   0,\n",
       "         0,   0,   0,   0,  38, 165, 253, 233, 208,  84,   0,   0,   0,\n",
       "         0,   0,   0, 253, 252, 165,   0,   0,   0,   0,   0,   0,   0,\n",
       "         0,   0,   0,   0,   0,   7, 178, 252, 240,  71,  19,  28,   0,\n",
       "         0,   0,   0,   0,   0, 253, 252, 195,   0,   0,   0,   0,   0,\n",
       "         0,   0,   0,   0,   0,   0,   0,  57, 252, 252,  63,   0,   0,\n",
       "         0,   0,   0,   0,   0,   0,   0, 253, 252, 195,   0,   0,   0,\n",
       "         0,   0,   0,   0,   0,   0,   0,   0,   0, 198, 253, 190,   0,\n",
       "         0,   0,   0,   0,   0,   0,   0,   0,   0, 255, 253, 196,   0,\n",
       "         0,   0,   0,   0,   0,   0,   0,   0,   0,   0,  76, 246, 252,\n",
       "       112,   0,   0,   0,   0,   0,   0,   0,   0,   0,   0, 253, 252,\n",
       "       148,   0,   0,   0,   0,   0,   0,   0,   0,   0,   0,   0,  85,\n",
       "       252, 230,  25,   0,   0,   0,   0,   0,   0,   0,   0,   7, 135,\n",
       "       253, 186,  12,   0,   0,   0,   0,   0,   0,   0,   0,   0,   0,\n",
       "         0,  85, 252, 223,   0,   0,   0,   0,   0,   0,   0,   0,   7,\n",
       "       131, 252, 225,  71,   0,   0,   0,   0,   0,   0,   0,   0,   0,\n",
       "         0,   0,   0,  85, 252, 145,   0,   0,   0,   0,   0,   0,   0,\n",
       "        48, 165, 252, 173,   0,   0,   0,   0,   0,   0,   0,   0,   0,\n",
       "         0,   0,   0,   0,   0,  86, 253, 225,   0,   0,   0,   0,   0,\n",
       "         0, 114, 238, 253, 162,   0,   0,   0,   0,   0,   0,   0,   0,\n",
       "         0,   0,   0,   0,   0,   0,   0,  85, 252, 249, 146,  48,  29,\n",
       "        85, 178, 225, 253, 223, 167,  56,   0,   0,   0,   0,   0,   0,\n",
       "         0,   0,   0,   0,   0,   0,   0,   0,   0,  85, 252, 252, 252,\n",
       "       229, 215, 252, 252, 252, 196, 130,   0,   0,   0,   0,   0,   0,\n",
       "         0,   0,   0,   0,   0,   0,   0,   0,   0,   0,   0,  28, 199,\n",
       "       252, 252, 253, 252, 252, 233, 145,   0,   0,   0,   0,   0,   0,\n",
       "         0,   0,   0,   0,   0,   0,   0,   0,   0,   0,   0,   0,   0,\n",
       "         0,  25, 128, 252, 253, 252, 141,  37,   0,   0,   0,   0,   0,\n",
       "         0,   0,   0,   0,   0,   0,   0,   0,   0,   0,   0,   0,   0,\n",
       "         0,   0,   0,   0,   0,   0,   0,   0,   0,   0,   0,   0,   0,\n",
       "         0,   0,   0,   0,   0,   0,   0,   0,   0,   0,   0,   0,   0,\n",
       "         0,   0,   0,   0,   0,   0,   0,   0,   0,   0,   0,   0,   0,\n",
       "         0,   0,   0,   0,   0,   0,   0,   0,   0,   0,   0,   0,   0,\n",
       "         0,   0,   0,   0,   0,   0,   0,   0,   0,   0,   0,   0,   0,\n",
       "         0,   0,   0,   0,   0,   0,   0,   0,   0,   0,   0,   0,   0,\n",
       "         0,   0,   0,   0,   0,   0,   0,   0,   0,   0,   0,   0,   0,\n",
       "         0,   0,   0,   0,   0,   0,   0,   0,   0,   0,   0,   0,   0,\n",
       "         0,   0,   0,   0], dtype=uint8)"
      ]
     },
     "execution_count": 202,
     "metadata": {},
     "output_type": "execute_result"
    }
   ],
   "source": [
    "X[0]"
   ]
  },
  {
   "cell_type": "code",
   "execution_count": 203,
   "metadata": {},
   "outputs": [
    {
     "data": {
      "text/plain": [
       "0.0"
      ]
     },
     "execution_count": 203,
     "metadata": {},
     "output_type": "execute_result"
    }
   ],
   "source": [
    "y[0]"
   ]
  },
  {
   "cell_type": "markdown",
   "metadata": {},
   "source": [
    "---\n",
    "p28"
   ]
  },
  {
   "cell_type": "code",
   "execution_count": 204,
   "metadata": {},
   "outputs": [
    {
     "data": {
      "image/png": "[encoded data removed]",
      "text/plain": [
       "<matplotlib.figure.Figure at 0x23502cbaba8>"
      ]
     },
     "metadata": {},
     "output_type": "display_data"
    }
   ],
   "source": [
    "ex1 = X[0] \n",
    "ex1_image = ex1.reshape(28, 28) \n",
    "plt.imshow(ex1_image) \n",
    "plt.show()"
   ]
  },
  {
   "cell_type": "markdown",
   "metadata": {},
   "source": [
    "### Splitting data into 60k training data & 10k test data"
   ]
  },
  {
   "cell_type": "code",
   "execution_count": 205,
   "metadata": {
    "collapsed": true
   },
   "outputs": [],
   "source": [
    "# rescale the data, use the traditional train/test split\n",
    "X_train, X_test = None\n",
    "y_train, y_test = None"
   ]
  },
  {
   "cell_type": "markdown",
   "metadata": {},
   "source": [
    "---\n",
    "p29"
   ]
  },
  {
   "cell_type": "markdown",
   "metadata": {},
   "source": [
    "### Standardize the dataset"
   ]
  },
  {
   "cell_type": "code",
   "execution_count": 206,
   "metadata": {},
   "outputs": [
    {
     "name": "stderr",
     "output_type": "stream",
     "text": [
      "C:\\ProgramData\\Anaconda3\\lib\\site-packages\\sklearn\\utils\\validation.py:475: DataConversionWarning: Data with input dtype uint8 was converted to float64 by StandardScaler.\n",
      "  warnings.warn(msg, DataConversionWarning)\n"
     ]
    }
   ],
   "source": [
    "from sklearn.preprocessing import StandardScaler\n",
    "\n",
    "sc = StandardScaler()\n",
    "sc.fit(X_train)\n",
    "X_train_std = None\n",
    "X_test_std = None"
   ]
  },
  {
   "cell_type": "code",
   "execution_count": 207,
   "metadata": {},
   "outputs": [
    {
     "data": {
      "text/plain": [
       "array([ 0.        ,  0.        ,  0.        ,  0.        ,  0.        ,\n",
       "        0.        ,  0.        ,  0.        ,  0.        ,  0.        ,\n",
       "        0.        ,  0.        , -0.00441808, -0.00575482, -0.00408252,\n",
       "       -0.00408252,  0.        ,  0.        ,  0.        ,  0.        ,\n",
       "        0.        ,  0.        ,  0.        ,  0.        ,  0.        ,\n",
       "        0.        ,  0.        ,  0.        ,  0.        ,  0.        ,\n",
       "        0.        ,  0.        , -0.00408252, -0.00470969, -0.00879935,\n",
       "       -0.01159056, -0.01475898, -0.01928485, -0.0246718 , -0.02907103,\n",
       "       -0.03059266, -0.03116401, -0.03196287, -0.03020254, -0.03131022,\n",
       "       -0.0283834 , -0.02311919, -0.01916663, -0.0167723 , -0.01099636,\n",
       "       -0.00832486, -0.00438069,  0.        ,  0.        ,  0.        ,\n",
       "        0.        ,  0.        ,  0.        , -0.00408252, -0.00539535,\n",
       "       -0.00852241, -0.01198504, -0.01765348, -0.0277109 , -0.03702009,\n",
       "       -0.05215128, -0.0670362 , -0.08301705, -0.0993793 , -0.11518413,\n",
       "       -0.12913326, -0.13839468, -0.13888363, -0.13184344, -0.12042952,\n",
       "       -0.10189079, -0.0786049 , -0.05699561, -0.03965768, -0.02372839,\n",
       "       -0.01408835, -0.00783084,  0.        ,  0.        ,  0.        ,\n",
       "        0.        , -0.00536838, -0.00887061, -0.01407082, -0.02214681,\n",
       "       -0.03518014, -0.05502368, -0.07909613, -0.10764901, -0.13716994,\n",
       "       -0.16710576, -0.19600876, -0.22449111, -0.24865599, -0.26211797,\n",
       "       -0.2625969 , -0.2478559 , -0.221947  , -0.1872114 , -0.14764013,\n",
       "       -0.10816436, -0.07681211, -0.0470753 , -0.03020197, -0.01524124,\n",
       "       -0.00528372,  0.        ,  0.        , -0.00408252, -0.00776342,\n",
       "       -0.01489325, -0.02396275, -0.0503409 , -0.07876747, -0.11618154,\n",
       "       -0.16124756, -0.21196164, -0.26689873, -0.32567801, -0.39024155,\n",
       "       -0.45207638, -0.49939798,  0.0664791 ,  1.33857348,  2.62752387,\n",
       "        1.72417535,  0.42135556, -0.28368365, -0.21683666, -0.15852438,\n",
       "       -0.10878458, -0.07092253, -0.03895348, -0.01425239, -0.0057705 ,\n",
       "        0.        ,  0.        , -0.01190174, -0.02205016, -0.05183807,\n",
       "       -0.0906597 , -0.13966711, -0.19708212, -0.26438473, -0.34073044,\n",
       "       -0.42253575, -0.51540865, -0.61603533, -0.7159833 , -0.34621732,\n",
       "        1.35857324,  1.51146014,  1.6346726 ,  1.88069283,  2.09129319,\n",
       "       -0.44764565, -0.34762461, -0.26084091, -0.19030605, -0.13108013,\n",
       "       -0.07484604, -0.03193013, -0.00820892,  0.        , -0.00557015,\n",
       "       -0.01566193, -0.03636566, -0.07902431, -0.13328909, -0.19915441,\n",
       "       -0.27542969, -0.36333595, -0.46308053, -0.57484519, -0.69880387,\n",
       "       -0.82877368, -0.47048776,  0.96721437,  1.14748071,  1.15986538,\n",
       "        1.13210557,  1.24594939,  1.70460494,  0.03183492, -0.37533175,\n",
       "       -0.33932343, -0.24893037, -0.1729397 , -0.10410424, -0.04831762,\n",
       "       -0.01470802, -0.00408252, -0.01323101, -0.02624382, -0.05915859,\n",
       "       -0.11300485, -0.17844153, -0.25800481, -0.35091181, -0.45909822,\n",
       "       -0.58414556, -0.72495421, -0.7825882 , -0.46910962,  0.89667886,\n",
       "        1.07977519,  1.06792169,  1.07653979,  0.68058505, -0.2662337 ,\n",
       "        1.45680752,  1.81305479,  0.85531048, -0.39754744, -0.28768128,\n",
       "       -0.19700703, -0.12122894, -0.05680861, -0.01539067, -0.00502549,\n",
       "       -0.01732052, -0.04308054, -0.0852489 , -0.13945837, -0.21088331,\n",
       "       -0.30001798, -0.40728153, -0.53288848, -0.68062943, -0.8419885 ,\n",
       "        0.49381321,  1.19310597,  1.15478312,  1.15986991,  1.17922259,\n",
       "        1.16706785,  1.16966782, -0.18190196,  0.80207873,  1.67958985,\n",
       "        1.23168345, -0.423671  , -0.29819621, -0.19768614, -0.12068382,\n",
       "       -0.05393563, -0.01350554, -0.00590571, -0.02110967, -0.05298904,\n",
       "       -0.09307849, -0.15039873, -0.22619102, -0.32364534, -0.44213122,\n",
       "       -0.58424748, -0.74857559, -0.43676275,  1.14312113,  1.27734539,\n",
       "        1.34819098,  0.83462653,  0.1343626 ,  1.35981076,  1.05950034,\n",
       "       -0.57657873, -0.18318894,  1.70169394,  1.24160583, -0.4201719 ,\n",
       "       -0.2901746 , -0.18148235, -0.10493977, -0.04721317, -0.01413087,\n",
       "       -0.00577281, -0.02263228, -0.05280317, -0.09220581, -0.1474517 ,\n",
       "       -0.22728459, -0.33242832, -0.46269616, -0.61903352, -0.33289011,\n",
       "        1.24845772,  1.3435973 ,  1.46430749,  0.92287792, -0.65485941,\n",
       "       -0.09055217,  0.25260008, -0.76021703, -0.96213107, -0.86347326,\n",
       "        1.76822814,  2.16531034,  0.29985176, -0.27122264, -0.15932446,\n",
       "       -0.08125841, -0.03695087, -0.0118734 , -0.00705517, -0.02077118,\n",
       "       -0.04720356, -0.08200384, -0.13745728, -0.22518196, -0.33849238,\n",
       "       -0.482935  , -0.26390293,  0.72233994,  1.39958284,  1.2693843 ,\n",
       "        1.21389713,  0.1064436 , -0.74095056, -0.80221047, -0.90126281,\n",
       "       -0.97772293, -0.95554794, -0.8249029 ,  1.89950656,  2.46178885,\n",
       "        2.03677827, -0.25846441, -0.14969571, -0.06111136, -0.02801157,\n",
       "       -0.0091251 , -0.00530435, -0.0162384 , -0.03637861, -0.06858201,\n",
       "       -0.1273685 , -0.22614336, -0.35220291, -0.42604405,  1.074062  ,\n",
       "        1.4842561 ,  1.29025763, -0.18562982, -0.58381279, -0.49849034,\n",
       "       -0.82034372, -0.91768349, -1.02909594, -1.058279  , -0.96567404,\n",
       "       -0.79447676,  2.0465914 ,  2.62578927,  2.56195635, -0.25540754,\n",
       "       -0.15382451, -0.05245428, -0.02150587, -0.00992198, -0.00408252,\n",
       "       -0.01093439, -0.0255448 , -0.05707308, -0.12466202, -0.23849817,\n",
       "       -0.3732589 ,  0.10550164,  1.73384532,  1.46460089, -0.30782135,\n",
       "       -0.84101427, -0.81679096, -0.89192404, -0.97855056, -1.11080343,\n",
       "       -1.18062996, -1.12885776, -0.97607041, -0.7751954 ,  2.12882421,\n",
       "        2.66099888,  2.53621867, -0.26354918, -0.16450369, -0.05951303,\n",
       "       -0.02336867, -0.00740432, -0.00408252, -0.00798835, -0.01829645,\n",
       "       -0.05133943, -0.1293464 , -0.25752139, -0.39501133,  1.60730921,\n",
       "        1.71913447,  0.91070888, -0.86785315, -0.86074372, -0.90403568,\n",
       "       -1.03470353, -1.14543618, -1.27420789, -1.24819354, -1.13977509,\n",
       "       -0.96328345, -0.76301132,  2.11689833,  2.59453505,  2.45887168,\n",
       "       -0.27332532, -0.17338663, -0.06894272, -0.02464466, -0.0069849 ,\n",
       "       -0.00477028, -0.00418943, -0.01864826, -0.05327212, -0.14042052,\n",
       "       -0.27718062,  0.59874893,  2.10730908,  1.74898439,  0.24284222,\n",
       "       -0.84194084, -0.86976698, -0.95866435, -1.09410266, -1.20489455,\n",
       "       -1.27242541, -1.18363406, -1.07835249, -0.92258453, -0.75248127,\n",
       "        2.03723548,  2.48680284,  1.70852054, -0.27829889, -0.17549155,\n",
       "       -0.07702614, -0.0296263 , -0.00911024, -0.00408252, -0.00670728,\n",
       "       -0.02160143, -0.06070769, -0.15702241, -0.29716317,  0.68032474,\n",
       "        2.20777944,  1.6269673 , -0.50332332, -0.78837956, -0.83396729,\n",
       "       -0.9194134 , -1.02595562, -1.12277551, -1.14506316, -1.0794597 ,\n",
       "       -0.99988631, -0.81440807,  0.55412261,  1.99735007,  1.68846422,\n",
       "       -0.20932801, -0.27351765, -0.17353912, -0.08405015, -0.03416244,\n",
       "       -0.00893965,  0.        , -0.00893209, -0.02539776, -0.07390018,\n",
       "       -0.17786005, -0.31338343,  0.66111555,  2.26384481,  1.66888328,\n",
       "       -0.68268924, -0.72347014, -0.76555898, -0.82507042, -0.91939024,\n",
       "       -1.00626013, -1.03281505, -1.01067269, -0.88778656,  0.35440302,\n",
       "        1.67434794,  1.71250959,  0.35893907, -0.36804198, -0.26078182,\n",
       "       -0.16833376, -0.08854264, -0.03593623, -0.01071081, -0.00590597,\n",
       "       -0.00635211, -0.03332021, -0.09130486, -0.19910803, -0.32796741,\n",
       "        0.62985936,  2.26079821,  0.90172531, -0.65940509, -0.69784837,\n",
       "       -0.73042289, -0.78112567, -0.87168855, -0.95845445, -1.01124661,\n",
       "       -0.57486335,  0.54427934,  1.45276739,  0.92101126, -0.5949106 ,\n",
       "       -0.46342915, -0.34877114, -0.24588475, -0.15820094, -0.08543796,\n",
       "       -0.03155796, -0.00976041, -0.00408252, -0.01128166, -0.0397571 ,\n",
       "       -0.10385233, -0.21198097, -0.33747789,  0.60295532,  2.18799893,\n",
       "        1.64837198, -0.69322439, -0.7383849 , -0.77073077, -0.82876952,\n",
       "       -0.91927271, -1.0088061 , -0.03425033,  1.10373542,  1.31032797,\n",
       "        0.63959718, -0.70122275, -0.55538565, -0.42707461, -0.31681048,\n",
       "       -0.2206858 , -0.14105726, -0.07817104, -0.02918258, -0.00802579,\n",
       "        0.        , -0.0103421 , -0.04327362, -0.10916701, -0.20903257,\n",
       "       -0.33022464,  0.58770723,  2.09722522,  1.76010668,  0.60766302,\n",
       "       -0.38873807, -0.62386942, -0.19545416,  0.54352925,  0.8974922 ,\n",
       "        1.14592402,  0.94198401,  0.57184031, -0.2616756 , -0.62699096,\n",
       "       -0.48806277, -0.36895114, -0.26929223, -0.18721262, -0.12162743,\n",
       "       -0.06649382, -0.026033  , -0.00577332, -0.00408252, -0.0100095 ,\n",
       "       -0.04049873, -0.09998471, -0.18820172, -0.29963131,  0.67963084,\n",
       "        2.15797234,  1.75785334,  1.51354628,  1.15186841,  0.92001994,\n",
       "        1.16494627,  1.10209545,  1.0864826 ,  0.64103806,  0.18058033,\n",
       "       -0.83223274, -0.66712599, -0.52269449, -0.39906543, -0.29670064,\n",
       "       -0.21262622, -0.14869396, -0.09689573, -0.05093109, -0.02021443,\n",
       "       -0.00408252, -0.00408252, -0.00600491, -0.03370635, -0.07897245,\n",
       "       -0.14774138, -0.24325025,  0.07100997,  1.89558648,  1.95015712,\n",
       "        1.59732966,  1.37992544,  1.23077258,  1.15141016,  0.96044214,\n",
       "        0.21731809, -0.96307263, -0.81766817, -0.66465591, -0.52359508,\n",
       "       -0.40214203, -0.30306916, -0.22168084, -0.15936594, -0.1100607 ,\n",
       "       -0.07003976, -0.03713562, -0.01220141, -0.00408252,  0.        ,\n",
       "        0.        , -0.02273873, -0.0519054 , -0.09998802, -0.16843162,\n",
       "       -0.26031072,  0.01637326,  1.06821963,  2.01779067,  1.68064378,\n",
       "        1.46558481,  0.37357074, -0.56407334, -0.83974858, -0.73465553,\n",
       "       -0.61257571, -0.49207119, -0.37992817, -0.28881739, -0.21344094,\n",
       "       -0.15366778, -0.10912601, -0.07409876, -0.04331719, -0.01934379,\n",
       "       -0.01040248,  0.        ,  0.        ,  0.        , -0.0103527 ,\n",
       "       -0.0287501 , -0.05756837, -0.09531054, -0.15360976, -0.22342453,\n",
       "       -0.30357777, -0.38847997, -0.47019583, -0.53312357, -0.56650599,\n",
       "       -0.56278366, -0.5271647 , -0.4680574 , -0.39580505, -0.32478945,\n",
       "       -0.25570503, -0.19461171, -0.14457421, -0.10177354, -0.07142522,\n",
       "       -0.04777776, -0.02575244, -0.01137942, -0.00475287,  0.        ,\n",
       "        0.        ,  0.        , -0.0066643 , -0.01096421, -0.02760445,\n",
       "       -0.0515536 , -0.08677185, -0.12839203, -0.1757759 , -0.22305444,\n",
       "       -0.26664029, -0.29484432, -0.30750543, -0.30518012, -0.28923178,\n",
       "       -0.26323129, -0.23372359, -0.20102782, -0.16369105, -0.127666  ,\n",
       "       -0.09396514, -0.06568326, -0.04592653, -0.02871881, -0.01569304,\n",
       "       -0.00567531, -0.00408252,  0.        ,  0.        ,  0.        ,\n",
       "        0.        , -0.00408252, -0.01512139, -0.03136955, -0.05333023,\n",
       "       -0.07922827, -0.10837665, -0.13397907, -0.15751318, -0.17510551,\n",
       "       -0.1826269 , -0.18053534, -0.16987649, -0.15315731, -0.13543312,\n",
       "       -0.1164803 , -0.09395125, -0.07257689, -0.05236436, -0.036383  ,\n",
       "       -0.02150306, -0.01301928, -0.00449422, -0.00408252,  0.        ,\n",
       "        0.        ,  0.        ,  0.        ,  0.        ,  0.        ,\n",
       "       -0.00579016, -0.00905385, -0.01600544, -0.02211976, -0.026846  ,\n",
       "       -0.03184506, -0.04374841, -0.04728295, -0.0531388 , -0.05662282,\n",
       "       -0.06033836, -0.056295  , -0.05136654, -0.04263228, -0.03317103,\n",
       "       -0.02246288, -0.01606909, -0.0114322 , -0.00900729, -0.00577039,\n",
       "        0.        ,  0.        ,  0.        ,  0.        ])"
      ]
     },
     "execution_count": 207,
     "metadata": {},
     "output_type": "execute_result"
    }
   ],
   "source": [
    "X_train_std[0]"
   ]
  },
  {
   "cell_type": "markdown",
   "metadata": {},
   "source": [
    "---\n",
    "p30"
   ]
  },
  {
   "cell_type": "markdown",
   "metadata": {},
   "source": [
    "### Building a Multi-layer Neural Network and Training the model"
   ]
  },
  {
   "cell_type": "code",
   "execution_count": 211,
   "metadata": {},
   "outputs": [
    {
     "name": "stdout",
     "output_type": "stream",
     "text": [
      "Iteration 1, loss = 0.54831591\n",
      "Iteration 2, loss = 0.22619341\n",
      "Iteration 3, loss = 0.17906563\n",
      "Iteration 4, loss = 0.15421308\n",
      "Iteration 5, loss = 0.13349429\n",
      "Iteration 6, loss = 0.11963709\n",
      "Iteration 7, loss = 0.11039451\n",
      "Iteration 8, loss = 0.10128681\n",
      "Iteration 9, loss = 0.09486857\n",
      "Iteration 10, loss = 0.08862901\n",
      "Iteration 11, loss = 0.08409574\n",
      "Iteration 12, loss = 0.07921963\n",
      "Iteration 13, loss = 0.07432711\n",
      "Iteration 14, loss = 0.07035623\n",
      "Iteration 15, loss = 0.06676269\n",
      "Iteration 16, loss = 0.06392010\n",
      "Iteration 17, loss = 0.06187048\n",
      "Iteration 18, loss = 0.05815555\n",
      "Iteration 19, loss = 0.05533845\n",
      "Iteration 20, loss = 0.05256192\n",
      "Iteration 21, loss = 0.05075147\n",
      "Iteration 22, loss = 0.04865898\n",
      "Iteration 23, loss = 0.04728816\n",
      "Iteration 24, loss = 0.04421544\n",
      "Iteration 25, loss = 0.04296430\n",
      "Iteration 26, loss = 0.04066808\n",
      "Iteration 27, loss = 0.03853177\n",
      "Iteration 28, loss = 0.03690260\n",
      "Iteration 29, loss = 0.03584062\n",
      "Iteration 30, loss = 0.03432059\n",
      "Iteration 31, loss = 0.03254441\n",
      "Iteration 32, loss = 0.03129726\n",
      "Iteration 33, loss = 0.03030409\n",
      "Iteration 34, loss = 0.02885156\n",
      "Iteration 35, loss = 0.02703680\n",
      "Iteration 36, loss = 0.02633380\n",
      "Iteration 37, loss = 0.02556019\n",
      "Iteration 38, loss = 0.02571033\n",
      "Iteration 39, loss = 0.02419470\n",
      "Iteration 40, loss = 0.02285148\n",
      "Iteration 41, loss = 0.02233596\n",
      "Iteration 42, loss = 0.02197839\n",
      "Iteration 43, loss = 0.02180162\n",
      "Iteration 44, loss = 0.02212337\n",
      "Iteration 45, loss = 0.02542186\n",
      "Iteration 46, loss = 0.02053461\n",
      "Iteration 47, loss = 0.02094463\n",
      "Iteration 48, loss = 0.01709247\n",
      "Iteration 49, loss = 0.01591657\n",
      "Iteration 50, loss = 0.01522827\n",
      "Iteration 51, loss = 0.01352454\n",
      "Iteration 52, loss = 0.01284526\n",
      "Iteration 53, loss = 0.01211423\n",
      "Iteration 54, loss = 0.01139708\n",
      "Iteration 55, loss = 0.01141858\n",
      "Iteration 56, loss = 0.01036798\n",
      "Iteration 57, loss = 0.00984703\n",
      "Iteration 58, loss = 0.00922831\n",
      "Iteration 59, loss = 0.00874918\n",
      "Iteration 60, loss = 0.00831928\n",
      "Iteration 61, loss = 0.00783684\n",
      "Iteration 62, loss = 0.00757594\n",
      "Iteration 63, loss = 0.00724878\n",
      "Iteration 64, loss = 0.00690254\n",
      "Iteration 65, loss = 0.00652403\n",
      "Iteration 66, loss = 0.00633428\n",
      "Iteration 67, loss = 0.00584988\n",
      "Iteration 68, loss = 0.00558578\n",
      "Iteration 69, loss = 0.00524296\n",
      "Iteration 70, loss = 0.00509777\n",
      "Iteration 71, loss = 0.00482732\n",
      "Iteration 72, loss = 0.00462715\n",
      "Iteration 73, loss = 0.00440536\n",
      "Iteration 74, loss = 0.00421114\n",
      "Iteration 75, loss = 0.00400298\n",
      "Iteration 76, loss = 0.00382515\n",
      "Iteration 77, loss = 0.00371535\n",
      "Iteration 78, loss = 0.00355079\n",
      "Iteration 79, loss = 0.00338749\n",
      "Iteration 80, loss = 0.00334021\n",
      "Iteration 81, loss = 0.00311271\n",
      "Iteration 82, loss = 0.00301926\n",
      "Iteration 83, loss = 0.00294195\n",
      "Iteration 84, loss = 0.00283181\n",
      "Iteration 85, loss = 0.00271608\n",
      "Iteration 86, loss = 0.00264809\n",
      "Iteration 87, loss = 0.00253180\n",
      "Iteration 88, loss = 0.00245774\n",
      "Iteration 89, loss = 0.00235660\n",
      "Iteration 90, loss = 0.00233328\n",
      "Iteration 91, loss = 0.00223237\n",
      "Iteration 92, loss = 0.00219018\n",
      "Iteration 93, loss = 0.00211250\n",
      "Iteration 94, loss = 0.00204470\n",
      "Training loss did not improve more than tol=0.000100 for two consecutive epochs. Stopping.\n"
     ]
    },
    {
     "data": {
      "text/plain": [
       "MLPClassifier(activation='relu', alpha=0.0001, batch_size='auto', beta_1=0.9,\n",
       "       beta_2=0.999, early_stopping=False, epsilon=1e-08,\n",
       "       hidden_layer_sizes=(25, 25), learning_rate='constant',\n",
       "       learning_rate_init=0.01, max_iter=100, momentum=0.9,\n",
       "       nesterovs_momentum=True, power_t=0.5, random_state=0, shuffle=True,\n",
       "       solver='sgd', tol=0.0001, validation_fraction=0.1, verbose=10,\n",
       "       warm_start=False)"
      ]
     },
     "execution_count": 211,
     "metadata": {},
     "output_type": "execute_result"
    }
   ],
   "source": [
    "from sklearn.neural_network import MLPClassifier\n",
    "\n",
    "mlp = None\n",
    "None"
   ]
  },
  {
   "cell_type": "markdown",
   "metadata": {},
   "source": [
    "---\n",
    "p31"
   ]
  },
  {
   "cell_type": "markdown",
   "metadata": {},
   "source": [
    "### Loss curve"
   ]
  },
  {
   "cell_type": "code",
   "execution_count": 212,
   "metadata": {},
   "outputs": [
    {
     "data": {
      "image/png": "[encoded data removed]",
      "text/plain": [
       "<matplotlib.figure.Figure at 0x23502889ba8>"
      ]
     },
     "metadata": {},
     "output_type": "display_data"
    }
   ],
   "source": [
    "# plot the loss\n",
    "None\n",
    "plt.show()"
   ]
  },
  {
   "cell_type": "markdown",
   "metadata": {},
   "source": [
    "### Evaluation"
   ]
  },
  {
   "cell_type": "code",
   "execution_count": 45,
   "metadata": {},
   "outputs": [
    {
     "name": "stdout",
     "output_type": "stream",
     "text": [
      "Train accuracy : 1.0000\n"
     ]
    }
   ],
   "source": [
    "# Train accuracy\n",
    "acc = mlp.score(X_train_std, y_train)\n",
    "print(\"Train accuracy : %.4f\" % acc)"
   ]
  },
  {
   "cell_type": "code",
   "execution_count": 46,
   "metadata": {},
   "outputs": [
    {
     "name": "stdout",
     "output_type": "stream",
     "text": [
      "Test accuracy : 0.9561\n"
     ]
    }
   ],
   "source": [
    "# Test accuracy\n",
    "acc = mlp.score(X_test_std, y_test)\n",
    "print(\"Test accuracy : %.4f\" % acc)"
   ]
  },
  {
   "cell_type": "markdown",
   "metadata": {},
   "source": [
    "---\n",
    "p32"
   ]
  },
  {
   "cell_type": "markdown",
   "metadata": {},
   "source": [
    "### Classification example"
   ]
  },
  {
   "cell_type": "code",
   "execution_count": 166,
   "metadata": {},
   "outputs": [
    {
     "data": {
      "image/png": "[encoded data removed]",
      "text/plain": [
       "<matplotlib.figure.Figure at 0x23500b6c1d0>"
      ]
     },
     "metadata": {},
     "output_type": "display_data"
    }
   ],
   "source": [
    "some_digit1 = X[35000]\n",
    "some_digit_image1 = some_digit1.reshape(28, 28)\n",
    "plt.imshow(some_digit_image1)\n",
    "plt.show()"
   ]
  },
  {
   "cell_type": "code",
   "execution_count": 167,
   "metadata": {},
   "outputs": [
    {
     "data": {
      "image/png": "[encoded data removed]",
      "text/plain": [
       "<matplotlib.figure.Figure at 0x23502d63710>"
      ]
     },
     "metadata": {},
     "output_type": "display_data"
    }
   ],
   "source": [
    "some_digit2 = X[50000]\n",
    "some_digit_image2 = some_digit2.reshape(28, 28)\n",
    "plt.imshow(some_digit_image2)\n",
    "plt.show()"
   ]
  },
  {
   "cell_type": "code",
   "execution_count": 168,
   "metadata": {},
   "outputs": [
    {
     "data": {
      "text/plain": [
       "array([ 5.])"
      ]
     },
     "execution_count": 168,
     "metadata": {},
     "output_type": "execute_result"
    }
   ],
   "source": [
    "# classification\n",
    "None"
   ]
  },
  {
   "cell_type": "code",
   "execution_count": 169,
   "metadata": {},
   "outputs": [
    {
     "data": {
      "text/plain": [
       "array([ 8.])"
      ]
     },
     "execution_count": 169,
     "metadata": {},
     "output_type": "execute_result"
    }
   ],
   "source": [
    "# classification\n",
    "None"
   ]
  },
  {
   "cell_type": "markdown",
   "metadata": {},
   "source": [
    "---\n",
    "p33"
   ]
  },
  {
   "cell_type": "markdown",
   "metadata": {},
   "source": [
    "### Visualization of MLP weights on MNIST"
   ]
  },
  {
   "cell_type": "code",
   "execution_count": 123,
   "metadata": {},
   "outputs": [
    {
     "data": {
      "text/plain": [
       "(784, 25)"
      ]
     },
     "execution_count": 123,
     "metadata": {},
     "output_type": "execute_result"
    }
   ],
   "source": [
    "mlp.coefs_[0].shape"
   ]
  },
  {
   "cell_type": "code",
   "execution_count": 53,
   "metadata": {},
   "outputs": [
    {
     "data": {
      "image/png": "[encoded data removed]",
      "text/plain": [
       "<Figure size 432x288 with 25 Axes>"
      ]
     },
     "metadata": {},
     "output_type": "display_data"
    }
   ],
   "source": [
    "fig, axes = plt.subplots(5, 5)\n",
    "# use global min / max to ensure all weights are shown on the same scale\n",
    "vmin, vmax = mlp.coefs_[0].min(), mlp.coefs_[0].max()\n",
    "for coef, ax in zip(mlp.coefs_[0].T, axes.ravel()):\n",
    "    ax.matshow(coef.reshape(28, 28), cmap=plt.cm.gray, vmin=.5 * vmin, vmax=.5 * vmax)\n",
    "    ax.set_xticks(())\n",
    "    ax.set_yticks(())\n",
    "\n",
    "plt.show()"
   ]
  },
  {
   "cell_type": "markdown",
   "metadata": {},
   "source": [
    "---\n",
    "p34"
   ]
  },
  {
   "cell_type": "code",
   "execution_count": 124,
   "metadata": {},
   "outputs": [
    {
     "data": {
      "text/plain": [
       "(25, 25)"
      ]
     },
     "execution_count": 124,
     "metadata": {},
     "output_type": "execute_result"
    }
   ],
   "source": [
    "mlp.coefs_[1].shape"
   ]
  },
  {
   "cell_type": "code",
   "execution_count": 55,
   "metadata": {},
   "outputs": [
    {
     "data": {
      "image/png": "[encoded data removed]",
      "text/plain": [
       "<Figure size 432x288 with 25 Axes>"
      ]
     },
     "metadata": {},
     "output_type": "display_data"
    }
   ],
   "source": [
    "fig, axes = plt.subplots(5, 5)\n",
    "# use global min / max to ensure all weights are shown on the same scale\n",
    "vmin, vmax = mlp.coefs_[1].min(), mlp.coefs_[1].max()\n",
    "for coef, ax in zip(mlp.coefs_[1].T, axes.ravel()):\n",
    "    ax.matshow(coef.reshape(5, 5), cmap=plt.cm.gray, vmin=.5 * vmin, vmax=.5 * vmax)\n",
    "    ax.set_xticks(())\n",
    "    ax.set_yticks(())\n",
    "\n",
    "plt.show()"
   ]
  },
  {
   "cell_type": "markdown",
   "metadata": {},
   "source": [
    "---\n",
    "p35"
   ]
  },
  {
   "cell_type": "code",
   "execution_count": 125,
   "metadata": {},
   "outputs": [
    {
     "data": {
      "text/plain": [
       "(25, 10)"
      ]
     },
     "execution_count": 125,
     "metadata": {},
     "output_type": "execute_result"
    }
   ],
   "source": [
    "mlp.coefs_[2].shape"
   ]
  },
  {
   "cell_type": "code",
   "execution_count": 57,
   "metadata": {},
   "outputs": [
    {
     "data": {
      "image/png": "[encoded data removed]",
      "text/plain": [
       "<Figure size 432x288 with 10 Axes>"
      ]
     },
     "metadata": {},
     "output_type": "display_data"
    }
   ],
   "source": [
    "fig, axes = plt.subplots(1, 10)\n",
    "# use global min / max to ensure all weights are shown on the same scale\n",
    "vmin, vmax = mlp.coefs_[2].min(), mlp.coefs_[2].max()\n",
    "for coef, ax in zip(mlp.coefs_[2].T, axes.ravel()):\n",
    "    ax.matshow(coef.reshape(5, 5), cmap=plt.cm.gray, vmin=.5 * vmin, vmax=.5 * vmax)\n",
    "    ax.set_xticks(())\n",
    "    ax.set_yticks(())\n",
    "\n",
    "plt.show()"
   ]
  },
  {
   "cell_type": "markdown",
   "metadata": {},
   "source": [
    "---\n",
    "p36"
   ]
  },
  {
   "cell_type": "markdown",
   "metadata": {},
   "source": [
    "# Submit\n",
    "- To make sure if you have completed this practice, Submit your practice file(Week07_givencode.ipynb) to e-class.\n",
    "- **Deadline : tomorrow 11:59pm**\n",
    "- Modify your ipynb file name as **“Week07_StudentNum_Name.ipynb”**\n",
    "  - ```Ex) Week07_2020123456_홍길동.ipynb``` \n",
    "- You can upload this file without taking the quiz, but **homework is provided like a quiz every three weeks**, so it is recommended to take the quiz as well."
   ]
  },
  {
   "cell_type": "markdown",
   "metadata": {},
   "source": [
    "# Quiz 1\n",
    "- Dataset : Iris dataset(use all features)\n",
    "- Model : K-Nearest Neighbors\n",
    "- Find the hyperparameter that makes highest test accuracy(0.9556) \n",
    "   - Number of Neighbors : 3, 5, 7, ...\n",
    "   - distance metric : manhattan(p=1) / euclidean(p=2)"
   ]
  },
  {
   "cell_type": "markdown",
   "metadata": {},
   "source": [
    "### Load Iris Dataset"
   ]
  },
  {
   "cell_type": "code",
   "execution_count": 348,
   "metadata": {},
   "outputs": [
    {
     "name": "stdout",
     "output_type": "stream",
     "text": [
      "Class labels: [0 1 2]\n"
     ]
    }
   ],
   "source": [
    "from sklearn import datasets\n",
    "import numpy as np\n",
    "\n",
    "None\n",
    "X = None\n",
    "y = None\n",
    "\n",
    "print('Class labels:', np.unique(y))"
   ]
  },
  {
   "cell_type": "markdown",
   "metadata": {},
   "source": [
    "### Splitting data into 70% training data & 30% test data"
   ]
  },
  {
   "cell_type": "code",
   "execution_count": 349,
   "metadata": {
    "collapsed": true
   },
   "outputs": [],
   "source": [
    "from sklearn.model_selection import train_test_split\n",
    "\n",
    "X_train, X_test, y_train, y_test = None"
   ]
  },
  {
   "cell_type": "code",
   "execution_count": 350,
   "metadata": {},
   "outputs": [
    {
     "name": "stdout",
     "output_type": "stream",
     "text": [
      "Labels counts in y: [50 50 50]\n",
      "Labels counts in y_train: [35 35 35]\n",
      "Labels counts in y_test: [15 15 15]\n"
     ]
    }
   ],
   "source": [
    "print('Labels counts in y:', np.bincount(y))\n",
    "print('Labels counts in y_train:', np.bincount(y_train))\n",
    "print('Labels counts in y_test:', np.bincount(y_test))"
   ]
  },
  {
   "cell_type": "markdown",
   "metadata": {},
   "source": [
    "### Standardize the dataset"
   ]
  },
  {
   "cell_type": "code",
   "execution_count": 351,
   "metadata": {
    "collapsed": true
   },
   "outputs": [],
   "source": [
    "from sklearn.preprocessing import StandardScaler\n",
    "\n",
    "sc = None\n",
    "None\n",
    "X_train_std = None\n",
    "X_test_std = None"
   ]
  },
  {
   "cell_type": "markdown",
   "metadata": {},
   "source": [
    "### Building a K-Nearest Neighbor Classifier"
   ]
  },
  {
   "cell_type": "code",
   "execution_count": 352,
   "metadata": {},
   "outputs": [
    {
     "data": {
      "text/plain": [
       "KNeighborsClassifier(algorithm='auto', leaf_size=30, metric='minkowski',\n",
       "           metric_params=None, n_jobs=1, n_neighbors=5, p=1,\n",
       "           weights='uniform')"
      ]
     },
     "execution_count": 352,
     "metadata": {},
     "output_type": "execute_result"
    }
   ],
   "source": [
    "from sklearn.neighbors import KNeighborsClassifier\n",
    "\n",
    "knn = None\n",
    "None"
   ]
  },
  {
   "cell_type": "markdown",
   "metadata": {},
   "source": [
    "### Evaluation"
   ]
  },
  {
   "cell_type": "code",
   "execution_count": 353,
   "metadata": {},
   "outputs": [
    {
     "name": "stdout",
     "output_type": "stream",
     "text": [
      "Train accuracy : 0.9524\n"
     ]
    }
   ],
   "source": [
    "# Train accuracy\n",
    "acc = None\n",
    "None"
   ]
  },
  {
   "cell_type": "code",
   "execution_count": 354,
   "metadata": {},
   "outputs": [
    {
     "name": "stdout",
     "output_type": "stream",
     "text": [
      "Test accuracy : 0.9556\n"
     ]
    }
   ],
   "source": [
    "# Test accuracy\n",
    "acc = None\n",
    "None"
   ]
  },
  {
   "cell_type": "markdown",
   "metadata": {},
   "source": [
    "# Quiz 2\n",
    "- Dataset : MNIST dataset\n",
    "- Model : Multi-layer Neural Network\n",
    "- Find the hyperparameter that makes highest test accuracy \n",
    "   - Number of hidden layers\n",
    "   - Regularization ratio"
   ]
  },
  {
   "cell_type": "markdown",
   "metadata": {},
   "source": [
    "### Load MNIST Dataset"
   ]
  },
  {
   "cell_type": "code",
   "execution_count": 381,
   "metadata": {},
   "outputs": [],
   "source": [
    "import matplotlib.pyplot as plt\n",
    "import numpy as np\n",
    "from scipy import io\n",
    "\n",
    "mnist = io.loadmat('mnist-original.mat')"
   ]
  },
  {
   "cell_type": "code",
   "execution_count": 382,
   "metadata": {},
   "outputs": [],
   "source": [
    "X, y = None\n",
    "X = None\n",
    "y = None"
   ]
  },
  {
   "cell_type": "code",
   "execution_count": 383,
   "metadata": {
    "collapsed": true
   },
   "outputs": [],
   "source": [
    "X_train, X_test = None\n",
    "y_train, y_test = None"
   ]
  },
  {
   "cell_type": "code",
   "execution_count": 384,
   "metadata": {},
   "outputs": [
    {
     "name": "stderr",
     "output_type": "stream",
     "text": [
      "C:\\ProgramData\\Anaconda3\\lib\\site-packages\\sklearn\\utils\\validation.py:475: DataConversionWarning: Data with input dtype uint8 was converted to float64 by StandardScaler.\n",
      "  warnings.warn(msg, DataConversionWarning)\n"
     ]
    }
   ],
   "source": [
    "from sklearn.preprocessing import StandardScaler\n",
    "\n",
    "sc = None\n",
    "None\n",
    "X_train_std = None\n",
    "X_test_std = None"
   ]
  },
  {
   "cell_type": "markdown",
   "metadata": {},
   "source": [
    "### Try different structures\n",
    "- Change the number of layers from 2 to 1 : **hidden_layer_sizes**=(25,)\n",
    "- Compare with the above result(when the number of layer is 2)\n",
    "  - train accuracy\n",
    "  - test accuracy"
   ]
  },
  {
   "cell_type": "code",
   "execution_count": 394,
   "metadata": {
    "collapsed": true
   },
   "outputs": [],
   "source": [
    "# hidden_layer_size : (25, ) : 1 hidden layer with 25 units \n",
    "mlp = None"
   ]
  },
  {
   "cell_type": "code",
   "execution_count": 395,
   "metadata": {},
   "outputs": [
    {
     "name": "stdout",
     "output_type": "stream",
     "text": [
      "Iteration 1, loss = 0.45899938\n",
      "Iteration 2, loss = 0.21946250\n",
      "Iteration 3, loss = 0.18124313\n",
      "Iteration 4, loss = 0.15950472\n",
      "Iteration 5, loss = 0.14405402\n",
      "Iteration 6, loss = 0.13261368\n",
      "Iteration 7, loss = 0.12323579\n",
      "Iteration 8, loss = 0.11529821\n",
      "Iteration 9, loss = 0.10854910\n",
      "Iteration 10, loss = 0.10273808\n",
      "Iteration 11, loss = 0.09723214\n",
      "Iteration 12, loss = 0.09285393\n",
      "Iteration 13, loss = 0.08866769\n",
      "Iteration 14, loss = 0.08515705\n",
      "Iteration 15, loss = 0.08153971\n",
      "Iteration 16, loss = 0.07837853\n",
      "Iteration 17, loss = 0.07532810\n",
      "Iteration 18, loss = 0.07297431\n",
      "Iteration 19, loss = 0.07020102\n",
      "Iteration 20, loss = 0.06820202\n",
      "Iteration 21, loss = 0.06586696\n",
      "Iteration 22, loss = 0.06405118\n",
      "Iteration 23, loss = 0.06114188\n",
      "Iteration 24, loss = 0.05974286\n",
      "Iteration 25, loss = 0.05768151\n",
      "Iteration 26, loss = 0.05622954\n",
      "Iteration 27, loss = 0.05510486\n",
      "Iteration 28, loss = 0.05325111\n",
      "Iteration 29, loss = 0.05139568\n",
      "Iteration 30, loss = 0.05018706\n",
      "Iteration 31, loss = 0.04897507\n",
      "Iteration 32, loss = 0.04825522\n",
      "Iteration 33, loss = 0.04662932\n",
      "Iteration 34, loss = 0.04510159\n",
      "Iteration 35, loss = 0.04426851\n",
      "Iteration 36, loss = 0.04290012\n",
      "Iteration 37, loss = 0.04197584\n",
      "Iteration 38, loss = 0.04099736\n",
      "Iteration 39, loss = 0.04021651\n",
      "Iteration 40, loss = 0.03928738\n",
      "Iteration 41, loss = 0.03791899\n",
      "Iteration 42, loss = 0.03748995\n",
      "Iteration 43, loss = 0.03658192\n",
      "Iteration 44, loss = 0.03556773\n",
      "Iteration 45, loss = 0.03510996\n",
      "Iteration 46, loss = 0.03411877\n",
      "Iteration 47, loss = 0.03317381\n",
      "Iteration 48, loss = 0.03272334\n",
      "Iteration 49, loss = 0.03204413\n",
      "Iteration 50, loss = 0.03125800\n",
      "Iteration 51, loss = 0.03007044\n",
      "Iteration 52, loss = 0.03007819\n",
      "Iteration 53, loss = 0.02886750\n",
      "Iteration 54, loss = 0.02823872\n",
      "Iteration 55, loss = 0.02781694\n",
      "Iteration 56, loss = 0.02689792\n",
      "Iteration 57, loss = 0.02607122\n",
      "Iteration 58, loss = 0.02563342\n",
      "Iteration 59, loss = 0.02531420\n",
      "Iteration 60, loss = 0.02468416\n",
      "Iteration 61, loss = 0.02394044\n",
      "Iteration 62, loss = 0.02347533\n",
      "Iteration 63, loss = 0.02307307\n",
      "Iteration 64, loss = 0.02274075\n",
      "Iteration 65, loss = 0.02250177\n",
      "Iteration 66, loss = 0.02237077\n",
      "Iteration 67, loss = 0.02136979\n",
      "Iteration 68, loss = 0.02078369\n",
      "Iteration 69, loss = 0.02035289\n",
      "Iteration 70, loss = 0.01988743\n",
      "Iteration 71, loss = 0.01969941\n",
      "Iteration 72, loss = 0.01926242\n",
      "Iteration 73, loss = 0.01876719\n",
      "Iteration 74, loss = 0.01835523\n",
      "Iteration 75, loss = 0.01789158\n",
      "Iteration 76, loss = 0.01742999\n",
      "Iteration 77, loss = 0.01719574\n",
      "Iteration 78, loss = 0.01678740\n",
      "Iteration 79, loss = 0.01667064\n",
      "Iteration 80, loss = 0.01620819\n",
      "Iteration 81, loss = 0.01590731\n",
      "Iteration 82, loss = 0.01557684\n",
      "Iteration 83, loss = 0.01512235\n",
      "Iteration 84, loss = 0.01498854\n",
      "Iteration 85, loss = 0.01456064\n",
      "Iteration 86, loss = 0.01444741\n",
      "Iteration 87, loss = 0.01412427\n",
      "Iteration 88, loss = 0.01372658\n",
      "Iteration 89, loss = 0.01357981\n",
      "Iteration 90, loss = 0.01334676\n",
      "Iteration 91, loss = 0.01297015\n",
      "Iteration 92, loss = 0.01290683\n",
      "Iteration 93, loss = 0.01252350\n",
      "Iteration 94, loss = 0.01222039\n",
      "Iteration 95, loss = 0.01195677\n",
      "Iteration 96, loss = 0.01183930\n",
      "Iteration 97, loss = 0.01166424\n",
      "Iteration 98, loss = 0.01138217\n",
      "Iteration 99, loss = 0.01116881\n",
      "Iteration 100, loss = 0.01097988\n"
     ]
    },
    {
     "name": "stderr",
     "output_type": "stream",
     "text": [
      "C:\\ProgramData\\Anaconda3\\lib\\site-packages\\sklearn\\neural_network\\multilayer_perceptron.py:564: ConvergenceWarning: Stochastic Optimizer: Maximum iterations (100) reached and the optimization hasn't converged yet.\n",
      "  % self.max_iter, ConvergenceWarning)\n"
     ]
    },
    {
     "data": {
      "text/plain": [
       "MLPClassifier(activation='relu', alpha=0.0001, batch_size='auto', beta_1=0.9,\n",
       "       beta_2=0.999, early_stopping=False, epsilon=1e-08,\n",
       "       hidden_layer_sizes=(25,), learning_rate='constant',\n",
       "       learning_rate_init=0.01, max_iter=100, momentum=0.9,\n",
       "       nesterovs_momentum=True, power_t=0.5, random_state=0, shuffle=True,\n",
       "       solver='sgd', tol=0.0001, validation_fraction=0.1, verbose=10,\n",
       "       warm_start=False)"
      ]
     },
     "execution_count": 395,
     "metadata": {},
     "output_type": "execute_result"
    }
   ],
   "source": [
    "None"
   ]
  },
  {
   "cell_type": "code",
   "execution_count": 396,
   "metadata": {},
   "outputs": [
    {
     "data": {
      "image/png": "[encoded data removed]",
      "text/plain": [
       "<matplotlib.figure.Figure at 0x23500f3e828>"
      ]
     },
     "metadata": {},
     "output_type": "display_data"
    }
   ],
   "source": [
    "# plot the loss\n",
    "None\n",
    "plt.show()"
   ]
  },
  {
   "cell_type": "markdown",
   "metadata": {},
   "source": [
    "### Evaluation \n",
    "- Train accuracy is lower than the above one.\n",
    "- Test accuracy is higher than the above one."
   ]
  },
  {
   "cell_type": "code",
   "execution_count": 397,
   "metadata": {},
   "outputs": [
    {
     "data": {
      "text/plain": [
       "0.999"
      ]
     },
     "execution_count": 397,
     "metadata": {},
     "output_type": "execute_result"
    }
   ],
   "source": [
    "mlp.score(None) # previous train acc with (25, 25), alpha=1e-4 : 1.0000"
   ]
  },
  {
   "cell_type": "code",
   "execution_count": 398,
   "metadata": {},
   "outputs": [
    {
     "data": {
      "text/plain": [
       "0.95809999999999995"
      ]
     },
     "execution_count": 398,
     "metadata": {},
     "output_type": "execute_result"
    }
   ],
   "source": [
    "mlp.score(None) # previous test acc with (25, 25), alpha=1e-4 : 0.9557"
   ]
  },
  {
   "cell_type": "markdown",
   "metadata": {},
   "source": [
    "### Try different regularization ratio\n",
    "- Change the regularization term ratio : **alpha**=1  \n",
    "  The larger the alpha value, the stronger the regularization is applied.\n",
    "- compare with the above result(when alpha = 1e-4)\n",
    "  - train accuracy\n",
    "  - test accuracy"
   ]
  },
  {
   "cell_type": "code",
   "execution_count": 399,
   "metadata": {
    "collapsed": true
   },
   "outputs": [],
   "source": [
    "# L2 regularization ratio : alpha \n",
    "mlp2 = None"
   ]
  },
  {
   "cell_type": "code",
   "execution_count": 400,
   "metadata": {},
   "outputs": [
    {
     "name": "stdout",
     "output_type": "stream",
     "text": [
      "Iteration 1, loss = 0.78015321\n",
      "Iteration 2, loss = 0.44104111\n",
      "Iteration 3, loss = 0.37985679\n",
      "Iteration 4, loss = 0.34528022\n",
      "Iteration 5, loss = 0.32013846\n",
      "Iteration 6, loss = 0.30355302\n",
      "Iteration 7, loss = 0.29245093\n",
      "Iteration 8, loss = 0.28240332\n",
      "Iteration 9, loss = 0.27589862\n",
      "Iteration 10, loss = 0.27071267\n",
      "Iteration 11, loss = 0.26701744\n",
      "Iteration 12, loss = 0.26378971\n",
      "Iteration 13, loss = 0.26061787\n",
      "Iteration 14, loss = 0.25900303\n",
      "Iteration 15, loss = 0.25742998\n",
      "Iteration 16, loss = 0.25475099\n",
      "Iteration 17, loss = 0.25335326\n",
      "Iteration 18, loss = 0.25225852\n",
      "Iteration 19, loss = 0.25090584\n",
      "Iteration 20, loss = 0.24981775\n",
      "Iteration 21, loss = 0.24904838\n",
      "Iteration 22, loss = 0.24813558\n",
      "Iteration 23, loss = 0.24736965\n",
      "Iteration 24, loss = 0.24614456\n",
      "Iteration 25, loss = 0.24590318\n",
      "Iteration 26, loss = 0.24543987\n",
      "Iteration 27, loss = 0.24325754\n",
      "Iteration 28, loss = 0.24196514\n",
      "Iteration 29, loss = 0.24171409\n",
      "Iteration 30, loss = 0.24030701\n",
      "Iteration 31, loss = 0.23985197\n",
      "Iteration 32, loss = 0.23918579\n",
      "Iteration 33, loss = 0.23838926\n",
      "Iteration 34, loss = 0.23747214\n",
      "Iteration 35, loss = 0.23695041\n",
      "Iteration 36, loss = 0.23645892\n",
      "Iteration 37, loss = 0.23595489\n",
      "Iteration 38, loss = 0.23558948\n",
      "Iteration 39, loss = 0.23547554\n",
      "Iteration 40, loss = 0.23550137\n",
      "Iteration 41, loss = 0.23480889\n",
      "Iteration 42, loss = 0.23421368\n",
      "Iteration 43, loss = 0.23402388\n",
      "Iteration 44, loss = 0.23378884\n",
      "Iteration 45, loss = 0.23392616\n",
      "Iteration 46, loss = 0.23322724\n",
      "Iteration 47, loss = 0.23269803\n",
      "Iteration 48, loss = 0.23224644\n",
      "Iteration 49, loss = 0.23197869\n",
      "Iteration 50, loss = 0.23183631\n",
      "Iteration 51, loss = 0.23174617\n",
      "Iteration 52, loss = 0.23069092\n",
      "Iteration 53, loss = 0.23060192\n",
      "Iteration 54, loss = 0.23031763\n",
      "Iteration 55, loss = 0.23025147\n",
      "Iteration 56, loss = 0.23036698\n",
      "Iteration 57, loss = 0.23060175\n",
      "Training loss did not improve more than tol=0.000100 for two consecutive epochs. Stopping.\n"
     ]
    },
    {
     "data": {
      "text/plain": [
       "MLPClassifier(activation='relu', alpha=1, batch_size='auto', beta_1=0.9,\n",
       "       beta_2=0.999, early_stopping=False, epsilon=1e-08,\n",
       "       hidden_layer_sizes=(25, 25), learning_rate='constant',\n",
       "       learning_rate_init=0.01, max_iter=100, momentum=0.9,\n",
       "       nesterovs_momentum=True, power_t=0.5, random_state=0, shuffle=True,\n",
       "       solver='sgd', tol=0.0001, validation_fraction=0.1, verbose=10,\n",
       "       warm_start=False)"
      ]
     },
     "execution_count": 400,
     "metadata": {},
     "output_type": "execute_result"
    }
   ],
   "source": [
    "None"
   ]
  },
  {
   "cell_type": "code",
   "execution_count": 401,
   "metadata": {},
   "outputs": [
    {
     "data": {
      "image/png": "[encoded data removed]",
      "text/plain": [
       "<matplotlib.figure.Figure at 0x235008ba0f0>"
      ]
     },
     "metadata": {},
     "output_type": "display_data"
    }
   ],
   "source": [
    "None\n",
    "plt.show()"
   ]
  },
  {
   "cell_type": "markdown",
   "metadata": {},
   "source": [
    "### Evaluation \n",
    "- Train accuracy is lower than the above one.\n",
    "- Test accuracy is higher than the above one."
   ]
  },
  {
   "cell_type": "code",
   "execution_count": 402,
   "metadata": {},
   "outputs": [
    {
     "data": {
      "text/plain": [
       "0.97761666666666669"
      ]
     },
     "execution_count": 402,
     "metadata": {},
     "output_type": "execute_result"
    }
   ],
   "source": [
    "mlp2.score(None) # previous train acc with (25, 25), alpha=1e-4 : 1.0000"
   ]
  },
  {
   "cell_type": "code",
   "execution_count": 403,
   "metadata": {},
   "outputs": [
    {
     "data": {
      "text/plain": [
       "0.96679999999999999"
      ]
     },
     "execution_count": 403,
     "metadata": {},
     "output_type": "execute_result"
    }
   ],
   "source": [
    "mlp2.score(None) # previous test acc with (25, 25), alpha=1e-4 : 0.9557"
   ]
  }
 ],
 "metadata": {
  "kernelspec": {
   "display_name": "Python 3",
   "language": "python",
   "name": "python3"
  },
  "language_info": {
   "codemirror_mode": {
    "name": "ipython",
    "version": 3
   },
   "file_extension": ".py",
   "mimetype": "text/x-python",
   "name": "python",
   "nbconvert_exporter": "python",
   "pygments_lexer": "ipython3",
   "version": "3.7.1"
  }
 },
 "nbformat": 4,
 "nbformat_minor": 4
}
